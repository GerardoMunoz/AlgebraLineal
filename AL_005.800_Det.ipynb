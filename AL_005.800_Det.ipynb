{
 "cells": [
  {
   "cell_type": "code",
   "execution_count": 19,
   "metadata": {
    "collapsed": true
   },
   "outputs": [],
   "source": [
    "from sympy import * # Librería para operaciones simbólicas\n",
    "from ubogsla18p import * # Librería personal"
   ]
  },
  {
   "cell_type": "markdown",
   "metadata": {},
   "source": [
    "# Determinante"
   ]
  },
  {
   "cell_type": "markdown",
   "metadata": {},
   "source": [
    "## Menor y Cofactor\n",
    "\n",
    "Sea una matriz $A$ cuadrada de orden $n$ (es decir de tamaño $n \\times n$).\n",
    "* El __menor__($i,j$) de $A$ se representa por $M_{ij}$ y es el determinante que se obtiene  eliminando el $i$-ésimo renglón y la $j$-ésima columna de $A$.\n",
    "* El __cofactor__($i,j$) de $A$ es el signo $(-1)^{i+j}$ multiplicado por el menor (i,j). $C_{ij}=(-1)^{i+j}M_{ij}$.\n",
    "* La __columna de cofactores__($j$) de $A$ está dada por el vector \n",
    "$$\\text{ccof}(A,j)=\\begin{bmatrix} C_{0j} \\\\ C_{1j} \\\\ \\ldots \\\\ C_{(n-1)j} \\end{bmatrix}$$\n"
   ]
  },
  {
   "cell_type": "code",
   "execution_count": 20,
   "metadata": {
    "collapsed": false
   },
   "outputs": [
    {
     "data": {
      "text/latex": [
       "$A=$$\\left[\\begin{matrix}a_{00} & a_{01} & a_{02}\\\\a_{10} & a_{11} & a_{12}\\\\a_{20} & a_{21} & a_{22}\\end{matrix}\\right]$"
      ],
      "text/plain": [
       "<IPython.core.display.Latex object>"
      ]
     },
     "execution_count": 20,
     "metadata": {},
     "output_type": "execute_result"
    }
   ],
   "source": [
    "# asignando matrices de variables\n",
    "A3=Matrix(symbols('a:3:3')).reshape(3,3)\n",
    "imprimir('A=',A3)"
   ]
  },
  {
   "cell_type": "code",
   "execution_count": 21,
   "metadata": {
    "collapsed": false
   },
   "outputs": [
    {
     "data": {
      "text/plain": [
       "Matrix([\n",
       "[ a10*a21 - a11*a20],\n",
       "[-a00*a21 + a01*a20],\n",
       "[ a00*a11 - a01*a10]])"
      ]
     },
     "execution_count": 21,
     "metadata": {},
     "output_type": "execute_result"
    }
   ],
   "source": [
    "def ccof(A3:Matrix,j:int):\n",
    "    return Matrix([A3.cofactor(i,j) for i in range(A3.rows)])\n",
    "\n",
    "ccof(A3,2)"
   ]
  },
  {
   "cell_type": "code",
   "execution_count": 22,
   "metadata": {
    "collapsed": false
   },
   "outputs": [
    {
     "data": {
      "text/latex": [
       "$A{.}M(1,2)=$$a_{00} a_{21} - a_{01} a_{20}$"
      ],
      "text/plain": [
       "<IPython.core.display.Latex object>"
      ]
     },
     "execution_count": 22,
     "metadata": {},
     "output_type": "execute_result"
    }
   ],
   "source": [
    "imprimir('A{.}M(1,2)=',A3.minorEntry(1,2))#Menor"
   ]
  },
  {
   "cell_type": "code",
   "execution_count": 23,
   "metadata": {
    "collapsed": false
   },
   "outputs": [
    {
     "data": {
      "text/latex": [
       "$A{.}C(1,2)=$$- a_{00} a_{21} + a_{01} a_{20}$"
      ],
      "text/plain": [
       "<IPython.core.display.Latex object>"
      ]
     },
     "execution_count": 23,
     "metadata": {},
     "output_type": "execute_result"
    }
   ],
   "source": [
    "imprimir('A{.}C(1,2)=',A3.cofactor(1,2))#Cofactor"
   ]
  },
  {
   "cell_type": "markdown",
   "metadata": {},
   "source": [
    "Para hacer énfasis que el cofactor o el menor es de la matriz $A$, utilizo la notación con el punto, propia de algunos lenguajes orientados a objetos."
   ]
  },
  {
   "cell_type": "markdown",
   "metadata": {},
   "source": [
    "# Columna de cofactores y el determinante en 2D"
   ]
  },
  {
   "cell_type": "code",
   "execution_count": 24,
   "metadata": {
    "collapsed": false
   },
   "outputs": [
    {
     "data": {
      "text/latex": [
       "$A=$$\\left[\\begin{matrix}a & b\\\\c & d\\end{matrix}\\right]$"
      ],
      "text/plain": [
       "<IPython.core.display.Latex object>"
      ]
     },
     "execution_count": 24,
     "metadata": {},
     "output_type": "execute_result"
    }
   ],
   "source": [
    "a,b,c,d=symbols('a b c d')\n",
    "A2=Matrix([[a, b],[c, d]])\n",
    "imprimir('A=',A2)"
   ]
  },
  {
   "cell_type": "markdown",
   "metadata": {},
   "source": [
    "una columna $j$ de cofactores está dada por \n",
    "$$ccof(j)=\\begin{bmatrix} C_{0j} \\\\ C_{1j} \\end{bmatrix}$$\n",
    "Por ejemplo, la columna 0 de cofactores de $A$ es"
   ]
  },
  {
   "cell_type": "code",
   "execution_count": 25,
   "metadata": {
    "collapsed": false
   },
   "outputs": [
    {
     "data": {
      "text/latex": [
       "$A2.ccof(0)=$$\\left[\\begin{matrix}d\\\\- b\\end{matrix}\\right]$"
      ],
      "text/plain": [
       "<IPython.core.display.Latex object>"
      ]
     },
     "execution_count": 25,
     "metadata": {},
     "output_type": "execute_result"
    }
   ],
   "source": [
    "imprimir('A2.ccof(0)=',ccof(A2,0))"
   ]
  },
  {
   "cell_type": "markdown",
   "metadata": {},
   "source": [
    "Que corresponde a un vector perpendicular a la otra columna con igual magnitud.\n",
    "\n",
    "Además, al hacer el producto punto de una columna con esa columna de cofactores obtenemos el determinante de la matriz\n",
    "$$A{.}ccof(j) \\cdot A{.}col(j)  = \\begin{bmatrix} C_{0j} \\\\ C_{1j} \\end{bmatrix} \\cdot \\begin{bmatrix} a_{0j} \\\\ a_{1j} \\end{bmatrix}\n",
    "= C_{0j}  a_{0j} + C_{1j} a_{1j} $$\n",
    "En el caso de la columna 0 se tiene"
   ]
  },
  {
   "cell_type": "code",
   "execution_count": 26,
   "metadata": {
    "collapsed": false
   },
   "outputs": [
    {
     "data": {
      "text/latex": [
       "$ccof(0) \\cdot col(0)=$$\\left[\\begin{matrix}d\\\\- b\\end{matrix}\\right]$$ \\cdot $$\\left[\\begin{matrix}a\\\\c\\end{matrix}\\right]$$=$$a d - b c$$=|$$\\left[\\begin{matrix}a & b\\\\c & d\\end{matrix}\\right]$$|$"
      ],
      "text/plain": [
       "<IPython.core.display.Latex object>"
      ]
     },
     "execution_count": 26,
     "metadata": {},
     "output_type": "execute_result"
    }
   ],
   "source": [
    "imprimir(r'ccof(0) \\cdot col(0)=',ccof(A2,0),r' \\cdot ',A2.col(0),'=',ccof(A2,0).dot(A2.col(0)),'=|',A2,'|')"
   ]
  },
  {
   "cell_type": "markdown",
   "metadata": {},
   "source": [
    "El cual corresponde al determinante de una matriz de 2x2.\n",
    "\n",
    "Lo mismo sucede con la columna 1."
   ]
  },
  {
   "cell_type": "code",
   "execution_count": 27,
   "metadata": {
    "collapsed": false
   },
   "outputs": [
    {
     "data": {
      "text/latex": [
       "$ccof(1) \\cdot col(1)=$$\\left[\\begin{matrix}- c\\\\a\\end{matrix}\\right]$$ \\cdot $$\\left[\\begin{matrix}b\\\\d\\end{matrix}\\right]$$=$$a d - b c$$=|$$\\left[\\begin{matrix}a & b\\\\c & d\\end{matrix}\\right]$$|$"
      ],
      "text/plain": [
       "<IPython.core.display.Latex object>"
      ]
     },
     "execution_count": 27,
     "metadata": {},
     "output_type": "execute_result"
    }
   ],
   "source": [
    "imprimir(r'ccof(1) \\cdot col(1)=',ccof(A2,1),r' \\cdot ',A2.col(1),'=',ccof(A2,1).dot(A2.col(1)),'=|',A2,'|')"
   ]
  },
  {
   "cell_type": "markdown",
   "metadata": {},
   "source": [
    " El cual corresponde al determinante de una matriz de 2x2"
   ]
  },
  {
   "cell_type": "markdown",
   "metadata": {},
   "source": [
    "# Columna de cofactores y el determinante en 3D"
   ]
  },
  {
   "cell_type": "code",
   "execution_count": 28,
   "metadata": {
    "collapsed": false
   },
   "outputs": [
    {
     "data": {
      "text/latex": [
       "$A=$$\\left[\\begin{matrix}u_{0} & v_{0} & w_{0}\\\\u_{1} & v_{1} & w_{1}\\\\u_{2} & v_{2} & w_{2}\\end{matrix}\\right]$"
      ],
      "text/plain": [
       "<IPython.core.display.Latex object>"
      ]
     },
     "execution_count": 28,
     "metadata": {},
     "output_type": "execute_result"
    }
   ],
   "source": [
    "u=Matrix(symbols('u0:3'))\n",
    "v=Matrix(symbols('v0:3'))\n",
    "w=Matrix(symbols('w0:3'))\n",
    "A1=juntar(u,v,w)\n",
    "imprimir('A=',A1)"
   ]
  },
  {
   "cell_type": "markdown",
   "metadata": {},
   "source": [
    "una columna $j$ de cofactores está dada por \n",
    "$$ccof(j)=\\begin{bmatrix} C_{0j} \\\\ C_{1j} \\\\ C_{2j} \\end{bmatrix}$$\n",
    "Por ejemplo, la columna 0 de cofactores de $A$ es"
   ]
  },
  {
   "cell_type": "code",
   "execution_count": 29,
   "metadata": {
    "collapsed": false
   },
   "outputs": [
    {
     "data": {
      "text/latex": [
       "$A1.ccof(0)=$$\\left[\\begin{matrix}v_{1} w_{2} - v_{2} w_{1}\\\\- v_{0} w_{2} + v_{2} w_{0}\\\\v_{0} w_{1} - v_{1} w_{0}\\end{matrix}\\right]$$=$$\\left[\\begin{matrix}v_{0}\\\\v_{1}\\\\v_{2}\\end{matrix}\\right]$$\\times$$\\left[\\begin{matrix}w_{0}\\\\w_{1}\\\\w_{2}\\end{matrix}\\right]$"
      ],
      "text/plain": [
       "<IPython.core.display.Latex object>"
      ]
     },
     "execution_count": 29,
     "metadata": {},
     "output_type": "execute_result"
    }
   ],
   "source": [
    "imprimir('A1.ccof(0)=',ccof(A1,0),'=',v,r'\\times',w)"
   ]
  },
  {
   "cell_type": "markdown",
   "metadata": {},
   "source": [
    "que corresponde al producto cruz de los otros dos vectores. Recordemos que el producto cruz es un vector perpendicular a los otros dos vectores y su magnitud corresponde al área del paralelogramo formado por los dos vectores.\n",
    "\n",
    "\n",
    "Además, al hacer el producto punto de una columna con esa columna de cofactores obtenemos el determinante de la matriz\n",
    "$$A{.}ccof(j) \\cdot A{.}col(j)  = \\begin{bmatrix} C_{0j} \\\\ C_{1j} \\\\ C_{2j} \\end{bmatrix} \\cdot \\begin{bmatrix} a_{0j} \\\\ a_{1j} \\\\ a_{2j} \\end{bmatrix}\n",
    "= C_{0j}  a_{0j} + C_{1j} a_{1j} + C_{2j} a_{2j} $$\n",
    "En el caso de la columna 0 se tiene"
   ]
  },
  {
   "cell_type": "code",
   "execution_count": 30,
   "metadata": {
    "collapsed": false
   },
   "outputs": [
    {
     "data": {
      "text/latex": [
       "$ccof(0) \\cdot col(0)=$$\\left[\\begin{matrix}v_{1} w_{2} - v_{2} w_{1}\\\\- v_{0} w_{2} + v_{2} w_{0}\\\\v_{0} w_{1} - v_{1} w_{0}\\end{matrix}\\right]$$ \\cdot $$\\left[\\begin{matrix}u_{0}\\\\u_{1}\\\\u_{2}\\end{matrix}\\right]$$=$$u_{0} \\left(v_{1} w_{2} - v_{2} w_{1}\\right) + u_{1} \\left(- v_{0} w_{2} + v_{2} w_{0}\\right) + u_{2} \\left(v_{0} w_{1} - v_{1} w_{0}\\right)$$=|$$\\left[\\begin{matrix}u_{0} & v_{0} & w_{0}\\\\u_{1} & v_{1} & w_{1}\\\\u_{2} & v_{2} & w_{2}\\end{matrix}\\right]$$|$"
      ],
      "text/plain": [
       "<IPython.core.display.Latex object>"
      ]
     },
     "execution_count": 30,
     "metadata": {},
     "output_type": "execute_result"
    }
   ],
   "source": [
    "imprimir(r'ccof(0) \\cdot col(0)=',ccof(A1,0),r' \\cdot ',A1.col(0),'=',ccof(A1,0).dot(A1.col(0)),'=|',A1,'|')"
   ]
  },
  {
   "cell_type": "markdown",
   "metadata": {},
   "source": [
    "El cual corresponde al determinante de una matriz de 3x3.\n",
    "\n",
    "Lo mismo sucede con las columnas 1 y 2."
   ]
  },
  {
   "cell_type": "code",
   "execution_count": 31,
   "metadata": {
    "collapsed": false
   },
   "outputs": [
    {
     "data": {
      "text/latex": [
       "$ccof(1) \\cdot col(1)=$$\\left[\\begin{matrix}- u_{1} w_{2} + u_{2} w_{1}\\\\u_{0} w_{2} - u_{2} w_{0}\\\\- u_{0} w_{1} + u_{1} w_{0}\\end{matrix}\\right]$$ \\cdot $$\\left[\\begin{matrix}v_{0}\\\\v_{1}\\\\v_{2}\\end{matrix}\\right]$$=$$v_{0} \\left(- u_{1} w_{2} + u_{2} w_{1}\\right) + v_{1} \\left(u_{0} w_{2} - u_{2} w_{0}\\right) + v_{2} \\left(- u_{0} w_{1} + u_{1} w_{0}\\right)$$=|$$\\left[\\begin{matrix}u_{0} & v_{0} & w_{0}\\\\u_{1} & v_{1} & w_{1}\\\\u_{2} & v_{2} & w_{2}\\end{matrix}\\right]$$|$"
      ],
      "text/plain": [
       "<IPython.core.display.Latex object>"
      ]
     },
     "execution_count": 31,
     "metadata": {},
     "output_type": "execute_result"
    }
   ],
   "source": [
    "imprimir(r'ccof(1) \\cdot col(1)=',ccof(A1,1),r' \\cdot ',A1.col(1),'=',ccof(A1,1).dot(A1.col(1)),'=|',A1,'|')"
   ]
  },
  {
   "cell_type": "code",
   "execution_count": 32,
   "metadata": {
    "collapsed": false
   },
   "outputs": [
    {
     "data": {
      "text/latex": [
       "$ccof(2) \\cdot col(2)=$$\\left[\\begin{matrix}u_{1} v_{2} - u_{2} v_{1}\\\\- u_{0} v_{2} + u_{2} v_{0}\\\\u_{0} v_{1} - u_{1} v_{0}\\end{matrix}\\right]$$ \\cdot $$\\left[\\begin{matrix}w_{0}\\\\w_{1}\\\\w_{2}\\end{matrix}\\right]$$=$$w_{0} \\left(u_{1} v_{2} - u_{2} v_{1}\\right) + w_{1} \\left(- u_{0} v_{2} + u_{2} v_{0}\\right) + w_{2} \\left(u_{0} v_{1} - u_{1} v_{0}\\right)$$=|$$\\left[\\begin{matrix}u_{0} & v_{0} & w_{0}\\\\u_{1} & v_{1} & w_{1}\\\\u_{2} & v_{2} & w_{2}\\end{matrix}\\right]$$|$"
      ],
      "text/plain": [
       "<IPython.core.display.Latex object>"
      ]
     },
     "execution_count": 32,
     "metadata": {},
     "output_type": "execute_result"
    }
   ],
   "source": [
    "imprimir(r'ccof(2) \\cdot col(2)=',ccof(A1,2),r' \\cdot ',A1.col(2),'=',ccof(A1,2).dot(A1.col(2)),'=|',A1,'|')"
   ]
  },
  {
   "cell_type": "markdown",
   "metadata": {},
   "source": [
    "# Columna de cofactores y el determinante en n dimensiones\n",
    "\n",
    "## Teorema:\n",
    "Sea $A$ una matriz cuadrada de orden $n$. \n",
    "Una columna $j$, de cofactores de $A$,  \n",
    "$$ ccof(j)=\\begin{bmatrix} C_{0j} \\\\ C_{1j} \\\\ \\vdots \\\\ C_{nj} \\end{bmatrix} $$ es perpendicular a las demás columnas de $A$.\n",
    "\n",
    "\n",
    "## Definición:\n",
    "El __determinante__ de una matriz cuadrada $A$ desarrollada por la columna $j$ consiste en el producto punto de la columna $j$ de $A$ por la columna $j$ de cofactores. El determinante de $A$ se denota $|A|$ o $\\text{det}(A)$.\n",
    "\n",
    "## Propiedades:\n",
    "1. El determinante consiste en sumas y restas de los todos productos de los elementos de la matriz que no repiten fila o columna.\n",
    "1. El determinante desarrollado por cualquier columna $j$ es el mismo sin importar el valor de $j$.\n",
    "1. El determinante de una matriz es igual al de su transpuesta. Esto implica que el determinante se puede desarrollar por los renglones y que las propiedades son similares para los renglones y las columnas.\n",
    "1. El determinante de una matriz triangular es el producto de su diagonal.\n",
    "1. Si un renglón (o columna) es combinación lineal de los otros entonces el determinante es cero. Esto implica que si hay dos renglones (o columnas) repetidos el determinante es cero al igual que si hay un renglón (o columna) de ceros.\n",
    "1. Si dos matrices $A$ y $B$ difieren en un sólo renglón (o columna) la suma de los determinantes de $A$ y $B$ es igual al determinante de la matriz cuyos elementos son los mismos que los de $A$ y $B$ en los renglones (o columnas) que coinciden. En los que no coinciden es la suma de los renglones (o columnas).\n",
    "1. Al sumar un múltiplo de un renglón (o columna) a otro el determinante no se afecta.\n",
    "1. Al intercambiar dos renglones (o columnas), el determinante cambia de signo.\n",
    "1. Al multiplicar un renglón (o columna) por una constante, el determinante se multiplica por esa constante.\n",
    "1. Al multiplicar una matriz por una contante $k$ el determinante se multiplica por $k^n$, donde $n$ es el número de renglones de la matriz.\n",
    "1. El determinante de un producto de matrices es el producto de los determinantes.\n",
    "1. El determinante de la inversa es la inversa del determinante.\n",
    "\n",
    "## Determinante y  transformaciones\n",
    "[video](Det_prodCruz.mp4)\n",
    "\n",
    "## Adjunta\n",
    "\n",
    "Sea $A$  una matriz de orden $n$. La matriz cuyo $(i,j)$-ésimo elemento es el cofactor $C_{ij}$ de $A$ es la __matriz de cofactores__ de $A$. Su transpuesta es la __adjunta de $A$__, y se representa por $Adj(A)$.\n",
    "$$Adj(A)=\\begin{bmatrix}C_{11} & C_{21} & \\cdots & C_{n1} \\\\\n",
    "C_{12} & C_{22} & \\cdots & C_{n2} \\\\\n",
    "\\vdots & \\vdots & \\ddots & \\vdots \\\\\n",
    "C_{1n} & C_{1n} & \\cdots & C_{nn} \\\\\\end{bmatrix}$$\n",
    "\n",
    "### Teorema: \n",
    "Sea $A$ una matriz de orden $n$. Entonces \n",
    "$$A \\ Adj(A) = det(A) I_n = Adj(A) \\ A$$\n",
    "y por lo tanto si $A$ es invertible\n",
    "$$A^{-1}=\\frac{1}{det(A)}Adj(A)$$\n",
    "\n",
    "## Regla de Cramer\n",
    "## Teorema\n",
    "Si $det(A) \\neq 0$, la solución del sistema $Ax=b$ es  $$ x_1=\\frac{|A_1|}{|A|}, \\ x_2=\\frac{|A_2|}{|A|}, \\ldots, \\ x_n=\\frac{|A_n|}{|A|}, $$ \n",
    "En donde $A_i$ corresponde a la matriz $A$ remplazando la columna $i$ por $b$.\n"
   ]
  }
 ],
 "metadata": {
  "kernelspec": {
   "display_name": "Python 3",
   "language": "python",
   "name": "python3"
  },
  "language_info": {
   "codemirror_mode": {
    "name": "ipython",
    "version": 3
   },
   "file_extension": ".py",
   "mimetype": "text/x-python",
   "name": "python",
   "nbconvert_exporter": "python",
   "pygments_lexer": "ipython3",
   "version": "3.6.0"
  }
 },
 "nbformat": 4,
 "nbformat_minor": 2
}
