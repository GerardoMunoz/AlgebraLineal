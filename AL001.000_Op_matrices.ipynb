{
 "cells": [
  {
   "cell_type": "code",
   "execution_count": 31,
   "metadata": {
    "collapsed": true
   },
   "outputs": [],
   "source": [
    "from sympy import * # Librería para operaciones simbólicas\n",
    "from ubogsla18p import * # Librería personal"
   ]
  },
  {
   "cell_type": "markdown",
   "metadata": {},
   "source": [
    "# Tipos de datos\n",
    "\n",
    "## Escalares"
   ]
  },
  {
   "cell_type": "code",
   "execution_count": 32,
   "metadata": {
    "collapsed": false
   },
   "outputs": [
    {
     "data": {
      "text/latex": [
       "$a=$$8$"
      ],
      "text/plain": [
       "<IPython.core.display.Latex object>"
      ]
     },
     "execution_count": 32,
     "metadata": {},
     "output_type": "execute_result"
    }
   ],
   "source": [
    "# asignando una constante entera\n",
    "a=3+5\n",
    "imprimir('a=',a)"
   ]
  },
  {
   "cell_type": "code",
   "execution_count": 33,
   "metadata": {
    "collapsed": false,
    "scrolled": true
   },
   "outputs": [
    {
     "data": {
      "text/latex": [
       "$a=$$\\frac{5}{6}$"
      ],
      "text/plain": [
       "<IPython.core.display.Latex object>"
      ]
     },
     "execution_count": 33,
     "metadata": {},
     "output_type": "execute_result"
    }
   ],
   "source": [
    "# asignando una constante racional\n",
    "a=Rational(1,2)+Rational(1,3)\n",
    "imprimir('a=',a)"
   ]
  },
  {
   "cell_type": "code",
   "execution_count": 34,
   "metadata": {
    "collapsed": false
   },
   "outputs": [
    {
     "data": {
      "text/latex": [
       "$a=$$6.28$"
      ],
      "text/plain": [
       "<IPython.core.display.Latex object>"
      ]
     },
     "execution_count": 34,
     "metadata": {},
     "output_type": "execute_result"
    }
   ],
   "source": [
    "# asignando una constante de punto flotante\n",
    "a=2*3.14\n",
    "imprimir('a=',a)"
   ]
  },
  {
   "cell_type": "code",
   "execution_count": 35,
   "metadata": {
    "collapsed": false
   },
   "outputs": [
    {
     "data": {
      "text/latex": [
       "$b=$$8 c$"
      ],
      "text/plain": [
       "<IPython.core.display.Latex object>"
      ]
     },
     "execution_count": 35,
     "metadata": {},
     "output_type": "execute_result"
    }
   ],
   "source": [
    "# asignando variables\n",
    "c=symbols('c')\n",
    "b=3*c+5*c\n",
    "imprimir('b=',b)"
   ]
  },
  {
   "cell_type": "code",
   "execution_count": 36,
   "metadata": {
    "collapsed": false
   },
   "outputs": [
    {
     "data": {
      "text/latex": [
       "$d=$$8 c + \\frac{1}{c}$"
      ],
      "text/plain": [
       "<IPython.core.display.Latex object>"
      ]
     },
     "execution_count": 36,
     "metadata": {},
     "output_type": "execute_result"
    }
   ],
   "source": [
    "d=b+1/c\n",
    "imprimir('d=',d)"
   ]
  },
  {
   "cell_type": "code",
   "execution_count": 37,
   "metadata": {
    "collapsed": false
   },
   "outputs": [
    {
     "data": {
      "text/latex": [
       "$\\frac{1}{c} \\left(8 c^{2} + 1\\right)$"
      ],
      "text/plain": [
       "<IPython.core.display.Latex object>"
      ]
     },
     "execution_count": 37,
     "metadata": {},
     "output_type": "execute_result"
    }
   ],
   "source": [
    "# simplificando fraccionarios\n",
    "e=cancel(d)\n",
    "imprimir(e)\n"
   ]
  },
  {
   "cell_type": "markdown",
   "metadata": {},
   "source": [
    "## Vectores"
   ]
  },
  {
   "cell_type": "code",
   "execution_count": 38,
   "metadata": {
    "collapsed": false,
    "scrolled": false
   },
   "outputs": [
    {
     "data": {
      "text/latex": [
       "$v=$$\\left[\\begin{matrix}2\\\\3\\\\5\\end{matrix}\\right]$$,   v[0]=$$2$$, v[1]=$$3$$, v[2]=$$5$"
      ],
      "text/plain": [
       "<IPython.core.display.Latex object>"
      ]
     },
     "execution_count": 38,
     "metadata": {},
     "output_type": "execute_result"
    }
   ],
   "source": [
    "# asignando vectores\n",
    "v=Matrix([2, 3, 5])\n",
    "imprimir('v=',v,',   v[0]=',v[0],', v[1]=',v[1],', v[2]=',v[2])"
   ]
  },
  {
   "cell_type": "markdown",
   "metadata": {},
   "source": [
    "## Matrices"
   ]
  },
  {
   "cell_type": "code",
   "execution_count": 39,
   "metadata": {
    "collapsed": false,
    "scrolled": true
   },
   "outputs": [
    {
     "data": {
      "text/latex": [
       "$A=$$\\left[\\begin{matrix}2 & 3\\\\5 & 7\\end{matrix}\\right]$$,   A[0,0]=$$2$$, A[0,1]=$$3$$, A[1,0]=$$5$$, A[1,1]=$$7$"
      ],
      "text/plain": [
       "<IPython.core.display.Latex object>"
      ]
     },
     "execution_count": 39,
     "metadata": {},
     "output_type": "execute_result"
    }
   ],
   "source": [
    "# asignando matrices de constantes\n",
    "A=Matrix([[2, 3], [5,7]])\n",
    "imprimir('A=',A,',   A[0,0]=',A[0,0],', A[0,1]=',A[0,1],', A[1,0]=',A[1,0],', A[1,1]=',A[1,1])"
   ]
  },
  {
   "cell_type": "code",
   "execution_count": 40,
   "metadata": {
    "collapsed": false
   },
   "outputs": [
    {
     "name": "stdout",
     "output_type": "stream",
     "text": [
      "El tamaño de A es  (2, 2)\n"
     ]
    }
   ],
   "source": [
    "print('El tamaño de A es ',A.shape)"
   ]
  },
  {
   "cell_type": "code",
   "execution_count": 41,
   "metadata": {
    "collapsed": false
   },
   "outputs": [
    {
     "name": "stdout",
     "output_type": "stream",
     "text": [
      "sus columnas son  2  y sus renglones  2\n"
     ]
    }
   ],
   "source": [
    "print('sus columnas son ',A.cols,' y sus renglones ', A.rows )"
   ]
  },
  {
   "cell_type": "code",
   "execution_count": 42,
   "metadata": {
    "collapsed": false
   },
   "outputs": [
    {
     "data": {
      "text/latex": [
       "$A=$$\\left[\\begin{matrix}a_{00} & a_{01} & a_{02}\\\\a_{10} & a_{11} & a_{12}\\\\a_{20} & a_{21} & a_{22}\\\\a_{30} & a_{31} & a_{32}\\end{matrix}\\right]$"
      ],
      "text/plain": [
       "<IPython.core.display.Latex object>"
      ]
     },
     "execution_count": 42,
     "metadata": {},
     "output_type": "execute_result"
    }
   ],
   "source": [
    "# asignando matrices de variables\n",
    "A=Matrix(symbols('a:4:3')).reshape(4,3)\n",
    "imprimir('A=',A)"
   ]
  },
  {
   "cell_type": "markdown",
   "metadata": {},
   "source": [
    "### Matriz identidad"
   ]
  },
  {
   "cell_type": "code",
   "execution_count": 43,
   "metadata": {
    "collapsed": false
   },
   "outputs": [
    {
     "data": {
      "text/latex": [
       "$I_2=$$\\left[\\begin{matrix}1 & 0\\\\0 & 1\\end{matrix}\\right]$$, \\ I_3=$$\\left[\\begin{matrix}1 & 0 & 0\\\\0 & 1 & 0\\\\0 & 0 & 1\\end{matrix}\\right]$"
      ],
      "text/plain": [
       "<IPython.core.display.Latex object>"
      ]
     },
     "execution_count": 43,
     "metadata": {},
     "output_type": "execute_result"
    }
   ],
   "source": [
    "imprimir('I_2=',eye(2),r', \\ I_3=',eye(3))"
   ]
  },
  {
   "cell_type": "markdown",
   "metadata": {},
   "source": [
    "### Matriz de ceros"
   ]
  },
  {
   "cell_type": "code",
   "execution_count": 44,
   "metadata": {
    "collapsed": false
   },
   "outputs": [
    {
     "data": {
      "text/latex": [
       "$0_{2 \\times 3}=$$\\left[\\begin{matrix}0 & 0 & 0\\\\0 & 0 & 0\\end{matrix}\\right]$$, \\ 0_{2 \\times 2}=$$\\left[\\begin{matrix}0 & 0\\\\0 & 0\\end{matrix}\\right]$"
      ],
      "text/plain": [
       "<IPython.core.display.Latex object>"
      ]
     },
     "execution_count": 44,
     "metadata": {},
     "output_type": "execute_result"
    }
   ],
   "source": [
    "imprimir(r'0_{2 \\times 3}=',zeros(2,3),r', \\ 0_{2 \\times 2}=',zeros(2,2))"
   ]
  },
  {
   "cell_type": "markdown",
   "metadata": {},
   "source": [
    "### Matrices iguales\n",
    "\n",
    "Dos matrices son iguales si tienen el mismo tamaño y los mismos elementos."
   ]
  },
  {
   "cell_type": "code",
   "execution_count": 45,
   "metadata": {
    "collapsed": false
   },
   "outputs": [
    {
     "data": {
      "text/plain": [
       "False"
      ]
     },
     "execution_count": 45,
     "metadata": {},
     "output_type": "execute_result"
    }
   ],
   "source": [
    "zeros(2,3) == zeros(2,2)"
   ]
  },
  {
   "cell_type": "code",
   "execution_count": 46,
   "metadata": {
    "collapsed": false
   },
   "outputs": [
    {
     "data": {
      "text/plain": [
       "True"
      ]
     },
     "execution_count": 46,
     "metadata": {},
     "output_type": "execute_result"
    }
   ],
   "source": [
    "0*eye(2) == zeros(2,2)"
   ]
  },
  {
   "cell_type": "markdown",
   "metadata": {},
   "source": [
    "Escalar, vector, matriz <a href=\"cap02a.mp4\">video</a> <a href=\"cap02a\\cap00present.html\">html</a>\n",
    "  "
   ]
  },
  {
   "cell_type": "markdown",
   "metadata": {},
   "source": [
    "# Operaciones entre matrices\n",
    "[Nakos, Sec 3.1 y 2.1]"
   ]
  },
  {
   "cell_type": "markdown",
   "metadata": {},
   "source": [
    " \n",
    "## Escalar por matriz \n",
    "<a href=\"cap02b.mp4\">video</a> <a href=\"cap02b\\cap00present.html\">html</a>\n",
    "   "
   ]
  },
  {
   "cell_type": "code",
   "execution_count": 47,
   "metadata": {
    "collapsed": false
   },
   "outputs": [
    {
     "data": {
      "text/latex": [
       "$D=$$c$$\\left[\\begin{matrix}a_{00} & a_{01} & a_{02}\\\\a_{10} & a_{11} & a_{12}\\\\a_{20} & a_{21} & a_{22}\\\\a_{30} & a_{31} & a_{32}\\end{matrix}\\right]$$=$$\\left[\\begin{matrix}a_{00} c & a_{01} c & a_{02} c\\\\a_{10} c & a_{11} c & a_{12} c\\\\a_{20} c & a_{21} c & a_{22} c\\\\a_{30} c & a_{31} c & a_{32} c\\end{matrix}\\right]$"
      ],
      "text/plain": [
       "<IPython.core.display.Latex object>"
      ]
     },
     "execution_count": 47,
     "metadata": {},
     "output_type": "execute_result"
    }
   ],
   "source": [
    "D=c*A\n",
    "imprimir('D=',c,A,'=',D)"
   ]
  },
  {
   "cell_type": "code",
   "execution_count": 48,
   "metadata": {
    "collapsed": false
   },
   "outputs": [
    {
     "data": {
      "text/latex": [
       "$B=$$\\frac{1}{c}$$\\left[\\begin{matrix}a_{00} & a_{01} & a_{02}\\\\a_{10} & a_{11} & a_{12}\\\\a_{20} & a_{21} & a_{22}\\\\a_{30} & a_{31} & a_{32}\\end{matrix}\\right]$$=$$\\left[\\begin{matrix}\\frac{a_{00}}{c} & \\frac{a_{01}}{c} & \\frac{a_{02}}{c}\\\\\\frac{a_{10}}{c} & \\frac{a_{11}}{c} & \\frac{a_{12}}{c}\\\\\\frac{a_{20}}{c} & \\frac{a_{21}}{c} & \\frac{a_{22}}{c}\\\\\\frac{a_{30}}{c} & \\frac{a_{31}}{c} & \\frac{a_{32}}{c}\\end{matrix}\\right]$"
      ],
      "text/plain": [
       "<IPython.core.display.Latex object>"
      ]
     },
     "execution_count": 48,
     "metadata": {},
     "output_type": "execute_result"
    }
   ],
   "source": [
    "B=(1/c)*A\n",
    "imprimir('B=',1/c,A,'=',B)"
   ]
  },
  {
   "cell_type": "markdown",
   "metadata": {},
   "source": [
    "## Suma de matrices\n",
    "<a href=\"cap02c.mp4\">video</a> <a href=\"cap02c\\cap00present.html\">html</a>\n",
    "   "
   ]
  },
  {
   "cell_type": "code",
   "execution_count": 49,
   "metadata": {
    "collapsed": false
   },
   "outputs": [
    {
     "data": {
      "text/latex": [
       "$C=$$\\left[\\begin{matrix}a_{00} & a_{01} & a_{02}\\\\a_{10} & a_{11} & a_{12}\\\\a_{20} & a_{21} & a_{22}\\\\a_{30} & a_{31} & a_{32}\\end{matrix}\\right]$$+$$\\left[\\begin{matrix}\\frac{a_{00}}{c} & \\frac{a_{01}}{c} & \\frac{a_{02}}{c}\\\\\\frac{a_{10}}{c} & \\frac{a_{11}}{c} & \\frac{a_{12}}{c}\\\\\\frac{a_{20}}{c} & \\frac{a_{21}}{c} & \\frac{a_{22}}{c}\\\\\\frac{a_{30}}{c} & \\frac{a_{31}}{c} & \\frac{a_{32}}{c}\\end{matrix}\\right]$$=$$\\left[\\begin{matrix}a_{00} + \\frac{a_{00}}{c} & a_{01} + \\frac{a_{01}}{c} & a_{02} + \\frac{a_{02}}{c}\\\\a_{10} + \\frac{a_{10}}{c} & a_{11} + \\frac{a_{11}}{c} & a_{12} + \\frac{a_{12}}{c}\\\\a_{20} + \\frac{a_{20}}{c} & a_{21} + \\frac{a_{21}}{c} & a_{22} + \\frac{a_{22}}{c}\\\\a_{30} + \\frac{a_{30}}{c} & a_{31} + \\frac{a_{31}}{c} & a_{32} + \\frac{a_{32}}{c}\\end{matrix}\\right]$"
      ],
      "text/plain": [
       "<IPython.core.display.Latex object>"
      ]
     },
     "execution_count": 49,
     "metadata": {},
     "output_type": "execute_result"
    }
   ],
   "source": [
    "C=A+B\n",
    "imprimir('C=',A,'+',B,'=',C)"
   ]
  },
  {
   "cell_type": "code",
   "execution_count": 50,
   "metadata": {
    "collapsed": false
   },
   "outputs": [
    {
     "data": {
      "text/latex": [
       "$C=$$\\left[\\begin{matrix}a_{00} + \\frac{a_{00}}{c} & a_{01} + \\frac{a_{01}}{c} & a_{02} + \\frac{a_{02}}{c}\\\\a_{10} + \\frac{a_{10}}{c} & a_{11} + \\frac{a_{11}}{c} & a_{12} + \\frac{a_{12}}{c}\\\\a_{20} + \\frac{a_{20}}{c} & a_{21} + \\frac{a_{21}}{c} & a_{22} + \\frac{a_{22}}{c}\\\\a_{30} + \\frac{a_{30}}{c} & a_{31} + \\frac{a_{31}}{c} & a_{32} + \\frac{a_{32}}{c}\\end{matrix}\\right]$$=$$\\left[\\begin{matrix}\\frac{1}{c} \\left(a_{00} c + a_{00}\\right) & \\frac{1}{c} \\left(a_{01} c + a_{01}\\right) & \\frac{1}{c} \\left(a_{02} c + a_{02}\\right)\\\\\\frac{1}{c} \\left(a_{10} c + a_{10}\\right) & \\frac{1}{c} \\left(a_{11} c + a_{11}\\right) & \\frac{1}{c} \\left(a_{12} c + a_{12}\\right)\\\\\\frac{1}{c} \\left(a_{20} c + a_{20}\\right) & \\frac{1}{c} \\left(a_{21} c + a_{21}\\right) & \\frac{1}{c} \\left(a_{22} c + a_{22}\\right)\\\\\\frac{1}{c} \\left(a_{30} c + a_{30}\\right) & \\frac{1}{c} \\left(a_{31} c + a_{31}\\right) & \\frac{1}{c} \\left(a_{32} c + a_{32}\\right)\\end{matrix}\\right]$"
      ],
      "text/plain": [
       "<IPython.core.display.Latex object>"
      ]
     },
     "execution_count": 50,
     "metadata": {},
     "output_type": "execute_result"
    }
   ],
   "source": [
    "C1=C.applyfunc(cancel)\n",
    "imprimir('C=',C,'=',C1)"
   ]
  },
  {
   "cell_type": "markdown",
   "metadata": {},
   "source": [
    "## Matriz opuesta\n",
    "<a href=\"cap02d.mp4\">video</a> <a href=\"cap02d\\cap00present.html\">html</a>\n",
    "  "
   ]
  },
  {
   "cell_type": "code",
   "execution_count": 51,
   "metadata": {
    "collapsed": false
   },
   "outputs": [
    {
     "data": {
      "text/latex": [
       "$-A=-$$\\left[\\begin{matrix}a_{00} & a_{01} & a_{02}\\\\a_{10} & a_{11} & a_{12}\\\\a_{20} & a_{21} & a_{22}\\\\a_{30} & a_{31} & a_{32}\\end{matrix}\\right]$$=$$\\left[\\begin{matrix}- a_{00} & - a_{01} & - a_{02}\\\\- a_{10} & - a_{11} & - a_{12}\\\\- a_{20} & - a_{21} & - a_{22}\\\\- a_{30} & - a_{31} & - a_{32}\\end{matrix}\\right]$"
      ],
      "text/plain": [
       "<IPython.core.display.Latex object>"
      ]
     },
     "execution_count": 51,
     "metadata": {},
     "output_type": "execute_result"
    }
   ],
   "source": [
    "imprimir('-A=-',A,'=',-A)"
   ]
  },
  {
   "cell_type": "markdown",
   "metadata": {},
   "source": [
    "## Resta de matrices\n",
    "<a href=\"cap02e.mp4\">video</a> <a href=\"cap02e\\cap00present.html\">html</a>\n"
   ]
  },
  {
   "cell_type": "code",
   "execution_count": 52,
   "metadata": {
    "collapsed": false,
    "scrolled": true
   },
   "outputs": [
    {
     "data": {
      "text/latex": [
       "$C=$$\\left[\\begin{matrix}a_{00} & a_{01} & a_{02}\\\\a_{10} & a_{11} & a_{12}\\\\a_{20} & a_{21} & a_{22}\\\\a_{30} & a_{31} & a_{32}\\end{matrix}\\right]$$-$$\\left[\\begin{matrix}\\frac{a_{00}}{c} & \\frac{a_{01}}{c} & \\frac{a_{02}}{c}\\\\\\frac{a_{10}}{c} & \\frac{a_{11}}{c} & \\frac{a_{12}}{c}\\\\\\frac{a_{20}}{c} & \\frac{a_{21}}{c} & \\frac{a_{22}}{c}\\\\\\frac{a_{30}}{c} & \\frac{a_{31}}{c} & \\frac{a_{32}}{c}\\end{matrix}\\right]$$=$$\\left[\\begin{matrix}a_{00} - \\frac{a_{00}}{c} & a_{01} - \\frac{a_{01}}{c} & a_{02} - \\frac{a_{02}}{c}\\\\a_{10} - \\frac{a_{10}}{c} & a_{11} - \\frac{a_{11}}{c} & a_{12} - \\frac{a_{12}}{c}\\\\a_{20} - \\frac{a_{20}}{c} & a_{21} - \\frac{a_{21}}{c} & a_{22} - \\frac{a_{22}}{c}\\\\a_{30} - \\frac{a_{30}}{c} & a_{31} - \\frac{a_{31}}{c} & a_{32} - \\frac{a_{32}}{c}\\end{matrix}\\right]$$=$$\\left[\\begin{matrix}\\frac{1}{c} \\left(a_{00} c - a_{00}\\right) & \\frac{1}{c} \\left(a_{01} c - a_{01}\\right) & \\frac{1}{c} \\left(a_{02} c - a_{02}\\right)\\\\\\frac{1}{c} \\left(a_{10} c - a_{10}\\right) & \\frac{1}{c} \\left(a_{11} c - a_{11}\\right) & \\frac{1}{c} \\left(a_{12} c - a_{12}\\right)\\\\\\frac{1}{c} \\left(a_{20} c - a_{20}\\right) & \\frac{1}{c} \\left(a_{21} c - a_{21}\\right) & \\frac{1}{c} \\left(a_{22} c - a_{22}\\right)\\\\\\frac{1}{c} \\left(a_{30} c - a_{30}\\right) & \\frac{1}{c} \\left(a_{31} c - a_{31}\\right) & \\frac{1}{c} \\left(a_{32} c - a_{32}\\right)\\end{matrix}\\right]$"
      ],
      "text/plain": [
       "<IPython.core.display.Latex object>"
      ]
     },
     "execution_count": 52,
     "metadata": {},
     "output_type": "execute_result"
    }
   ],
   "source": [
    "D=A-B\n",
    "imprimir('C=',A,'-',B,'=',D,'=',D.applyfunc(cancel))"
   ]
  },
  {
   "cell_type": "markdown",
   "metadata": {},
   "source": [
    "## Combinación lineal y matriz por vector\n",
    "<a href=\"cap02f.mp4\">video</a> <a href=\"cap02f\\cap00present.html\">html</a>"
   ]
  },
  {
   "cell_type": "code",
   "execution_count": 53,
   "metadata": {
    "collapsed": false
   },
   "outputs": [
    {
     "data": {
      "text/latex": [
       "$b=$$\\left[\\begin{matrix}b_{0}\\\\b_{1}\\\\b_{2}\\end{matrix}\\right]$"
      ],
      "text/plain": [
       "<IPython.core.display.Latex object>"
      ]
     },
     "execution_count": 53,
     "metadata": {},
     "output_type": "execute_result"
    }
   ],
   "source": [
    "b=Matrix(symbols('b0:3'))\n",
    "imprimir('b=',b)"
   ]
  },
  {
   "cell_type": "code",
   "execution_count": 54,
   "metadata": {
    "collapsed": false
   },
   "outputs": [
    {
     "data": {
      "text/latex": [
       "$u=$$\\left[\\begin{matrix}u_{0}\\\\u_{1}\\\\u_{2}\\\\u_{3}\\end{matrix}\\right]$$, v=$$\\left[\\begin{matrix}v_{0}\\\\v_{1}\\\\v_{2}\\\\v_{3}\\end{matrix}\\right]$$w=$$\\left[\\begin{matrix}w_{0}\\\\w_{1}\\\\w_{2}\\\\w_{3}\\end{matrix}\\right]$"
      ],
      "text/plain": [
       "<IPython.core.display.Latex object>"
      ]
     },
     "execution_count": 54,
     "metadata": {},
     "output_type": "execute_result"
    }
   ],
   "source": [
    "u=Matrix(symbols('u0:4'))\n",
    "v=Matrix(symbols('v0:4'))\n",
    "w=Matrix(symbols('w0:4'))\n",
    "imprimir('u=',u,', v=',v,'w=',w)"
   ]
  },
  {
   "cell_type": "code",
   "execution_count": 55,
   "metadata": {
    "collapsed": false
   },
   "outputs": [
    {
     "data": {
      "text/latex": [
       "$y=b_0 u + b_1 v + b_2 w= $$\\left[\\begin{matrix}b_{0} u_{0} + b_{1} v_{0} + b_{2} w_{0}\\\\b_{0} u_{1} + b_{1} v_{1} + b_{2} w_{1}\\\\b_{0} u_{2} + b_{1} v_{2} + b_{2} w_{2}\\\\b_{0} u_{3} + b_{1} v_{3} + b_{2} w_{3}\\end{matrix}\\right]$"
      ],
      "text/plain": [
       "<IPython.core.display.Latex object>"
      ]
     },
     "execution_count": 55,
     "metadata": {},
     "output_type": "execute_result"
    }
   ],
   "source": [
    "y=b[0]*u+b[1]*v+b[2]*w\n",
    "imprimir('y=b_0 u + b_1 v + b_2 w= ',y)"
   ]
  },
  {
   "cell_type": "code",
   "execution_count": 56,
   "metadata": {
    "collapsed": false,
    "scrolled": false
   },
   "outputs": [
    {
     "data": {
      "text/latex": [
       "$A=$$\\left[\\begin{matrix}u_{0} & v_{0} & w_{0}\\\\u_{1} & v_{1} & w_{1}\\\\u_{2} & v_{2} & w_{2}\\\\u_{3} & v_{3} & w_{3}\\end{matrix}\\right]$"
      ],
      "text/plain": [
       "<IPython.core.display.Latex object>"
      ]
     },
     "execution_count": 56,
     "metadata": {},
     "output_type": "execute_result"
    }
   ],
   "source": [
    "A=juntar(u,v,w)\n",
    "imprimir('A=',A)"
   ]
  },
  {
   "cell_type": "code",
   "execution_count": 57,
   "metadata": {
    "collapsed": false
   },
   "outputs": [
    {
     "data": {
      "text/latex": [
       "$y=$$\\left[\\begin{matrix}u_{0} & v_{0} & w_{0}\\\\u_{1} & v_{1} & w_{1}\\\\u_{2} & v_{2} & w_{2}\\\\u_{3} & v_{3} & w_{3}\\end{matrix}\\right]$$\\left[\\begin{matrix}b_{0}\\\\b_{1}\\\\b_{2}\\end{matrix}\\right]$$=$$\\left[\\begin{matrix}b_{0} u_{0} + b_{1} v_{0} + b_{2} w_{0}\\\\b_{0} u_{1} + b_{1} v_{1} + b_{2} w_{1}\\\\b_{0} u_{2} + b_{1} v_{2} + b_{2} w_{2}\\\\b_{0} u_{3} + b_{1} v_{3} + b_{2} w_{3}\\end{matrix}\\right]$"
      ],
      "text/plain": [
       "<IPython.core.display.Latex object>"
      ]
     },
     "execution_count": 57,
     "metadata": {},
     "output_type": "execute_result"
    }
   ],
   "source": [
    "y=A*b\n",
    "imprimir('y=',A,b,'=',y)"
   ]
  },
  {
   "cell_type": "markdown",
   "metadata": {},
   "source": [
    "## Multiplicación matricial o matriz por vectores\n",
    "<a href=\"cap02g\\cap00present.html\">html</a>"
   ]
  },
  {
   "cell_type": "code",
   "execution_count": 58,
   "metadata": {
    "collapsed": false
   },
   "outputs": [
    {
     "data": {
      "text/latex": [
       "$A=$$\\left[\\begin{matrix}a_{00} & a_{01} & a_{02}\\\\a_{10} & a_{11} & a_{12}\\\\a_{20} & a_{21} & a_{22}\\\\a_{30} & a_{31} & a_{32}\\end{matrix}\\right]$"
      ],
      "text/plain": [
       "<IPython.core.display.Latex object>"
      ]
     },
     "execution_count": 58,
     "metadata": {},
     "output_type": "execute_result"
    }
   ],
   "source": [
    "A=Matrix(symbols('a:4:3')).reshape(4,3)\n",
    "imprimir('A=',A)"
   ]
  },
  {
   "cell_type": "code",
   "execution_count": 59,
   "metadata": {
    "collapsed": false
   },
   "outputs": [
    {
     "data": {
      "text/latex": [
       "$B=$$\\left[\\begin{matrix}b_{00} & b_{01}\\\\b_{10} & b_{11}\\\\b_{20} & b_{21}\\end{matrix}\\right]$"
      ],
      "text/plain": [
       "<IPython.core.display.Latex object>"
      ]
     },
     "execution_count": 59,
     "metadata": {},
     "output_type": "execute_result"
    }
   ],
   "source": [
    "B=Matrix(symbols('b:3:2')).reshape(3,2)\n",
    "imprimir('B=',B)"
   ]
  },
  {
   "cell_type": "code",
   "execution_count": 60,
   "metadata": {
    "collapsed": false
   },
   "outputs": [
    {
     "data": {
      "text/latex": [
       "$C=$$\\left[\\begin{matrix}a_{00} & a_{01} & a_{02}\\\\a_{10} & a_{11} & a_{12}\\\\a_{20} & a_{21} & a_{22}\\\\a_{30} & a_{31} & a_{32}\\end{matrix}\\right]$$\\left[\\begin{matrix}b_{00} & b_{01}\\\\b_{10} & b_{11}\\\\b_{20} & b_{21}\\end{matrix}\\right]$$=$$\\left[\\begin{matrix}a_{00} b_{00} + a_{01} b_{10} + a_{02} b_{20} & a_{00} b_{01} + a_{01} b_{11} + a_{02} b_{21}\\\\a_{10} b_{00} + a_{11} b_{10} + a_{12} b_{20} & a_{10} b_{01} + a_{11} b_{11} + a_{12} b_{21}\\\\a_{20} b_{00} + a_{21} b_{10} + a_{22} b_{20} & a_{20} b_{01} + a_{21} b_{11} + a_{22} b_{21}\\\\a_{30} b_{00} + a_{31} b_{10} + a_{32} b_{20} & a_{30} b_{01} + a_{31} b_{11} + a_{32} b_{21}\\end{matrix}\\right]$"
      ],
      "text/plain": [
       "<IPython.core.display.Latex object>"
      ]
     },
     "execution_count": 60,
     "metadata": {},
     "output_type": "execute_result"
    }
   ],
   "source": [
    "C=A*B\n",
    "imprimir('C=',A,B,'=',C)"
   ]
  },
  {
   "cell_type": "markdown",
   "metadata": {},
   "source": [
    "## Propiedades\n",
    "Dadas las matrices $A,B,C$ de tamaños adecuados y los escalares $a,b,c$:\n",
    "<img src=\"AL_propmult.PNG\"/>"
   ]
  },
  {
   "cell_type": "markdown",
   "metadata": {},
   "source": [
    "## Potencia de una matriz\n",
    "\n",
    "Para una matriz cuadrada $A$ se definen las potencias: \n",
    "*  $A^0=I$,\n",
    "*  $A^n=AA \\ldots A$, $n$ veces \n",
    "para $n \\in \\{1,2,3,\\ldots\\}$,\n",
    "\n",
    "\n",
    "### Teorema:\n",
    "Si $A$ es una matriz cuadrada, $c$ es un escalar distinto se cero y $r,s \\in \\mathbb{N}$ se tiene que se cumplen las siguientes igualdades.\n",
    "* Suma de Exponentes: $A^r A^s=A^{r+s}$\n",
    "* Producto de exponentes: $((A)^{r})^s=A^{rs}$\n",
    "* El escalar sale con exponente: $(cA)^{r}=c^{r}(A)^{r}$\n"
   ]
  }
 ],
 "metadata": {
  "kernelspec": {
   "display_name": "Python 3",
   "language": "python",
   "name": "python3"
  },
  "language_info": {
   "codemirror_mode": {
    "name": "ipython",
    "version": 3
   },
   "file_extension": ".py",
   "mimetype": "text/x-python",
   "name": "python",
   "nbconvert_exporter": "python",
   "pygments_lexer": "ipython3",
   "version": "3.6.0"
  }
 },
 "nbformat": 4,
 "nbformat_minor": 2
}
