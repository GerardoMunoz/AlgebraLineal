{
 "cells": [
  {
   "cell_type": "code",
   "execution_count": null,
   "metadata": {
    "collapsed": false,
    "scrolled": false
   },
   "outputs": [
    {
     "name": "stdout",
     "output_type": "stream",
     "text": [
      "#reducciOn por Gauss-Jordan\n",
      "#1 Vaya a la columna no cero extrema izquierda.\n",
      "#2 Si el primer renglOn tiene un cero en la columna del paso (1), intercAmbielo con uno que tenga un elemento no cero en la misma columna.\n",
      "#3 Obtenga ceros abajo del elemento delantero, sumando mu*ltiplos adecuados del renglo*n superior a los renglones debajo de e*l.\n",
      "#4 Cubra el renglo*n superior y repita el mismo proceso comenzando por el paso (1) aplicado a la sub-matriz restante. Repita este proceso con el resto de los renglones.\n",
      "#5 Comenzando con el u*ltimo renglo*n no cero, avance hacia arriba: para cada renglo*n obtenga un 1 delantero e introduzca ceros arriba de e*l, sumando mu*ltiplos adecuados a los renglones correspondientes.\n",
      "\n",
      "Ejemplo tomado de la pa*gina 19 del libro 'A*lgebra Lineal con  aplicaciones' de Nakos-Joyner de la editorial Thomson impreso en 1999.\n",
      "La matriz ingresada fue\n",
      "A=matriz([[0, 3, -6, -4, -3, -5],[-1, 3, -10, -4, -4, -2],[ 4, -9, 34, 0, 1, -21],[2, -6, 20, 2, 8, -8]])\n",
      "Matrix([[0, 3, -6, -4, -3, -5], [-1, 3, -10, -4, -4, -2], [4, -9, 34, 0, 1, -21], [2, -6, 20, 2, 8, -8]])\n"
     ]
    }
   ],
   "source": [
    "!git clone \n",
    "import AlgLinGauss"
   ]
  },
  {
   "cell_type": "code",
   "execution_count": null,
   "metadata": {},
   "outputs": [],
   "source": []
  }
 ],
 "metadata": {
  "kernelspec": {
   "display_name": "Python 3",
   "language": "python",
   "name": "python3"
  },
  "language_info": {
   "codemirror_mode": {
    "name": "ipython",
    "version": 3
   },
   "file_extension": ".py",
   "mimetype": "text/x-python",
   "name": "python",
   "nbconvert_exporter": "python",
   "pygments_lexer": "ipython3",
   "version": "3.6.5"
  }
 },
 "nbformat": 4,
 "nbformat_minor": 2
}
