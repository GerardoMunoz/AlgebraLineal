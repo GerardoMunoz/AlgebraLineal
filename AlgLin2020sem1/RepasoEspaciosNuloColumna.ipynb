{
 "cells": [
  {
   "cell_type": "code",
   "execution_count": 1,
   "metadata": {},
   "outputs": [],
   "source": [
    "def print1(iterable1,antes='',despues=''):\n",
    "    print(antes+'['+', '.join((str(val) for val in iterable1))+']'+despues)\n",
    "\n",
    "def print2(iterable2):\n",
    "    print('[')\n",
    "    for iterable1 in iterable2:\n",
    "        print1(iterable1,antes=' ',despues=',')\n",
    "    print(']')\n",
    "\n",
    "def printnp(matrix):\n",
    "     return print2(matrix.tolist())"
   ]
  },
  {
   "cell_type": "markdown",
   "metadata": {},
   "source": [
    "# Repaso espacio Nulo y Espacio Columna\n",
    "\n",
    "Sea $A= \\left[\\matrix{\n",
    "11 & 2 & 13 &  3 & 0\\\\\n",
    "4 &  15 & 19 & 6 & 1 \\\\\n",
    "7 &  8 & 15 & 19 & 1}\\right]$\n",
    "\n",
    "El **espacio nulo de $A$**, $\\text{Nu}(A)$ es el conjunto de los vectores $\\vec{x}$ que permiten solucionar la siguiente ecuación.\n",
    "\n",
    "$A \\vec{x} = \\vec{0}$\n",
    "\n",
    "Como $A$ es de $3 \\times 5$ entonces $\\vec{x}$ es de 5 renglones y $\\vec{0}$ es de 3 renglones.\n",
    "\n",
    "$A_{3 \\times 5} \\vec{x}_{5 \\times 1} = \\vec{0}_{3 \\times 1}$"
   ]
  },
  {
   "cell_type": "code",
   "execution_count": 2,
   "metadata": {},
   "outputs": [
    {
     "data": {
      "image/png": "[encoded data removed]",
      "text/plain": [
       "<Figure size 432x288 with 1 Axes>"
      ]
     },
     "metadata": {
      "needs_background": "light"
     },
     "output_type": "display_data"
    }
   ],
   "source": [
    "# Omitir este código, que genera el siguiente gráfico\n",
    "import matplotlib.pyplot as plt\n",
    "import matplotlib\n",
    "fig, ax = plt.subplots()\n",
    "ax.text(.2, 0.5, r'$A_{3 \\times 5} \\vec{x}_{5 \\times 1} = \\vec{0}_{3 \\times 1}$',{'fontsize': 24})\n",
    "ax.add_artist(matplotlib.patches.Arc((0.4,0.46), 0.1, 0.1, angle=0.0, theta2=0.0, theta1=180.0))\n",
    "ax.add_artist(matplotlib.patches.Arc((0.48,0.46), 0.45, 0.2, angle=0.0, theta2=0.0, theta1=180.0))\n",
    "ax.add_artist(matplotlib.patches.Arc((0.67,0.55), 0.27, 0.2, angle=0.0, theta1=0.0, theta2=180.0))\n",
    "ax.axis('off')\n",
    "plt.show()"
   ]
  },
  {
   "cell_type": "markdown",
   "metadata": {},
   "source": [
    "\n",
    "\n",
    "$\\left[\\matrix{\n",
    "11 & 2 & 13 &  3 & 0\\\\\n",
    "4 &  15 & 19 & 6 & 1 \\\\\n",
    "7 &  8 & 15 & 19 & 1}\\right]\\left( \\matrix{ x_0\\\\x_1\\\\x_2\\\\x_3\\\\x_4} \\right)=\\left( \\matrix{0\\\\0\\\\0} \\right)$\n",
    "\n",
    "Para encontrar la solución de la anterior operación de matriz por vector hay que solucionar el respectivo sistema de ecuaciones homogéneo.\n",
    "\n"
   ]
  },
  {
   "cell_type": "code",
   "execution_count": 3,
   "metadata": {},
   "outputs": [
    {
     "data": {
      "text/plain": [
       "matrix([[11,  2, 13,  3,  0,  0],\n",
       "        [ 4, 15, 19,  6,  1,  0],\n",
       "        [ 7,  8, 15, 19,  1,  0]])"
      ]
     },
     "execution_count": 3,
     "metadata": {},
     "output_type": "execute_result"
    }
   ],
   "source": [
    "import numpy as np\n",
    "\n",
    "A=np.matrix([ \n",
    "    [11, 2, 13,  3, 0, 0],\n",
    "    [4,  15, 19, 6, 1, 0],\n",
    "    [7,  8, 15, 19, 1, 0]\n",
    "])\n",
    "\n",
    "A"
   ]
  },
  {
   "cell_type": "code",
   "execution_count": 4,
   "metadata": {},
   "outputs": [
    {
     "data": {
      "text/plain": [
       "matrix([[2709760,       0, 2709760,       0,  -54896,       0],\n",
       "        [      0, -677440, -677440,       0,  -39128,       0],\n",
       "        [      0,       0,       0,   -9280,    -332,       0]])"
      ]
     },
     "execution_count": 4,
     "metadata": {},
     "output_type": "execute_result"
    }
   ],
   "source": [
    "A[[0,1],:] = A[[1,0],:]\n",
    "A[1,:] = 11*A[0,:] - 4*A[1,:]\n",
    "A[2,:] = 7*A[0,:] - 4*A[2,:]\n",
    "A[[2,1],:] = A[[1,2],:]\n",
    "A[2,:] = 157*A[1,:] - 73*A[2,:]\n",
    "A[0,:] = 15*A[1,:] - 73*A[0,:]\n",
    "A[1,:] = 34*A[2,:] - 9280*A[1,:]\n",
    "A[0,:] = 948*A[2,:] - 9280*A[0,:]\n",
    "\n",
    "A"
   ]
  },
  {
   "cell_type": "markdown",
   "metadata": {},
   "source": [
    "Finalmente, se escribe la solución general.\n",
    "\n",
    "$\\left( \\matrix{x_0\\\\x_1\\\\x_2\\\\x_3\\\\x_4} \\right) =\n",
    "t_0\\left( \\matrix{-1\\\\-1\\\\1\\\\0\\\\0} \\right) +\n",
    "t_1\\left( \\matrix{\\frac{47}{2320}\\\\ \\frac{-67}{1160} \\\\ 0 \\\\ \\frac{-83}{2320} \\\\1} \\right)$\n",
    "\n",
    "La cual corresponde a la siguiente operación de matriz por vector, en la cual ya está despejado el vector $\\vec{x}$.\n",
    "\n",
    "$ \\left[\\matrix{\n",
    "-1&\\frac{47}{2320}\\\\ -1&\\frac{-67}{1160} \\\\ 1&0 \\\\ 0&\\frac{-83}{2320} \\\\0&1}\n",
    "\\right]\\left( \\matrix{t_0\\\\t_1} \\right) =\n",
    "\\left( \\matrix{x_0\\\\x_1\\\\x_2\\\\x_3\\\\x_4} \\right)$\n",
    "\n",
    "Como el sistema tiene infinitas soluciones, porque tiene dos parámetros, entonces para cada valor de $\\vec{t}=\\left( \\matrix{t_0\\\\t_1} \\right)$ hay una solución.\n",
    "\n",
    "El conjunto solución recoge todas estas infinitas soluciones. El conjunto que recoge todas las multiplicaciones de $C=\\left[\\matrix{\n",
    "-1&\\frac{47}{2320}\\\\ -1&\\frac{-67}{1160} \\\\ 1&0 \\\\ 0&\\frac{-83}{2320} \\\\0&1}\n",
    "\\right]$ por cada vector $\\vec{t}$ se llama **el espacio columna de $C$**,  $\\text{Co}(C)$.\n",
    "\n",
    "Como $\\vec{x}=\\left( \\matrix{x_0\\\\x_1\\\\x_2\\\\x_3\\\\x_4} \\right) \\in \\mathbb{R}^5$. Entonces $\\text{Co}(C) \\subseteq \\mathbb{R}^5$ al igual que  $\\text{Nu}(A) \\subseteq \\mathbb{R}^5$\n",
    "\n",
    "El subconjunto $S$ de $\\mathbb{R}^5$  que cumple $\\text{Nu}(A)=S=\\text{Co}(C)$  se llama **subespacio de $\\mathbb{R}^5$**\n"
   ]
  },
  {
   "cell_type": "code",
   "execution_count": 5,
   "metadata": {},
   "outputs": [],
   "source": [
    "from fractions import Fraction as frac # Librería para el uso de fraccionarios\n",
    "                                       # frac(numerador,denominador)\n",
    "def solucion_general(t0,t1):\n",
    "    x0 = 0 - t0 * frac(2709760,2709760)  + t1 * frac(54896,2709760)\n",
    "    x1 = 0 + t0 * frac(677440 ,-  677440) +  t1 * frac(+39128,-677440) \n",
    "    x2 = t0\n",
    "    x3 =  0  +  t1 * frac(332,-9280)\n",
    "    x4 = t1\n",
    "    return (x0,x1,x2,x3,x4)"
   ]
  },
  {
   "cell_type": "code",
   "execution_count": 6,
   "metadata": {},
   "outputs": [
    {
     "name": "stdout",
     "output_type": "stream",
     "text": [
      "[-1, -1, 1, 0, 0]\n"
     ]
    }
   ],
   "source": [
    "solucion_particular_basica_10=solucion_general(1,0)\n",
    "print1(solucion_particular_basica_10)"
   ]
  },
  {
   "cell_type": "code",
   "execution_count": 7,
   "metadata": {},
   "outputs": [
    {
     "name": "stdout",
     "output_type": "stream",
     "text": [
      "[47/2320, -67/1160, 0, -83/2320, 1]\n"
     ]
    }
   ],
   "source": [
    "solucion_particular_basica_01=solucion_general(0,1)\n",
    "print1(solucion_particular_basica_01)"
   ]
  },
  {
   "cell_type": "code",
   "execution_count": 8,
   "metadata": {},
   "outputs": [
    {
     "data": {
      "text/plain": [
       "matrix([[Fraction(-1, 1), Fraction(47, 2320)],\n",
       "        [Fraction(-1, 1), Fraction(-67, 1160)],\n",
       "        [1, 0],\n",
       "        [Fraction(0, 1), Fraction(-83, 2320)],\n",
       "        [0, 1]], dtype=object)"
      ]
     },
     "execution_count": 8,
     "metadata": {},
     "output_type": "execute_result"
    }
   ],
   "source": [
    "C=np.matrix((\n",
    "    solucion_particular_basica_10,\n",
    "    solucion_particular_basica_01\n",
    ")).T\n",
    "\n",
    "C"
   ]
  },
  {
   "cell_type": "code",
   "execution_count": 9,
   "metadata": {},
   "outputs": [
    {
     "name": "stdout",
     "output_type": "stream",
     "text": [
      "[\n",
      " [-1, 47/2320],\n",
      " [-1, -67/1160],\n",
      " [1, 0],\n",
      " [0, -83/2320],\n",
      " [0, 1],\n",
      "]\n"
     ]
    }
   ],
   "source": [
    "printnp(C)"
   ]
  }
 ],
 "metadata": {
  "kernelspec": {
   "display_name": "Python 3",
   "language": "python",
   "name": "python3"
  },
  "language_info": {
   "codemirror_mode": {
    "name": "ipython",
    "version": 3
   },
   "file_extension": ".py",
   "mimetype": "text/x-python",
   "name": "python",
   "nbconvert_exporter": "python",
   "pygments_lexer": "ipython3",
   "version": "3.7.4"
  }
 },
 "nbformat": 4,
 "nbformat_minor": 2
}
