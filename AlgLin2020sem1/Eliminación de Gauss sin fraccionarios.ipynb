{
 "cells": [
  {
   "cell_type": "code",
   "execution_count": 694,
   "metadata": {},
   "outputs": [],
   "source": [
    " np.set_printoptions(formatter={'float': lambda x: \"{0:0.10f}\".format(x)}) #Formato para ver 10 decimales\n"
   ]
  },
  {
   "cell_type": "markdown",
   "metadata": {},
   "source": [
    "# Modelos vs Realidad\n",
    "Ustedes como ingenieros aprenden muchos modelos de la realidad. Pero algunas veces no quedan claros los límites de los modelos. Y cuando aplican esos modelos fuera de los límites ¡oh! todo falla.  Es en estos casos cuando nuestros modelos deben mejorar."
   ]
  },
  {
   "cell_type": "markdown",
   "metadata": {},
   "source": [
    "# Problema con el ejercicio anterior\n",
    "\n",
    "En el problema anterior se solicitaba la forma escalón reducida y alguna solución particular básica entre otras cosas, de una matriz extendida como la siguiente. "
   ]
  },
  {
   "cell_type": "code",
   "execution_count": 695,
   "metadata": {},
   "outputs": [],
   "source": [
    "import numpy as np\n",
    "import copy\n",
    "\n",
    "matriz_pregunta=np.matrix([ \n",
    "    [11, 2, 13,  3, 0, 1],\n",
    "    [4,  15, 19, 6, 1, 2],\n",
    "    [7,  8, 15, 19, 1, 3]\n",
    "])"
   ]
  },
  {
   "cell_type": "markdown",
   "metadata": {},
   "source": [
    "Al implementar el algoritmo de Gauss se obtiene la siguiente matriz."
   ]
  },
  {
   "cell_type": "code",
   "execution_count": 696,
   "metadata": {},
   "outputs": [
    {
     "data": {
      "text/plain": [
       "matrix([[1.0000000000, 0.0000000000, 1.0000000000, 0.0000000000,\n",
       "         -0.0202586207, 0.0474137931],\n",
       "        [0.0000000000, 1.0000000000, 1.0000000000, 0.0000000000,\n",
       "         0.0577586207, 0.0775862069],\n",
       "        [0.0000000000, 0.0000000000, 0.0000000000, 1.0000000000,\n",
       "         0.0357758621, 0.1077586207]])"
      ]
     },
     "execution_count": 696,
     "metadata": {},
     "output_type": "execute_result"
    }
   ],
   "source": [
    "A=np.matrix([[1,        0, 44073040/44073040,        0,  -892859/44073040,  2089670/44073040],\n",
    "        [       0, 1, -4006640/-4006640,        0,  -231418/-4006640,  -310860/-4006640],\n",
    "        [       0,        0,        0,    1,      913/25520,     2750/25520]])\n",
    "\n",
    "A"
   ]
  },
  {
   "cell_type": "markdown",
   "metadata": {},
   "source": [
    "El exceso de dígitos decimales impide visualizar la matriz de manera ordenada. Esto se puede solucionar disminuyendo los decimales que se presenta con la siguiente instrucción.  "
   ]
  },
  {
   "cell_type": "code",
   "execution_count": 697,
   "metadata": {},
   "outputs": [
    {
     "data": {
      "text/plain": [
       "matrix([[1.000, 0.000, 1.000, 0.000, -0.020, 0.047],\n",
       "        [0.000, 1.000, 1.000, 0.000, 0.058, 0.078],\n",
       "        [0.000, 0.000, 0.000, 1.000, 0.036, 0.108]])"
      ]
     },
     "execution_count": 697,
     "metadata": {},
     "output_type": "execute_result"
    }
   ],
   "source": [
    "np.set_printoptions(formatter={'float': lambda x: \"{0:0.3f}\".format(x)}) #Formato para ver 3 decimales\n",
    "\n",
    "A"
   ]
  },
  {
   "cell_type": "markdown",
   "metadata": {},
   "source": [
    "Ahora sí es más sencillo ver la matriz.\n",
    "\n",
    "La  solución particular trivial, es decir cuando los parámetros son $t_0=0$ y $t_1=0$, es la siguiente."
   ]
  },
  {
   "cell_type": "code",
   "execution_count": 698,
   "metadata": {},
   "outputs": [
    {
     "data": {
      "text/plain": [
       "(0.047, 0.078, 0, 0.108, 0)"
      ]
     },
     "execution_count": 698,
     "metadata": {},
     "output_type": "execute_result"
    }
   ],
   "source": [
    "(x0,x1,x2,x3,x4)=(0.047, 0.078, 0, 0.108, 0)\n",
    "\n",
    "(x0,x1,x2,x3,x4)"
   ]
  },
  {
   "cell_type": "markdown",
   "metadata": {},
   "source": [
    "Ahora verificamos si la solución particular es correcta \n"
   ]
  },
  {
   "cell_type": "code",
   "execution_count": 699,
   "metadata": {},
   "outputs": [
    {
     "data": {
      "text/plain": [
       "False"
      ]
     },
     "execution_count": 699,
     "metadata": {},
     "output_type": "execute_result"
    }
   ],
   "source": [
    "11*x0 + 2*x1 + 13*x2 + 3*x3 + 0*x4 == 1"
   ]
  },
  {
   "cell_type": "markdown",
   "metadata": {},
   "source": [
    "Ups, algo fallo! veamos cuanto dá la suma"
   ]
  },
  {
   "cell_type": "code",
   "execution_count": 700,
   "metadata": {},
   "outputs": [
    {
     "data": {
      "text/plain": [
       "0.9970000000000001"
      ]
     },
     "execution_count": 700,
     "metadata": {},
     "output_type": "execute_result"
    }
   ],
   "source": [
    "11*x0 + 2*x1 + 13*x2 + 3*x3 + 0*x4"
   ]
  },
  {
   "cell_type": "markdown",
   "metadata": {},
   "source": [
    "Da casi 1, el error es debido a la aproximación que se hizo para ver mejor la matriz. Para obtener la igualdad debemos colocar todos los decimales. ¿Pero si el número tiene infinitos decimales, cómo los podemos colocar todos?"
   ]
  },
  {
   "cell_type": "markdown",
   "metadata": {},
   "source": [
    "# Método numérico\n",
    "\n",
    "Ya que no se pueden colocar todos los decimales de algunos resultados entonces vale la pena explorar otros métodos que nos permiten aproximar la respuesta. En [Nakos, sec 2.3] se presentan dos métodos que permiten aproximar la respuesta tanto como queramos. Estos métodos no son para cualquier sistema de ecuaciones sino solamente para aquellos con solución única cuya matriz de coeficientes sea cuadrada. Pero para matrices grandes puede llegar a ser más rápido.\n",
    "\n",
    "A continuación vamos a conocer un poco mejor como se modelan los números en Python y cómo poder representar la solución exacta de cualquier sistema de ecuaciones."
   ]
  },
  {
   "cell_type": "markdown",
   "metadata": {},
   "source": [
    "# Modelo de los números enteros y de punto flotante\n",
    "\n",
    "Ni el conjunto de los números naturales, ni el conjunto de los números reales se puede implementar en un computador. Ya que estos conjuntos tienen infinitos elementos y la memoria del computador es finita. \n",
    "\n",
    "En Python los **números enteros** se modelan con el tipo de dato `int`. Estos no están limitados por Python sino por la memoria del computador. En principio podemos hacer operaciones con números enteros con tranquilidad.  "
   ]
  },
  {
   "cell_type": "code",
   "execution_count": 701,
   "metadata": {},
   "outputs": [
    {
     "data": {
      "text/plain": [
       "10000000000000000000000000000000000000000000000000000000000000000000000000000000000000000000000000001"
      ]
     },
     "execution_count": 701,
     "metadata": {},
     "output_type": "execute_result"
    }
   ],
   "source": [
    "(10**100)+1"
   ]
  },
  {
   "cell_type": "markdown",
   "metadata": {},
   "source": [
    "En Python el conjunto de los **números racionales** se puede modelar con la librería `fraction`. Por ejemplo, la fracción $\\frac{9}{6}$ se puede escribir `Fraction(9,6)` y será reducida.  \n",
    "\n",
    "En vez de `Fraction` se puede usar un alias como `frac`"
   ]
  },
  {
   "cell_type": "code",
   "execution_count": 702,
   "metadata": {},
   "outputs": [
    {
     "data": {
      "text/plain": [
       "Fraction(3, 2)"
      ]
     },
     "execution_count": 702,
     "metadata": {},
     "output_type": "execute_result"
    }
   ],
   "source": [
    "from fractions import Fraction as frac\n",
    "n=frac(9,6)\n",
    "n"
   ]
  },
  {
   "cell_type": "markdown",
   "metadata": {},
   "source": [
    "Con el fin de mejorar la presentación, se puede usar la función `pprint()`. "
   ]
  },
  {
   "cell_type": "code",
   "execution_count": 703,
   "metadata": {},
   "outputs": [
    {
     "name": "stdout",
     "output_type": "stream",
     "text": [
      "3/2\n"
     ]
    }
   ],
   "source": [
    "pprint(n)"
   ]
  },
  {
   "cell_type": "code",
   "execution_count": 704,
   "metadata": {},
   "outputs": [
    {
     "name": "stdout",
     "output_type": "stream",
     "text": [
      "500\n",
      "───\n",
      "499\n"
     ]
    }
   ],
   "source": [
    "pprint(frac(1000,998))"
   ]
  },
  {
   "cell_type": "code",
   "execution_count": 705,
   "metadata": {},
   "outputs": [
    {
     "name": "stdout",
     "output_type": "stream",
     "text": [
      "-88817841970012523233890533447265625 \n",
      "─────────────────────────────────────\n",
      "           1125899906842624          \n"
     ]
    }
   ],
   "source": [
    "pprint(frac(15**50,-6**50))"
   ]
  },
  {
   "cell_type": "markdown",
   "metadata": {},
   "source": [
    "El modelo de los **números reales** es con el tipo de dato `float`, los cuales se escriben con el punto decimal, como $1.0$. Este tipo de dato es muchísimo más limitado debido a la forma en que Python los almacena. Ya que el usuario escribe y lee en base 10, es decir algo así $a(10^b)$. Es to se denota en Python con la letra `e`"
   ]
  },
  {
   "cell_type": "code",
   "execution_count": 706,
   "metadata": {},
   "outputs": [
    {
     "data": {
      "text/plain": [
       "1.25e+128"
      ]
     },
     "execution_count": 706,
     "metadata": {},
     "output_type": "execute_result"
    }
   ],
   "source": [
    "1.25*(10**128)"
   ]
  },
  {
   "cell_type": "markdown",
   "metadata": {},
   "source": [
    "Pero Python almacena y opera en base 2, es decir así $a'(2^{b'})$. Algunas operaciones que son evidentes en base 10 pueden tener infinitos decimales en base 2 y al hacer las aproximaciones de estos decimales terminan generando un error en base 10. Como en los siguientes ejemplos. "
   ]
  },
  {
   "cell_type": "code",
   "execution_count": 707,
   "metadata": {},
   "outputs": [
    {
     "data": {
      "text/plain": [
       "5.700000000000001e+100"
      ]
     },
     "execution_count": 707,
     "metadata": {},
     "output_type": "execute_result"
    }
   ],
   "source": [
    "5.7*(10**100)"
   ]
  },
  {
   "cell_type": "code",
   "execution_count": 708,
   "metadata": {},
   "outputs": [
    {
     "data": {
      "text/plain": [
       "5.551115123125783e-17"
      ]
     },
     "execution_count": 708,
     "metadata": {},
     "output_type": "execute_result"
    }
   ],
   "source": [
    "0.1 + 0.1 + 0.1 - 0.3"
   ]
  },
  {
   "cell_type": "markdown",
   "metadata": {},
   "source": [
    "Otro problema es que en `float`, la representación  $a'(2^{b'})$ tiene límites para $a'$ y para $b'$. Lo cual genera el siguiente error."
   ]
  },
  {
   "cell_type": "code",
   "execution_count": 709,
   "metadata": {},
   "outputs": [
    {
     "data": {
      "text/plain": [
       "1e+100"
      ]
     },
     "execution_count": 709,
     "metadata": {},
     "output_type": "execute_result"
    }
   ],
   "source": [
    "(10**100)+1.0"
   ]
  },
  {
   "cell_type": "markdown",
   "metadata": {},
   "source": [
    "Por las anteriores razones trataremos de evitar el tipo de dato `float`.\n",
    "\n",
    "La librería `decimal` es un nuevo modelo de los números reales que pretende solucionar algunos de los problemas de  `float` pero no la usaremos en este curso.\n",
    "\n",
    "Hay muchísimas más cosas que se pueden decir de todos estos tipos de datos, pero queda fuera del alcance de este curso. Esto es tema de los cursos de programación y de fundamentos de circuitos digitales."
   ]
  },
  {
   "cell_type": "markdown",
   "metadata": {},
   "source": [
    "# Eliminación de Gauss - Jordan.\n"
   ]
  },
  {
   "cell_type": "markdown",
   "metadata": {},
   "source": [
    "La eliminación de Gauss - Jordan es similar a la eliminación de Gauss pero no sólo elimina los coeficientes abajo del pivote sino que también elimina los coeficiente arriba del pivote en el mismo paso. Para evitar los fraccionarios usaremos la operación entre renglones que está formada por dos operaciones elementales.\n",
    "\n",
    "$k_i R_i + k_j R_j \\rightarrow R_j$\n",
    "\n",
    "Para ilustrar el procedimiento se realizará el siguiente ejemplo.\n",
    "\n",
    "# Ejemplo.\n",
    "\n",
    "Encuentre la solución general, la solución particular trivial y las soluciones particulares básicas que haya, de la matriz extendida `matriz_pregunta`.\n"
   ]
  },
  {
   "cell_type": "code",
   "execution_count": 710,
   "metadata": {},
   "outputs": [],
   "source": [
    "import numpy as np\n",
    "import copy\n",
    "\n",
    "matriz_pregunta=np.matrix([ \n",
    "    [11, 2, 13,  3, 0, 1],\n",
    "    [4,  15, 19, 6, 1, 2],\n",
    "    [7,  8, 15, 19, 1, 3]\n",
    "])\n",
    "\n",
    "\n"
   ]
  },
  {
   "cell_type": "markdown",
   "metadata": {},
   "source": [
    "## Solución\n",
    "Primero hacemos una copia de `matriz_pregunta` para no afectarla. Esta copia no se puede hacer simplemente con el igual, `A=matriz_pregunta`, ya que ambas variables se referirían a la misma matriz. Por este motivo usamos la función `deepcopy`, que hace una copia de todos los objetos mutables que pueda tener el arreglo."
   ]
  },
  {
   "cell_type": "code",
   "execution_count": 711,
   "metadata": {},
   "outputs": [],
   "source": [
    "A=copy.deepcopy(matriz_pregunta)"
   ]
  },
  {
   "cell_type": "markdown",
   "metadata": {},
   "source": [
    "Empezamos con la columna 0."
   ]
  },
  {
   "cell_type": "code",
   "execution_count": 712,
   "metadata": {},
   "outputs": [
    {
     "data": {
      "text/plain": [
       "matrix([[  11,    2,   13,    3,    0,    1],\n",
       "        [   0, -157, -157,  -54,  -11,  -18],\n",
       "        [   7,    8,   15,   19,    1,    3]])"
      ]
     },
     "execution_count": 712,
     "metadata": {},
     "output_type": "execute_result"
    }
   ],
   "source": [
    "# 4R0 - 11R1 -> R1\n",
    "A[1,:] = 4*A[0,:] - 11*A[1,:]\n",
    "A"
   ]
  },
  {
   "cell_type": "code",
   "execution_count": 713,
   "metadata": {},
   "outputs": [
    {
     "data": {
      "text/plain": [
       "matrix([[  11,    2,   13,    3,    0,    1],\n",
       "        [   0, -157, -157,  -54,  -11,  -18],\n",
       "        [   0,  -74,  -74, -188,  -11,  -26]])"
      ]
     },
     "execution_count": 713,
     "metadata": {},
     "output_type": "execute_result"
    }
   ],
   "source": [
    "# 7R0 - 11R2 -> R2\n",
    "A[2,:] = 7*A[0,:] - 11*A[2,:]\n",
    "A"
   ]
  },
  {
   "cell_type": "markdown",
   "metadata": {},
   "source": [
    "Ahora continuamos con la columna 1."
   ]
  },
  {
   "cell_type": "code",
   "execution_count": 714,
   "metadata": {},
   "outputs": [
    {
     "data": {
      "text/plain": [
       "matrix([[   11,     2,    13,     3,     0,     1],\n",
       "        [    0,  -157,  -157,   -54,   -11,   -18],\n",
       "        [    0,     0,     0, 25520,   913,  2750]])"
      ]
     },
     "execution_count": 714,
     "metadata": {},
     "output_type": "execute_result"
    }
   ],
   "source": [
    "# 74R1 - 157R2 -> R2\n",
    "A[2,:] = 74*A[1,:] - 157*A[2,:]\n",
    "A"
   ]
  },
  {
   "cell_type": "code",
   "execution_count": 715,
   "metadata": {},
   "outputs": [
    {
     "data": {
      "text/plain": [
       "matrix([[ 1727,     0,  1727,   363,   -22,   121],\n",
       "        [    0,  -157,  -157,   -54,   -11,   -18],\n",
       "        [    0,     0,     0, 25520,   913,  2750]])"
      ]
     },
     "execution_count": 715,
     "metadata": {},
     "output_type": "execute_result"
    }
   ],
   "source": [
    "# 2R1 + 157R0 -> R0\n",
    "A[0,:] = 2*A[1,:] + 157*A[0,:]\n",
    "A"
   ]
  },
  {
   "cell_type": "markdown",
   "metadata": {},
   "source": [
    "La columna 2 no tiene pivote, entonces pasamos a la columan 3."
   ]
  },
  {
   "cell_type": "code",
   "execution_count": 716,
   "metadata": {},
   "outputs": [
    {
     "data": {
      "text/plain": [
       "matrix([[    1727,        0,     1727,      363,      -22,      121],\n",
       "        [       0, -4006640, -4006640,        0,  -231418,  -310860],\n",
       "        [       0,        0,        0,    25520,      913,     2750]])"
      ]
     },
     "execution_count": 716,
     "metadata": {},
     "output_type": "execute_result"
    }
   ],
   "source": [
    "A[1,:] = 54*A[2,:] + 25520*A[1,:]\n",
    "A"
   ]
  },
  {
   "cell_type": "code",
   "execution_count": 717,
   "metadata": {},
   "outputs": [
    {
     "data": {
      "text/plain": [
       "matrix([[44073040,        0, 44073040,        0,  -892859,  2089670],\n",
       "        [       0, -4006640, -4006640,        0,  -231418,  -310860],\n",
       "        [       0,        0,        0,    25520,      913,     2750]])"
      ]
     },
     "execution_count": 717,
     "metadata": {},
     "output_type": "execute_result"
    }
   ],
   "source": [
    "A[0,:] = -363*A[2,:] + 25520*A[0,:]\n",
    "A"
   ]
  },
  {
   "cell_type": "markdown",
   "metadata": {},
   "source": [
    "El sistema de ecuaciones escalón reducido sin simplificar es:\n",
    "\n",
    "$\\matrix{\n",
    "44073040 x_0 &    + & 44073040 x_2 & - & 892859 x_4 & = &  2089670 \\\\\n",
    "-4006640 x_1  &  - &  4006640 x_2  & - & 231418 x_4 & = &  -310860\\\\\n",
    "               &   & 25520 x_3   &  +  & 913 x_4 & = &  2750}$\n",
    "               \n",
    "Este sistema como no tiene pivotes en los términos constantes entonces es <u>consistente</u>.\n",
    "\n",
    "Como tiene variables libres entonces tiene <u>infinitas soluciones</u>. \n",
    "\n",
    "Como $x_2, x_4$ son una variables libres, entonces les asignamos un parámetro a cada una, $x_2=t_0, x_4=t_1$.\n",
    "Al despejar las variables delanteras se obtiene:\n",
    "\n",
    "$\\matrix{\n",
    "    x0 & = & \\frac{2089670}{44073040)}& - & t_0 * \\frac{44073040}{44073040} & - & t_1 * \\frac{-892859}{44073040} \\\\\n",
    "    x1 & = & \\frac{-310860}{-4006640} & - & t_0 * \\frac{-4006640}{-4006640} & - & t_1 * \\frac{-231418}{-4006640} \\\\\n",
    "    x2 & = & t_0 \\\\\n",
    "    x3 & = & \\frac{2750}{2552}& - & t_1 * \\frac{913}{25520} \\\\\n",
    "    x4 & = & t_1}$\n",
    "\n",
    "La solución general se va a escribir como una función en términos de los parámetros.\n",
    "\n",
    "Para evitar los decimales y sus problemas al verificar la respuesta,\n",
    "usaremos los fraccionarios de Python."
   ]
  },
  {
   "cell_type": "code",
   "execution_count": 718,
   "metadata": {},
   "outputs": [],
   "source": [
    "from fractions import Fraction as frac # Librería para el uso de fraccionarios\n",
    "                                       # frac(numerador,denominador)\n",
    "\n",
    "def solucion_general(t0,t1):\n",
    "    x0 = frac(2089670,44073040) - t0 * frac(44073040,44073040)  - t1 * frac(-892859,44073040)\n",
    "    x1 = frac(-310860,-4006640) - t0 * frac(-4006640 ,-4006640) -  t1 * frac(-231418,-4006640) \n",
    "    x2 = t0\n",
    "    x3 =  frac(2750,25520)  -  t1 * frac(913,25520)\n",
    "    x4 = t1\n",
    "    return (x0,x1,x2,x3,x4)"
   ]
  },
  {
   "cell_type": "markdown",
   "metadata": {},
   "source": [
    "Ahora verificamos la solución particular trivial, con $t_0=0$ y $t_1=0$."
   ]
  },
  {
   "cell_type": "code",
   "execution_count": 719,
   "metadata": {},
   "outputs": [
    {
     "name": "stdout",
     "output_type": "stream",
     "text": [
      "⎛ 11             25   ⎞\n",
      "⎜───, 9/116, 0, ───, 0⎟\n",
      "⎝232            232   ⎠\n"
     ]
    }
   ],
   "source": [
    "(x0,x1,x2,x3,x4)=solucion_general(0,0)\n",
    "pprint((x0,x1,x2,x3,x4))  # pprint mejora la presentación de los fraccionarios "
   ]
  },
  {
   "cell_type": "code",
   "execution_count": 720,
   "metadata": {},
   "outputs": [
    {
     "data": {
      "text/plain": [
       "(Fraction(11, 232), Fraction(9, 116), 0, Fraction(25, 232), 0)"
      ]
     },
     "execution_count": 720,
     "metadata": {},
     "output_type": "execute_result"
    }
   ],
   "source": [
    "(x0,x1,x2,x3,x4)"
   ]
  },
  {
   "cell_type": "code",
   "execution_count": 722,
   "metadata": {},
   "outputs": [
    {
     "data": {
      "text/plain": [
       "matrix([[11,  2, 13,  3,  0,  1],\n",
       "        [ 4, 15, 19,  6,  1,  2],\n",
       "        [ 7,  8, 15, 19,  1,  3]])"
      ]
     },
     "execution_count": 722,
     "metadata": {},
     "output_type": "execute_result"
    }
   ],
   "source": [
    "matriz_pregunta # Se imprime la matriz original para ver los coeficientes"
   ]
  },
  {
   "cell_type": "code",
   "execution_count": 723,
   "metadata": {
    "scrolled": true
   },
   "outputs": [
    {
     "data": {
      "text/plain": [
       "True"
      ]
     },
     "execution_count": 723,
     "metadata": {},
     "output_type": "execute_result"
    }
   ],
   "source": [
    "11*x0 + 2*x1 + 13*x2 + 3*x3 + 0*x4 == 1"
   ]
  },
  {
   "cell_type": "code",
   "execution_count": 724,
   "metadata": {},
   "outputs": [
    {
     "data": {
      "text/plain": [
       "True"
      ]
     },
     "execution_count": 724,
     "metadata": {},
     "output_type": "execute_result"
    }
   ],
   "source": [
    "4*x0 + 15*x1 + 19*x2 + 6*x3 + 1*x4 == 2"
   ]
  },
  {
   "cell_type": "code",
   "execution_count": 725,
   "metadata": {},
   "outputs": [
    {
     "data": {
      "text/plain": [
       "True"
      ]
     },
     "execution_count": 725,
     "metadata": {},
     "output_type": "execute_result"
    }
   ],
   "source": [
    "7*x0 + 8*x1 + 15*x2 + 19*x3 + 1*x4 == 3"
   ]
  },
  {
   "cell_type": "markdown",
   "metadata": {},
   "source": [
    "Seguimos con la verificación de la primera solución particular básica, con $t_0=1$ y $t_1=0$."
   ]
  },
  {
   "cell_type": "code",
   "execution_count": 726,
   "metadata": {},
   "outputs": [
    {
     "name": "stdout",
     "output_type": "stream",
     "text": [
      "⎛-221   -107       25   ⎞\n",
      "⎜─────, ─────, 1, ───, 0⎟\n",
      "⎝ 232    116      232   ⎠\n"
     ]
    }
   ],
   "source": [
    "(x0,x1,x2,x3,x4)=solucion_general(1,0)\n",
    "pprint((x0,x1,x2,x3,x4))  # pprint mejora la presentación de los fraccionarios "
   ]
  },
  {
   "cell_type": "code",
   "execution_count": 727,
   "metadata": {},
   "outputs": [
    {
     "data": {
      "text/plain": [
       "(Fraction(-221, 232), Fraction(-107, 116), 1, Fraction(25, 232), 0)"
      ]
     },
     "execution_count": 727,
     "metadata": {},
     "output_type": "execute_result"
    }
   ],
   "source": [
    "(x0,x1,x2,x3,x4)"
   ]
  },
  {
   "cell_type": "code",
   "execution_count": 729,
   "metadata": {
    "scrolled": true
   },
   "outputs": [
    {
     "data": {
      "text/plain": [
       "True"
      ]
     },
     "execution_count": 729,
     "metadata": {},
     "output_type": "execute_result"
    }
   ],
   "source": [
    "11*x0 + 2*x1 + 13*x2 + 3*x3 + 0*x4 == 1"
   ]
  },
  {
   "cell_type": "code",
   "execution_count": 730,
   "metadata": {},
   "outputs": [
    {
     "data": {
      "text/plain": [
       "True"
      ]
     },
     "execution_count": 730,
     "metadata": {},
     "output_type": "execute_result"
    }
   ],
   "source": [
    "4*x0 + 15*x1 + 19*x2 + 6*x3 + 1*x4 == 2"
   ]
  },
  {
   "cell_type": "code",
   "execution_count": 731,
   "metadata": {},
   "outputs": [
    {
     "data": {
      "text/plain": [
       "True"
      ]
     },
     "execution_count": 731,
     "metadata": {},
     "output_type": "execute_result"
    }
   ],
   "source": [
    "7*x0 + 8*x1 + 15*x2 + 19*x3 + 1*x4 == 3"
   ]
  },
  {
   "cell_type": "markdown",
   "metadata": {},
   "source": [
    "Finalmente se verifica la segunda solución particular básica, con $t_0=0$ y $t_1=1$."
   ]
  },
  {
   "cell_type": "code",
   "execution_count": 732,
   "metadata": {},
   "outputs": [
    {
     "name": "stdout",
     "output_type": "stream",
     "text": [
      "⎛157    23      167    ⎞\n",
      "⎜────, ────, 0, ────, 1⎟\n",
      "⎝2320  1160     2320   ⎠\n"
     ]
    }
   ],
   "source": [
    "(x0,x1,x2,x3,x4)=solucion_general(0,1)\n",
    "pprint((x0,x1,x2,x3,x4))  # pprint mejora la presentación de los fraccionarios "
   ]
  },
  {
   "cell_type": "code",
   "execution_count": 733,
   "metadata": {
    "scrolled": true
   },
   "outputs": [
    {
     "data": {
      "text/plain": [
       "True"
      ]
     },
     "execution_count": 733,
     "metadata": {},
     "output_type": "execute_result"
    }
   ],
   "source": [
    "11*x0 + 2*x1 + 13*x2 + 3*x3 + 0*x4 == 1"
   ]
  },
  {
   "cell_type": "code",
   "execution_count": 734,
   "metadata": {},
   "outputs": [
    {
     "data": {
      "text/plain": [
       "True"
      ]
     },
     "execution_count": 734,
     "metadata": {},
     "output_type": "execute_result"
    }
   ],
   "source": [
    "4*x0 + 15*x1 + 19*x2 + 6*x3 + 1*x4 == 2"
   ]
  },
  {
   "cell_type": "code",
   "execution_count": 735,
   "metadata": {},
   "outputs": [
    {
     "data": {
      "text/plain": [
       "True"
      ]
     },
     "execution_count": 735,
     "metadata": {},
     "output_type": "execute_result"
    }
   ],
   "source": [
    "7*x0 + 8*x1 + 15*x2 + 19*x3 + 1*x4 == 3"
   ]
  },
  {
   "cell_type": "markdown",
   "metadata": {},
   "source": [
    "Finalmente se escribe la tupla de las tuplas de las soluciones particulares."
   ]
  },
  {
   "cell_type": "code",
   "execution_count": 736,
   "metadata": {},
   "outputs": [
    {
     "data": {
      "text/plain": [
       "((Fraction(11, 232), Fraction(9, 116), 0, Fraction(25, 232), 0),\n",
       " (Fraction(-221, 232), Fraction(-107, 116), 1, Fraction(25, 232), 0),\n",
       " (Fraction(157, 2320), Fraction(23, 1160), 0, Fraction(167, 2320), 1))"
      ]
     },
     "execution_count": 736,
     "metadata": {},
     "output_type": "execute_result"
    }
   ],
   "source": [
    "soluciones_particulares=(\n",
    "    solucion_general(0,0),\n",
    "    solucion_general(1,0),\n",
    "    solucion_general(0,1)\n",
    ")\n",
    "\n",
    "soluciones_particulares"
   ]
  },
  {
   "cell_type": "code",
   "execution_count": null,
   "metadata": {},
   "outputs": [],
   "source": []
  },
  {
   "cell_type": "code",
   "execution_count": null,
   "metadata": {},
   "outputs": [],
   "source": []
  },
  {
   "cell_type": "code",
   "execution_count": null,
   "metadata": {},
   "outputs": [],
   "source": []
  },
  {
   "cell_type": "code",
   "execution_count": null,
   "metadata": {},
   "outputs": [],
   "source": []
  },
  {
   "cell_type": "markdown",
   "metadata": {},
   "source": [
    "# Ejercicio"
   ]
  },
  {
   "cell_type": "code",
   "execution_count": 737,
   "metadata": {},
   "outputs": [],
   "source": [
    "nombre= '  escriba aquí su nombre   '\n",
    "código=0    # reemplazar el cero por su código"
   ]
  },
  {
   "cell_type": "markdown",
   "metadata": {},
   "source": [
    "## Ejercicio\n",
    "\n",
    "Utilizando el algoritmo de Gauss, encuentre:\n",
    "* Una rutina llamada `solucion_general(parametros)` con la solución general del siguiente sistema de ecuaciones. \n",
    "* En la variable `soluciones_particulares` asigne una tupla con la tupla de la solución particular trivial y las tuplas de las soluciones particulares básicas, si existen.\n",
    "\n",
    "$\\matrix{\n",
    "-2x_1 + ax_2 - bx_3 - (a+1)x_4 - (b-1)x_5 = -5\\\\\n",
    "0x_1 + 0x_2 - 10x_3 - 4x_4 - 4x_5 = -2\\\\\n",
    "6x_1 - 9x_2 + 34x_3 + 0x_4 + 1x_5 = -21}$\n",
    "\n",
    "Recuerde que $a$ es el último dígito de su código y que $b$ es el penúltimo dígito de su código.\n",
    "\n",
    "Coloque el  procedimiento como se hizo en este cuaderno.\n"
   ]
  },
  {
   "cell_type": "markdown",
   "metadata": {},
   "source": [
    "Se calificará:\n",
    "* La rutina `solucion_general(parametros)`.\n",
    "* La tupla de tuplas `soluciones_particulares`"
   ]
  }
 ],
 "metadata": {
  "kernelspec": {
   "display_name": "Python 3",
   "language": "python",
   "name": "python3"
  },
  "language_info": {
   "codemirror_mode": {
    "name": "ipython",
    "version": 3
   },
   "file_extension": ".py",
   "mimetype": "text/x-python",
   "name": "python",
   "nbconvert_exporter": "python",
   "pygments_lexer": "ipython3",
   "version": "3.7.4"
  }
 },
 "nbformat": 4,
 "nbformat_minor": 2
}
