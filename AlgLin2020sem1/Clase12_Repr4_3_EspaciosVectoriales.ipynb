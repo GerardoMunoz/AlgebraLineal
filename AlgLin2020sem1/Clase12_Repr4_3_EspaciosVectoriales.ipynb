{
 "cells": [
  {
   "cell_type": "markdown",
   "metadata": {},
   "source": [
    "# Espacio vectorial\n",
    "\n",
    "\n",
    "Un  **Espacio  Vectorial $V$ de valor real** es:\n",
    "\n",
    "* (I) un __conjunto__ no vacío que tiene:\n",
    "* (II)  una __operación suma__ ($+$) que cumple:\n",
    " *  (A1) la ley clausurativa ${u}+{v} \\in V$\n",
    " *  (A2) la ley conmutativa ${u}+{v}={v}+{u}$\n",
    " *  (A3) la ley asociativa $({u}+{v})+{w}={u}+({v}+{w})$\n",
    "* (III)  un __elemento cero__ ($\\vec{0}$)  que cumple:\n",
    " *  (A4) la ley modulativa ${v}+\\vec{0}={v}$\n",
    "* (IV) Para cada elemento ${v}$ un __elemento opuesto__ $(-{v})$  que cumple:\n",
    " *  (A5) la ley del opuesto ${v}+(-{v})=\\vec{0}$\n",
    "* (V) una __opración multiplicación por escalar__  que cumple:\n",
    " *  (M1) la ley clusurativa $a{v} \\in V$\n",
    " *  (M2) la ley distributiva $(a+b){v}=a{v}+b{v}$\n",
    " *  (M3) la ley distributiva $a({u}+{v})=a{u}+a{v}$\n",
    " *  (M4) la ley 'asociativa' $a(b{v})=(ab){v}$\n",
    " *  (M5) la ley de la identidad $1{v}={v}$\n",
    " \n",
    " \n",
    "donde ${u},{v},{w} \\in V$ y $a,b \\in R$"
   ]
  },
  {
   "cell_type": "markdown",
   "metadata": {},
   "source": [
    "# Subespacio vectorial\n",
    "\n",
    "$W$ es un subespacio vectorial del espacio vectorial $V$ si cumple:\n",
    "* $W$ es un subconjunto de $V$.\n",
    "* $W$ tiene las mismas operaciones de $V$.\n",
    "* $W$ es un espacio vectorial (Cumple los axiomas A1-A5 y M1-M5). Sin embargo, es sufuciente comprobar sólamente A1 y M1. \n"
   ]
  },
  {
   "cell_type": "markdown",
   "metadata": {},
   "source": [
    "# 1. Combinación Lineal\n",
    "Una **combinación lineal de los vectores** $\\vec{v_1}, \\vec{v_2}, \\ldots \\vec{v_n}$ es de la forma\n",
    "\n",
    "$c_1 \\vec{v_1} + c_2 \\vec{v_2} + \\cdots + c_n \\vec{v_n}$\n",
    "\n",
    "donde $c_1, c_2, \\ldots c_n \\in \\mathbb{R} $\n",
    "\n",
    "## 1.1. Ejemplo\n",
    "\n",
    "Escriba una combinación lineal de estas matrices\n",
    "\n",
    "$\\left\\{ \\left[ \\matrix{ 2 & 0 \\\\ 2 & 0 } \\right],\n",
    "\\left[ \\matrix{ 3 & 3 \\\\ 0 & 0 } \\right]\n",
    "\\right\\}$\n",
    "\n",
    "Solución:\n",
    "Se van a escoger al azar los coeficientes. Por ejemplo, el que multiplica la primera matriz será 215 y el de la segunda matriz -316.  "
   ]
  },
  {
   "cell_type": "code",
   "execution_count": 2,
   "metadata": {},
   "outputs": [
    {
     "data": {
      "text/latex": [
       "$\\displaystyle \\left[\\begin{matrix}2 & 0\\\\2 & 0\\end{matrix}\\right]$"
      ],
      "text/plain": [
       "Matrix([\n",
       "[2, 0],\n",
       "[2, 0]])"
      ]
     },
     "execution_count": 2,
     "metadata": {},
     "output_type": "execute_result"
    }
   ],
   "source": [
    "import sympy as sp\n",
    "A=sp.Matrix([[2, 0],[2, 0]])\n",
    "A"
   ]
  },
  {
   "cell_type": "code",
   "execution_count": 3,
   "metadata": {},
   "outputs": [
    {
     "data": {
      "text/latex": [
       "$\\displaystyle \\left[\\begin{matrix}3 & 3\\\\0 & 0\\end{matrix}\\right]$"
      ],
      "text/plain": [
       "Matrix([\n",
       "[3, 3],\n",
       "[0, 0]])"
      ]
     },
     "execution_count": 3,
     "metadata": {},
     "output_type": "execute_result"
    }
   ],
   "source": [
    "B=sp.Matrix([[3, 3],[0, 0]])\n",
    "B"
   ]
  },
  {
   "cell_type": "code",
   "execution_count": 4,
   "metadata": {},
   "outputs": [
    {
     "data": {
      "text/latex": [
       "$\\displaystyle \\left[\\begin{matrix}-518 & -948\\\\430 & 0\\end{matrix}\\right]$"
      ],
      "text/plain": [
       "Matrix([\n",
       "[-518, -948],\n",
       "[ 430,    0]])"
      ]
     },
     "execution_count": 4,
     "metadata": {},
     "output_type": "execute_result"
    }
   ],
   "source": [
    "respuesta_ejemplo_1=215*A + (-316)*B\n",
    "respuesta_ejemplo_1"
   ]
  },
  {
   "cell_type": "markdown",
   "metadata": {},
   "source": [
    "## 1.2. Ejercicio\n",
    "Escriba una combinación lineal de las matrices:\n",
    "$\\left\\{ \\left[ \\matrix{ 1 & 0 \\\\ 2 & 0 } \\right],\n",
    "\\left[ \\matrix{ 1 & 3 \\\\ 0 & 0 } \\right],\n",
    "\\left[ \\matrix{ 2 & 3 \\\\ 2 & 0 } \\right],\n",
    "\\right\\}$\n",
    "\n",
    "Si su combinación lineal es igual a la de algún compañero, se les bajará la nota (al estilo del juego STOP)"
   ]
  },
  {
   "cell_type": "code",
   "execution_count": null,
   "metadata": {},
   "outputs": [],
   "source": []
  },
  {
   "cell_type": "code",
   "execution_count": null,
   "metadata": {},
   "outputs": [],
   "source": []
  },
  {
   "cell_type": "code",
   "execution_count": 5,
   "metadata": {},
   "outputs": [],
   "source": [
    "respuesta_ejercicio_1=0"
   ]
  },
  {
   "cell_type": "markdown",
   "metadata": {},
   "source": [
    "Seguramente no habrá ningún par de `respuesta_ejercicio_1` repetidas, ya que las casi 80 respuestas que recibiré son prácticamente nada, con respecto a las infinitas posibilidades que hay, de las cuales hablaremos a continuación.  \n",
    "\n",
    "# 2. Espacio generado\n",
    "\n",
    "El **espacio generado** por los vectores $\\vec{v_1}, \\vec{v_2}, \\ldots, \\vec{v_n}$ es el conjunto de todas las combinaciones lineales de esos vectores.\n",
    "\n",
    "$\\text{Gen}\\{\\vec{v_1}, \\vec{v_2}, \\ldots, \\vec{v_n}\\}$\n",
    "\n",
    "$=\\{c_1\\vec{v_1} + c_2\\vec{v_2} + \\cdots + c_n\\vec{v_n} \\mid c_1,c_2, \\ldots, c_n \\in \\mathbb{R}\\}$\n",
    "\n",
    "## 2.1. Ejemplo.\n",
    "\n",
    "Recuerde que los elementos de un espacio vectorial se llaman 'vectores' y el conjunto de las matrices de $2 \\times 2$ es un espacio vectorial.\n",
    "\n",
    "Escriba el espacio generado por el siguiente conjunto de 'vectores' \n",
    "\n",
    "$\\left\\{ \\left[ \\matrix{ 1 & 0 \\\\ 2 & 0 } \\right],\n",
    "\\left[ \\matrix{ 1 & 3 \\\\ 0 & 0 } \\right],\n",
    "\\left[ \\matrix{ 2 & 3 \\\\ 2 & 0 } \\right]\n",
    "\\right\\}$\n",
    "\n",
    "Solución:\n",
    "\n",
    "$\\text{Gen}\\left\\{ \\left[ \\matrix{ 1 & 0 \\\\ 2 & 0 } \\right],\n",
    "\\left[ \\matrix{ 1 & 3 \\\\ 0 & 0 } \\right],\n",
    "\\left[ \\matrix{ 2 & 3 \\\\ 2 & 0 } \\right]\n",
    "\\right\\}$\n",
    "\n",
    "$=\\left\\{ c_0\\left[ \\matrix{ 1 & 0 \\\\ 2 & 0 } \\right] + \n",
    "c_1 \\left[ \\matrix{ 1 & 3 \\\\ 0 & 0 } \\right] +\n",
    "c_2 \\left[ \\matrix{ 2 & 3 \\\\ 2 & 0 } \\right]\n",
    "\\mid c_0, c_1, c_2 \\in \\mathbb{R}\\right\\}$\n",
    "\n",
    "$=\\left\\{ \\left[ \\matrix{ 1c_0 & 0 \\\\ 2c_0 & 0 } \\right] + \n",
    " \\left[ \\matrix{ 1c_1 & 3c_1 \\\\ 0 & 0 } \\right] +\n",
    " \\left[ \\matrix{ 2c_2 & 3c_2 \\\\ 2c_2 & 0 } \\right]\n",
    "\\mid c_0, c_1, c_2 \\in \\mathbb{R}\\right\\}$\n",
    "\n",
    "$=\\left\\{\n",
    " \\left[ \\matrix{ 1c_0+1c_1+2c_2 & 3c_1+3c_2 \\\\ 2c_0+2c_2 & 0 } \\right]\n",
    "\\mid c_0, c_1, c_2 \\in \\mathbb{R}\\right\\}$\n",
    "\n",
    "\n",
    "## 2.2. Ejemplo.\n",
    "\n",
    "¿Generan todo el conjunto de matrices de $2 \\times 2$ las matrices del ejemplo anterior?\n",
    "\n",
    "\n",
    "$\\left\\{ \\left[ \\matrix{ 1 & 0 \\\\ 2 & 0 } \\right],\n",
    "\\left[ \\matrix{ 1 & 3 \\\\ 0 & 0 } \\right],\n",
    "\\left[ \\matrix{ 2 & 3 \\\\ 2 & 0 } \\right]\n",
    "\\right\\}$\n",
    "\n",
    "Solución.\n",
    "\n",
    "Hay que ver si son iguales:\n",
    "* el termino general del espació generado $ \\left[ \\matrix{ 1c_0+1c_1+2c_2 & 3c_1+3c_2 \\\\ 2c_0+2c_2 & 0 } \\right]$ \n",
    "* con una matriz arbitraria de $2 \\times 2$  $\\left[ \\matrix{ a_{00} & a_{01} \\\\ a_{10} & a_{11} } \\right]$\n",
    "\n",
    "¿$ \\left[ \\matrix{ 1c_0+1c_1+2c_2 & 3c_1+3c_2 \\\\ 2c_0+2c_2 & 0 } \\right] = \\left[ \\matrix{ a_{00} & a_{01} \\\\ a_{10} & a_{11} } \\right]$?\n",
    "\n",
    "\n",
    "En este caso es fácil ver que no son iguales porque en una matriz arbitraria $a_{11} \\neq 0$.\n",
    "\n",
    "Por lo tanto, ese conjunto de matrices no genera todo el conjunto de las matrices de $2 \\times 2$\n",
    "\n",
    "\n"
   ]
  },
  {
   "cell_type": "markdown",
   "metadata": {},
   "source": [
    "## 2.3. Ejemplo.\n",
    "\n",
    "Encuentre el espacio generado por el siguiente conjunto de cuatro matrices \n",
    "\n",
    "\n",
    "$\\left\\{ \\left[ \\matrix{ 1 & 0 \\\\ 0 & 0 } \\right],\n",
    "\\left[ \\matrix{ 0 & 1 \\\\ 0 & 0 } \\right],\n",
    "\\left[ \\matrix{ 0 & 0 \\\\ 1 & 0 } \\right],\n",
    "\\left[ \\matrix{ 0 & 0 \\\\ 0 & 1 } \\right]\n",
    "\\right\\}$\n",
    "\n",
    "y determine si genera todas las matrices de $2 \\times 2$.\n",
    "\n",
    "Solución:\n",
    "\n",
    "$\\text{Gen}\\left\\{ \\left[ \\matrix{ 1 & 0 \\\\ 0 & 0 } \\right],\n",
    "\\left[ \\matrix{ 0 & 1 \\\\ 0 & 0 } \\right],\n",
    "\\left[ \\matrix{ 0 & 0 \\\\ 1 & 0 } \\right],\n",
    "\\left[ \\matrix{ 0 & 0 \\\\ 0 & 1 } \\right]\n",
    "\\right\\}$\n",
    "\n",
    "$=\\left\\{ c_{00} \\left[ \\matrix{ 1 & 0 \\\\ 0 & 0 } \\right]\n",
    "+ c_{01} \\left[ \\matrix{ 0 & 1 \\\\ 0 & 0 } \\right]\n",
    "+ c_{10} \\left[ \\matrix{ 0 & 0 \\\\ 1 & 0 } \\right]\n",
    "+ c_{11} \\left[ \\matrix{ 0 & 0 \\\\ 0 & 1 } \\right] \n",
    "\\mid c_{00}, c_{01}, c_{10}, c_{11} \\in \\mathbb{R} \\right\\}$ \n",
    "\n",
    "$=\\left\\{ \\left[ \\matrix{ c_{00} & 0 \\\\ 0 & 0 } \\right]\n",
    "+  \\left[ \\matrix{ 0 & c_{01} \\\\ 0 & 0 } \\right]\n",
    "+  \\left[ \\matrix{ 0 & 0 \\\\ c_{10} & 0 } \\right]\n",
    "+  \\left[ \\matrix{ 0 & 0 \\\\ 0 & c_{11} } \\right] \n",
    "\\mid c_{00}, c_{01}, c_{10}, c_{11} \\in \\mathbb{R} \\right\\}$ \n",
    "\n",
    "$=\\left\\{   \\left[ \\matrix{ c_{00}& c_{01} \\\\ c_{10} & c_{11} } \\right] \n",
    "\\mid c_{00}, c_{01}, c_{10}, c_{11} \\in \\mathbb{R} \\right\\}$\n",
    "\n",
    "El anterior conjunto es el espacio generado por las cuatro matrices, además vemos que coincide con una matriz arbitraria $\\left[ \\matrix{ a_{00}& a_{01} \\\\ a_{10} & a_{11} } \\right]$ \n",
    " del espacio de matrices de $2 \\times 2$. \n",
    "\n",
    "$\\left[ \\matrix{ c_{00}& c_{01} \\\\ c_{10} & c_{11} } \\right]=\\left[ \\matrix{ a_{00}& a_{01} \\\\ a_{10} & a_{11} } \\right] $\n",
    "\n",
    "haciendo $c_{00}=a_{00}, \\ \\  c_{01}=a_{01}, \\ \\ c_{10}=a_{10}, \\ \\ c_{11}=a_{11}$. \n",
    "\n",
    "Por lo tanto, ese conjunto de cuatro matrices sí genera todas las matrices de $2 \\times 2$."
   ]
  },
  {
   "cell_type": "markdown",
   "metadata": {},
   "source": [
    "## 2.4. Ejemplo.\n",
    "\n",
    "Encuentre el espacio generado por el siguiente conjunto de cuatro polinomios y determine si genera todo el conjunto polinomios de grado 3 o menor, $P_3$.\n",
    "\n",
    "$\\begin{align}\n",
    "\\{&1+0x+0x^2+0x^3,\\\\\n",
    "&0+1x+0x^2+0x^3,\\\\\n",
    "&0+0x+1x^2+0x^3,\\\\\n",
    "&0+0x+0x^2+1x^3\\}\\\\ \n",
    "&= \\{1,x,x^2,x^3\\}\n",
    "\\end{align}$\n",
    "\n",
    "Solución.\n",
    "\n",
    "$\\text{Gen}\\{1,x,x^2,x^3\\}=\\{c_01 + c_1x + c_2x^2 + c_3x^3 \\mid c_0,c_1,c_2, c_3 \\in \\mathbb{R}\\}$\n",
    "\n",
    "El anterior conjunto es el espacio generado por los cuatro polinomios, además vemos que coincide con un polinomio arbitrario de grado 3 o menor, $a_01 + a_1x + a_2x^2 + a_3x^3$.\n",
    "\n",
    "$c_01 + c_1x + c_2x^2 + c_3x^3 =a_01 + a_1x + a_2x^2 + a_3x^3$\n",
    "\n",
    "haciendo $c_{0}=a_{0}, \\ \\  c_{1}=a_{1}, \\ \\ c_{2}=a_{2}, \\ \\ c_{3}=a_{3}$. \n",
    "\n",
    "Por lo tanto, ese conjunto de cuatro polinomios sí genera todos los polinomios de grado 3 o menor, $P_3$."
   ]
  },
  {
   "cell_type": "markdown",
   "metadata": {},
   "source": [
    "# 3. Independencia lineal\n",
    "\n",
    "El conjunto de vectores $\\{\\vec{v_1}, \\vec{v_2}, \\ldots, \\vec{v_n}\\}$ es **Linealmente independiente** (LI) si la siguiente combinación lineal \n",
    "\n",
    "$c_1\\vec{v_1} + c_2\\vec{v_2} + \\cdots + c_n\\vec{v_n}=\\vec{0}$\n",
    "\n",
    "tiene coeficientes ($c_1,c_2, \\ldots, c_n$) <u>únicos</u>. Es decir, la única opción es que cada uno de los coeficientes sea cero.\n",
    "\n",
    "Cuando no es LI se llama **Linealmente Dependiente** (LD).\n",
    "\n",
    "\n",
    "\n",
    "## 3.1. Ejemplo.\n",
    "\n",
    "\n",
    "¿Es el siguiente conjunto de 'vectores' LI? \n",
    "\n",
    "$\\left\\{ \\left[ \\matrix{ 1 & 0 \\\\ 2 & 0 } \\right],\n",
    "\\left[ \\matrix{ 1 & 3 \\\\ 0 & 0 } \\right],\n",
    "\\left[ \\matrix{ 2 & 3 \\\\ 2 & 0 } \\right]\n",
    "\\right\\}$\n",
    "\n",
    "Solución:\n",
    "\n",
    "Primero se iguala la combinación lineal de los vectores a cero.\n",
    "\n",
    "\n",
    "$c_0\\left[ \\matrix{ 1 & 0 \\\\ 2 & 0 } \\right] + \n",
    "c_1 \\left[ \\matrix{ 1 & 3 \\\\ 0 & 0 } \\right] +\n",
    "c_2 \\left[ \\matrix{ 2 & 3 \\\\ 2 & 0 } \\right]\n",
    "= \\left[ \\matrix{ 0 & 0 \\\\ 0 & 0 } \\right]\n",
    "$\n",
    "\n",
    "\n",
    "$\n",
    " \\left[ \\matrix{ 1c_0+1c_1+2c_2 & 3c_1+3c_2 \\\\ 2c_0+2c_2 & 0 } \\right]\n",
    "= \\left[ \\matrix{ 0 & 0 \\\\ 0 & 0 } \\right]\n",
    "$\n",
    "\n",
    "Igualando cada una de las componentes de la matriz, se obtiene el siguiente sistema de ecuaciones.\n",
    "\n",
    "$\\begin{align}\n",
    "1c_0+1c_1+2c_2&=0\\\\\n",
    "3c_1+3c_2&=0\\\\\n",
    "2c_0+2c_2&=0\\\\\n",
    "0&=0\\\\\n",
    "\\end{align}$\n",
    "\n",
    "Que corresponde a la siguiente matriz extendida."
   ]
  },
  {
   "cell_type": "code",
   "execution_count": 6,
   "metadata": {},
   "outputs": [
    {
     "data": {
      "text/latex": [
       "$\\displaystyle \\left[\\begin{matrix}1 & 1 & 2 & 0\\\\0 & 3 & 3 & 0\\\\2 & 0 & 2 & 0\\\\0 & 0 & 0 & 0\\end{matrix}\\right]$"
      ],
      "text/plain": [
       "Matrix([\n",
       "[1, 1, 2, 0],\n",
       "[0, 3, 3, 0],\n",
       "[2, 0, 2, 0],\n",
       "[0, 0, 0, 0]])"
      ]
     },
     "execution_count": 6,
     "metadata": {},
     "output_type": "execute_result"
    }
   ],
   "source": [
    "M=sp.Matrix([[1,1,2,0],\n",
    "             [0,3,3,0],\n",
    "             [2,0,2,0],\n",
    "             [0,0,0,0]])\n",
    "M"
   ]
  },
  {
   "cell_type": "code",
   "execution_count": 7,
   "metadata": {},
   "outputs": [
    {
     "data": {
      "text/latex": [
       "$\\displaystyle \\left[\\begin{matrix}1 & 1 & 2 & 0\\\\0 & 3 & 3 & 0\\\\0 & -2 & -2 & 0\\\\0 & 0 & 0 & 0\\end{matrix}\\right]$"
      ],
      "text/plain": [
       "Matrix([\n",
       "[1,  1,  2, 0],\n",
       "[0,  3,  3, 0],\n",
       "[0, -2, -2, 0],\n",
       "[0,  0,  0, 0]])"
      ]
     },
     "execution_count": 7,
     "metadata": {},
     "output_type": "execute_result"
    }
   ],
   "source": [
    "M[2,:] += (-2)*M[0,:]\n",
    "M"
   ]
  },
  {
   "cell_type": "code",
   "execution_count": 8,
   "metadata": {},
   "outputs": [
    {
     "data": {
      "text/latex": [
       "$\\displaystyle \\left[\\begin{matrix}1 & 1 & 2 & 0\\\\0 & 3 & 3 & 0\\\\0 & 0 & 0 & 0\\\\0 & 0 & 0 & 0\\end{matrix}\\right]$"
      ],
      "text/plain": [
       "Matrix([\n",
       "[1, 1, 2, 0],\n",
       "[0, 3, 3, 0],\n",
       "[0, 0, 0, 0],\n",
       "[0, 0, 0, 0]])"
      ]
     },
     "execution_count": 8,
     "metadata": {},
     "output_type": "execute_result"
    }
   ],
   "source": [
    "M[2,:] += M[1,:]*2/3\n",
    "M"
   ]
  },
  {
   "cell_type": "markdown",
   "metadata": {},
   "source": [
    "Como $c_3$ es una variable libre, entonces el sistema no tiene solución única y por lo tanto los vectores no son LI."
   ]
  },
  {
   "cell_type": "markdown",
   "metadata": {},
   "source": [
    "## 3.2. Ejemplo.\n",
    "\n",
    "Determine si el siguiente conjunto de las matrices de $2 \\times 2$ es LI.\n",
    "\n",
    "\n",
    "$\\left\\{ \\left[ \\matrix{ 1 & 0 \\\\ 0 & 0 } \\right],\n",
    "\\left[ \\matrix{ 0 & 1 \\\\ 0 & 0 } \\right],\n",
    "\\left[ \\matrix{ 0 & 0 \\\\ 1 & 0 } \\right],\n",
    "\\left[ \\matrix{ 0 & 0 \\\\ 0 & 1 } \\right],\n",
    "\\right\\}$ \n",
    "\n",
    "Solución:\n",
    "\n",
    "Primero se iguala la combinación lineal de los vectores a cero.\n",
    "\n",
    "\n",
    "\n",
    "\n",
    "$ c_{00} \\left[ \\matrix{ 1 & 0 \\\\ 0 & 0 } \\right]\n",
    "+ c_{01} \\left[ \\matrix{ 0 & 1 \\\\ 0 & 0 } \\right]\n",
    "+ c_{10} \\left[ \\matrix{ 0 & 0 \\\\ 1 & 0 } \\right]\n",
    "+ c_{11} \\left[ \\matrix{ 0 & 0 \\\\ 0 & 1 } \\right] \n",
    "=  \\left[ \\matrix{ 0 & 0 \\\\ 0 & 0 } \\right] \n",
    "$ \n",
    "\n",
    "\n",
    "$   \\left[ \\matrix{ c_{00}& c_{01} \\\\ c_{10} & c_{11} } \\right] \n",
    "=  \\left[ \\matrix{ 0 & 0 \\\\ 0 & 0 } \\right] \n",
    "$\n",
    "\n",
    "Al igualar cada componente de la matriz se obtiene que \n",
    "\n",
    "$\\begin{align}\n",
    "c_{00}&=0\\\\\n",
    "c_{01}&=0\\\\\n",
    "c_{10}&=0\\\\\n",
    "c_{11}&=0\\\\\n",
    "\\end{align}$\n",
    "\n",
    "Como cada coeficiente es cero (única solución posible), entonces el conjunto de los cuatro vectores sí es LI.\n"
   ]
  },
  {
   "cell_type": "markdown",
   "metadata": {},
   "source": [
    "## 3.3. Ejemplo.\n",
    "\n",
    "Determine si el siguiente conjunto de polinomios de grado 3 o menor es LI.\n",
    "\n",
    "$\\begin{align}\n",
    "\\{&1+0x+0x^2+0x^3,\\\\\n",
    "&0+1x+0x^2+0x^3,\\\\\n",
    "&0+0x+1x^2+0x^3,\\\\\n",
    "&0+0x+0x^2+1x^3\\}\\\\ \n",
    "&= \\{1,x,x^2,x^3\\}\n",
    "\\end{align}$\n",
    "\n",
    "Solución.\n",
    "\n",
    "Primero se iguala la combinación lineal de los vectores a cero.\n",
    "\n",
    "\n",
    "$c_0 + c_1x + c_2x^2 + c_3x^3 = 0 + 0x + 0x^2 + 0x^3$\n",
    "\n",
    "Como dos polinomios son iguales si y sólo si cada uno de sus coeficientes son iguales. Entonces \n",
    "\n",
    "$\\begin{align}\n",
    "c_{0}&=0\\\\\n",
    "c_{1}&=0\\\\\n",
    "c_{2}&=0\\\\\n",
    "c_{3}&=0\\\\\n",
    "\\end{align}$\n",
    "\n",
    "Como cada coeficiente es cero (única solución posible), entonces el conjunto de los cuatro vectores sí es LI.\n"
   ]
  },
  {
   "cell_type": "markdown",
   "metadata": {},
   "source": [
    "# 4. Bases y dimensión\n",
    "\n",
    "Un conjunto de vectores $B=\\{\\vec{v}_1, \\vec{v}_2, \\ldots , \\vec{v}_n\\}$ de un espacio vectorial $V$ es una  **base del espacio $V$** si cumple las  dos afirmaciones siguientes:\n",
    "* los vectores $\\{\\vec{v}_1, \\vec{v}_2, \\ldots , \\vec{v}_n\\}$ generan todo el espacio $V$. Es decir si $\\text{Gen}(B)=V$.\n",
    "* el conjunto de vectores $\\{\\vec{v}_1, \\vec{v}_2, \\ldots , \\vec{v}_n\\}$ es LI. \n",
    "\n",
    "Cuando la base tiene un número finito de vectores, este número de vectores se llama la **dimensión** del espacio $V$. De lo contrario se dice que no tiene dimensión finita.\n",
    "\n",
    "## 4.1. Ejemplos.\n",
    "\n",
    "* El conjunto de vectores   $\\left\\{ \\left[ \\matrix{ 1 & 0 \\\\ 2 & 0 } \\right],\n",
    "\\left[ \\matrix{ 1 & 3 \\\\ 0 & 0 } \\right],\n",
    "\\left[ \\matrix{ 2 & 3 \\\\ 2 & 0 } \\right]\n",
    "\\right\\}$ no es una base de las matrices de $2 \\times 2$ por dos razones:\n",
    "  * No genera el espacio.\n",
    "  * Los vectores no son LI.\n",
    "\n",
    "* El conjunto de vectores $\\left\\{ \\left[ \\matrix{ 1 & 0 \\\\ 0 & 0 } \\right],\n",
    "\\left[ \\matrix{ 0 & 1 \\\\ 0 & 0 } \\right],\n",
    "\\left[ \\matrix{ 0 & 0 \\\\ 1 & 0 } \\right],\n",
    "\\left[ \\matrix{ 0 & 0 \\\\ 0 & 1 } \\right],\n",
    "\\right\\}$ es una base, ya que los vectores sí son LI y sí generan el espacio de las matrices de $2 \\times 2$.  De aquí se concluye que las matrices de $2 \\times 2$ forman un espacio de dimensión 4, porque la base tiene 4 vectores.\n",
    "  \n",
    "*  El conjunto de vectores $\\{1,x,x^2,x^3\\} $ es una base, ya que los vectores sí son LI y sí generan el espacio de los polinomios de grado 3 o menor, ($P_3$). De aquí se concluye que los polinomios de grado 3 o menor, ($P_3$), forman un espacio de dimensión 4.\n",
    "  \n",
    "## 4.2. Base estándar de las matrices de tamaño $m \\times n$.\n",
    "\n",
    "**La base estándar del espacio vectorial de\n",
    "las matrices de tamaño $m \\times n$** \n",
    "está formada por el siguiente conjunto de matrices, \n",
    "\n",
    "$\\matrix{\n",
    "\\left\\{ \\left[ \\matrix{ 1 & 0 & \\cdots & 0 \\\\ 0 & 0 & \\cdots & 0 \\\\ \\vdots & \\vdots & \\ddots & \\vdots \\\\ 0 & 0 & \\cdots & 0  } \\right], \\right. &\n",
    "\\left[ \\matrix{ 0 & 1 & \\cdots & 0 \\\\ 0 & 0 & \\cdots & 0 \\\\ \\vdots & \\vdots & \\ddots & \\vdots \\\\ 0 & 0 & \\cdots & 0  } \\right], &\n",
    "\\cdots, &\n",
    "\\left[ \\matrix{ 0 & 0 & \\cdots & 1 \\\\ 0 & 0 & \\cdots & 0 \\\\ \\vdots & \\vdots & \\ddots & \\vdots \\\\ 0 & 0 & \\cdots & 0  } \\right], \\\\\n",
    "\\left[ \\matrix{ 0 & 0 & \\cdots & 0 \\\\ 1 & 0 & \\cdots & 0 \\\\ \\vdots & \\vdots & \\ddots & \\vdots \\\\ 0 & 0 & \\cdots & 0  } \\right], &\n",
    "\\left[ \\matrix{ 0 & 0 & \\cdots & 0 \\\\ 0 & 1 & \\cdots & 0 \\\\ \\vdots & \\vdots & \\ddots & \\vdots \\\\ 0 & 0 & \\cdots & 0  } \\right], &\n",
    "\\cdots, &\n",
    "\\left[ \\matrix{ 0 & 0 & \\cdots & 0 \\\\ 0 & 0 & \\cdots & 1 \\\\ \\vdots & \\vdots & \\ddots &  \\vdots \\\\ 0 & 0 & \\cdots & 0  } \\right], \\\\\n",
    " \\vdots & \\vdots & \\ddots & \\vdots \\\\\n",
    "\\left[ \\matrix{ 0 & 0 & \\cdots & 0 \\\\ 0 & 0 & \\cdots & 0 \\\\ \\vdots & \\vdots & \\ddots & \\vdots \\\\ 1 & 0 & \\cdots & 0  } \\right], &\n",
    "\\left[ \\matrix{ 0 & 0 & \\cdots & 0 \\\\ 0 & 0 & \\cdots & 0 \\\\ \\vdots & \\vdots & \\ddots & \\vdots \\\\ 0 & 1 & \\cdots & 0  } \\right], &\n",
    "\\cdots, &\n",
    "\\left. \\left[ \\matrix{ 0 & 0 & \\cdots & 0 \\\\ 0 & 0 & \\cdots & 0 \\\\ \\vdots & \\vdots & \\ddots \\vdots \\\\ 0 & 0 & \\cdots & 1  } \\right] \\right\\} \\\\\n",
    "}$\n",
    "\n",
    "El espacio vectorial de\n",
    "las matrices de tamaño $m \\times n$ tiene dimensión $m \\cdot n$.\n",
    "\n",
    "Por ejemplo, la base estándar de las matrices de $3 \\times 4$ es el siguiente conjunto de matrices.\n",
    "\n",
    "\n",
    "$\\matrix{\n",
    "\\left\\{ \\left[ \\matrix{ 1 & 0 & 0 & 0 \\\\ 0 & 0 & 0 & 0 \\\\ 0 & 0 & 0 & 0  } \\right] \\right., &\n",
    "\\left[ \\matrix{ 0 & 1 & 0 & 0 \\\\ 0 & 0 & 0 & 0 \\\\ 0 & 0 & 0 & 0  } \\right], &\n",
    "\\left[ \\matrix{ 0 & 0 & 1 & 0 \\\\ 0 & 0 & 0 & 0 \\\\ 0 & 0 & 0 & 0  } \\right], &\n",
    "\\left[ \\matrix{ 0 & 0 & 0 & 1 \\\\ 0 & 0 & 0 & 0 \\\\ 0 & 0 & 0 & 0  } \\right], \\\\\n",
    "\\left[ \\matrix{ 0 & 0 & 0 & 0 \\\\ 1 & 0 & 0 & 0 \\\\ 0 & 0 & 0 & 0  } \\right], &\n",
    "\\left[ \\matrix{ 0 & 0 & 0 & 0 \\\\ 0 & 1 & 0 & 0 \\\\ 0 & 0 & 0 & 0  } \\right], &\n",
    "\\left[ \\matrix{ 0 & 0 & 0 & 0 \\\\ 0 & 0 & 1 & 0 \\\\ 0 & 0 & 0 & 0  } \\right], &\n",
    "\\left[ \\matrix{ 0 & 0 & 0 & 0 \\\\ 0 & 0 & 0 & 1 \\\\ 0 & 0 & 0 & 0  } \\right], \\\\\n",
    "\\left[ \\matrix{ 0 & 0 & 0 & 0 \\\\ 0 & 0 & 0 & 0 \\\\ 1 & 0 & 0 & 0  } \\right], &\n",
    "\\left[ \\matrix{ 0 & 0 & 0 & 0 \\\\ 0 & 0 & 0 & 0 \\\\ 0 & 1 & 0 & 0  } \\right], &\n",
    "\\left[ \\matrix{ 0 & 0 & 0 & 0 \\\\ 0 & 0 & 0 & 0 \\\\ 0 & 0 & 1 & 0  } \\right], &\n",
    "\\left. \\left[ \\matrix{ 0 & 0 & 0 & 0 \\\\ 0 & 0 & 0 & 0 \\\\ 0 & 0 & 0 & 1  } \\right] \\right\\} \\\\\n",
    "}$\n",
    "\n",
    "La dimensión del espacio vectorial de las matrices de $3 \\times 4$ es 12, porque hay 12 matrices en su base.\n",
    "\n",
    "## 4.3. Base estándar de los polinomios de grado $n$ o menor.\n",
    "\n",
    "También vimos que los polinomios de grado $n$ o menor forman un espacio vectorial. La base estándar de ese espacio está formada por el siguiente conjunto de polinomios.\n",
    "\n",
    "$\\begin{align}\n",
    "\\{&1 + 0x + 0x^2 + \\cdots + 0x^n,\\\\\n",
    "&0 + 1x + 0x^2 + \\cdots + 0x^n,\\\\\n",
    "&0 + 0x + 1x^2 + \\cdots + 0x^n, \\\\\n",
    "&\\vdots \\\\\n",
    "&0 + 0x + 0x^2 + \\cdots + 1x^n \\}\n",
    "\\end{align}$\n",
    "\n",
    "o lo que es lo mismo y mucho más fácil de leer\n",
    " \n",
    "$ \\{1, x, x^2, \\cdots,  x^n\\} $\n",
    "\n",
    "La dimensión del espacio de los polinomios de grado $n$ o menos es $n+1$\n",
    "\n",
    "Por ejemplo, la base estándar de los polinomios de grado 7 o menor ($P_7$) es\n",
    "\n",
    "$ \\{1, x, x^2, x^3, x^4, x^5, x^6,  x^7\\} $\n",
    "\n",
    "Los polinomios de grado 7 o menor ($P_7$) es 8, porque la base tiene 8 polinomios.\n",
    "\n",
    "## 4.4. Base estándar del conjunto de todos los polinomios.\n",
    "\n",
    "La base estándar del conjunto de todos los polinomios tiene infinitos elementos.\n",
    "\n",
    "$ \\{1, x, x^2, \\cdots\\} $\n",
    "\n",
    "Por lo tanto, no tiene dimensión finita.\n",
    "\n",
    "## 4.5 Base estándar de $\\mathbb{R}^n$\n",
    "\n",
    "La base estándar de $\\mathbb{R}^n$ consiste en las columnas de la matriz identidad de orden $n$.\n",
    "\n",
    " $\\left\\{ \\left(\\matrix{ 1 \\\\ 0 \\\\ \\vdots \\\\ 0}\\right),\n",
    " \\left(\\matrix{ 0 \\\\ 1 \\\\ \\vdots \\\\ 0}\\right), \\cdots,\n",
    " \\left(\\matrix{ 0 \\\\ 0 \\\\ \\vdots \\\\ 1}\\right)\\right\\}$\n",
    " \n",
    " Por ejemplo.  \n",
    " \n",
    " La base estándar de $\\mathbb{R}^2$ es $\\{ \\hat{i}, \\hat{j} \\}$, donde $\\hat{i}=  \\left(\\matrix{ 1 \\\\ 0 }\\right)$ y $\\hat{j}=  \\left(\\matrix{ 0 \\\\ 1 }\\right)$.\n",
    " \n",
    "La base estándar de $\\mathbb{R}^3$ es $\\{ \\hat{i}, \\hat{j}, \\hat{k} \\}$, donde $\\hat{i}=  \\left(\\matrix{ 1 \\\\ 0 \\\\0}\\right)$,  $\\hat{j}=  \\left(\\matrix{ 0 \\\\ 1 \\\\ 0 }\\right)$ y $\\hat{k}=  \\left(\\matrix{ 0 \\\\ 0\n",
    "\\\\ 1 }\\right)$\n"
   ]
  },
  {
   "cell_type": "markdown",
   "metadata": {},
   "source": [
    "# 5. Coordenadas\n",
    "\n",
    "Sea $B=\\{\\vec{v}_1, \\vec{v}_2, \\ldots , \\vec{v}_n\\}$ una base de un espacio vectorial $V$ de dimensión finita. Sea $\\vec{u}$ un vector de $V$. Las **coordenadas** de $\\vec{u}$ en la base $B$ corresponde al vector de coeficientes $\\vec{t}=\\left( \\matrix{t_0 \\\\ t_1 \\\\ \\vdots \\\\ t_n} \\right)$ tales que $\\vec{u}=t_1\\vec{v}_1 + t_2\\vec{v}_2  + \\cdots + t_n\\vec{v}_n$\n",
    "\n",
    "## Ejemplo 5.1.\n",
    "Encontrar las coordenadas de la matriz $\\left[ \\matrix{ 4 & 1 & 3 \\\\ 3 & 5 & 6 } \\right]$ en la base estándar de las matrices de $2 \\times 3$.\n",
    "\n",
    "Solución.\n",
    "\n",
    "La matriz\n",
    "$A=\\left[ \\matrix{ 4 & 1 & 3 \\\\ 3 & 5 & 6 } \\right]$\n",
    "pertenece al espacio vectorial de las matrices de $2 \\times 3$. Vimos que la base estándar de ese espacio vectorial es el conjunto de las siguientes 6 matrices.\n",
    "\n",
    "$ B=\\left\\{ \n",
    "\\left[ \\matrix{1 & 0 & 0 \\\\0 & 0 & 0 \\\\} \\right],\n",
    "\\left[ \\matrix{0 & 1 & 0 \\\\0 & 0 & 0 \\\\} \\right],\n",
    "\\left[ \\matrix{0 & 0 & 1 \\\\0 & 0 & 0 \\\\} \\right],\n",
    "\\left[ \\matrix{0 & 0 & 0 \\\\1 & 0 & 0 \\\\} \\right],\n",
    "\\left[ \\matrix{0 & 0 & 0 \\\\0 & 1 & 0 \\\\} \\right],\n",
    "\\left[ \\matrix{0 & 0 & 0 \\\\0 & 0 & 1 \\\\} \\right]\n",
    "\\right\\}\n",
    "$\n",
    "\n",
    "Vamos ahora a escribir la matriz $A$ como una combinación lineal de los vectores de la base estándar.\n",
    "\n",
    "$\\begin{align}\n",
    "\\left[ \\matrix{ 4 & 1 & 3 \\\\ 3 & 5 & 6 }\\right]=\n",
    "&+4\\left[ \\matrix{1 & 0 & 0 \\\\0 & 0 & 0 \\\\} \\right]\\\\\n",
    "&+1\\left[ \\matrix{0 & 1 & 0 \\\\0 & 0 & 0 \\\\} \\right]\\\\\n",
    "&+3\\left[ \\matrix{0 & 0 & 1 \\\\0 & 0 & 0 \\\\} \\right]\\\\\n",
    "&+3\\left[ \\matrix{0 & 0 & 0 \\\\1 & 0 & 0 \\\\} \\right]\\\\\n",
    "&+5\\left[ \\matrix{0 & 0 & 0 \\\\0 & 1 & 0 \\\\} \\right]\\\\\n",
    "&+6\\left[ \\matrix{0 & 0 & 0 \\\\0 & 0 & 1 \\\\} \\right]\n",
    "\\end{align}$\n",
    "\n",
    "Por lo tanto, las coordenadas de la matriz $A$ en la base $B$ es el vector de $\\mathbb{R}^6$\n",
    "\n",
    "$[A]_B=\\left(\\matrix{4\\\\1\\\\3\\\\3\\\\5\\\\6}\\right)$\n",
    "\n",
    "## Ejemplo 5.2.\n",
    "Encontrar las coordenadas del polinomio $3 + x + 6x^2 + 5x^3 + 8x^4$ en la base estándar de los polinomios de grado 4 o menor.\n",
    "\n",
    "Solución.\n",
    "\n",
    "El polinomio\n",
    "$p(x)=3 + x + 6x^2 + 5x^3 + 8x^4$\n",
    "pertenece al espacio vectorial de los polinomios de grado 4 o menor. Vimos que la base estándar de ese espacio vectorial es el siguiente conjunto de los 5 polinomios.\n",
    "\n",
    "$ B=\\{1,x,x^2,x^3,x^4\\}$\n",
    "\n",
    "Vamos ahora a escribir el polinomio $p$ como una combinación lineal de los vectores de la base estándar.\n",
    "\n",
    "$\\begin{align}\n",
    "3 + x + 6x^2 + 5x^3 + 8x^4=\n",
    "&+3 \\cdot 1\\\\\n",
    "&+1 \\cdot x \\\\\n",
    "&+6 \\cdot x^2 \\\\\n",
    "&+5 \\cdot x^3 \\\\\n",
    "&+8 \\cdot x^4 \\\\\n",
    "\\end{align}$\n",
    "\n",
    "Por lo tanto, las coordenadas del polinomio $p$ en la base $B$ es el vector de $\\mathbb{R}^5$\n",
    "\n",
    "$[p]_B=\\left(\\matrix{3\\\\1\\\\6\\\\5\\\\8}\\right)$\n",
    "\n",
    "# 6. Ejemplos.\n",
    "\n",
    "Para las siguientes matrices o polinomios:\n",
    "\n",
    "(I) $\\left[ \\matrix{ 4 & 1 & 3 \\\\ 3 & 5 & 6 } \\right]$\n",
    "\n",
    "(II) $3 + x + 16x^2 + 5x^3 + 8x^4$\n",
    "\n",
    "(III) $2 + 8x^2 + 9x^6$\n",
    "\n",
    "Resuelva las siguientes preguntas.\n",
    "\n",
    "(1) A qué espacio pertenece\n",
    "\n",
    "(2) Escriba la base estándar de ese espacio\n",
    "\n",
    "(3) Escriba la dimensión del espacio\n",
    "\n",
    "(4) Escriba las coordenadas del vector en la base estándar\n",
    "\n",
    "\n",
    "Solución."
   ]
  },
  {
   "cell_type": "code",
   "execution_count": 9,
   "metadata": {},
   "outputs": [],
   "source": [
    "espacio_ejercicio_1 = 'Matrices de 2x3'"
   ]
  },
  {
   "cell_type": "code",
   "execution_count": 10,
   "metadata": {},
   "outputs": [
    {
     "data": {
      "text/plain": [
       "(Matrix([\n",
       " [1, 0, 0],\n",
       " [0, 0, 0]]), Matrix([\n",
       " [0, 1, 0],\n",
       " [0, 0, 0]]), Matrix([\n",
       " [0, 0, 1],\n",
       " [0, 0, 0]]), Matrix([\n",
       " [0, 0, 0],\n",
       " [1, 0, 0]]), Matrix([\n",
       " [0, 0, 0],\n",
       " [0, 1, 0]]), Matrix([\n",
       " [0, 0, 0],\n",
       " [0, 0, 1]]))"
      ]
     },
     "execution_count": 10,
     "metadata": {},
     "output_type": "execute_result"
    }
   ],
   "source": [
    "base_estandar_ejercicio_1 = (  sp.Matrix([[1,0,0],\n",
    "                                          [0,0,0]]),\n",
    "                               sp.Matrix([[0,1,0],\n",
    "                                          [0,0,0]]),\n",
    "                               sp.Matrix([[0,0,1],\n",
    "                                          [0,0,0]]),\n",
    "                               sp.Matrix([[0,0,0],\n",
    "                                          [1,0,0]]),\n",
    "                               sp.Matrix([[0,0,0],\n",
    "                                          [0,1,0]]),\n",
    "                               sp.Matrix([[0,0,0],\n",
    "                                          [0,0,1]]))\n",
    "base_estandar_ejercicio_1"
   ]
  },
  {
   "cell_type": "code",
   "execution_count": 11,
   "metadata": {},
   "outputs": [],
   "source": [
    "dimension_ejemplo_1 = 6\n",
    "dimension_ejemplo_1"
   ]
  },
  {
   "cell_type": "code",
   "execution_count": 12,
   "metadata": {},
   "outputs": [],
   "source": [
    "coordenadas_ejemplo_1 = (4,1,3,3,5,6)\n",
    "coordenadas_ejemplo_1"
   ]
  },
  {
   "cell_type": "code",
   "execution_count": 13,
   "metadata": {},
   "outputs": [],
   "source": [
    "espacio_ejemplo_2 = 'polinomios de grado 4 o menor'\n",
    "espacio_ejemplo_2"
   ]
  },
  {
   "cell_type": "code",
   "execution_count": 14,
   "metadata": {},
   "outputs": [],
   "source": [
    "base_estandar_ejemplo_2 = '( 1, x, x**2, x**3, x**4 )'\n",
    "base_estandar_ejemplo_2"
   ]
  },
  {
   "cell_type": "code",
   "execution_count": 15,
   "metadata": {},
   "outputs": [],
   "source": [
    "dimension_ejemplo_2 = 5\n",
    "dimension_ejemplo_2"
   ]
  },
  {
   "cell_type": "code",
   "execution_count": 16,
   "metadata": {},
   "outputs": [],
   "source": [
    "coordenadas_ejemplo_2 = (3,1,16,5,8)\n",
    "coordenadas_ejemplo_2"
   ]
  },
  {
   "cell_type": "code",
   "execution_count": 17,
   "metadata": {},
   "outputs": [],
   "source": [
    "espacio_ejemplo_3 = 'polinomios de grado 6 o menor'\n",
    "espacio_ejemplo_3"
   ]
  },
  {
   "cell_type": "code",
   "execution_count": 18,
   "metadata": {},
   "outputs": [],
   "source": [
    "base_estandar_ejemplo_3 = '( 1, x, x**2, x**3, x**4 , x**5, x**6 )'\n",
    "base_estandar_ejemplo_3"
   ]
  },
  {
   "cell_type": "code",
   "execution_count": 19,
   "metadata": {},
   "outputs": [],
   "source": [
    "dimension_ejemplo_3 = 7\n",
    "dimension_ejemplo_3"
   ]
  },
  {
   "cell_type": "code",
   "execution_count": 20,
   "metadata": {},
   "outputs": [],
   "source": [
    "coordenadas_ejemplo_3 = (2,0,8,0,0,0,9)\n",
    "coordenadas_ejemplo_3"
   ]
  },
  {
   "cell_type": "markdown",
   "metadata": {},
   "source": [
    "# 7. Ejercicios"
   ]
  },
  {
   "cell_type": "code",
   "execution_count": 21,
   "metadata": {},
   "outputs": [],
   "source": [
    "nombre = '  escriba aquí su nombre   '\n",
    "codigo = 0\n",
    "\n",
    "respuesta_ejercicio_1 #No olvide responder el primer ejercicio en la sección de combinación lineal\n"
   ]
  },
  {
   "cell_type": "markdown",
   "metadata": {},
   "source": [
    "Para las siguientes matrices o polinomios:\n",
    "\n",
    "(I) $\\left[ \\matrix{ 4 & 1 \\\\\n",
    "                     7 & 3 \\\\ \n",
    "                     1 & 2 } \\right]$\n",
    "\n",
    "(II) $6 + 1x + 13x^2 + 9x^3 + x^4 + 9x^5 + 2 x^6$\n",
    "\n",
    "(III) $2 + 8x^3 + 8x^5$\n",
    "\n",
    "Resuelva las siguientes preguntas.\n",
    "\n",
    "(1) A qué espacio pertenece\n",
    "\n",
    "(2) Escriba la base estándar de ese espacio\n",
    "\n",
    "(3) Escriba la dimensión del espacio\n",
    "\n",
    "(4) Escriba las coordenadas del vector en la base estándar\n",
    "\n",
    "\n",
    "Solución."
   ]
  },
  {
   "cell_type": "code",
   "execution_count": 22,
   "metadata": {},
   "outputs": [],
   "source": [
    "espacio_ejercicio_1 = '  escriba aquí   '"
   ]
  },
  {
   "cell_type": "code",
   "execution_count": 23,
   "metadata": {},
   "outputs": [],
   "source": [
    "base_estandar_ejercicio_1 = (  )"
   ]
  },
  {
   "cell_type": "code",
   "execution_count": 24,
   "metadata": {},
   "outputs": [],
   "source": [
    "dimension_ejercicio_1 = 0"
   ]
  },
  {
   "cell_type": "code",
   "execution_count": 25,
   "metadata": {},
   "outputs": [],
   "source": [
    "coordenadas_ejercicio_1 = ()"
   ]
  },
  {
   "cell_type": "code",
   "execution_count": 26,
   "metadata": {},
   "outputs": [],
   "source": [
    "espacio_ejercicio_2 = '  escriba aquí   '"
   ]
  },
  {
   "cell_type": "code",
   "execution_count": 27,
   "metadata": {},
   "outputs": [],
   "source": [
    "base_estandar_ejercicio_2 = '(  )'"
   ]
  },
  {
   "cell_type": "code",
   "execution_count": 28,
   "metadata": {},
   "outputs": [],
   "source": [
    "dimension_ejercicio_2 = 0"
   ]
  },
  {
   "cell_type": "code",
   "execution_count": 29,
   "metadata": {},
   "outputs": [],
   "source": [
    "coordenadas_ejercicio_2 = ()"
   ]
  },
  {
   "cell_type": "code",
   "execution_count": 30,
   "metadata": {},
   "outputs": [],
   "source": [
    "espacio_ejercicio_3 = '  escriba aquí   '"
   ]
  },
  {
   "cell_type": "code",
   "execution_count": 31,
   "metadata": {},
   "outputs": [],
   "source": [
    "base_estandar_ejercicio_3 = '(  )'"
   ]
  },
  {
   "cell_type": "code",
   "execution_count": 32,
   "metadata": {},
   "outputs": [],
   "source": [
    "dimension_ejercicio_3 = 0"
   ]
  },
  {
   "cell_type": "code",
   "execution_count": 33,
   "metadata": {},
   "outputs": [],
   "source": [
    "coordenadas_ejercicio_3 = ()"
   ]
  }
 ],
 "metadata": {
  "kernelspec": {
   "display_name": "Python 3",
   "language": "python",
   "name": "python3"
  },
  "language_info": {
   "codemirror_mode": {
    "name": "ipython",
    "version": 3
   },
   "file_extension": ".py",
   "mimetype": "text/x-python",
   "name": "python",
   "nbconvert_exporter": "python",
   "pygments_lexer": "ipython3",
   "version": "3.7.4"
  }
 },
 "nbformat": 4,
 "nbformat_minor": 2
}
