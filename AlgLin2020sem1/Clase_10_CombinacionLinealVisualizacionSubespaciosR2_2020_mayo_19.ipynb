{
 "cells": [
  {
   "cell_type": "code",
   "execution_count": 1,
   "metadata": {},
   "outputs": [],
   "source": [
    "# Omitir este código\n",
    "# Rutinas para visualizar puntos y líneas\n",
    "import matplotlib.pyplot as plt\n",
    "from matplotlib.patches import Arc\n",
    "import sympy as sp\n",
    "import math\n",
    "\n",
    "def angulo(ax,u,v,r,nombre='',fontsize=15):\n",
    "    alpha_u=math.degrees(math.atan2(u[1],u[0]))\n",
    "    alpha_v=math.degrees(math.atan2(v[1],v[0]))\n",
    "    ax.add_patch(Arc((0,0),r,r,0,alpha_u,alpha_v))\n",
    "    alpha=(alpha_u+alpha_v)/2\n",
    "    x=r*math.cos(math.radians(alpha))/2\n",
    "    y=r*math.sin(math.radians(alpha))/2\n",
    "    if nombre!='':\n",
    "        ax.text(x,y,nombre,fontsize=fontsize)\n",
    "\n",
    "\n",
    "def ejes(x0,y0,x1,y1,k=1):\n",
    "    #fig=plt.figure(figsize=(8,6),dpi=80)\n",
    "    #ax = plt.Axes(fig,[0.,0.,1.,1.])\n",
    "    ax = plt.axes([0.,0.,k,k*1.34*(y1-y0)/(x1-x0)])\n",
    "    ax.set_xlim(x0,x1)\n",
    "    ax.set_ylim(y0,y1)\n",
    "    punto2d(ax,(0,0),nombre=r'$\\vec{0}$')\n",
    "    return ax\n",
    "\n",
    "def ejes3d(x0,x1,y0,y1,z0,z1):\n",
    "    #fig=plt.figure(figsize=(8,6),dpi=80)\n",
    "    #ax = plt.Axes(fig,[0.,0.,1.,1.])\n",
    "    fig=plt.figure()\n",
    "    ax=fig.add_subplot(111,projection='3d')\n",
    "    ax.set_xlim([x0,x1])\n",
    "    ax.set_ylim([y0,y1])\n",
    "    ax.set_zlim([z0,z1])\n",
    "    return ax\n",
    "\n",
    "def flecha2d(ax,v,sumar=[0,0],nombre='',fontsize=15,**kwargs):\n",
    "    ax.arrow(float(sumar[0]),float(sumar[1]),float(v[0]),float(v[1]),head_width=0.2,head_length=0.2, length_includes_head=True,**kwargs)\n",
    "    if nombre!='':\n",
    "        ax.text(v[0]+sumar[0],v[1]+sumar[1],nombre,fontsize=fontsize)\n",
    "\n",
    "from mpl_toolkits.mplot3d import Axes3D\n",
    "\n",
    "def flecha3d(ax,A:sp.Matrix,B:sp.Matrix=None,nombres=None,fontsize=15,**kwargs):#problemas en 2D\n",
    "    if B==None:\n",
    "        B=sp.zeros(*A.shape)\n",
    "    elif A.shape!=B.shape:\n",
    "        raise ValueError('flechas(ax,A) o flechas(ax,A,B) y A y B son del mismo tamaño')\n",
    "\n",
    "    if isinstance(nombres,str):\n",
    "        if A.cols==1:\n",
    "            nombres=[nombres]\n",
    "        else:\n",
    "            nombres=[nombres+str(i) for i in range(A.cols)]\n",
    "    elif (isinstance(nombres,list)) and (len(nombres)!=A.cols):\n",
    "        raise ValueError('flechas(ax,A) o flechas(ax,A,n) y n=\"v\" o  len(n)!=A.cols')\n",
    "    elif not isinstance(nombres,list) and nombres!=None:\n",
    "        raise ValueError('n es str o list')\n",
    "        \n",
    "    if A.rows==2:\n",
    "        #v=A.col(0)\n",
    "        #sumar=B.col(0)\n",
    "        #ax.arrow(float(sumar[0]),float(sumar[1]),float(v[0]),float(v[1]),head_width=0.02,head_length=0.02, length_includes_head=True,**kwargs)\n",
    "        #if nombre!='':\n",
    "        #    ax.text(v[0]+sumar[0],v[1]+sumar[1],nombre,fontsize=fontsize)\n",
    "        ax.quiver(B.row(0),B.row(1),A.row(0),A.row(1),**kwargs)\n",
    "        if nombres!= None:\n",
    "            for i in range(A.cols):\n",
    "                ax.text(A.row(0)[i]+B.row(0)[i],A.row(1)[i]+B.row(1)[i],nombres[i],fontsize=fontsize)\n",
    "        \n",
    "    elif A.rows==3:\n",
    "        #AT=A.T\n",
    "        ax.quiver(B.row(0),B.row(1),B.row(2),A.row(0),A.row(1),A.row(2),**kwargs)\n",
    "        if nombres!= None:\n",
    "            for i in range(A.cols):\n",
    "                ax.text(A.row(0)[i]+B.row(0)[i],A.row(1)[i]+B.row(1)[i],A.row(2)[i]+B.row(2)[i],nombres[i],fontsize=fontsize)\n",
    "    else:\n",
    "        raise ValueError('Sólo imprime matrices de 2 o 3 renglones')\n",
    "\n",
    "\n",
    "def linea2d(ax,u,v=(0,0),color='k',**kwargs):\n",
    "    ax.plot((u[0],v[0]),(u[1],v[1]),color)\n",
    "        \n",
    "def punto2d(ax,v,nombre='',fontsize=15,color='k',**kwargs):\n",
    "    ax.scatter(*v,s=20,color=color)\n",
    "    if nombre!='':\n",
    "        ax.text(v[0],v[1],nombre,fontsize=fontsize)        \n",
    "        \n",
    "def juntar(*columnas):# apilar para col_join\n",
    "    A=columnas[0]\n",
    "    for columna in columnas[1:]:\n",
    "        A=A.row_join(columna)\n",
    "    return A\n",
    "\n",
    "def p(v):\n",
    "    return '('+', '.join([str(ai) for ai in v])+')\\u209c'"
   ]
  },
  {
   "cell_type": "markdown",
   "metadata": {},
   "source": [
    "# Vectores vs Matrices\n",
    "En este curso un vector se visualizará como una columna de una matriz. Aunque para la mayoría de las aplicaciones se puede ver como una matriz de una columna. Para el primer caso se representará el vector con paréntesis, en el segundo se usarán los corchetes. Como <u>esta diferencia no es importante para la mayoría de los temas</u>, sólo se hará énfasis en diferenciar estas notaciones cuando sea necesario."
   ]
  },
  {
   "cell_type": "markdown",
   "metadata": {},
   "source": [
    "# Combinación lineal y espacio generado\n",
    "Recordemos que si  \n",
    "\n",
    "$A=[\\matrix{\\vec{v}_1 & \\vec{v}_2 & \\cdots &  \\vec{v}_n}]=\\left[\\matrix{\n",
    "c_{11} & c_{12} & \\cdots & c_{1n}  \\\\\n",
    "c_{21} & c_{22} & \\cdots & c_{2n} \\\\ \n",
    "\\vdots &  \\vdots &  \\ddots & \\vdots\n",
    "\\\\\n",
    "c_{m1} & c_{m2} & \\cdots & c_{mn} }\n",
    "\\right]$ \n",
    "\n",
    "y \n",
    "\n",
    "$\\vec{t}=\\left( \\matrix{t_1 \\\\ t_2 \\\\ \\vdots \\\\ t_n } \\right)$ \n",
    "\n",
    "\n",
    "entonces la multiplicación de matriz por vector se puede escribir como una **combinación lineal**.\n",
    "\n",
    "$\\begin{align}\n",
    "A \\vec{t} &= t_1\\vec{v}_1 + t_2\\vec{v}_2 + \\cdots +  t_n\\vec{v}_n\\\\\n",
    "\\left[\\matrix{\n",
    "c_{11} & c_{12} & \\cdots & c_{1n}  \\\\\n",
    "c_{21} & c_{22} & \\cdots & c_{2n} \\\\ \n",
    "\\vdots &  \\vdots &  \\ddots & \\vdots\n",
    "\\\\\n",
    "c_{m1} & c_{m2} & \\cdots & c_{mn} }\n",
    "\\right]\n",
    "\\left( \\matrix{t_1\\\\t_2\\\\ \\vdots \\\\t_n} \\right)\n",
    "&=t_1\\left( \\matrix{c_{11}\\\\c_{21}\\\\ \\vdots \\\\c_{m1}} \\right) \n",
    "+ t_2\\left( \\matrix{c_{12}\\\\c_{22}\\\\ \\vdots \\\\c_{m2}} \\right) \n",
    "+ \\cdots\n",
    "+ t_n\\left( \\matrix{c_{1n}\\\\c_{2n}\\\\ \\vdots \\\\c_{mn}} \\right) \n",
    "\\end{align}$\n",
    "\n",
    "Esta notación en muy importante cunado se quiere enfatizar en las columnas de la matriz. Recuerde que  se ha usado cuando se escribe la  solución general de un sistema homogéneo.\n",
    "\n",
    "El **espacio generado de un conjunto de vectores** $S=\\{\\vec{v}_1, \\vec{v}_2, \\ldots,   \\vec{v}_n\\}$ es el espacio columna de la matriz $A=[\\matrix{\\vec{v}_1 & \\vec{v}_2 & \\cdots &  \\vec{v}_n}]$.\n",
    "\n",
    "$\\begin{align}\n",
    "\\text{Co}(A)=\\text{Gen}(\\{\\vec{v}_1, \\vec{v}_2, \\ldots,   \\vec{v}_n\\})&=\\{ t_1\\vec{v}_1 + t_2\\vec{v}_2 + \\cdots +   t_n\\vec{v}_n \\mid  t_1, t_2, \\ldots, t_n \\in \\mathbb{R} \\}\\\\\n",
    "\\text{Gen}\n",
    "\\left\\{ \\left( \\matrix{c_{11}\\\\c_{21}\\\\ \\vdots \\\\c_{m1}} \\right), \n",
    "\\left( \\matrix{c_{12}\\\\c_{22}\\\\ \\vdots \\\\c_{m2}} \\right), \n",
    " \\ldots ,\n",
    "\\left( \\matrix{c_{1n}\\\\c_{2n}\\\\ \\vdots \\\\c_{mn}} \\right)\n",
    " \\right\\}&=\n",
    "\\left\\{ t_1\\left( \\matrix{c_{11}\\\\c_{21}\\\\ \\vdots \\\\c_{m1}} \\right) \n",
    "+ t_2\\left( \\matrix{c_{12}\\\\c_{22}\\\\ \\vdots \\\\c_{m2}} \\right) \n",
    "+ \\cdots\n",
    "+ t_n\\left( \\matrix{c_{1n}\\\\c_{2n}\\\\ \\vdots \\\\c_{mn}} \\right)\n",
    " \\mid  t_1, t_2, \\ldots, t_n \\in \\mathbb{R} \\right\\}\n",
    " \\end{align}\n",
    " $\n",
    "\n",
    "Por simplicidad $\\text{Gen}(\\{\\vec{v}_1, \\vec{v}_2, \\ldots,   \\vec{v}_n\\})$ se denotará $\\text{Gen}\\{\\vec{v}_1, \\vec{v}_2, \\ldots,   \\vec{v}_n\\}$.\n",
    "\n",
    "A continuación, se visualizarán algunos vectores y sus espacios generados.\n"
   ]
  },
  {
   "cell_type": "markdown",
   "metadata": {},
   "source": [
    "# Teorema de reducción del conjunto generador [ Nakos,  2.9, pg 92]\n",
    "\n",
    "Si uno de los vectores $\\vec{v}_1, \\vec{v}_2, \\ldots \\vec{v}_k$ es combinación lineal de los demás, el espacio generado permanece igual si se elimina ese vector.\n",
    "\n",
    "### Demostración. \n",
    "Para comodidad en la notación podremos suponer\n",
    "\n",
    "$\\vec{v}_1 = c_2 \\vec{v}_2 + c_3 \\vec{v}_3 + \\cdots + c_{k}\\vec{v}_{k} \\ \\ \\ $  con $\\ \\ \\ c_2, \\ldots , c_{k-1}  \\in \\mathbb{R}$\n",
    "\n",
    "Hay que probar que \n",
    "\n",
    "$\\text{Gen}\\{\\vec{v}_2, \\vec{v}_3, \\ldots, \\vec{v}_{k}\\}=\\text{Gen}\\{\\vec{v}_1,\\vec{v}_2, \\vec{v}_3, \\ldots, \\vec{v}_{k}\\} $\n",
    "\n",
    "Para probar la igualdad de dos conjuntos hay que probar las dos contenencias.\n",
    "\n",
    "$\\text{Gen}\\{\\vec{v}_2, \\vec{v}_3, \\ldots, \\vec{v}_{k}\\} \\subseteq \\text{Gen}\\{\\vec{v}_1,\\vec{v}_2, \\vec{v}_3, \\ldots, \\vec{v}_{k}\\} $\n",
    "\n",
    "$ \n",
    "\\text{Gen}\\{\\vec{v}_2, \\vec{v}_3, \\ldots, \\vec{v}_{k}\\} \\supseteq \\text{Gen}\\{\\vec{v}_1,\\vec{v}_2, \\vec{v}_3, \\ldots, \\vec{v}_{k}\\}$\n",
    "\n",
    "\n",
    "La primera contenencia es evidente ya que si $\\vec{u} \\in \\text{Gen}\\{\\vec{v}_2, \\vec{v}_3, \\ldots, \\vec{v}_{k}\\}$ entonces \n",
    "\n",
    "$\\begin{align}\n",
    "\\vec{u}&=a_2 \\vec{v}_2 + a_3 \\vec{v}_3 + \\cdots + a_{k}\\vec{v}_{k}\\\\\n",
    "&=0 \\vec{v}_1 + a_2 \\vec{v}_2 + a_3 \\vec{v}_3 + \\cdots + a_{k}\\vec{v}_{k}\\\\\n",
    "\\end{align}$\n",
    "\n",
    "y por lo tanto $\\vec{u} \\in \\text{Gen}\\{\\vec{v}_1, \\vec{v}_2, \\vec{v}_3, \\ldots, \\vec{v}_{k}\\}$\n",
    "\n",
    "La segunda contenencia es un poco más interesante. Si $\\vec{u} \\in \\text{Gen}\\{\\vec{v}_1, \\vec{v}_2, \\vec{v}_3, \\ldots, \\vec{v}_{k}\\}$  y $v_1 = c_2 \\vec{v}_2 + c_3 \\vec{v}_3 + \\cdots + c_{k}\\vec{v}_{k} \\ \\ \\ $ entonces \n",
    "\n",
    "$\\begin{align}\n",
    "\\vec{u}&=a_1 \\vec{v}_1 + a_2 \\vec{v}_2 + a_3 \\vec{v}_3 + \\cdots + a_{k}\\vec{v}_{k}\\\\\n",
    "&=a_1( c_2 \\vec{v}_2 + c_3 \\vec{v}_3 + \\cdots + c_{k}\\vec{v}_{k} ) + a_2 \\vec{v}_2 + a_3 \\vec{v}_3 + \\cdots + a_{k}\\vec{v}_{k}\\\\\n",
    "&=(a_1c_2+a_2) \\vec{v}_2 + (a_1c_3+a_3) \\vec{v}_3 + \\cdots + (a_1c_k+a_k)\\vec{v}_{k}\\\\\n",
    "\\end{align}$\n",
    "\n",
    "y por lo tanto $\\vec{u} \\in \\text{Gen}\\{ \\vec{v}_2, \\vec{v}_3, \\ldots, \\vec{v}_{k}\\}$"
   ]
  },
  {
   "cell_type": "markdown",
   "metadata": {},
   "source": [
    "## Corolario\n",
    "Las columnas de una matriz generan el mismo espacio si se suprimen las columnas sin l-pivote (lugar del pivote en una matriz escalón equivalente).\n",
    "\n",
    "### Ilustración\n",
    "Basta con probar que una columna sin l-pivote se puede escribir como una combinación lineal de las columnas que están a la izquierda. A continuación, se ilustrará con un ejemplo, el cual permite entender el fundamento de la demostración.\n",
    "\n",
    "$\\left[\\matrix{1&2&3&5\\\\2&2&4&6\\\\3&2&5&7}\\right] \\sim \\left[\\matrix{1&2&3&5\\\\0&-2&-2&-4\\\\0&-4&-4&-8}\\right] \\sim \\left[\\matrix{1&2&3&5\\\\0&-2&-2&-4\\\\0 & 0 & 0 & 0}\\right]$\n",
    "\n",
    "Observe que la tercera columna no tiene pivote. Ahora vamos a considerar la siguiente matriz extendida, en donde la tercera columna es precisamente los términos constantes. Para encontrar la forma escalón se hacen exactamente las mismas operaciones elementales.\n",
    "\n",
    "$\\left[\\matrix{1&2&:&3\\\\2&2&:&4\\\\3&2&:&5}\\right] \\sim \\left[\\matrix{1&2&:&3\\\\0&-2&:&-2\\\\0&-4&:&-4}\\right] \\sim \\left[\\matrix{1&2&:&3\\\\0&-2&:&-2\\\\0 & 0 &:& 0 }\\right]$\n",
    "\n",
    "El sistema es consistente ya que en la tercera columna no hay un elemento delantero (pivote). Al despejar el anterior sistema de ecuaciones se obtiene que \n",
    "\n",
    "$1\\left(\\matrix{1\\\\2\\\\3}\\right)+1\\left(\\matrix{2\\\\2\\\\2}\\right)=\\left(\\matrix{3\\\\4\\\\5}\\right)$\n",
    "\n",
    "\n",
    "De esta forma se puede comprender por qué motivo las columnas que no tienen l-pivote se pueden escribir como combinación lineal de las columnas con l-pivote que están a la izquierda. Y debido al teorema de reducción del conjunto generador, se pueden suprimir las columnas sin l-pivote y esto no altera el conjunto generado. \n",
    "\n",
    "$\\text{Co}\\left(\\left[\\matrix{1&2&3&5\\\\2&2&4&6\\\\3&2&5&7}\\right]\\right)=\\text{Co}\\left(\\left[\\matrix{1&2\\\\2&2\\\\3&2}\\right]\\right)$"
   ]
  },
  {
   "cell_type": "markdown",
   "metadata": {},
   "source": [
    "# Visualización de vectores y subespacios\n",
    "\n",
    "Ya que un vector $\\left(\\matrix{x_0 \\\\ x_1 }\\right)$ en $\\mathbb{R}^2$ o un vector  $\\left(\\matrix{x_0 \\\\ x_1 \\\\ x_2}\\right)$ en $\\mathbb{R}^3$ se pueden graficar, se usará una flecha o un punto para representarlos. Sin embargo, en esta sección preferiré usar el punto.\n",
    "\n",
    "A continuación se usarán las anteriores rutinas sobre Matplotlib para dibujar el vector $\\vec{u}=\\left(\\matrix{ 4 \\\\ 3 }\\right)$ en $\\mathbb{R}^2$ "
   ]
  },
  {
   "cell_type": "code",
   "execution_count": 2,
   "metadata": {},
   "outputs": [
    {
     "name": "stdout",
     "output_type": "stream",
     "text": [
      "v=(4, 3)ₜ\n"
     ]
    }
   ],
   "source": [
    "u0=sp.Matrix([4,3])\n",
    "print('v='+p(u0))"
   ]
  },
  {
   "cell_type": "code",
   "execution_count": 3,
   "metadata": {},
   "outputs": [
    {
     "data": {
      "image/png": "[encoded data removed]",
      "text/plain": [
       "<Figure size 432x288 with 1 Axes>"
      ]
     },
     "metadata": {
      "needs_background": "light"
     },
     "output_type": "display_data"
    }
   ],
   "source": [
    "ax=ejes(0,0,10,5)\n",
    "punto2d(ax,u0,nombre=r'$\\vec{v}$')\n",
    "plt.show()"
   ]
  },
  {
   "cell_type": "markdown",
   "metadata": {},
   "source": [
    "# Subespacios de $\\mathbb{R}^2$"
   ]
  },
  {
   "cell_type": "markdown",
   "metadata": {},
   "source": [
    "\n",
    "## Visualización de suma de vectores en $\\mathbb{R}^2$\n"
   ]
  },
  {
   "cell_type": "code",
   "execution_count": 4,
   "metadata": {},
   "outputs": [
    {
     "name": "stdout",
     "output_type": "stream",
     "text": [
      "w=(3, 5)ₜ+(5, 1)ₜ=(8, 6)ₜ\n"
     ]
    }
   ],
   "source": [
    "u1=sp.Matrix([3,5])\n",
    "v1=sp.Matrix([5,1])\n",
    "print('w='+p(u1)+'+'+p(v1)+'='+p(u1+v1))"
   ]
  },
  {
   "cell_type": "code",
   "execution_count": 5,
   "metadata": {},
   "outputs": [
    {
     "data": {
      "image/png": "[encoded data removed]",
      "text/plain": [
       "<Figure size 432x288 with 1 Axes>"
      ]
     },
     "metadata": {
      "needs_background": "light"
     },
     "output_type": "display_data"
    }
   ],
   "source": [
    "ax=ejes(-1,-1,10,7)\n",
    "punto2d(ax,u1,nombre='$u$') \n",
    "punto2d(ax,v1,nombre='$v$') \n",
    "punto2d(ax,u1+v1,nombre='$u+v$') \n",
    "plt.show()"
   ]
  },
  {
   "cell_type": "markdown",
   "metadata": {},
   "source": [
    "El origen de coordenadas, los dos sumandos y el resultado; forman los vértices de un paralelogramo. Por esto, la suma de vectores se conoce como la ley del paralelogramo."
   ]
  },
  {
   "cell_type": "markdown",
   "metadata": {},
   "source": [
    "## Visualización de escalar por vector en $\\mathbb{R}^2$\n",
    "\n",
    "Al multiplicar un vector por una constante, cada componente se multiplica por la misma constante y por lo tanto el vector se desplaza en línea recta respecto al origen. "
   ]
  },
  {
   "cell_type": "code",
   "execution_count": 6,
   "metadata": {},
   "outputs": [
    {
     "name": "stdout",
     "output_type": "stream",
     "text": [
      "v=2(4, 3)ₜ=(8, 6)ₜ\n"
     ]
    }
   ],
   "source": [
    "u2=sp.Matrix([4,3])\n",
    "print('v=2'+p(u2)+'='+p(2*u2))"
   ]
  },
  {
   "cell_type": "code",
   "execution_count": 7,
   "metadata": {},
   "outputs": [
    {
     "data": {
      "image/png": "[encoded data removed]",
      "text/plain": [
       "<Figure size 432x288 with 1 Axes>"
      ]
     },
     "metadata": {
      "needs_background": "light"
     },
     "output_type": "display_data"
    }
   ],
   "source": [
    "ax=ejes(0,0,10,8)\n",
    "punto2d(ax,u2,nombre='$u$') \n",
    "punto2d(ax,2*u2,nombre='$2u$') \n",
    "plt.show()"
   ]
  },
  {
   "cell_type": "code",
   "execution_count": 8,
   "metadata": {},
   "outputs": [
    {
     "name": "stdout",
     "output_type": "stream",
     "text": [
      "1/2(4, 3)ₜ=(2, 3/2)ₜ\n",
      "3/2(4, 3)ₜ=(6, 9/2)ₜ\n"
     ]
    }
   ],
   "source": [
    "print('1/2'+p(u2)+'='+p(u2/2))\n",
    "print('3/2'+p(u2)+'='+p(u2*3/2))"
   ]
  },
  {
   "cell_type": "code",
   "execution_count": 9,
   "metadata": {},
   "outputs": [
    {
     "data": {
      "image/png": "[encoded data removed]",
      "text/plain": [
       "<Figure size 432x288 with 1 Axes>"
      ]
     },
     "metadata": {
      "needs_background": "light"
     },
     "output_type": "display_data"
    }
   ],
   "source": [
    "ax=ejes(0,0,10,8)\n",
    "punto2d(ax,u2,nombre='$u$') \n",
    "punto2d(ax,2*u2,nombre='$2u$') \n",
    "punto2d(ax,u2/2,nombre=r'$\\frac{1}{2}u$') \n",
    "punto2d(ax,u2*3/2,nombre=r'$\\frac{3}{2}u$') \n",
    "plt.show()"
   ]
  },
  {
   "cell_type": "markdown",
   "metadata": {},
   "source": [
    "Se podría interpretar que el vector $u$ es una unidad de medida, el cual genera una nueva escala."
   ]
  },
  {
   "cell_type": "markdown",
   "metadata": {},
   "source": [
    "## Espacio generado por un vector en $\\mathbb{R}^2$\n",
    "\n",
    "Recordemos que el espacio generado por un vector $\\vec{u}$ es\n",
    "\n",
    "$\\text{Gen}(\\vec{u})=\\{t_0 \\vec{u} \\mid t_0 \\in \\mathbb{R} \\}$ \n",
    "\n",
    "Como los múltiplos de $\\vec{u}$ están en una recta que pasa por $\\vec{u}$ y por $\\vec{0}$. Entonces el espacio generado por un vector $\\vec{u}$ es la recta que pasa por  $\\vec{u}$ y por $\\vec{0}$.\n",
    "\n",
    "Si $\\vec{u}=\\left(\\matrix{4\\\\3}\\right)$ entonces el espacio generado es la recta que pasa por los vectores  $\\left(\\matrix{0\\\\0}\\right)$ y $\\left(\\matrix{4\\\\3}\\right)$."
   ]
  },
  {
   "cell_type": "code",
   "execution_count": 10,
   "metadata": {},
   "outputs": [
    {
     "data": {
      "image/png": "[encoded data removed]",
      "text/plain": [
       "<Figure size 432x288 with 1 Axes>"
      ]
     },
     "metadata": {
      "needs_background": "light"
     },
     "output_type": "display_data"
    }
   ],
   "source": [
    "u2=sp.Matrix([4,3])\n",
    "ax=ejes(0,0,10,8)\n",
    "punto2d(ax,u2,nombre='$u$') \n",
    "linea2d(ax,u2*5/2,nombre='$u$')  \n",
    "ax.text(6,4.7,r'Espacio generado, Gen($\\vec{u}$)',rotation=34)\n",
    "\n",
    "plt.show()"
   ]
  },
  {
   "cell_type": "markdown",
   "metadata": {},
   "source": [
    "<!--Observemos que, como el vector $\\left(\\matrix{1\\\\1}\\right)$ no está en el espacio generado $\\text{Gen}\\left\\{\\left(\\matrix{1\\\\1}\\right)\\right\\}$, entonces no hay solucion para la siguiente ecuación vectorial.\n",
    "\n",
    "$t_0\\left(\\matrix{4\\\\3}\\right)=\\left(\\matrix{1\\\\1}\\right)$\n",
    "\n",
    "La cual, al ser planteada como un sistema de ecuaciones se obtiene un a ecuación inconsistente\n",
    "\n",
    "$\\begin{align}\n",
    "4t_0&=1\\\\\n",
    "3t_0&=1\n",
    "$\\end{align}-->\n",
    "\n",
    "## Espacio generado por dos vectores en $\\mathbb{R}^2$"
   ]
  },
  {
   "cell_type": "markdown",
   "metadata": {},
   "source": [
    "### Caso 1, cuando hay dos l-pivotes, (rango 2)\n",
    "\n",
    "Para entender este caso, se ilustrará con los vectores  $\\vec{u}_0=\\left(\\matrix{ 1 \\\\ 2 }\\right)$  y $\\vec{u}_1=\\left(\\matrix{ 4 \\\\ 3 }\\right)$ ."
   ]
  },
  {
   "cell_type": "code",
   "execution_count": 11,
   "metadata": {},
   "outputs": [
    {
     "data": {
      "image/png": "[encoded data removed]",
      "text/plain": [
       "<Figure size 432x288 with 1 Axes>"
      ]
     },
     "metadata": {
      "needs_background": "light"
     },
     "output_type": "display_data"
    }
   ],
   "source": [
    "u2_0=sp.Matrix([1,2])\n",
    "u2_1=sp.Matrix([4,3])\n",
    "\n",
    "ax=ejes(0,0,10,5)\n",
    "punto2d(ax,u2_0,nombre='$u_0$') \n",
    "punto2d(ax,u2_1,nombre='$u_1$') \n",
    "plt.show()"
   ]
  },
  {
   "cell_type": "markdown",
   "metadata": {},
   "source": [
    "$\\begin{align}\n",
    "\\text{Gen}\\{\\vec{u}_0,\\vec{u}_1\\}&=\\left\\{ t_0 \\left(\\matrix{ 1 \\\\ 2 }\\right) + t_1 \\left(\\matrix{ 4 \\\\ 3 }\\right) \\mid t_0, t_1 \\in \\mathbb{R} \\right\\}\\\\\n",
    "&=\\left\\{ \\left[\\matrix{ 1 & 4 \\\\ 2 & 3 }\\right]\\left(\\matrix{ t_0 \\\\ t_1 }\\right)  \\mid \\left(\\matrix{ t_0 \\\\ t_1 }\\right) \\in \\mathbb{R}^2 \\right\\}\n",
    "\\end{align}$\n",
    "\n",
    "Esta vez, en vez de mirar directamente el conjunto generado, se averiguará cual vector no está en el conjunto generado. Es decir, se mirará para que vector $\\vec{b}=\\left(\\matrix{ b_0 \\\\ b_1 }\\right)$ el siguiente sistema es inconsistente. \n",
    "\n",
    "$t_0 \\left(\\matrix{ 1 \\\\ 2 }\\right) + t_1 \\left(\\matrix{ 4 \\\\ 3 }\\right)=\\left(\\matrix{ b_0 \\\\ b_1 }\\right)$\n",
    "\n",
    "$\\left[\\matrix{\n",
    "1 & 4 & : & b_0 \\\\\n",
    "2 & 3 & : & b_1 \\\\\n",
    "}\\right] \\sim\n",
    "\\left[\\matrix{\n",
    "\\underline{1} & 4 & : & b_0 \\\\\n",
    "0 & \\underline{-5} & : & b_1 - 2b_0 \\\\\n",
    "}\\right]\n",
    "$\n",
    "\n",
    "Resulta que como <u>cada renglón de la matriz de coeficientes tiene un pivote</u>, entonces no hay posibilidad que en los términos constantes haya un pivote. Por lo tanto, este sistema de ecuaciones es <u>consistente para todos los vectores de términos constantes</u>. Lo cual significa que cualquier vector $\\vec{b} \\in \\mathbb{R}^2$ está en el conjunto generado por $\\vec{u}_0$ y $\\vec{u}_1$. Luego, $\\vec{u}_0$ y $\\vec{u}_1$ <u>generan todo el espacio</u>.\n",
    "\n",
    "$\\text{Gen}\\{\\vec{u}_0,\\vec{u}_1\\}=\\mathbb{R}^2$"
   ]
  },
  {
   "cell_type": "code",
   "execution_count": 12,
   "metadata": {},
   "outputs": [
    {
     "data": {
      "image/png": "[encoded data removed]",
      "text/plain": [
       "<Figure size 432x288 with 1 Axes>"
      ]
     },
     "metadata": {
      "needs_background": "light"
     },
     "output_type": "display_data"
    }
   ],
   "source": [
    "u2_0=sp.Matrix([1,2])\n",
    "u2_1=sp.Matrix([4,3])\n",
    "\n",
    "ax=ejes(0,0,10,5)\n",
    "punto2d(ax,u2_0,nombre='$u_0$',color='w') \n",
    "punto2d(ax,u2_1,nombre='$u_1$',color='w') \n",
    "ax.set_facecolor('black')\n",
    "plt.show()"
   ]
  },
  {
   "cell_type": "markdown",
   "metadata": {},
   "source": [
    "### Caso 2, Cuando hay un l-pivote, (rango 1)\n",
    "Sean $\\vec{u}_0=\\left(\\matrix{ 4 \\\\ 2 }\\right)$  y $\\vec{u}_1=\\left(\\matrix{ 2 \\\\ 1 }\\right)$\n"
   ]
  },
  {
   "cell_type": "code",
   "execution_count": 13,
   "metadata": {},
   "outputs": [
    {
     "data": {
      "image/png": "[encoded data removed]",
      "text/plain": [
       "<Figure size 432x288 with 1 Axes>"
      ]
     },
     "metadata": {
      "needs_background": "light"
     },
     "output_type": "display_data"
    }
   ],
   "source": [
    "u2_0=sp.Matrix([4,2])\n",
    "u2_1=sp.Matrix([2,1])\n",
    "\n",
    "ax=ejes(0,0,10,6)\n",
    "punto2d(ax,u2_0,nombre='$u_0$') \n",
    "punto2d(ax,u2_1,nombre='$u_1$')\n",
    "plt.show()"
   ]
  },
  {
   "cell_type": "markdown",
   "metadata": {},
   "source": [
    "$\\begin{align}\n",
    "\\text{Gen}\\{\\vec{u}_0,\\vec{u}_1\\}&=\\left\\{ t_0 \\left(\\matrix{ 4 \\\\ 2 }\\right) + t_1 \\left(\\matrix{ 2 \\\\ 1 }\\right) \\mid t_0, t_1 \\in \\mathbb{R} \\right\\}\\\\\n",
    "&=\\left\\{ \\left[\\matrix{ 4 & 2 \\\\ 2 & 1 }\\right]\\left(\\matrix{ t_0 \\\\ t_1 }\\right)  \\mid \\left(\\matrix{ t_0 \\\\ t_1 }\\right) \\in \\mathbb{R}^2 \\right\\}\n",
    "\\end{align}$\n",
    "\n",
    "Nuevamente se averiguará cual vector no está en el conjunto generado. Es decir, se mirará para que vector $\\vec{b}=\\left(\\matrix{ b_0 \\\\ b_1 }\\right)$ el siguiete sistema es inconsistente. \n",
    "\n",
    "$t_0 \\left(\\matrix{ 4 \\\\ 2 }\\right) + t_1 \\left(\\matrix{ 2 \\\\ 1 }\\right)=\\left(\\matrix{ b_0 \\\\ b_1 }\\right)$\n",
    "\n",
    "$\\left[\\matrix{\n",
    "4 & 2 & : & b_0 \\\\\n",
    "2 & 1 & : & b_1 \\\\\n",
    "}\\right] \\sim\n",
    "\\left[\\matrix{\n",
    "\\underline{4} & 2 & : & b_0 \\\\\n",
    "0 & 0& : & b_1 - \\frac{1}{2}b_0\n",
    "}\\right]\n",
    "$\n",
    "\n",
    "En este caso los vectores no generan todo el espacio, ya que el último renglón de los términos constantes puede producir inconsistencias cuando $b_1 - b_0/2 \\neq 0$.\n",
    "\n",
    "Pero debido a que hay columnas que no tienen l-pivote podemos utilizar el Teorema de reducción del conjunto generador [ Nakos, 2.9, pg 92].  Esto nos permite eliminar el segundo vector y concluir lo siguiente.\n",
    "\n",
    "$\\text{Gen}\\left\\{ \\left(\\matrix{ 4 \\\\ 2 }\\right),  \\left(\\matrix{ 2 \\\\ 1 }\\right)  \\right\\}=\n",
    "\\text{Gen}\\left\\{ \\left(\\matrix{ 4 \\\\ 2 }\\right)  \\right\\}$\n",
    "\n",
    "Debido a uno de los ejercicios anteriores, podemos saber que el espacio generado por el vector $\\left(\\matrix{ 4 \\\\ 2 }\\right)$ es una recta que pasa por $\\left(\\matrix{ 0 \\\\ 0 }\\right)$ y $\\left(\\matrix{ 4 \\\\ 2 }\\right)$.\n",
    "\n",
    "Por lo tanto, el espacio generado por los vectores  $\\left(\\matrix{ 4 \\\\ 2 }\\right)$  $\\left(\\matrix{ 2 \\\\ 1 }\\right)$ es una recta que pasa por $\\left(\\matrix{ 0 \\\\ 0 }\\right)$ y $\\left(\\matrix{ 4 \\\\ 2 }\\right)$.\n"
   ]
  },
  {
   "cell_type": "code",
   "execution_count": 14,
   "metadata": {},
   "outputs": [
    {
     "data": {
      "image/png": "[encoded data removed]",
      "text/plain": [
       "<Figure size 432x288 with 1 Axes>"
      ]
     },
     "metadata": {
      "needs_background": "light"
     },
     "output_type": "display_data"
    }
   ],
   "source": [
    "u2_0=sp.Matrix([4,2])\n",
    "u2_1=sp.Matrix([2,1])\n",
    "\n",
    "ax=ejes(0,0,10,5)\n",
    "punto2d(ax,u2_0,nombre='$u_0$') \n",
    "punto2d(ax,u2_1,nombre='$u_1$') \n",
    "linea2d(ax,u2_0*5,nombre='$u$')  \n",
    "ax.text(6,3.1,r'Espacio generado, Gen($\\vec{u}_0,\\vec{u}_1$)',rotation=25)\n",
    "plt.show()"
   ]
  },
  {
   "cell_type": "markdown",
   "metadata": {},
   "source": [
    "# Espacio generado por más de dos vectores en $\\mathbb{R}^2$\n",
    "\n",
    "Con $n$ vectores de $\\mathbb{R}^2$ podemos construir una matriz de $2 \\times n$. Esto implica que no pueden haber más de 2 l-pivotes en esa matriz. \n",
    "\n",
    "* Si hay 2 l-pivotes entonces los vectores generan todo $\\mathbb{R}^2$. \n",
    "* Pero si sólo hay un l-pivote entonces todos los vectores estarán sobre la misma recta que pasa por el origen y precisamente esa recta será el espacio generado por los $n$ vectores.\n"
   ]
  },
  {
   "cell_type": "markdown",
   "metadata": {},
   "source": [
    "# Espacio nulo correspondiente a una ecuación con dos variables. \n",
    "\n",
    "El espacio nulo de la matriz\n",
    "\n",
    "$A=[\\matrix{3 & 2}]$ \n",
    "\n",
    "corresponde a la solución de la ecuación homogénea \n",
    "\n",
    "$3x_0 + 2x_1=0$ \n",
    "\n",
    "Para encontrar el conjunto solución usaremos el procedimiento presentado en clase.\n",
    "\n",
    "* Escribir la matriz extendida\n",
    "\n",
    "$[\\matrix{3 & 2 & : & 0}]$\n",
    "\n",
    "* Encontrar la forma escalón\n",
    "\n",
    "Ya está en forma escalón\n",
    "\n",
    "* Asignar parámetros a las variables libres\n",
    "\n",
    "$x_1=t_0$\n",
    "\n",
    "* Despejar las variables delanteras en término de parámetros\n",
    "\n",
    "$x_0=\\frac{-2}{3}t_0$\n",
    "\n",
    "* Escribir vectorialmente la solución general\n",
    "\n",
    "$\\left(\\matrix{ x_0 \\\\ x_1 }\\right)=t_0\\left(\\matrix{ \\frac{-2}{3} \\\\ 1}\\right)$\n",
    "\n",
    "Como el espacio es generado por un sólo vector de  $\\mathbb{R}^2$, entonces corresponde a una recta que pasa por $\\left(\\matrix{ 0 \\\\ 0}\\right)$ y por $\\left(\\matrix{ \\frac{-2}{3} \\\\ 1}\\right)$"
   ]
  },
  {
   "cell_type": "code",
   "execution_count": 15,
   "metadata": {},
   "outputs": [
    {
     "data": {
      "image/png": "[encoded data removed]",
      "text/plain": [
       "<Figure size 432x288 with 1 Axes>"
      ]
     },
     "metadata": {
      "needs_background": "light"
     },
     "output_type": "display_data"
    }
   ],
   "source": [
    "u5=sp.Matrix([-2/3,1])\n",
    "\n",
    "ax=ejes(-2,-2,2,2)\n",
    "punto2d(ax,u5,nombre='$u$') \n",
    "linea2d(ax,2*u5,-2*u5,nombre='$u$')  \n",
    "ax.text(0,-1.1,r'Espacio generado, Gen($\\vec{u}$)',rotation=-53)\n",
    "plt.show()"
   ]
  },
  {
   "cell_type": "markdown",
   "metadata": {},
   "source": [
    "## Espacio nulo correspondiente a dos ecuaciones con dos variables\n",
    "\n",
    "### Caso 1, cuando todas las columnas de la matriz de coeficientes tienen  l-pivotes\n",
    "\n",
    "\n",
    "El espacio nulo de la matriz\n",
    "\n",
    "$A=\\left[\\matrix{1 & 2\\\\3 & 4}\\right]$ \n",
    "\n",
    "corresponde a la solución de las ecuaciones homogéneas \n",
    "\n",
    "$\\begin{align}\n",
    "1x_0 + 2x_1=0\\\\\n",
    "3x_0 + 4x_1=0\\\\\n",
    "\\end{align}$ \n",
    "\n",
    "Para encontrar el conjunto solución usaremos el procedimiento presentado en clase.\n",
    "\n",
    "* Escribir la matriz extendida\n",
    "\n",
    "$\\left[\\matrix{1 & 2 & : & 0\\\\3 & 4 & : & 0}\\right]$\n",
    "\n",
    "* Encontrar la forma escalón\n",
    "\n",
    "$\\left[\\matrix{1 & 2 & : & 0\\\\0 & -2 & : & 0}\\right]$\n",
    "\n",
    "* Asignar parámetros a las variables libres\n",
    "\n",
    "No hay variables libres, por lo tanto, el sistema tiene solución única.\n",
    "\n",
    "* Despejar las variables delanteras en término de parámetros\n",
    "\n",
    "$\\begin{align}\n",
    "x_0&=0\\\\\n",
    "x_1&=0\n",
    "\\end{align}$\n",
    "\n",
    "* Escribir vectorialmente la solución general\n",
    "\n",
    "$\\left(\\matrix{ x_0 \\\\ x_1 }\\right)=\\left(\\matrix{ 0 \\\\ 0}\\right)$\n",
    "\n",
    "El espacio es generado corresponde únicamente al origen de coordenadas."
   ]
  },
  {
   "cell_type": "code",
   "execution_count": 16,
   "metadata": {},
   "outputs": [
    {
     "data": {
      "image/png": "[encoded data removed]",
      "text/plain": [
       "<Figure size 432x288 with 1 Axes>"
      ]
     },
     "metadata": {
      "needs_background": "light"
     },
     "output_type": "display_data"
    }
   ],
   "source": [
    "ax=ejes(-2,-2,2,2)\n",
    "plt.show()"
   ]
  },
  {
   "cell_type": "markdown",
   "metadata": {},
   "source": [
    "### Caso 2, cuando hay una columna de la matriz de coeficientes sin  l-pivotes\n",
    "\n",
    "El espacio nulo de la matriz\n",
    "\n",
    "$A=\\left[\\matrix{1 & 2\\\\2 & 4}\\right]$ \n",
    "\n",
    "corresponde a la solución de las ecuaciones homogéneas \n",
    "\n",
    "$\\begin{align}\n",
    "1x_0 + 2x_1=0\\\\\n",
    "2x_0 + 4x_1=0\\\\\n",
    "\\end{align}$ \n",
    "\n",
    "Para encontrar el conjunto solución usaremos el procedimiento presentado en clase.\n",
    "\n",
    "* Escribir la matriz extendida\n",
    "\n",
    "$\\left[\\matrix{1 & 2 & : & 0\\\\2 & 4 & : & 0}\\right]$\n",
    "\n",
    "* Encontrar la forma escalón\n",
    "\n",
    "$\\left[\\matrix{1 & 2 & : & 0\\\\0 & 0 & : & 0}\\right]$\n",
    "\n",
    "* Asignar parámetros a las variables libres\n",
    "\n",
    "$x_1=t_0$\n",
    "\n",
    "* Despejar las variables delanteras en término de parámetros\n",
    "\n",
    "$x_0=-2t_0$\n",
    "\n",
    "* Escribir vectorialmente la solución general\n",
    "\n",
    "$\\left(\\matrix{ x_0 \\\\ x_1 }\\right)=t_0\\left(\\matrix{ -2 \\\\ 1}\\right)$\n",
    "\n",
    "\n",
    "Cuando hay una columna en la matriz de coeficientes sin l-pivote, se obtiene un parámetro y por lo tanto el espacio generado corresponde a una recta. En este caso pasa por $\\left(\\matrix{ 0 \\\\ 0}\\right)$ y $\\left(\\matrix{ -2 \\\\ 1}\\right)$\n"
   ]
  },
  {
   "cell_type": "code",
   "execution_count": 17,
   "metadata": {},
   "outputs": [
    {
     "data": {
      "image/png": "[encoded data removed]",
      "text/plain": [
       "<Figure size 432x288 with 1 Axes>"
      ]
     },
     "metadata": {
      "needs_background": "light"
     },
     "output_type": "display_data"
    }
   ],
   "source": [
    "u6=sp.Matrix([-2,1])\n",
    "\n",
    "ax=ejes(-3,-3,3,3)\n",
    "punto2d(ax,u6,nombre='$u$') \n",
    "linea2d(ax,2*u6,-2*u6,nombre='$u$')  \n",
    "ax.text(0.5,-1,r'Espacio generado, Gen($\\vec{u}$)',rotation=-24)\n",
    "plt.show()"
   ]
  },
  {
   "cell_type": "markdown",
   "metadata": {},
   "source": [
    "## Espacio nulo correspondiente a más de dos ecuaciones con dos variables\n",
    "\n",
    "En este caso no pueden haber más de dos variables libres. \n",
    "* Si no hay variables libres, la solución del sistema homogéneo es única. Sería el origen.\n",
    "* Si hay una variable libre, habrá un parámetro que generará una recta que pasa por el origen.\n",
    " "
   ]
  },
  {
   "cell_type": "markdown",
   "metadata": {},
   "source": [
    "# Espacio Nulo \n",
    "\n",
    "## Definiciones\n",
    "\n",
    "El **espacio nulo de la matriz** $A$ o **el conjunto solución del sistema homogéneo** $[A:\\vec{0}]$ es el conjunto de todos los vectores $\\vec{x}$ que pueden solucionar el sistema de ecuaciones homogéneo $A\\vec{x}=\\vec{0}$. \n",
    "\n",
    "$\\text{Nu}(A) = \\{\\vec{x} \\mid  A\\vec{x}=\\vec{0}\\}$\n",
    "\n",
    "La **nulidad** de $A$ (denotado $\\nu(A)$ y se pronuncia nu de A) es el número de columnas de $A$ sin l-pivotes (lugares de pivotes de matriz escalón equivalente).\n",
    "\n",
    "Se dice que las <u>columnas</u> de la matriz $A$ son **Linealmente Independientes** (LI) si $\\nu(A)=0$. De lo contrario se dice las <u>columnas</u> de la matriz $A$ son **Linealmente Dependientes** (LD).\n",
    "\n",
    "De forma abreviada se puede decir que $A$ es LI si sus columnas son LI\n",
    "\n",
    "## Teorema\n",
    "\n",
    "$A$ es <u>Linealmente Independientes</u> \n",
    "* **si y sólo si** $\\nu(A)=0$\n",
    "* **si y sólo si** el sistema homogéneo $[A:\\vec{0}]$ no tiene columnas sin l-pivotes\n",
    "* **si y sólo si** el sistema homogéneo $[A:\\vec{0}]$ no tiene variables libres\n",
    "* **si y sólo si** el sistema homogéneo $[A:\\vec{0}]$ no tiene parámetros\n",
    "* **si y sólo si** el sistema homogéneo $[A:\\vec{0}]$ tiene <u>solución única</u>.\n",
    "\n",
    "\n",
    "# Espacio Generado\n",
    "\n",
    "## Definiciones\n",
    "\n",
    "El **espacio columna de la matriz $C$** o **espacio generado por las columnas de $C$**  es el conjunto de todos los vectores $\\vec{x}$ que se pueden obtener de la ecuación $C\\vec{t}=\\vec{x}$, al darle todos los posibles valores al vector $\\vec{t}$. \n",
    "\n",
    "$\\text{Co}(C) = \\text{Gen}(C) = \\{C\\vec{t}=\\vec{x} \\mid  \\vec{t}= \\mathbb{R}^k \\}$\n",
    "\n",
    "El **rango** de $C$ (denotado $\\rho(C)$ y se pronuncia ro de C) es el número de columnas de $C$ con l-pivotes (lugares de pivotes de una matriz escalón equivalente).\n",
    "\n",
    "Se dice que las <u>columnas</u> de la matriz $C$  **generan todo el espacio** si $\\rho(C)$ igual al número de <u>renglones</u> de $C$.\n",
    "\n",
    "## Teorema\n",
    "\n",
    "Las <u>columnas</u> de la matriz $C$  generan todo el espacio\n",
    "* **si y sólo si** $\\rho(C)$ es igual al número de <u>renglones</u> de $C$.\n",
    "* **si y sólo si** hay un l-pivote en cada renglón de $C$.\n",
    "* **si y sólo si** para todo $\\vec{x} \\in \\mathbb{R}^n$, el sistema $[C:\\vec{x}]$ no tiene l-pivote en la columna de términos constantes.\n",
    "* **si y sólo si** el sistema $[C:\\vec{x}]$ es consistente para todo $x \\in \\mathbb{R}^n$ \n",
    "* **si y sólo si** para cada valor de $\\vec{x}$ existe al menos un  vector $\\vec{t}$ tal que $C\\vec{t}\\vec{x}$\n",
    "\n",
    "# Bases de los subespacios de $\\mathbb{R}^m$ \n",
    "\n",
    "Un subconjunto de $\\mathbb{R}^m$ es un **subespacio de $\\mathbb{R}^m$** si se puede escribir como el espacio columna de una matriz $C$.  En particular, el origen es el espacio columna de la matriz cero.\n",
    "\n",
    "El conjunto de columnas de $C$ con l-pivote se llama una **base del subespacio**. En particular, el conjunto vacío es la base del origen.\n",
    "\n",
    "La **dimensión del subespacio** es el número de l-pivotes de $C$. La dimensión del origen es el escalar cero.\n",
    "\n",
    "## Teorema\n",
    "Un conjunto de vectores $S=\\{ v_1, v_2, \\ldots , v_n \\}$ es una base de un subespacio $V$ de $\\mathbb{R}^m$ **si y sólo si** $S$ es LI y $Gen(S)=V$.\n",
    " \n",
    "\n",
    "\n"
   ]
  },
  {
   "cell_type": "markdown",
   "metadata": {},
   "source": [
    "# Subespacios de $\\mathbb{R}^2$\n",
    "\n",
    "\n",
    "\n",
    "| Dimensión | Geométricamente | \n",
    "|  -        |        -        |\n",
    "|   0       | Es el origen       |\n",
    "|1 |         Es una recta que pasa por el origen y por ...|\n",
    "|2 |  Es todo $\\mathbb{R}^2$ | \n",
    "\n",
    "\n",
    "La dimensión de $Nu(A)$ (el espacio nulo de $A$) es $\\nu(A)$ (la nulidad de $A$). Recordemos que <u>una base de $Nu(A)$ consiste en el conjunto de soluciones particulares básicas del sistema homogéneo $[A:0]$</u>.\n",
    "\n",
    "La dimensión de $Co(C)$ (el espacio columna de $C$) es $\\rho(C)$ (el rango de $C$). Recordemos que <u>una base de $Co(C)$ se obtiene al quitar las columnas que no tienen l-pivote</u>.\n",
    "\n",
    "\n"
   ]
  },
  {
   "cell_type": "markdown",
   "metadata": {},
   "source": [
    "# Ejemplo 1\n",
    "\n",
    "El objetivo de este ejercicio es conocer un poco mejor el subespacio\n",
    "$\\text{Co}\\left(\\left[\\matrix{1 & 2 & 3 \\\\ 4 & 5 & 7}\\right]\\right)$. Para esto hay que ubicar los l-pivotes. Es decir, hay que encontrar su forma escalón."
   ]
  },
  {
   "cell_type": "code",
   "execution_count": 18,
   "metadata": {},
   "outputs": [
    {
     "data": {
      "text/latex": [
       "$\\displaystyle \\left[\\begin{matrix}1 & 2 & 3\\\\4 & 5 & 7\\end{matrix}\\right]$"
      ],
      "text/plain": [
       "Matrix([\n",
       "[1, 2, 3],\n",
       "[4, 5, 7]])"
      ]
     },
     "execution_count": 18,
     "metadata": {},
     "output_type": "execute_result"
    }
   ],
   "source": [
    "M=sp.Matrix([[1, 2, 3],[4, 5, 7]])\n",
    "M"
   ]
  },
  {
   "cell_type": "code",
   "execution_count": 19,
   "metadata": {},
   "outputs": [
    {
     "data": {
      "text/latex": [
       "$\\displaystyle \\left[\\begin{matrix}1 & 2 & 3\\\\0 & -3 & -5\\end{matrix}\\right]$"
      ],
      "text/plain": [
       "Matrix([\n",
       "[1,  2,  3],\n",
       "[0, -3, -5]])"
      ]
     },
     "execution_count": 19,
     "metadata": {},
     "output_type": "execute_result"
    }
   ],
   "source": [
    "M[1,:] += -4*M[0,:]\n",
    "M"
   ]
  },
  {
   "cell_type": "markdown",
   "metadata": {},
   "source": [
    "Como hay un l-pivote en cada renglón, se genera todo el espacio $\\mathbb{R}^2$. Una base de $\\mathbb{R}^2$ son las columnas con l-pivote de la <u>matriz original</u>. NO DE LA MATRIZ ESCALÓN."
   ]
  },
  {
   "cell_type": "code",
   "execution_count": 20,
   "metadata": {},
   "outputs": [
    {
     "data": {
      "text/latex": [
       "$\\displaystyle \\left[\\begin{matrix}1 & 2\\\\4 & 5\\end{matrix}\\right]$"
      ],
      "text/plain": [
       "Matrix([\n",
       "[1, 2],\n",
       "[4, 5]])"
      ]
     },
     "execution_count": 20,
     "metadata": {},
     "output_type": "execute_result"
    }
   ],
   "source": [
    "base_ejemplo_1 = sp.Matrix([[1, 2],[4, 5]]) \n",
    "base_ejemplo_1"
   ]
  },
  {
   "cell_type": "code",
   "execution_count": 21,
   "metadata": {},
   "outputs": [
    {
     "data": {
      "text/plain": [
       "2"
      ]
     },
     "execution_count": 21,
     "metadata": {},
     "output_type": "execute_result"
    }
   ],
   "source": [
    "dimension_ejemplo_1 = 2 \n",
    "dimension_ejemplo_1"
   ]
  },
  {
   "cell_type": "code",
   "execution_count": 22,
   "metadata": {},
   "outputs": [
    {
     "data": {
      "text/plain": [
       "'Es todo el espacio'"
      ]
     },
     "execution_count": 22,
     "metadata": {},
     "output_type": "execute_result"
    }
   ],
   "source": [
    "geometricamente_ejempolo_1 = 'Es todo el espacio'\n",
    "geometricamente_ejempolo_1"
   ]
  },
  {
   "cell_type": "code",
   "execution_count": 23,
   "metadata": {},
   "outputs": [
    {
     "data": {
      "image/png": "[encoded data removed]",
      "text/plain": [
       "<Figure size 432x288 with 1 Axes>"
      ]
     },
     "metadata": {
      "needs_background": "light"
     },
     "output_type": "display_data"
    }
   ],
   "source": [
    "#gráfica del ejemplo 1\n",
    "u2_0=sp.Matrix([1,4])\n",
    "\n",
    "u2_1=sp.Matrix([2,5])\n",
    "\n",
    "ax=ejes(0,0,10,8)\n",
    "punto2d(ax,u2_0,nombre='$u_0$',color='w') \n",
    "punto2d(ax,u2_1,nombre='$u_1$',color='w') \n",
    "ax.set_facecolor('black')\n",
    "plt.show()"
   ]
  },
  {
   "cell_type": "markdown",
   "metadata": {},
   "source": [
    "# Ejemplo 2"
   ]
  },
  {
   "cell_type": "markdown",
   "metadata": {},
   "source": [
    "El objetivo de este ejercicio es conocer un poco mejor el subespacio\n",
    "$\\text{Nu}\\left(\\left[\\matrix{1 & 2\\\\3 & 4\\\\5 & 7}\\right]\\right)$\n",
    "\n",
    "Para hallar el espacio nulo, lo primero es encontrar  el conjunto solución del sistema homogéneo $\\left[\\matrix{1 & 2 & : & 0\\\\3 & 4 & : & 0\\\\5 & 7 & : & 0}\\right]$.\n",
    "\n"
   ]
  },
  {
   "cell_type": "code",
   "execution_count": 24,
   "metadata": {},
   "outputs": [
    {
     "data": {
      "text/latex": [
       "$\\displaystyle \\left[\\begin{matrix}1 & 2 & 0\\\\3 & 4 & 0\\\\5 & 7 & 0\\end{matrix}\\right]$"
      ],
      "text/plain": [
       "Matrix([\n",
       "[1, 2, 0],\n",
       "[3, 4, 0],\n",
       "[5, 7, 0]])"
      ]
     },
     "execution_count": 24,
     "metadata": {},
     "output_type": "execute_result"
    }
   ],
   "source": [
    "import sympy as sp\n",
    "M=sp.Matrix([[1, 2,  0],[ 3, 4, 0],[5, 7, 0]])\n",
    "M"
   ]
  },
  {
   "cell_type": "code",
   "execution_count": 25,
   "metadata": {},
   "outputs": [
    {
     "data": {
      "text/latex": [
       "$\\displaystyle \\left[\\begin{matrix}1 & 2 & 0\\\\0 & -2 & 0\\\\0 & -3 & 0\\end{matrix}\\right]$"
      ],
      "text/plain": [
       "Matrix([\n",
       "[1,  2, 0],\n",
       "[0, -2, 0],\n",
       "[0, -3, 0]])"
      ]
     },
     "execution_count": 25,
     "metadata": {},
     "output_type": "execute_result"
    }
   ],
   "source": [
    "M[1,:]+=-3*M[0,:]\n",
    "M[2,:]+=-5*M[0,:]\n",
    "M"
   ]
  },
  {
   "cell_type": "code",
   "execution_count": 26,
   "metadata": {},
   "outputs": [
    {
     "data": {
      "text/latex": [
       "$\\displaystyle \\left[\\begin{matrix}1 & 0 & 0\\\\0 & -2 & 0\\\\0 & 0 & 0\\end{matrix}\\right]$"
      ],
      "text/plain": [
       "Matrix([\n",
       "[1,  0, 0],\n",
       "[0, -2, 0],\n",
       "[0,  0, 0]])"
      ]
     },
     "execution_count": 26,
     "metadata": {},
     "output_type": "execute_result"
    }
   ],
   "source": [
    "M[2,:]+=-M[1,:]*3/2\n",
    "M[0,:]+=M[1,:]\n",
    "M"
   ]
  },
  {
   "cell_type": "markdown",
   "metadata": {},
   "source": [
    "Como no hay variables libres, no hay parámetros y por lo tanto la solución es única.\n",
    "\n",
    "$\\begin{align}\n",
    "1x_0 + 0x_1 &= 0\\\\\n",
    "0x_0 + 1x_1 &= 0\n",
    "\\end{align}$\n",
    "\n",
    "Despejando queda \n",
    "\n",
    "$\\left(\\matrix{x_0\\\\x_1}\\right)=\\left(\\matrix{0\\\\0}\\right)$\n",
    "\n",
    "Entonces el espacio nulo de $\\left\\{\\left[\\matrix{1 & 2 & 3 \\\\ 4 & 5 & 7}\\right]\\right\\}$ es\n",
    "\n",
    "$\\left\\{\\left(\\matrix{0\\\\0}\\right)\\right\\}$, como este espacio no tiene parámetros entonces su base es el conjunto vacío."
   ]
  },
  {
   "cell_type": "code",
   "execution_count": 27,
   "metadata": {},
   "outputs": [
    {
     "data": {
      "text/latex": [
       "$\\displaystyle \\left[\\begin{matrix}\\end{matrix}\\right]$"
      ],
      "text/plain": [
       "Matrix(0, 0, [])"
      ]
     },
     "execution_count": 27,
     "metadata": {},
     "output_type": "execute_result"
    }
   ],
   "source": [
    "base_ejemplo_2 = sp.Matrix() # Usaremos esto para representar cuando la base es un conjunto vacío\n",
    "base_ejemplo_2"
   ]
  },
  {
   "cell_type": "code",
   "execution_count": 28,
   "metadata": {},
   "outputs": [
    {
     "data": {
      "text/plain": [
       "0"
      ]
     },
     "execution_count": 28,
     "metadata": {},
     "output_type": "execute_result"
    }
   ],
   "source": [
    "dimension_ejemplo_2 = 0 \n",
    "dimension_ejemplo_2"
   ]
  },
  {
   "cell_type": "code",
   "execution_count": 29,
   "metadata": {},
   "outputs": [],
   "source": [
    "geometricamente_ejempolo_2 = 'Es el origen'"
   ]
  },
  {
   "cell_type": "code",
   "execution_count": 30,
   "metadata": {},
   "outputs": [
    {
     "data": {
      "image/png": "[encoded data removed]",
      "text/plain": [
       "<Figure size 432x288 with 1 Axes>"
      ]
     },
     "metadata": {
      "needs_background": "light"
     },
     "output_type": "display_data"
    }
   ],
   "source": [
    "#gráfica del ejemplo 2\n",
    "ax=ejes(-2,-2,2,2)\n",
    "plt.show()"
   ]
  },
  {
   "cell_type": "code",
   "execution_count": 31,
   "metadata": {},
   "outputs": [],
   "source": [
    "nombre = '   escribir aquí   '\n",
    "codigo = 0"
   ]
  },
  {
   "cell_type": "markdown",
   "metadata": {},
   "source": [
    "# Ejercicio:\n",
    "\n",
    "Para cada uno de los siguientes subespacios:\n",
    "1. $\\text{Nu}\\left(\\left[\\matrix{a+1 & a+b+2\\\\\n",
    "a+b+2 & a+1}\\right]\\right)$\n",
    "1. $\\text{Co}\\left(\\left[\\matrix{a+1 & a+b+2\\\\\n",
    "a+b+2 & a+1}\\right]\\right)$\n",
    "1. $\\text{Nu}\\left(\\left[\\matrix{3a+3 & 2a+2\\\\\n",
    "3a & 2a\\\\3a+3b+3 & 2a+2b+2}\\right]\\right)$\n",
    "1. $\\text{Co}\\left(\\left[\\matrix{b+1 & 2b+2 & 3b+3\\\\\n",
    "a+b+2 & 2a + 2b+4 & 3a+3b +6}\\right]\\right)$\n",
    "\n",
    "Encuentre:\n",
    "* Una base.\n",
    "* Su dimensión.\n",
    "* Una descripción geométrica \n",
    "* La gráfica\n",
    "\n",
    "Agregue las celdas necesarias para realizar el procedimiento correspondiente. No altere los nombres de las variables de las respuestas ya que serán necesarias para la calificación automática."
   ]
  },
  {
   "cell_type": "code",
   "execution_count": 32,
   "metadata": {},
   "outputs": [
    {
     "data": {
      "text/latex": [
       "$\\displaystyle \\left[\\begin{matrix}\\end{matrix}\\right]$"
      ],
      "text/plain": [
       "Matrix(0, 0, [])"
      ]
     },
     "execution_count": 32,
     "metadata": {},
     "output_type": "execute_result"
    }
   ],
   "source": [
    "base_ejercicio_1= sp.Matrix() \n",
    "base_ejercicio_1"
   ]
  },
  {
   "cell_type": "code",
   "execution_count": 33,
   "metadata": {},
   "outputs": [
    {
     "data": {
      "text/plain": [
       "0"
      ]
     },
     "execution_count": 33,
     "metadata": {},
     "output_type": "execute_result"
    }
   ],
   "source": [
    "dimension_ejercicio_1 = 0 \n",
    "dimension_ejercicio_1"
   ]
  },
  {
   "cell_type": "code",
   "execution_count": 34,
   "metadata": {},
   "outputs": [],
   "source": [
    "geometricamente_ejercicio_1 = ' escribir aquí '"
   ]
  },
  {
   "cell_type": "code",
   "execution_count": 35,
   "metadata": {},
   "outputs": [],
   "source": [
    "# gráfica del ejercicio 1"
   ]
  },
  {
   "cell_type": "code",
   "execution_count": 36,
   "metadata": {},
   "outputs": [
    {
     "data": {
      "text/latex": [
       "$\\displaystyle \\left[\\begin{matrix}\\end{matrix}\\right]$"
      ],
      "text/plain": [
       "Matrix(0, 0, [])"
      ]
     },
     "execution_count": 36,
     "metadata": {},
     "output_type": "execute_result"
    }
   ],
   "source": [
    "base_ejercicio_2 = sp.Matrix() \n",
    "base_ejercicio_2"
   ]
  },
  {
   "cell_type": "code",
   "execution_count": 37,
   "metadata": {},
   "outputs": [
    {
     "data": {
      "text/plain": [
       "0"
      ]
     },
     "execution_count": 37,
     "metadata": {},
     "output_type": "execute_result"
    }
   ],
   "source": [
    "dimension_ejercicio_2 = 0 \n",
    "dimension_ejercicio_2"
   ]
  },
  {
   "cell_type": "code",
   "execution_count": 38,
   "metadata": {},
   "outputs": [],
   "source": [
    "geometricamente_ejercicio_2 = ' escribir aquí '"
   ]
  },
  {
   "cell_type": "code",
   "execution_count": 39,
   "metadata": {},
   "outputs": [],
   "source": [
    "# gráfica del ejercicio 2"
   ]
  },
  {
   "cell_type": "code",
   "execution_count": 40,
   "metadata": {},
   "outputs": [
    {
     "data": {
      "text/latex": [
       "$\\displaystyle \\left[\\begin{matrix}\\end{matrix}\\right]$"
      ],
      "text/plain": [
       "Matrix(0, 0, [])"
      ]
     },
     "execution_count": 40,
     "metadata": {},
     "output_type": "execute_result"
    }
   ],
   "source": [
    "base_ejercicio_3 = sp.Matrix() \n",
    "base_ejercicio_3"
   ]
  },
  {
   "cell_type": "code",
   "execution_count": 41,
   "metadata": {},
   "outputs": [
    {
     "data": {
      "text/plain": [
       "0"
      ]
     },
     "execution_count": 41,
     "metadata": {},
     "output_type": "execute_result"
    }
   ],
   "source": [
    "dimension_ejercicio_3 = 0 \n",
    "dimension_ejercicio_3"
   ]
  },
  {
   "cell_type": "code",
   "execution_count": 42,
   "metadata": {},
   "outputs": [],
   "source": [
    "geometricamente_ejercicio_3 = ' escribir aquí '"
   ]
  },
  {
   "cell_type": "code",
   "execution_count": 43,
   "metadata": {},
   "outputs": [],
   "source": [
    "# gráfica del ejercicio 3"
   ]
  },
  {
   "cell_type": "code",
   "execution_count": 44,
   "metadata": {},
   "outputs": [
    {
     "data": {
      "text/latex": [
       "$\\displaystyle \\left[\\begin{matrix}\\end{matrix}\\right]$"
      ],
      "text/plain": [
       "Matrix(0, 0, [])"
      ]
     },
     "execution_count": 44,
     "metadata": {},
     "output_type": "execute_result"
    }
   ],
   "source": [
    "base_ejercicio_4 = sp.Matrix() \n",
    "base_ejercicio_4"
   ]
  },
  {
   "cell_type": "code",
   "execution_count": 45,
   "metadata": {},
   "outputs": [
    {
     "data": {
      "text/plain": [
       "0"
      ]
     },
     "execution_count": 45,
     "metadata": {},
     "output_type": "execute_result"
    }
   ],
   "source": [
    "dimension_ejercicio_4 = 0 \n",
    "dimension_ejercicio_4"
   ]
  },
  {
   "cell_type": "code",
   "execution_count": 46,
   "metadata": {},
   "outputs": [],
   "source": [
    "geometricamente_ejercicio_4 = ' escribir aquí '"
   ]
  },
  {
   "cell_type": "code",
   "execution_count": 47,
   "metadata": {},
   "outputs": [],
   "source": [
    "# gráfica del ejrcicio 4"
   ]
  }
 ],
 "metadata": {
  "kernelspec": {
   "display_name": "Python 3",
   "language": "python",
   "name": "python3"
  },
  "language_info": {
   "codemirror_mode": {
    "name": "ipython",
    "version": 3
   },
   "file_extension": ".py",
   "mimetype": "text/x-python",
   "name": "python",
   "nbconvert_exporter": "python",
   "pygments_lexer": "ipython3",
   "version": "3.7.4"
  }
 },
 "nbformat": 4,
 "nbformat_minor": 2
}
