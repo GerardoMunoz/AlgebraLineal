{
 "cells": [
  {
   "cell_type": "markdown",
   "metadata": {},
   "source": [
    "# Los enteros de numpy\n",
    "\n",
    "\n",
    "Veamos los resultados de las siguientes operaciones, de los enteros de numpy, sobre 'este' computador. Es probable que si ejecuta este cuaderno en un computador diferente los resultados difieran. Es por eso que bajo los resultados de las operaciones se copiaron los resultados obtenidos originalmente. "
   ]
  },
  {
   "cell_type": "code",
   "execution_count": 58,
   "metadata": {},
   "outputs": [
    {
     "data": {
      "text/plain": [
       "matrix([[         2,       1024],\n",
       "        [   1048576, 1073741824]])"
      ]
     },
     "execution_count": 58,
     "metadata": {},
     "output_type": "execute_result"
    }
   ],
   "source": [
    "import numpy as np\n",
    "A=np.matrix([[2,2**10],[2**20,2**30]])\n",
    "A"
   ]
  },
  {
   "cell_type": "code",
   "execution_count": 59,
   "metadata": {},
   "outputs": [
    {
     "data": {
      "text/plain": [
       "matrix([[          4,        2048],\n",
       "        [    2097152, -2147483648]])"
      ]
     },
     "execution_count": 59,
     "metadata": {},
     "output_type": "execute_result"
    }
   ],
   "source": [
    "2*A"
   ]
  },
  {
   "cell_type": "markdown",
   "metadata": {},
   "source": [
    "`matrix([[          4,        2048],\n",
    "        [    2097152, -2147483648]])`\n",
    "\n",
    "## ¿-2147483648? ¡Negativo!"
   ]
  },
  {
   "cell_type": "code",
   "execution_count": 60,
   "metadata": {},
   "outputs": [
    {
     "data": {
      "text/plain": [
       "matrix([[      8,    4096],\n",
       "        [4194304,       0]])"
      ]
     },
     "execution_count": 60,
     "metadata": {},
     "output_type": "execute_result"
    }
   ],
   "source": [
    "4*A"
   ]
  },
  {
   "cell_type": "markdown",
   "metadata": {},
   "source": [
    "`matrix([[      8,    4096],\n",
    "        [4194304,       0]])\n",
    "`\n",
    "## ¿0? ¡Cero!"
   ]
  },
  {
   "cell_type": "code",
   "execution_count": 61,
   "metadata": {},
   "outputs": [
    {
     "data": {
      "text/plain": [
       "matrix([[     16,    8192],\n",
       "        [8388608,       0]])"
      ]
     },
     "execution_count": 61,
     "metadata": {},
     "output_type": "execute_result"
    }
   ],
   "source": [
    "8*A"
   ]
  },
  {
   "cell_type": "markdown",
   "metadata": {},
   "source": [
    "`matrix([[     16,    8192],\n",
    "        [8388608,       0]])\n",
    "`\n",
    "## ¿0? Cero"
   ]
  },
  {
   "cell_type": "code",
   "execution_count": 62,
   "metadata": {},
   "outputs": [
    {
     "data": {
      "text/plain": [
       "matrix([[         8589934592,       4398046511104],\n",
       "        [   4503599627370496, 4611686018427387904]], dtype=int64)"
      ]
     },
     "execution_count": 62,
     "metadata": {},
     "output_type": "execute_result"
    }
   ],
   "source": [
    "(2**32)*A\n"
   ]
  },
  {
   "cell_type": "markdown",
   "metadata": {},
   "source": [
    "`matrix([[         8589934592,       4398046511104],\n",
    "        [   4503599627370496, 4611686018427387904]], dtype=int64)\n",
    "`\n",
    "## ¡Está bien!\n",
    "No puede multiplicar por 2 ni por 4, pero sí puede multiplicar por $2^{32}$ \n",
    "\n",
    "## !¿Qué está pasando?!\n",
    "\n",
    "Resulta que los enteros que usa numpy no son los mismos enteros que usa Python. Los enteros de numpy van desde $-2^{31}$ hasta $2^{31}-1$. Lo malo es que cuando una operación sobrepasa estos límites no se genera ningún tipo de advertencia y puede llevar a serios problemas. ¿y por qué se permite esto? en aras de hacer más rápido los cálculos.\n",
    "\n",
    "## ¿Y por qué cuando se multiplica por  $2^{32}$ sí funciona?\n",
    "Porque para representar $2^{32}$ numpy tiene que usar un formato diferente a los enteros, entonces cambia de formato para poder representar estos números. \n",
    "\n",
    "## ¿Qué podemos hacer?\n",
    "Por un lado, no podemos usar los flotantes porque aproximan. Por otro lado, los enteros no permiten números muy grandes. Para completar los fraccionarios no se imprimen bien. Entonces, es hora de sospechar que esta no es la mejor librería para nuestros objetivos. Numpy está pensado para hacer cálculos aproximados de grandes matrices a gran velocidad. Pero nosotros necesitamos valores exactos de pequeñas matrices. Para este objetivo la librería adecuada es sympy. Afortunadamente realiza algunas operaciones de manera similar. Sin embargo, hay algunas diferencias:\n",
    "* En vez de usar `@` para la multiplicación matricial, utiliza `*`.\n",
    "* En vez de usar `matrix` para para definir una matriz, utiliza `Matrix`.\n",
    "* En vez de usar `Fraction` para para definir racional, utiliza `sp.Rational`. Pero este se puede omitir si la fracción se  realiza después de otra operación con algún objeto de sympy. Los detalles de cuando se puede omitir `Rational` son tema de la materia Programación Orientada a Objetos.\n",
    "* En vez de intercambiar renglones con `A[[0,1],:] = A[[1,0],:]` utiliza `A.row_swap(0,1)`.\n",
    "\n",
    "De ahora en adelante usaremos sympy en vez de numpy."
   ]
  },
  {
   "cell_type": "code",
   "execution_count": 63,
   "metadata": {},
   "outputs": [],
   "source": [
    "import sympy as sp"
   ]
  },
  {
   "cell_type": "markdown",
   "metadata": {},
   "source": [
    "# _Recorderis_\n",
    "\n",
    "## Definición.\n",
    "Si se puede pasar de una matriz $A$ a una matriz $B$ por medio de operaciones elementales de dice que las matrices $A$ y $B$ son **equivalentes**.[Nakos, sec 1.2, pg 17]\n",
    "\n",
    "## Teorema.\n",
    "Una matriz puede ser equivalente a muchas matrices <u>escalón</u>. Pero sólo es equivalente a una matriz <u>escalón reducida</u>."
   ]
  },
  {
   "cell_type": "markdown",
   "metadata": {},
   "source": [
    "Los ejercicios que siguen, requieren haber visto las presentaciones de las secciones 3.1 y 3.2 del libro de Algebra Lineal de Nakos. "
   ]
  },
  {
   "cell_type": "markdown",
   "metadata": {},
   "source": [
    "# Ejercicio 1\n",
    "De la sección 3.1, página 167, responda los siguientes ejercicios.\n",
    "(Voy a responder el ejercicio con datos ficticios para ilustrar <u>la forma en que deben</u> colocar la respuesta.)"
   ]
  },
  {
   "cell_type": "code",
   "execution_count": 64,
   "metadata": {},
   "outputs": [],
   "source": [
    "ejercicio_2_a_x=0\n",
    "ejercicio_2_a_y=0\n",
    "ejercicio_2_a_z=0\n",
    "ejercicio_4_a='ACEG'\n",
    "ejercicio_4_b='ABCDH'\n",
    "ejercicio_4_c='EFG'\n",
    "ejercicio_4_d='BDFH'\n",
    "ejercicio_4_e='A'\n",
    "ejercicio_5_a=[[1,2],[3,4]]\n",
    "ejercicio_5_b=[[1,2,3],[3,5,6]]\n",
    "ejercicio_5_c='no se puede sumar porque las matrices son de diferente tamaño'\n",
    "ejercicio_5_d=[[1,2],[3,5],[3,5]]\n",
    "ejercicio_5_e='no se ...'\n",
    "ejercicio_5_f=[[1,2],[3,5]]\n",
    "ejercicio_10_a=[[1,2],[3,5]]\n",
    "ejercicio_10_b=[[1,2],[3,5]]\n",
    "ejercicio_10_c=[[1,2],[3,5]]\n",
    "ejercicio_10_d=[[1,2],[3,5]]\n",
    "ejercicio_10_e=[[1,2],[3,5]]"
   ]
  },
  {
   "cell_type": "markdown",
   "metadata": {},
   "source": [
    "# Ejemplo y ejercicio 2:"
   ]
  },
  {
   "cell_type": "markdown",
   "metadata": {},
   "source": [
    "Sea $A=\\left[ \\matrix{\n",
    "a+1 & 10b+1 & a+2 & 10b+2 & \\\\\n",
    "10b+2 & a+1 & 10b+1 & a+2 & \\\\\n",
    "a+2 & 10b+2 & a+1 & 10b+1 & \\\\\n",
    "10b+1 & a+2 & 10b+2 & a+1 & \\\\\n",
    "} \\right]$\n",
    "\n",
    "## 1. Reemplace $a$ y $b$ con el último y penúltimo dígito de su código, respectivamente.\n",
    "Voy a responder el ejercicio con datos ficticios para ilustrar <u>la forma en que deben</u> colocar la respuesta."
   ]
  },
  {
   "cell_type": "code",
   "execution_count": 65,
   "metadata": {},
   "outputs": [
    {
     "data": {
      "text/latex": [
       "$\\displaystyle \\left[\\begin{matrix}11 & 2 & 13 & 3\\\\4 & 15 & 19 & 6\\\\7 & 8 & 14 & 19\\\\3 & -9 & 5 & 6\\end{matrix}\\right]$"
      ],
      "text/plain": [
       "Matrix([\n",
       "[11,  2, 13,  3],\n",
       "[ 4, 15, 19,  6],\n",
       "[ 7,  8, 14, 19],\n",
       "[ 3, -9,  5,  6]])"
      ]
     },
     "execution_count": 65,
     "metadata": {},
     "output_type": "execute_result"
    }
   ],
   "source": [
    "\n",
    "A=sp.Matrix([\n",
    "    [11, 2,  13, 3],\n",
    "    [4,  15, 19, 6],\n",
    "    [7,  8,  14, 19],\n",
    "    [3,  -9,  5,  6],\n",
    "])\n",
    "\n",
    "A"
   ]
  },
  {
   "cell_type": "markdown",
   "metadata": {},
   "source": [
    "## 2. Escriba $M=[ A : I ]$ como una matriz de numpy . Donde $I$ es la matriz identidad de $4x4$."
   ]
  },
  {
   "cell_type": "code",
   "execution_count": 66,
   "metadata": {},
   "outputs": [
    {
     "data": {
      "text/latex": [
       "$\\displaystyle \\left[\\begin{matrix}11 & 2 & 13 & 3 & 1 & 0 & 0 & 0\\\\4 & 15 & 19 & 6 & 0 & 1 & 0 & 0\\\\7 & 8 & 14 & 19 & 0 & 0 & 1 & 0\\\\3 & -9 & 5 & 6 & 0 & 0 & 0 & 1\\end{matrix}\\right]$"
      ],
      "text/plain": [
       "Matrix([\n",
       "[11,  2, 13,  3, 1, 0, 0, 0],\n",
       "[ 4, 15, 19,  6, 0, 1, 0, 0],\n",
       "[ 7,  8, 14, 19, 0, 0, 1, 0],\n",
       "[ 3, -9,  5,  6, 0, 0, 0, 1]])"
      ]
     },
     "execution_count": 66,
     "metadata": {},
     "output_type": "execute_result"
    }
   ],
   "source": [
    "M=sp.Matrix([\n",
    "    [11, 2,  13, 3, 1, 0, 0, 0],\n",
    "    [4,  15, 19, 6, 0, 1, 0, 0],\n",
    "    [7,  8,  14, 19, 0, 0, 1, 0],\n",
    "    [3, -9, 5, 6, 0, 0, 0, 1],\n",
    "])\n",
    "\n",
    "M"
   ]
  },
  {
   "cell_type": "markdown",
   "metadata": {},
   "source": [
    "## 3. Realice las operaciones entre renglones hasta llegar a la forma <u>escalón reducida</u> $[R:B]$. Escriba B como una matríz de numpy."
   ]
  },
  {
   "cell_type": "markdown",
   "metadata": {},
   "source": [
    "## Columna 0"
   ]
  },
  {
   "cell_type": "code",
   "execution_count": 67,
   "metadata": {},
   "outputs": [
    {
     "data": {
      "text/latex": [
       "$\\displaystyle \\left[\\begin{matrix}4 & 15 & 19 & 6 & 0 & 1 & 0 & 0\\\\11 & 2 & 13 & 3 & 1 & 0 & 0 & 0\\\\7 & 8 & 14 & 19 & 0 & 0 & 1 & 0\\\\3 & -9 & 5 & 6 & 0 & 0 & 0 & 1\\end{matrix}\\right]$"
      ],
      "text/plain": [
       "Matrix([\n",
       "[ 4, 15, 19,  6, 0, 1, 0, 0],\n",
       "[11,  2, 13,  3, 1, 0, 0, 0],\n",
       "[ 7,  8, 14, 19, 0, 0, 1, 0],\n",
       "[ 3, -9,  5,  6, 0, 0, 0, 1]])"
      ]
     },
     "execution_count": 67,
     "metadata": {},
     "output_type": "execute_result"
    }
   ],
   "source": [
    "M.row_swap(0,1)  # Se intercambia el renglón 0 por el menor de los inferiores (paso opcional)\n",
    "M"
   ]
  },
  {
   "cell_type": "code",
   "execution_count": 68,
   "metadata": {},
   "outputs": [
    {
     "data": {
      "text/latex": [
       "$\\displaystyle \\left[\\begin{matrix}4 & 15 & 19 & 6 & 0 & 1 & 0 & 0\\\\0 & 157 & 157 & 54 & -4 & 11 & 0 & 0\\\\0 & 73 & 77 & -34 & 0 & 7 & -4 & 0\\\\0 & 81 & 37 & -6 & 0 & 3 & 0 & -4\\end{matrix}\\right]$"
      ],
      "text/plain": [
       "Matrix([\n",
       "[4,  15,  19,   6,  0,  1,  0,  0],\n",
       "[0, 157, 157,  54, -4, 11,  0,  0],\n",
       "[0,  73,  77, -34,  0,  7, -4,  0],\n",
       "[0,  81,  37,  -6,  0,  3,  0, -4]])"
      ]
     },
     "execution_count": 68,
     "metadata": {},
     "output_type": "execute_result"
    }
   ],
   "source": [
    "M[1,:] = 11*M[0,:] - 4*M[1,:]   # Se coloca un cero en el renglón 1\n",
    "M[2,:] =  7*M[0,:] - 4*M[2,:]   # Se coloca un cero en el renglón 2\n",
    "M[3,:] =  3*M[0,:] - 4*M[3,:]   # Se coloca un cero en el renglón 3\n",
    "M"
   ]
  },
  {
   "cell_type": "markdown",
   "metadata": {},
   "source": [
    "## Columna 1"
   ]
  },
  {
   "cell_type": "code",
   "execution_count": 69,
   "metadata": {},
   "outputs": [
    {
     "data": {
      "text/latex": [
       "$\\displaystyle \\left[\\begin{matrix}4 & 15 & 19 & 6 & 0 & 1 & 0 & 0\\\\0 & 73 & 77 & -34 & 0 & 7 & -4 & 0\\\\0 & 157 & 157 & 54 & -4 & 11 & 0 & 0\\\\0 & 81 & 37 & -6 & 0 & 3 & 0 & -4\\end{matrix}\\right]$"
      ],
      "text/plain": [
       "Matrix([\n",
       "[4,  15,  19,   6,  0,  1,  0,  0],\n",
       "[0,  73,  77, -34,  0,  7, -4,  0],\n",
       "[0, 157, 157,  54, -4, 11,  0,  0],\n",
       "[0,  81,  37,  -6,  0,  3,  0, -4]])"
      ]
     },
     "execution_count": 69,
     "metadata": {},
     "output_type": "execute_result"
    }
   ],
   "source": [
    "M.row_swap(2,1)     # Se intercambia el renglón 1 por el menor de los inferiores (paso opcional)\n",
    "M"
   ]
  },
  {
   "cell_type": "code",
   "execution_count": 70,
   "metadata": {},
   "outputs": [
    {
     "data": {
      "text/latex": [
       "$\\displaystyle \\left[\\begin{matrix}-292 & 0 & -232 & -948 & 0 & 32 & -60 & 0\\\\0 & 73 & 77 & -34 & 0 & 7 & -4 & 0\\\\0 & 0 & 628 & -9280 & 292 & 296 & -628 & 0\\\\0 & 0 & 3536 & -2316 & 0 & 348 & -324 & 292\\end{matrix}\\right]$"
      ],
      "text/plain": [
       "Matrix([\n",
       "[-292,  0, -232,  -948,   0,  32,  -60,   0],\n",
       "[   0, 73,   77,   -34,   0,   7,   -4,   0],\n",
       "[   0,  0,  628, -9280, 292, 296, -628,   0],\n",
       "[   0,  0, 3536, -2316,   0, 348, -324, 292]])"
      ]
     },
     "execution_count": 70,
     "metadata": {},
     "output_type": "execute_result"
    }
   ],
   "source": [
    "M[2,:] = 157*M[1,:] - 73*M[2,:]   # Se coloca un cero en el renglón 2\n",
    "M[3,:] =  81*M[1,:] - 73*M[3,:]   # Se coloca un cero en el renglón 3\n",
    "M[0,:] =  15*M[1,:] - 73*M[0,:]   # Se coloca un cero en el renglón 0\n",
    "M"
   ]
  },
  {
   "cell_type": "markdown",
   "metadata": {},
   "source": [
    "## Columna 2"
   ]
  },
  {
   "cell_type": "code",
   "execution_count": 71,
   "metadata": {},
   "outputs": [
    {
     "data": {
      "text/latex": [
       "$\\displaystyle \\left[\\begin{matrix}-183376 & 0 & 0 & -2748304 & 67744 & 88768 & -183376 & 0\\\\0 & -45844 & 0 & -693208 & 22484 & 18396 & -45844 & 0\\\\0 & 0 & 628 & -9280 & 292 & 296 & -628 & 0\\\\0 & 0 & 0 & -31359632 & 1032512 & 828112 & -2017136 & -183376\\end{matrix}\\right]$"
      ],
      "text/plain": [
       "Matrix([\n",
       "[-183376,      0,   0,  -2748304,   67744,  88768,  -183376,       0],\n",
       "[      0, -45844,   0,   -693208,   22484,  18396,   -45844,       0],\n",
       "[      0,      0, 628,     -9280,     292,    296,     -628,       0],\n",
       "[      0,      0,   0, -31359632, 1032512, 828112, -2017136, -183376]])"
      ]
     },
     "execution_count": 71,
     "metadata": {},
     "output_type": "execute_result"
    }
   ],
   "source": [
    "M[3,:] = 3536*M[2,:] - 628*M[3,:]   # Se coloca un cero en el renglón 3\n",
    "M[0,:] =  232*M[2,:] + 628*M[0,:]   # Se coloca un cero en el renglón 0\n",
    "M[1,:] =   77*M[2,:] - 628*M[1,:]   # Se coloca un cero en el renglón 1\n",
    "\n",
    "M"
   ]
  },
  {
   "cell_type": "markdown",
   "metadata": {},
   "source": [
    "## Columna 3"
   ]
  },
  {
   "cell_type": "code",
   "execution_count": 72,
   "metadata": {},
   "outputs": [
    {
     "data": {
      "text/latex": [
       "$\\displaystyle \\left[\\begin{matrix}5750603877632 & 0 & 0 & 0 & 713229949440 & -507828291328 & 206900940288 & -503972994304\\\\0 & 1437650969408 & 0 & 0 & 10655612608 & -2837926976 & 39356157120 & -127117710208\\\\0 & 0 & -19693848896 & 0 & 424698816 & -1597571712 & 974826816 & -1701729280\\\\0 & 0 & 0 & -31359632 & 1032512 & 828112 & -2017136 & -183376\\end{matrix}\\right]$"
      ],
      "text/plain": [
       "Matrix([\n",
       "[5750603877632,             0,            0,         0, 713229949440, -507828291328, 206900940288, -503972994304],\n",
       "[            0, 1437650969408,            0,         0,  10655612608,   -2837926976,  39356157120, -127117710208],\n",
       "[            0,             0, -19693848896,         0,    424698816,   -1597571712,    974826816,   -1701729280],\n",
       "[            0,             0,            0, -31359632,      1032512,        828112,     -2017136,       -183376]])"
      ]
     },
     "execution_count": 72,
     "metadata": {},
     "output_type": "execute_result"
    }
   ],
   "source": [
    "M[0,:] =  2748304*M[3,:] - 31359632*M[0,:]   # Se coloca un cero en el renglón 0\n",
    "M[1,:] =   693208*M[3,:] - 31359632*M[1,:]   # Se coloca un cero en el renglón 1\n",
    "M[2,:] =     9280*M[3,:] - 31359632*M[2,:]   # Se coloca un cero en el renglón 2\n",
    "\n",
    "M"
   ]
  },
  {
   "cell_type": "markdown",
   "metadata": {},
   "source": [
    "## Se colocan en uno los pivotes"
   ]
  },
  {
   "cell_type": "code",
   "execution_count": 73,
   "metadata": {},
   "outputs": [
    {
     "data": {
      "text/latex": [
       "$\\displaystyle \\left[\\begin{matrix}1.0 & 0 & 0 & 0 & 0.124026965622556 & -0.0883086893366606 & 0.0359789936310477 & -0.0876382733062684\\\\0 & 1.0 & 0 & 0 & 0.00741182166933592 & -0.00197400275615479 & 0.0273753212410146 & -0.088420425341726\\\\0 & 0 & 1 & 0 & - \\frac{579}{26849} & \\frac{2178}{26849} & - \\frac{1329}{26849} & \\frac{2320}{26849}\\\\0 & 0 & 0 & 1 & - \\frac{884}{26849} & - \\frac{709}{26849} & \\frac{1727}{26849} & \\frac{157}{26849}\\end{matrix}\\right]$"
      ],
      "text/plain": [
       "Matrix([\n",
       "[1.0,   0, 0, 0,   0.124026965622556,  -0.0883086893366606, 0.0359789936310477, -0.0876382733062684],\n",
       "[  0, 1.0, 0, 0, 0.00741182166933592, -0.00197400275615479, 0.0273753212410146,  -0.088420425341726],\n",
       "[  0,   0, 1, 0,          -579/26849,           2178/26849,        -1329/26849,          2320/26849],\n",
       "[  0,   0, 0, 1,          -884/26849,           -709/26849,         1727/26849,           157/26849]])"
      ]
     },
     "execution_count": 73,
     "metadata": {},
     "output_type": "execute_result"
    }
   ],
   "source": [
    "M_copia=M[:,:]\n",
    "\n",
    "M[0,:] =  1/5750603877632*M[0,:]    # No reconoce la fracción como sp.Rational\n",
    "M[1,:] =  M[1,:]*(1/1437650969408)  # No reconoce la fracción como sp.Rational\n",
    "M[2,:] =  M[2,:]*1/-19693848896     # Sí reconoce la fracción como sp.Rational\n",
    "M[3,:] =  M[3,:]/-31359632          # Sí reconoce la fracción como sp.Rational\n",
    "\n",
    "M"
   ]
  },
  {
   "cell_type": "code",
   "execution_count": 74,
   "metadata": {},
   "outputs": [
    {
     "data": {
      "text/latex": [
       "$\\displaystyle \\left[\\begin{matrix}1 & 0 & 0 & 0 & \\frac{3330}{26849} & - \\frac{2371}{26849} & \\frac{966}{26849} & - \\frac{2353}{26849}\\\\0 & 1 & 0 & 0 & \\frac{199}{26849} & - \\frac{53}{26849} & \\frac{735}{26849} & - \\frac{2374}{26849}\\\\0 & 0 & 1 & 0 & - \\frac{579}{26849} & \\frac{2178}{26849} & - \\frac{1329}{26849} & \\frac{2320}{26849}\\\\0 & 0 & 0 & 1 & - \\frac{884}{26849} & - \\frac{709}{26849} & \\frac{1727}{26849} & \\frac{157}{26849}\\end{matrix}\\right]$"
      ],
      "text/plain": [
       "Matrix([\n",
       "[1, 0, 0, 0, 3330/26849, -2371/26849,   966/26849, -2353/26849],\n",
       "[0, 1, 0, 0,  199/26849,   -53/26849,   735/26849, -2374/26849],\n",
       "[0, 0, 1, 0, -579/26849,  2178/26849, -1329/26849,  2320/26849],\n",
       "[0, 0, 0, 1, -884/26849,  -709/26849,  1727/26849,   157/26849]])"
      ]
     },
     "execution_count": 74,
     "metadata": {},
     "output_type": "execute_result"
    }
   ],
   "source": [
    "M=M_copia # Recupera el valor anterior\n",
    "\n",
    "M[0,:] =  M[0,:]/5750603877632   # Esta operacio es multiplicar un escalar por una matriz\n",
    "M[1,:] =  M[1,:]/1437650969408\n",
    "M[2,:] =  M[2,:]/-19693848896  \n",
    "M[3,:] =  M[3,:]/-31359632  \n",
    "\n",
    "M"
   ]
  },
  {
   "cell_type": "code",
   "execution_count": 75,
   "metadata": {},
   "outputs": [
    {
     "data": {
      "text/latex": [
       "$\\displaystyle \\left[\\begin{matrix}\\frac{3330}{26849} & - \\frac{2371}{26849} & \\frac{966}{26849} & - \\frac{2353}{26849}\\\\\\frac{199}{26849} & - \\frac{53}{26849} & \\frac{735}{26849} & - \\frac{2374}{26849}\\\\- \\frac{579}{26849} & \\frac{2178}{26849} & - \\frac{1329}{26849} & \\frac{2320}{26849}\\\\- \\frac{884}{26849} & - \\frac{709}{26849} & \\frac{1727}{26849} & \\frac{157}{26849}\\end{matrix}\\right]$"
      ],
      "text/plain": [
       "Matrix([\n",
       "[3330/26849, -2371/26849,   966/26849, -2353/26849],\n",
       "[ 199/26849,   -53/26849,   735/26849, -2374/26849],\n",
       "[-579/26849,  2178/26849, -1329/26849,  2320/26849],\n",
       "[-884/26849,  -709/26849,  1727/26849,   157/26849]])"
      ]
     },
     "execution_count": 75,
     "metadata": {},
     "output_type": "execute_result"
    }
   ],
   "source": [
    "B=M[:,4:]  #De la columna 4 en adelante\n",
    "\n",
    "B"
   ]
  },
  {
   "cell_type": "markdown",
   "metadata": {},
   "source": [
    "4. Calcule $C=AB$.\n"
   ]
  },
  {
   "cell_type": "code",
   "execution_count": 76,
   "metadata": {},
   "outputs": [
    {
     "data": {
      "text/latex": [
       "$\\displaystyle \\left[\\begin{matrix}1 & 0 & 0 & 0\\\\0 & 1 & 0 & 0\\\\0 & 0 & 1 & 0\\\\0 & 0 & 0 & 1\\end{matrix}\\right]$"
      ],
      "text/plain": [
       "Matrix([\n",
       "[1, 0, 0, 0],\n",
       "[0, 1, 0, 0],\n",
       "[0, 0, 1, 0],\n",
       "[0, 0, 0, 1]])"
      ]
     },
     "execution_count": 76,
     "metadata": {},
     "output_type": "execute_result"
    }
   ],
   "source": [
    "C=A*B\n",
    "C"
   ]
  }
 ],
 "metadata": {
  "kernelspec": {
   "display_name": "Python 3",
   "language": "python",
   "name": "python3"
  },
  "language_info": {
   "codemirror_mode": {
    "name": "ipython",
    "version": 3
   },
   "file_extension": ".py",
   "mimetype": "text/x-python",
   "name": "python",
   "nbconvert_exporter": "python",
   "pygments_lexer": "ipython3",
   "version": "3.7.4"
  }
 },
 "nbformat": 4,
 "nbformat_minor": 2
}
