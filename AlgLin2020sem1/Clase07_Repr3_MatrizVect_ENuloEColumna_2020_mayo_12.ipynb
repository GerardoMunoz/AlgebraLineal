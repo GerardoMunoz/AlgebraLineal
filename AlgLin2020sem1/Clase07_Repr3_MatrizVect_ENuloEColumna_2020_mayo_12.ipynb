{
 "cells": [
  {
   "cell_type": "markdown",
   "metadata": {},
   "source": [
    "# Contenido:\n",
    "1. Rutina para presentar matrices con fraccionarios\n",
    "2. Sistema Homogéneo\n",
    "3. Espacio Nulo\n",
    "3. Matriz por vector\n",
    "4. Espacio Columna\n",
    "4. Subespacios de $\\mathbb{R}^n$ (primera aproximación)"
   ]
  },
  {
   "cell_type": "markdown",
   "metadata": {},
   "source": [
    "# Rutina para presentar matrices con fraccionarios\n",
    "\n",
    "La siguiente rutina permite presentar matrices de numpy con fraccionarios."
   ]
  },
  {
   "cell_type": "code",
   "execution_count": 1,
   "metadata": {},
   "outputs": [],
   "source": [
    "def udprint(a,espacio=', '): #a es una matriz de numpy\n",
    "    m,n=a.shape\n",
    "    m=range(m)\n",
    "    n=range(n)\n",
    "    listas=[]\n",
    "    maximos=[0 for i in n]\n",
    "    for i in m:\n",
    "        lista=[]\n",
    "        for j in n:\n",
    "            texto=str(a[i,j])\n",
    "            lista.append(texto)\n",
    "            maximos[j]=max(maximos[j],len(texto))\n",
    "        listas.append(lista)\n",
    "    salida='['\n",
    "    for i in m:\n",
    "        salida+='['+('{:^'+str(maximos[0])+'}').format(listas[i][0]) # se usa format para centrar el texto\n",
    "        for j in n[1:]:\n",
    "            salida+=  espacio + ('{:^'+str(maximos[j])+'}').format(listas[i][j])  # se usa format para centrar el texto\n",
    "        salida+='],\\n '\n",
    "    salida=salida[:-1]+'] '\n",
    "    print(salida)  "
   ]
  },
  {
   "cell_type": "code",
   "execution_count": 2,
   "metadata": {},
   "outputs": [
    {
     "data": {
      "text/plain": [
       "matrix([[Fraction(11, 232), Fraction(9, 116), 0, Fraction(25, 232), 0],\n",
       "        [Fraction(-221, 232), 1, Fraction(-107, 116), Fraction(25, 232),\n",
       "         0],\n",
       "        [Fraction(157, 2320), Fraction(23, 1160), 0, Fraction(167, 2320),\n",
       "         1]], dtype=object)"
      ]
     },
     "execution_count": 2,
     "metadata": {},
     "output_type": "execute_result"
    }
   ],
   "source": [
    "import numpy as np\n",
    "from fractions import Fraction \n",
    "\n",
    "A=np.matrix([\n",
    "    [Fraction(11, 232), Fraction(9, 116), 0, Fraction(25, 232), 0],\n",
    "    [Fraction(-221, 232), 1, Fraction(-107, 116), Fraction(25, 232), 0],\n",
    "    [Fraction(157, 2320), Fraction(23, 1160), 0, Fraction(167, 2320), 1]\n",
    "])\n",
    "\n",
    "\n",
    "A # Presentación usual de matriz de numpy con fraccionarios"
   ]
  },
  {
   "cell_type": "code",
   "execution_count": 3,
   "metadata": {},
   "outputs": [
    {
     "name": "stdout",
     "output_type": "stream",
     "text": [
      "[[ 11/232 ,  9/116 ,    0    ,  25/232 , 0],\n",
      " [-221/232,    1   , -107/116,  25/232 , 0],\n",
      " [157/2320, 23/1160,    0    , 167/2320, 1],\n",
      "] \n"
     ]
    }
   ],
   "source": [
    "udprint(A) # Presentación de udprint"
   ]
  },
  {
   "cell_type": "code",
   "execution_count": null,
   "metadata": {},
   "outputs": [],
   "source": []
  },
  {
   "cell_type": "markdown",
   "metadata": {},
   "source": []
  },
  {
   "cell_type": "markdown",
   "metadata": {},
   "source": [
    "# Sistema Homogéneo\n",
    "\n",
    "## Definición\n",
    "\n",
    "Un **sistema homogéneo (SH)** es un sistema de ecuaciones lineales donde sus términos constantes son cero. \n",
    "\n",
    "$[A:\\vec{0}]$\n",
    "\n",
    "Todo sistema de ecuaciones lineales $[A:\\vec{b}]$ tiene un **sistema homogéneo asociado** dado por $[A:\\vec{0}]$\n",
    "\n",
    "\n",
    "## Ejemplo 1\n",
    "\n",
    "Para la siguiente matriz <u>extendida</u> encuentre el sistema de ecuaciones homogéneo asociado y la matriz extendida asociada homogénea."
   ]
  },
  {
   "cell_type": "code",
   "execution_count": 4,
   "metadata": {},
   "outputs": [],
   "source": [
    "matriz_ejemplo=np.matrix([ \n",
    "    [11, 2, 13,  3, 0, 1],\n",
    "    [4,  15, 19, 6, 1, 2],\n",
    "    [7,  8, 15, 19, 1, 3]\n",
    "])"
   ]
  },
  {
   "cell_type": "markdown",
   "metadata": {},
   "source": [
    "## Solución \n",
    "El sistema de ecuaciones de la matriz anterior es el siguiente.\n",
    "\n",
    "$\\begin{align}\n",
    "11x_0 + 2x_1 + 13x_2 +  3x_3 + 0x_4 &= 1\\\\\n",
    "4x_0 +  15x_1 + 19x_2 + 6x_3 + 1x_4 &= 2\\\\\n",
    "7x_0 +  8x_1 + 15x_2 + 19x_3 + 1x_4 &= 3\n",
    "\\end{align}$\n",
    "\n",
    "Y por lo tanto, el siguiente es el sistema homogéneno asociado, ya que tiene los mismos coficientes y sus términos constantes son ceros. \n",
    "\n",
    "$\\begin{align}\n",
    "11x_0 + 2x_1 + 13x_2 +  3x_3 + 0x_4 &= 0\\\\\n",
    "4x_0 +  15x_1 + 19x_2 + 6x_3 + 1x_4 &= 0\\\\\n",
    "7x_0 +  8x_1 + 15x_2 + 19x_3 + 1x_4 &= 0\n",
    "\\end{align}$\n",
    "\n",
    "Entonces la matriz extendida homogénea será "
   ]
  },
  {
   "cell_type": "code",
   "execution_count": 5,
   "metadata": {},
   "outputs": [],
   "source": [
    "matriz_ejemplo_homogenea=np.matrix([ \n",
    "    [11, 2, 13,  3, 0, 0],\n",
    "    [4,  15, 19, 6, 1, 0],\n",
    "    [7,  8, 15, 19, 1, 0]\n",
    "])"
   ]
  },
  {
   "cell_type": "markdown",
   "metadata": {},
   "source": [
    "## Ejemplo 2\n",
    "Con respecto a la matriz extendida homogénea obtenida en el ejercicio anterior, hallar:\n",
    "* la solución general, \n",
    "* la solución particular trivial,\n",
    "* las soluciones particulares básicas que haya. \n",
    "\n",
    "## Solución\n",
    "Se comienza realizando la eliminación de Gauss - Jordan.\n"
   ]
  },
  {
   "cell_type": "code",
   "execution_count": 6,
   "metadata": {},
   "outputs": [
    {
     "data": {
      "text/plain": [
       "matrix([[11,  2, 13,  3,  0,  0],\n",
       "        [ 4, 15, 19,  6,  1,  0],\n",
       "        [ 7,  8, 15, 19,  1,  0]])"
      ]
     },
     "execution_count": 6,
     "metadata": {},
     "output_type": "execute_result"
    }
   ],
   "source": [
    "import copy\n",
    "A=copy.deepcopy(matriz_ejemplo_homogenea)\n",
    "A"
   ]
  },
  {
   "cell_type": "code",
   "execution_count": 7,
   "metadata": {},
   "outputs": [
    {
     "data": {
      "text/plain": [
       "matrix([[ 4, 15, 19,  6,  1,  0],\n",
       "        [11,  2, 13,  3,  0,  0],\n",
       "        [ 7,  8, 15, 19,  1,  0]])"
      ]
     },
     "execution_count": 7,
     "metadata": {},
     "output_type": "execute_result"
    }
   ],
   "source": [
    "A[[0,1],:] = A[[1,0],:]\n",
    "A"
   ]
  },
  {
   "cell_type": "code",
   "execution_count": 8,
   "metadata": {},
   "outputs": [
    {
     "data": {
      "text/plain": [
       "matrix([[  4,  15,  19,   6,   1,   0],\n",
       "        [  0, 157, 157,  54,  11,   0],\n",
       "        [  7,   8,  15,  19,   1,   0]])"
      ]
     },
     "execution_count": 8,
     "metadata": {},
     "output_type": "execute_result"
    }
   ],
   "source": [
    "A[1,:] = 11*A[0,:] - 4*A[1,:]\n",
    "A"
   ]
  },
  {
   "cell_type": "code",
   "execution_count": 9,
   "metadata": {},
   "outputs": [
    {
     "data": {
      "text/plain": [
       "matrix([[  4,  15,  19,   6,   1,   0],\n",
       "        [  0, 157, 157,  54,  11,   0],\n",
       "        [  0,  73,  73, -34,   3,   0]])"
      ]
     },
     "execution_count": 9,
     "metadata": {},
     "output_type": "execute_result"
    }
   ],
   "source": [
    "A[2,:] = 7*A[0,:] - 4*A[2,:]\n",
    "A"
   ]
  },
  {
   "cell_type": "code",
   "execution_count": 10,
   "metadata": {},
   "outputs": [
    {
     "data": {
      "text/plain": [
       "matrix([[  4,  15,  19,   6,   1,   0],\n",
       "        [  0,  73,  73, -34,   3,   0],\n",
       "        [  0, 157, 157,  54,  11,   0]])"
      ]
     },
     "execution_count": 10,
     "metadata": {},
     "output_type": "execute_result"
    }
   ],
   "source": [
    "A[[2,1],:] = A[[1,2],:]\n",
    "A"
   ]
  },
  {
   "cell_type": "code",
   "execution_count": 11,
   "metadata": {},
   "outputs": [
    {
     "data": {
      "text/plain": [
       "matrix([[    4,    15,    19,     6,     1,     0],\n",
       "        [    0,    73,    73,   -34,     3,     0],\n",
       "        [    0,     0,     0, -9280,  -332,     0]])"
      ]
     },
     "execution_count": 11,
     "metadata": {},
     "output_type": "execute_result"
    }
   ],
   "source": [
    "A[2,:] = 157*A[1,:] - 73*A[2,:]\n",
    "A"
   ]
  },
  {
   "cell_type": "code",
   "execution_count": 12,
   "metadata": {},
   "outputs": [
    {
     "data": {
      "text/plain": [
       "matrix([[ -292,     0,  -292,  -948,   -28,     0],\n",
       "        [    0,    73,    73,   -34,     3,     0],\n",
       "        [    0,     0,     0, -9280,  -332,     0]])"
      ]
     },
     "execution_count": 12,
     "metadata": {},
     "output_type": "execute_result"
    }
   ],
   "source": [
    "A[0,:] = 15*A[1,:] - 73*A[0,:]\n",
    "A"
   ]
  },
  {
   "cell_type": "code",
   "execution_count": 13,
   "metadata": {},
   "outputs": [
    {
     "data": {
      "text/plain": [
       "matrix([[   -292,       0,    -292,    -948,     -28,       0],\n",
       "        [      0, -677440, -677440,       0,  -39128,       0],\n",
       "        [      0,       0,       0,   -9280,    -332,       0]])"
      ]
     },
     "execution_count": 13,
     "metadata": {},
     "output_type": "execute_result"
    }
   ],
   "source": [
    "A[1,:] = 34*A[2,:] - 9280*A[1,:]\n",
    "A"
   ]
  },
  {
   "cell_type": "code",
   "execution_count": 14,
   "metadata": {},
   "outputs": [
    {
     "data": {
      "text/plain": [
       "matrix([[2709760,       0, 2709760,       0,  -54896,       0],\n",
       "        [      0, -677440, -677440,       0,  -39128,       0],\n",
       "        [      0,       0,       0,   -9280,    -332,       0]])"
      ]
     },
     "execution_count": 14,
     "metadata": {},
     "output_type": "execute_result"
    }
   ],
   "source": [
    "A[0,:] = 948*A[2,:] - 9280*A[0,:]\n",
    "A"
   ]
  },
  {
   "cell_type": "markdown",
   "metadata": {},
   "source": [
    "El sistema de ecuaciones de la matriz anterior es el siguiente.\n",
    "\n",
    "$\\begin{align}\n",
    "2709760x_0 + 0x_1 + 2709760x_2 +  0x_3 - 54896x_4 &= 0\\\\\n",
    "0x_0 -  677440x_1 - 677440x_2 + 0x_3 - 39128x_4 &= 0\\\\\n",
    "0x_0 +  0x_1 - 9280x_2 + 0x_3 - 332x_4 &= 0\n",
    "\\end{align}$\n",
    "\n",
    "Debido a que no puede haber pivotes en los términos contantes de un sistema homogeneo, ya que estos son cero. Entonces el sistema es <u>consistente</u>.\n",
    "\n",
    "Como hay variables libres, el sistema tiene <u>infinitas soluciones</u>. "
   ]
  },
  {
   "cell_type": "markdown",
   "metadata": {},
   "source": [
    "Ahora asignamos parámetros a las variables libres.\n",
    "\n",
    "$x_2=t_0$, $x_4=t_1$. \n",
    "\n",
    "Ahora se despejan las variables delanteras.\n",
    "\n",
    "$\\begin{align}\n",
    "2709760x_0 &=0 - 0x_1 - 2709760t_0 -  0x_3 + 54896t_1 \\\\\n",
    " -  677440x_1 &=0 + 677440t_0 - 0x_3 + 39128t_1 \\\\\n",
    " -9280x_2 &=0 - 0x_3 + 332t_1 \n",
    "\\end{align}$\n",
    "\n",
    "$\\begin{align}\n",
    "x_0 &=0 - 0x_1 - \\frac{2709760}{2709760}t_0 -  0x_3 + \\frac{54896}{2709760}t_1 \\\\\n",
    " x_1 &=0  + \\frac{677440}{-  677440}t_0 - 0x_3 + \\frac{39128}{-  677440}t_1 \\\\\n",
    " x_2 &=0 -0x_3 + \\frac{332}{-9280}t_1 \n",
    "\\end{align}$\n",
    "\n",
    "Finalmente, se escribe la solución general.\n",
    "\n",
    "$\\left( \\matrix{x_0\\\\x_1\\\\x_2\\\\x_3\\\\x_4} \\right) =\n",
    "\\left( \\matrix{0\\\\0\\\\0\\\\0\\\\0} \\right) +\n",
    "t_0\\left( \\matrix{-1\\\\-1\\\\1\\\\0\\\\0} \\right) +\n",
    "t_1\\left( \\matrix{\\frac{47}{2320}\\\\ \\frac{-67}{1160} \\\\ 0 \\\\ \\frac{-83}{2320} \\\\1} \\right)$"
   ]
  },
  {
   "cell_type": "code",
   "execution_count": 15,
   "metadata": {},
   "outputs": [],
   "source": [
    "from fractions import Fraction as frac # Librería para el uso de fraccionarios\n",
    "                                       # frac(numerador,denominador)\n",
    "\n",
    "def solucion_general(t0,t1):\n",
    "    x0 = 0 - t0 * frac(2709760,2709760)  + t1 * frac(54896,2709760)\n",
    "    x1 = 0 + t0 * frac(677440 ,-  677440) +  t1 * frac(+39128,-677440) \n",
    "    x2 = t0\n",
    "    x3 =  0  +  t1 * frac(332,-9280)\n",
    "    x4 = t1\n",
    "    return (x0,x1,x2,x3,x4)"
   ]
  },
  {
   "cell_type": "code",
   "execution_count": 16,
   "metadata": {},
   "outputs": [
    {
     "name": "stdout",
     "output_type": "stream",
     "text": [
      "0 0 0 0 0\n"
     ]
    }
   ],
   "source": [
    "(x0,x1,x2,x3,x4)=solucion_general(0,0)\n",
    "print(x0,x1,x2,x3,x4) "
   ]
  },
  {
   "cell_type": "code",
   "execution_count": 17,
   "metadata": {},
   "outputs": [
    {
     "name": "stdout",
     "output_type": "stream",
     "text": [
      "-1 -1 1 0 0\n"
     ]
    }
   ],
   "source": [
    "(x0,x1,x2,x3,x4)=solucion_general(1,0)\n",
    "print(x0,x1,x2,x3,x4) "
   ]
  },
  {
   "cell_type": "code",
   "execution_count": 18,
   "metadata": {},
   "outputs": [
    {
     "name": "stdout",
     "output_type": "stream",
     "text": [
      "47/2320 -67/1160 0 -83/2320 1\n"
     ]
    }
   ],
   "source": [
    "(x0,x1,x2,x3,x4)=solucion_general(0,1)\n",
    "print(x0,x1,x2,x3,x4) "
   ]
  },
  {
   "cell_type": "markdown",
   "metadata": {},
   "source": [
    "\n",
    "\n",
    "\n",
    "## Teoremas\n",
    "En todo sistema homogéneo se tiene que:\n",
    "1. es consistente.\n",
    "\n",
    "2. su solución particular trivial es $\\vec{0}$.\n",
    "\n",
    "3. sus soluciones particulares básicas corresponden a los vectores que multiplican los parámetros de cualquier sistema no homogéneo que esté asociado. \n",
    "\n",
    "## Pruebas\n",
    "\n",
    "1. Si es homogéneo entonces:\n",
    " * sus términos constantes son cero\n",
    " * no tiene pivotes en los términos constantes\n",
    " * es consistente.\n",
    " \n",
    "2. Los componentes de la solución particular trivial\n",
    " * son cero, en las variables libres, porque son iguales a un parámetro solamente.\n",
    " * son cero, en las variables delanteras, porque el término constante es cero.\n",
    " \n",
    "3. Debido a que, al despejar los sistemas no homogéneo y homogéneo asociado, se usan las mismas operaciones elementales. Entonces las soluciones generales de los sistemas sólo se diferencian en la solución particular trivial.\n",
    "\n",
    "## Definiciones\n",
    "* El conjunto solución del sistema homogéneo $[A:\\vec{0}]$, se llama el **espacio nulo** de la matriz $A$ y se denota $\\text{Nu}(A)$.\n",
    "\n",
    "\n",
    "\n",
    "* La **nulidad** de la matriz $A$ es:\n",
    "  * <u>El número de columnas de $A$ sin pivotes</u>.\n",
    "  * El número de variables libres.\n",
    "  * El número de parámetros.\n",
    "  * El número de soluciones particulares básicas. \n"
   ]
  },
  {
   "cell_type": "markdown",
   "metadata": {},
   "source": [
    "# Matriz por vector\n",
    "\n",
    "## Notaciones\n",
    "\n",
    "### Sistema de ecuaciones\n",
    "\n",
    "$\\matrix{\n",
    "c_{11} x_1 + c_{12} x_2 + \\ldots + c_{1n} x_n &= y_1 \\\\\n",
    "c_{21} x_1 + c_{22} x_2 + \\ldots + c_{2n} x_n &= y_2 \\\\\n",
    "&\\vdots\\\\\n",
    "c_{m1} x_1 + c_{m2} x_2 + \\ldots + c_{mn} x_n &= y_m \\\\\n",
    "}$\n",
    "\n",
    "### Combinación lineal\n",
    "\n",
    "\n",
    "$x_1\\left( \\matrix{c_{11}\\\\c_{21}\\\\ \\vdots \\\\c_{m1}} \\right) \n",
    "+ x_2\\left( \\matrix{c_{12}\\\\c_{22}\\\\ \\vdots \\\\c_{m2}} \\right) \n",
    "+ \\cdots\n",
    "+ x_n\\left( \\matrix{c_{1n}\\\\c_{2n}\\\\ \\vdots \\\\c_{mn}} \\right) \n",
    "=\\left( \\matrix{y_1\\\\y_2\\\\ \\vdots \\\\y_m} \\right)$ \n",
    "\n",
    "\n",
    "### Matriz por vector\n",
    "\n",
    "$\\left[\\matrix{\n",
    "c_{11} & c_{12} & \\cdots & c_{1n}  \\\\\n",
    "c_{21} & c_{22} & \\cdots & c_{2n} \\\\ \n",
    "\\vdots &  \\vdots &  \\ddots & \\vdots\n",
    "\\\\\n",
    "c_{m1} & c_{m2} & \\cdots & c_{mn} }\n",
    "\\right]\n",
    "\\left( \\matrix{x_1\\\\x_2\\\\ \\vdots \\\\x_m} \\right)\n",
    "=\\left( \\matrix{y_1\\\\y_2\\\\ \\vdots \\\\y_m} \\right)$\n",
    "\n",
    "Vectorialmente se puede escribir así.\n",
    "\n",
    "$C \\vec{x} = \\vec{y}$\n",
    "\n",
    "## Ejemplo 3\n",
    "\n",
    "Calcule.\n",
    "$\\left[\\matrix{\n",
    "1 & 2 & 3  \\\\\n",
    "4 & 5 & 6 }\n",
    "\\right]\n",
    "\\left( \\matrix{7\\\\8\\\\ 9} \\right)$\n",
    "\n",
    "### Solución 1\n",
    "\n",
    "$\\left[\\matrix{\n",
    "1 & 2 & 3  \\\\\n",
    "4 & 5 & 6 }\n",
    "\\right]\n",
    "\\left( \\matrix{7\\\\8\\\\ 9} \\right)\n",
    "=\\left( \\matrix{7 \\cdot 1 + 8  \\cdot 2 + 9  \\cdot 3\\\\ \n",
    "7 \\cdot 4 + 8  \\cdot 5 + 9  \\cdot 6} \\right)\n",
    "=\\left( \\matrix{7+16+27\\\\28+40+54} \\right)\n",
    "=\\left( \\matrix{50\\\\122} \\right)$\n",
    "\n",
    "### Solución 2\n",
    "\n",
    "$\\begin{align}\n",
    "\\left[\\matrix{\n",
    "1 & 2 & 3  \\\\\n",
    "4 & 5 & 6 }\n",
    "\\right]\n",
    "\\left( \\matrix{7\\\\8\\\\ 9} \\right)\n",
    "&=7\\left( \\matrix{1\\\\4} \\right)\n",
    "+8\\left( \\matrix{2\\\\5} \\right)\n",
    "+9\\left( \\matrix{3\\\\6} \\right)\\\\\n",
    "&=\\left( \\matrix{7 \\cdot 1\\\\7 \\cdot 4} \\right)\n",
    "+\\left( \\matrix{8 \\cdot 2\\\\8 \\cdot 5} \\right)\n",
    "+\\left( \\matrix{9 \\cdot 3\\\\9 \\cdot 6} \\right)\\\\\n",
    "&=\\left( \\matrix{7+16+27\\\\28+40+54} \\right)\\\\\n",
    "&=\\left( \\matrix{50\\\\122} \\right)\n",
    "\\end{align}$\n",
    "\n",
    "\n"
   ]
  },
  {
   "cell_type": "code",
   "execution_count": 19,
   "metadata": {},
   "outputs": [
    {
     "data": {
      "text/plain": [
       "matrix([[1, 2, 3],\n",
       "        [4, 5, 6]])"
      ]
     },
     "execution_count": 19,
     "metadata": {},
     "output_type": "execute_result"
    }
   ],
   "source": [
    "A=np.matrix([[1,2,3],\n",
    "             [4,5,6]])\n",
    "A"
   ]
  },
  {
   "cell_type": "code",
   "execution_count": 20,
   "metadata": {},
   "outputs": [
    {
     "data": {
      "text/plain": [
       "matrix([[7],\n",
       "        [8],\n",
       "        [9]])"
      ]
     },
     "execution_count": 20,
     "metadata": {},
     "output_type": "execute_result"
    }
   ],
   "source": [
    "x=np.matrix([[7],\n",
    "             [8],\n",
    "             [9]])\n",
    "x"
   ]
  },
  {
   "cell_type": "code",
   "execution_count": 21,
   "metadata": {},
   "outputs": [
    {
     "data": {
      "text/plain": [
       "matrix([[ 50],\n",
       "        [122]])"
      ]
     },
     "execution_count": 21,
     "metadata": {},
     "output_type": "execute_result"
    }
   ],
   "source": [
    "# @ se usa para multiplicar matriz por vector\n",
    "\n",
    "y = A@x\n",
    "y"
   ]
  },
  {
   "cell_type": "markdown",
   "metadata": {},
   "source": [
    "## Ejemplo 4\n",
    "$ \\left[\\matrix{\n",
    "-1&\\frac{47}{2320}\\\\ -1&\\frac{-67}{1160} \\\\ 1&0 \\\\ 0&\\frac{-83}{2320} \\\\0&1}\n",
    "\\right]\n",
    "\\left( \\matrix{t_0\\\\t_1} \\right) =\n",
    "t_0\\left( \\matrix{-1\\\\-1\\\\1\\\\0\\\\0} \\right) +\n",
    "t_1\\left( \\matrix{\\frac{47}{2320}\\\\ \\frac{-67}{1160} \\\\ 0 \\\\ \\frac{-83}{2320} \\\\1} \\right) $\n"
   ]
  },
  {
   "cell_type": "markdown",
   "metadata": {},
   "source": [
    "## Espacio nulo de una matriz\n",
    "Usando esta notación podemos volver a escribir la definición de **espacio nulo** de una matriz $A$.\n",
    "\n",
    "\n",
    "$\\text{Nu}(A)=\\{\\vec{x} \\mid A\\vec{x}=\\vec{0} \\}$\n",
    "\n",
    "Recordemos que la **nulidad** de la matriz $A$ es:\n",
    "  * <u>El número de columnas de $A$ sin pivotes</u>.\n",
    "  * El número de variables libres del SH $[A:\\vec{0}]$.\n",
    "  * El número de parámetros del SH $[A:\\vec{0}]$.\n",
    "  * El número de soluciones particulares básicas del SH $[A:\\vec{0}]$. \n",
    "  \n",
    "La nulidad de $A$ se denota $\\nu(A)$.\n",
    "\n",
    "\n",
    "## Espacio columna de una matriz \n",
    "\n",
    "El **espacio columna** de una matriz $C$ está dado por\n",
    "\n",
    "$\\text{Co}(C)=\\{ C\\vec{t} \\mid \\vec{t} \\in \\mathbb{R}^n\\}$\n",
    "\n",
    "El **rango** de la matriz $C$ es:\n",
    "* El número de pivotes de $C$\n",
    "* El número de variables delanteras del SH $[C:\\vec{0}]$\n",
    "\n",
    "El rango de $C$ se denota $\\rho(C)$.\n",
    "\n",
    "## Ejemplo 5\n",
    "\n",
    "En el ejemeplo 2 se planteó el siguiente sistema de ecuaciones.\n",
    "\n",
    "$\\begin{align}\n",
    "11x_0 + 2x_1 + 13x_2 +  3x_3 + 0x_4 &= 0\\\\\n",
    "4x_0 +  15x_1 + 19x_2 + 6x_3 + 1x_4 &= 0\\\\\n",
    "7x_0 +  8x_1 + 15x_2 + 19x_3 + 1x_4 &= 0\n",
    "\\end{align}$\n",
    "\n",
    "El cual se puede escribir como un matriz extendida\n",
    "\n",
    "$\\left[\\matrix{\n",
    "11 & 2 & 13 &  3 & 0 & : & 0\\\\\n",
    "4 &  15 & 19 & 6 & 1 & : & 0\\\\\n",
    "7 &  8 & 15 & 19 & 1 & : & 0}\\right]$\n",
    "\n",
    "o como una matriz por vector\n",
    "\n",
    "$\\left[\\matrix{\n",
    "11 & 2 & 13 &  3 & 0\\\\\n",
    "4 &  15 & 19 & 6 & 1 \\\\\n",
    "7 &  8 & 15 & 19 & 1}\\right]\\left( \\matrix{ x_0\\\\x_1\\\\x_2\\\\x_3\\\\x_4} \\right)=\\left( \\matrix{0\\\\0\\\\0} \\right)$\n",
    "\n",
    "El conjunto de los vectores$\\vec{x}=\\left( \\matrix{ x_0\\\\x_1\\\\x_2\\\\x_3\\\\x_4} \\right)$ que cumplen la ecuacion $A \\vec{x} = \\vec{0}$ se llama el **espacio nulo** de $A$.\n",
    "\n",
    "\n",
    "\n",
    "\n",
    "Por otro lado, recordemos que el conjunto solución corresponde\n",
    "\n",
    "$\n",
    "t_0\\left( \\matrix{-1\\\\-1\\\\1\\\\0\\\\0} \\right) +\n",
    "t_1\\left( \\matrix{\\frac{47}{2320}\\\\ \\frac{-67}{1160} \\\\ 0 \\\\ \\frac{-83}{2320} \\\\1} \\right) = \\left( \\matrix{ x_0\\\\x_1\\\\x_2\\\\x_3\\\\x_4} \\right)$\n",
    "\n",
    "el cual también se puede escribir como una matriz por un vector.\n",
    "\n",
    "\n",
    "$ \\left[\\matrix{\n",
    "-1&\\frac{47}{2320}\\\\ -1&\\frac{-67}{1160} \\\\ 1&0 \\\\ 0&\\frac{-83}{2320} \\\\0&1}\n",
    "\\right]\n",
    "\\left( \\matrix{t_0\\\\t_1} \\right)=\\left( \\matrix{ x_0\\\\x_1\\\\x_2\\\\x_3\\\\x_4} \\right) $\n",
    "\n",
    "El conjunto de los vectores$\\vec{x}=\\left( \\matrix{ x_0\\\\x_1\\\\x_2\\\\x_3\\\\x_4} \\right)$ que pueden cumplir la ecuacion $A \\vec{t} = \\vec{x}$ se llama el **espacio columna** de $A$.\n",
    "\n",
    "## En resumen\n",
    "Si nos preguntan por el espacio nulo de $A=\\left[\\matrix{\n",
    "11 & 2 & 13 &  3 & 0\\\\\n",
    "4 &  15 & 19 & 6 & 1 \\\\\n",
    "7 &  8 & 15 & 19 & 1}\\right]$.\n",
    "\n",
    "Tenemos que encontrar todos los vectores $\\vec{x}=\\left( \\matrix{x_0\\\\x_1\\\\x_2\\\\x_3\\\\x_4} \\right)$ tales que \n",
    "\n",
    "$\n",
    "\\left[\\matrix{\n",
    "11 & 2 & 13 &  3 & 0\\\\\n",
    "4 &  15 & 19 & 6 & 1 \\\\\n",
    "7 &  8 & 15 & 19 & 1}\\right]\\left( \\matrix{x_0\\\\x_1\\\\x_2\\\\x_3\\\\x_4} \\right)=\\left( \\matrix{0\\\\0\\\\0} \\right)\n",
    "$\n",
    "\n",
    "Estos vectores $\\vec{x}=\\left( \\matrix{x_0\\\\x_1\\\\x_2\\\\x_3\\\\x_4} \\right)$ se pueden encontrar con el espacio columna de $C=\\left[\\matrix{\n",
    "-1&\\frac{47}{2320}\\\\ -1&\\frac{-67}{1160} \\\\ 1&0 \\\\ 0&\\frac{-83}{2320} \\\\0&1}\n",
    "\\right]$\n",
    "\n",
    "$\n",
    "\\left[\\matrix{\n",
    "-1&\\frac{47}{2320}\\\\ -1&\\frac{-67}{1160} \\\\ 1&0 \\\\ 0&\\frac{-83}{2320} \\\\0&1}\n",
    "\\right]\\left( \\matrix{t_0\\\\t_1} \\right)=\\left( \\matrix{x_0\\\\x_1\\\\x_2\\\\x_3\\\\x_4} \\right)\n",
    "$\n",
    "\n",
    "Es decir que $C$ prácticamente nos permite despejar el vector $\\vec{x}=\\left( \\matrix{x_0\\\\x_1\\\\x_2\\\\x_3\\\\x_4} \\right)$"
   ]
  },
  {
   "cell_type": "code",
   "execution_count": 22,
   "metadata": {},
   "outputs": [
    {
     "data": {
      "image/png": "[encoded data removed]",
      "text/plain": [
       "<Figure size 432x288 with 1 Axes>"
      ]
     },
     "metadata": {
      "needs_background": "light"
     },
     "output_type": "display_data"
    }
   ],
   "source": [
    "# Omitir este código\n",
    "# Este código dibuja dos conjuntos anidados\n",
    "import matplotlib.pyplot as plt\n",
    "fig, ax = plt.subplots()\n",
    "\n",
    "puntos=[[0  ,3  ,6],  # x1 x2 x3 x4\n",
    "        [2.6,2.3,2]]  # y1 y2 y3 y4\n",
    "ax.scatter(*puntos,s=100,color='k')\n",
    "\n",
    "lineas=[(0,6),(1,2),'k', #(x1,x4),(y1,y4),color\n",
    "        (0,6),(2.6,2),'k', #(x2,x4),(y2,y4),color\n",
    "        (0,6),(3,2),'k', #(x2,x4),(y3,y4),color\n",
    "       ]\n",
    "ax.plot(*lineas)\n",
    "\n",
    "\n",
    "ax.add_artist( plt.Circle((0, 2), 1, fill=False, color='k'))\n",
    "ax.add_artist(plt.Circle((3, 2), 1, fill=False, color='k'))\n",
    "ax.add_artist(plt.Circle((6,2), 1, fill=False, color='k'))\n",
    "ax.add_artist(plt.Circle((3, 2), 0.5, fill=False,  color='k'))\n",
    "#ax.add_artist(plt.Circle((0.95, 0.5), 0.01,  color='k'))\n",
    "ax.text(3.8, 3, r'$A\\vec{x}=\\vec{0}$',{'fontsize': 18})\n",
    "ax.text(0.8, 3, r'$C\\vec{t}=\\vec{x}$',{'fontsize': 18})\n",
    "ax.text(3, 1.7, r'$S$',{'fontsize': 18})\n",
    "ax.text(6, 2.1, r'$\\vec{0}$',{'fontsize': 18})\n",
    "ax.text(3, 2.1, r\"$\\vec{x}$\",{'fontsize': 18})\n",
    "ax.text(-0.05, 2.66, r'$\\vec{t}$',{'fontsize': 18})\n",
    "\n",
    "ax.axis('off')\n",
    "plt.show()"
   ]
  },
  {
   "cell_type": "markdown",
   "metadata": {},
   "source": [
    "$\\left[\\matrix{\n",
    "-1&\\frac{47}{2320}\\\\ -1&\\frac{-67}{1160} \\\\ 1&0 \\\\ 0&\\frac{-83}{2320} \\\\0&1}\n",
    "\\right]\\left( \\matrix{t_0\\\\t_1} \\right)=\\left( \\matrix{x_0\\\\x_1\\\\x_2\\\\x_3\\\\x_4} \\right)\n",
    "\\ \\ \\ \\ \\ \\ \\ \\ \\ \\ \\ \\ \\ \\ \\ \\ \\ \\ \\ \n",
    "\\left[\\matrix{\n",
    "11 & 2 & 13 &  3 & 0\\\\\n",
    "4 &  15 & 19 & 6 & 1 \\\\\n",
    "7 &  8 & 15 & 19 & 1}\\right]\\left( \\matrix{x_0\\\\x_1\\\\x_2\\\\x_3\\\\x_4} \\right)=\\left( \\matrix{0\\\\0\\\\0} \\right)$\n",
    "\n",
    "El espacio generado por $C=\\left[\\matrix{\n",
    "-1&\\frac{47}{2320}\\\\ -1&\\frac{-67}{1160} \\\\ 1&0 \\\\ 0&\\frac{-83}{2320} \\\\0&1}\n",
    "\\right]$ es el mismo que el espacio nulo de $A=\\left[\\matrix{\n",
    "11 & 2 & 13 &  3 & 0\\\\\n",
    "4 &  15 & 19 & 6 & 1 \\\\\n",
    "7 &  8 & 15 & 19 & 1}\\right]$\n",
    "\n",
    "$\\text{Nu} \\left( \\left[\\matrix{\n",
    "11 & 2 & 13 &  3 & 0\\\\\n",
    "4 &  15 & 19 & 6 & 1 \\\\\n",
    "7 &  8 & 15 & 19 & 1}\\right]\\right)\n",
    "=\\text{Co} \\left( \\left[\\matrix{\n",
    "-1&\\frac{47}{2320}\\\\ -1&\\frac{-67}{1160} \\\\ 1&0 \\\\ 0&\\frac{-83}{2320} \\\\0&1}\n",
    "\\right]\\right)$\n"
   ]
  },
  {
   "cell_type": "markdown",
   "metadata": {},
   "source": [
    "## Teorema de la dimensión (versión matriz)\n",
    "\n",
    "El número de columnas de una matriz $B$ es igual a $\\nu(B) + \\rho(B)$.\n",
    "\n",
    "### Demostración\n",
    "Esto es evidente ya que el número de columnas de una matriz es el número de columnas sin pivote más el número de columnas con pivote.\n",
    "\n",
    "# Subespacios de $\\mathbb{R}^n$ (primera aproximación)\n",
    "\n",
    "## Teorema y definición\n",
    "\n",
    "Sea $S$ un subconjunto de $\\mathbb{R}^n$.\n",
    "\n",
    "$S=\\text{Nu}(A)$ para alguna matriz $A$\n",
    "**si y sólo si**\n",
    "$S=\\text{Co}(C)$ para alguna matriz $C$.\n",
    "\n",
    "Cuando existen las matrices $A$ y $C$ tales que \n",
    "$\\text{Nu}(A)=S=\\text{Co}(C)$, entonces el conjunto $S$ se llama **subespacio de $\\mathbb{R}^n$**.\n",
    "\n",
    "### Demostración\n",
    "\n",
    "Primero probaremos que **si** $S=\\text{Nu}(A)$ para alguna matriz $A$\n",
    "**entonces**\n",
    "$S=\\text{Co}(C)$ para alguna matriz $C$.\n",
    "\n",
    "Esto se debe a que $\\text{Nu}(A)$ es el conjunto solución del sistema homogéneo $[A:\\vec{b}]$. Usando los procedimientos ya vistos, se puede escribir la solución general como la combinación lineal $t_1 \\vec{v_1} + t_2 \\vec{v_2} + \\cdots + t_k \\vec{v_k}$.\n",
    "\n",
    "Si  $C=[ \\matrix{\\vec{v_1} & \\vec{v_2} &  \\cdots  & \\vec{v_k}}]$ \n",
    "entonces el conjunto solución de $[A:\\vec{b}]$ se puede escribir como $\\{ C\\vec{x} \\mid \\vec{t} \\in \\mathbb{R}^n\\}$, que corresponde al espacio columna de $C$, $\\text{Co}(C)$.\n",
    "\n",
    "Ahora probaremos que **si** \n",
    "$S=\\text{Co}(C)$ para alguna matriz $C$\n",
    "**entonces**\n",
    "$S=\\text{Nu}(A)$ para alguna matriz $A$.\n",
    "\n",
    "El conjunto de los vectores $\\vec{b}=\\left( \\matrix{b_1\\\\b_2\\\\ \\vdots \\\\ b_n} \\right)$ que pertenecen a $S$ está dado por aquellos vectores que hacen el sistema de ecuaciones $[C:\\vec{b}]$ consistente. Al encontrar la forma escalón de ese sistema se obtiene $[C':\\vec{b'}]$. Cada elemento de  $\\vec{b'}$ es una ecuación lineal en términos de los elemento de  $\\vec{b}$. En particular, con los renglones de $\\vec{b'}$  correspondientes a los renglones de ceros de $C'$, se obtiene en un sistema de ecuaciones homogéneo $[A:\\vec{0}]$ cuya solución corresponde a los elementos de $S$. Es decir, $S=\\text{Nu}(A)$.  \n",
    "\n",
    "\n"
   ]
  },
  {
   "cell_type": "markdown",
   "metadata": {},
   "source": [
    "\n",
    "\n",
    "## Ejercicio"
   ]
  },
  {
   "cell_type": "code",
   "execution_count": 23,
   "metadata": {},
   "outputs": [],
   "source": [
    "nombre=' escriba su nombre  '\n",
    "codigo=0          # escriba su código"
   ]
  },
  {
   "cell_type": "markdown",
   "metadata": {},
   "source": [
    "Sabiendo que $a$ es el último digito de su código y que $b$ es el penúltimo digito de su código. Para el sistema de ecuaciones siguente:\n",
    "$\\matrix{\n",
    "-2x_1 + ax_2 - bx_3 - (a+1)x_4 - (b-1)x_5 = -5\\\\\n",
    "0x_1 + 0x_2 - 10x_3 - 4x_4 - 4x_5 = -2\\\\\n",
    "6x_1 - 9x_2 + 34x_3 + 0x_4 + 1x_5 = -21}$\n",
    "\n",
    "1. Encontrar el sistema de ecuaciones homogéneo.\n",
    "2. Escribir la matriz extendida homogénea $[A:0]$.\n",
    "3. Encontrar la solución general del sistema homogéneo usando las mismas operaciones del taller anterior. Compare las dos soluciones generales.\n",
    "4. Encontrar $\\nu(A)$ y $\\rho(C)$.\n",
    "5. Escribir la matriz $C$ tal que $Nu(A)=Co(C)$.\n",
    "6. Multiplique la matriz $A$ por cada una de las columnas de la matriz $C$. Explique la respuesta.\n",
    "\n",
    "Contestar en las siguientes celdas y no cambiar los nombres."
   ]
  },
  {
   "cell_type": "code",
   "execution_count": null,
   "metadata": {},
   "outputs": [],
   "source": [
    "# 2.\n",
    "matriz_extendida_homogénea_Ab="
   ]
  },
  {
   "cell_type": "code",
   "execution_count": null,
   "metadata": {},
   "outputs": [],
   "source": [
    "# 3.\n",
    "funcion_solucion_general_ejercicio="
   ]
  },
  {
   "cell_type": "code",
   "execution_count": null,
   "metadata": {},
   "outputs": [],
   "source": [
    "# 4.\n",
    "nulidad="
   ]
  },
  {
   "cell_type": "code",
   "execution_count": null,
   "metadata": {},
   "outputs": [],
   "source": [
    "# 4.\n",
    "rango="
   ]
  },
  {
   "cell_type": "code",
   "execution_count": null,
   "metadata": {},
   "outputs": [],
   "source": [
    "# 5.\n",
    "Matriz_C_numpy="
   ]
  },
  {
   "cell_type": "code",
   "execution_count": null,
   "metadata": {},
   "outputs": [],
   "source": [
    "# Primera multiplicación del punto 6\n",
    "primera_mult="
   ]
  },
  {
   "cell_type": "code",
   "execution_count": null,
   "metadata": {},
   "outputs": [],
   "source": [
    "# Segunda multiplicación\n",
    "segunda_mult="
   ]
  },
  {
   "cell_type": "code",
   "execution_count": null,
   "metadata": {},
   "outputs": [],
   "source": [
    "# Tercera multiplicación si la hay\n",
    "tercera_mult="
   ]
  },
  {
   "cell_type": "code",
   "execution_count": null,
   "metadata": {},
   "outputs": [],
   "source": []
  }
 ],
 "metadata": {
  "kernelspec": {
   "display_name": "Python 3",
   "language": "python",
   "name": "python3"
  },
  "language_info": {
   "codemirror_mode": {
    "name": "ipython",
    "version": 3
   },
   "file_extension": ".py",
   "mimetype": "text/x-python",
   "name": "python",
   "nbconvert_exporter": "python",
   "pygments_lexer": "ipython3",
   "version": "3.7.4"
  }
 },
 "nbformat": 4,
 "nbformat_minor": 2
}
