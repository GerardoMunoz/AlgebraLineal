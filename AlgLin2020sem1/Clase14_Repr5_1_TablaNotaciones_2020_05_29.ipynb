{
 "cells": [
  {
   "cell_type": "code",
   "execution_count": 23,
   "metadata": {},
   "outputs": [],
   "source": [
    "# Omitir este código\n",
    "# Rutinas para visualizar puntos y líneas\n",
    "import matplotlib.pyplot as plt\n",
    "from matplotlib.patches import Arc\n",
    "import sympy as sp\n",
    "import math\n",
    "\n",
    "def angulo(ax,u,v,r,nombre='',fontsize=15):\n",
    "    alpha_u=math.degrees(math.atan2(u[1],u[0]))\n",
    "    alpha_v=math.degrees(math.atan2(v[1],v[0]))\n",
    "    ax.add_patch(Arc((0,0),r,r,0,alpha_u,alpha_v))\n",
    "    alpha=(alpha_u+alpha_v)/2\n",
    "    x=r*math.cos(math.radians(alpha))/2\n",
    "    y=r*math.sin(math.radians(alpha))/2\n",
    "    if nombre!='':\n",
    "        ax.text(x,y,nombre,fontsize=fontsize)\n",
    "\n",
    "\n",
    "def ejes(x0,y0,x1,y1,k=1):\n",
    "    #fig=plt.figure(figsize=(8,6),dpi=80)\n",
    "    #ax = plt.Axes(fig,[0.,0.,1.,1.])\n",
    "    ax = plt.axes([0.,0.,k,k*1.34*(y1-y0)/(x1-x0)])\n",
    "    ax.set_xlim(x0,x1)\n",
    "    ax.set_ylim(y0,y1)\n",
    "    punto2d(ax,(0,0),nombre=r'$\\vec{0}$')\n",
    "    return ax\n",
    "\n",
    "def ejes3d(x0,x1,y0,y1,z0,z1):\n",
    "    #fig=plt.figure(figsize=(8,6),dpi=80)\n",
    "    #ax = plt.Axes(fig,[0.,0.,1.,1.])\n",
    "    fig=plt.figure()\n",
    "    ax=fig.add_subplot(111,projection='3d')\n",
    "    ax.set_xlim([x0,x1])\n",
    "    ax.set_ylim([y0,y1])\n",
    "    ax.set_zlim([z0,z1])\n",
    "    return ax\n",
    "\n",
    "def flecha2d(ax,v,sumar=[0,0],nombre='',fontsize=15,**kwargs):\n",
    "    ax.arrow(float(sumar[0]),float(sumar[1]),float(v[0]),float(v[1]),head_width=0.2,head_length=0.2, length_includes_head=True,**kwargs)\n",
    "    if nombre!='':\n",
    "        ax.text(v[0]+sumar[0],v[1]+sumar[1],nombre,fontsize=fontsize)\n",
    "\n",
    "from mpl_toolkits.mplot3d import Axes3D\n",
    "\n",
    "def flecha3d(ax,A:sp.Matrix,B:sp.Matrix=None,nombres=None,fontsize=15,**kwargs):#problemas en 2D\n",
    "    if B==None:\n",
    "        B=sp.zeros(*A.shape)\n",
    "    elif A.shape!=B.shape:\n",
    "        raise ValueError('flechas(ax,A) o flechas(ax,A,B) y A y B son del mismo tamaño')\n",
    "\n",
    "    if isinstance(nombres,str):\n",
    "        if A.cols==1:\n",
    "            nombres=[nombres]\n",
    "        else:\n",
    "            nombres=[nombres+str(i) for i in range(A.cols)]\n",
    "    elif (isinstance(nombres,list)) and (len(nombres)!=A.cols):\n",
    "        raise ValueError('flechas(ax,A) o flechas(ax,A,n) y n=\"v\" o  len(n)!=A.cols')\n",
    "    elif not isinstance(nombres,list) and nombres!=None:\n",
    "        raise ValueError('n es str o list')\n",
    "        \n",
    "    if A.rows==2:\n",
    "        #v=A.col(0)\n",
    "        #sumar=B.col(0)\n",
    "        #ax.arrow(float(sumar[0]),float(sumar[1]),float(v[0]),float(v[1]),head_width=0.02,head_length=0.02, length_includes_head=True,**kwargs)\n",
    "        #if nombre!='':\n",
    "        #    ax.text(v[0]+sumar[0],v[1]+sumar[1],nombre,fontsize=fontsize)\n",
    "        ax.quiver(B.row(0),B.row(1),A.row(0),A.row(1),**kwargs)\n",
    "        if nombres!= None:\n",
    "            for i in range(A.cols):\n",
    "                ax.text(A.row(0)[i]+B.row(0)[i],A.row(1)[i]+B.row(1)[i],nombres[i],fontsize=fontsize)\n",
    "        \n",
    "    elif A.rows==3:\n",
    "        #AT=A.T\n",
    "        ax.quiver(B.row(0),B.row(1),B.row(2),A.row(0),A.row(1),A.row(2),**kwargs)\n",
    "        if nombres!= None:\n",
    "            for i in range(A.cols):\n",
    "                ax.text(A.row(0)[i]+B.row(0)[i],A.row(1)[i]+B.row(1)[i],A.row(2)[i]+B.row(2)[i],nombres[i],fontsize=fontsize)\n",
    "    else:\n",
    "        raise ValueError('Sólo imprime matrices de 2 o 3 renglones')\n",
    "\n",
    "\n",
    "def linea2d(ax,u,v=(0,0),color='k',**kwargs):\n",
    "    ax.plot((u[0],v[0]),(u[1],v[1]),color)\n",
    "        \n",
    "def punto2d(ax,v,nombre='',fontsize=15,color='k',**kwargs):\n",
    "    ax.scatter(*v,s=20,color=color)\n",
    "    if nombre!='':\n",
    "        ax.text(v[0],v[1],nombre,fontsize=fontsize)        \n",
    "        \n",
    "def juntar(*columnas):# apilar para col_join\n",
    "    A=columnas[0]\n",
    "    for columna in columnas[1:]:\n",
    "        A=A.row_join(columna)\n",
    "    return A\n",
    "\n",
    "def p(v):\n",
    "    return '('+', '.join([str(ai) for ai in v])+')\\u209c'"
   ]
  },
  {
   "cell_type": "code",
   "execution_count": 24,
   "metadata": {},
   "outputs": [
    {
     "data": {
      "image/png": "[encoded data removed]",
      "text/plain": [
       "<Figure size 432x288 with 1 Axes>"
      ]
     },
     "metadata": {
      "needs_background": "light"
     },
     "output_type": "display_data"
    }
   ],
   "source": [
    "# Omitir este código\n",
    "# Este código dibuja dos conjuntos anidados\n",
    "import matplotlib.pyplot as plt\n",
    "fig, ax = plt.subplots()\n",
    "\n",
    "puntos=[[3  ,6, 3 , 6,  6],  # x1 x2 x3 x4\n",
    "        [2.3,2, 2.7,2.2,2.7]]  # y1 y2 y3 y4\n",
    "ax.scatter(*puntos,s=100,color='k')\n",
    "\n",
    "lineas=[(3,6),(1.5,2),'k', #(x1,x4),(y1,y4),color\n",
    "        (3,6),(2.3,2),'k', #(x2,x4),(y2,y4),color\n",
    "        (3,6),(2.5,2),'k', #(x2,x4),(y3,y4),color\n",
    "        (3,6),(2.7,2.2),'k', #(x2,x4),(y3,y4),color\n",
    "        (3,6),(3,2.5),'k', #(x2,x4),(y3,y4),color\n",
    "        (3,6),(1,1.5),'k', #(x2,x4),(y3,y4),color\n",
    "       ]\n",
    "ax.plot(*lineas)\n",
    "\n",
    "\n",
    "ax.add_artist(plt.Circle((3, 2), 1, fill=False, color='k'))\n",
    "ax.add_artist(plt.Circle((6,2), 1, fill=False, color='k'))\n",
    "ax.add_artist(plt.Circle((6,2), 0.5, fill=False, color='k'))\n",
    "ax.add_artist(plt.Circle((3, 2), 0.5, fill=False,  color='k'))\n",
    "#ax.add_artist(plt.Circle((0.95, 0.5), 0.01,  color='k'))\n",
    "ax.text(4.5, 3, r'$T$',{'fontsize': 18})\n",
    "#ax.text(3.8, 3, r'$A\\vec{x}=\\vec{0}$',{'fontsize': 18})\n",
    "ax.text(6.1, 1.9, r'$\\vec{0}$',{'fontsize': 18})\n",
    "ax.text(3, 2.7, r\"$\\vec{a}_2$\",{'fontsize': 18})\n",
    "ax.text(3, 2.1, r\"$\\vec{a}_1$\",{'fontsize': 18})\n",
    "ax.text(6., 2.2, r\"$\\vec{b}_2=T(\\vec{a}_2)$\",{'fontsize': 18})\n",
    "ax.text(6.1, 2.7, r\"$\\vec{b}_3$\",{'fontsize': 18})\n",
    "ax.text(2.7, 1.7, r'$Núcleo$',{'fontsize': 18})\n",
    "ax.text(5.6, 1.7, r'$Imagen$',{'fontsize': 18})\n",
    "ax.text(2.7, 3, r'$Dominio$',{'fontsize': 18})\n",
    "ax.text(5.6, 3, r'$Codominio$',{'fontsize': 18})\n",
    "\n",
    "ax.axis('off')\n",
    "plt.show()"
   ]
  },
  {
   "cell_type": "markdown",
   "metadata": {},
   "source": [
    "# Núcleo e imagen"
   ]
  },
  {
   "cell_type": "markdown",
   "metadata": {},
   "source": [
    "Sea $T_A:\\mathbb{R}^n \\rightarrow \\mathbb{R}^m$ una transformación matricial, recordemos que el conjunto $\\mathbb{R}^n$ se llama el **dominio** de la transformación y el conjunto $\\mathbb{R}^m$ se llama el **codominio** de la transformación.\n",
    "\n",
    "## Núcleo\n",
    "\n",
    "El **núcleo de $T_A$** (denotado $\\text{Nu}(T_A)$) es el conjunto de los vectores $\\vec{x}$ que pertenecen al dominio tales que $T_A(\\vec{x})=0$.\n",
    "\n",
    "$\\text{Nu}(T_A)=\\{\\vec{x} \\mid T_A(\\vec{x})=0 \\in \\mathbb{R}^n \\}$\n",
    "\n",
    "En la figura anterior el vector $\\vec{a}_1$ pertenece al núcleo de $T_A$ porque es transformado en el vector $\\vec{0}$, mientras que  el vector $\\vec{a}_2$ no.\n",
    "\n",
    "El núcleo de $T_A$ es lo mismo que:\n",
    "* El conjunto de vectores $\\vec{x}$ que cumplen la ecuación $A\\vec{x}=\\vec{0}$\n",
    "* La solución del sistema homogéneo $[A:\\vec{0}]$\n",
    "* El espacio nulo de la matriz $A$\n",
    "\n",
    "Como el núcleo de $T_A$ es un subespacio del dominio, su dimensión se llama la **nulidad** de $T_A$ y se denota $\\nu(T_A)$.\n",
    "\n",
    "Una transformación $T$ es **inyectiva** si para cada vector  $\\vec{y}$ de la <u>imagen,</u> existe un <u>único</u> vector $\\vec{x}$ tal que  $T( \\vec{x}) = \\vec{y}$. \n",
    "\n",
    "Decir que una transformación matricial $T_A$ es inyectiva es lo mismo que decir cualquiera de las siguientes afirmaciones:\n",
    "* $\\text{Nu}(T_A)=\\{\\vec{0}\\}$\n",
    "* El sistema homogéneo $[A:\\vec{0}]$ tiene solución única\n",
    "* $A$ tiene un l-pivote en cada columna\n",
    "* $\\nu(A)=0$\n",
    "* Las columnas de $A$ son LI.\n",
    "\n",
    "## Imagen\n",
    "\n",
    "La **imagen de $T_A$** (denotada $\\text{Im}(T_A)$) es el conjunto de vectores $T_A(\\vec{x})$ del codominio para los cuales existe un vector $\\vec{x}$ en el dominio. \n",
    "\n",
    "$\\text{Im}(T_A)=\\{T_A(\\vec{x}) \\mid \\vec{x} \\in \\mathbb{R}^n \\}$\n",
    "\n",
    "En la figura anterior el vector $\\vec{b}_2$ pertenece a la imagen de $T$ porque existe el vector $\\vec{a}_2$ en el dominio tal que $\\vec{b}_2=T(\\vec{a}_2)$. \n",
    "\n",
    "La imagen de $T_A$ es lo mismo que:\n",
    "* El conjunto de vectores $\\vec{y}$ para que cumplen $A\\vec{x}=\\vec{y}$, para algún vector $x$.\n",
    "* El espacio columna de la matriz $A$.\n",
    "* El espacio generado por las columnas de la matriz $A$.\n",
    "\n",
    "Como la imagen de $T_A$ es un subespacio del codominio, su dimensión se llama el **rango** de $T_A$ y se denota $\\rho(T_A)$.\n",
    "\n",
    "\n",
    "Una transformación $T$ es **sobreyectiva** si para cada vector  $\\vec{y}$ del <u>codominio</u> existe algún vector $\\vec{x}$ tal que  $T( \\vec{x}) = \\vec{y}$. \n",
    "\n",
    "Decir que una transformación matricial $T_A$ es sobreyectiva es lo mismo que decir cualquiera de las siguientes afirmaciones:\n",
    "* $\\text{Im}(T_A)=\\mathbb{R}^m$\n",
    "* El sistema $[A:\\vec{b}]$ es consistente para todo $\\vec{b} \\in \\mathbb{R}^m$\n",
    "* $A$ tiene un l-pivote en cada <u>renglón</u>\n",
    "* $\\rho(A)=m$\n",
    "* Las columnas de $A$ son generan $\\mathbb{R}^m$.\n",
    "\n",
    "# Isomorfismo\n",
    "\n",
    "Una transformación de $\\mathbb{R}^n$ en $\\mathbb{R}^m$ es **biyectiva** si es inyectiva y sobreyectiva.\n",
    "\n",
    "Una transformación matricial biyectiva se llama un **isomorfismo**.\n",
    "\n",
    "Cada una de las siguientes afirmaciones es lo mismo que decir que $T_A$ es un isomorfismo.\n",
    "* $\\text{Im}(T_A)=\\mathbb{R}^m$ y $\\text{Nu}(T_A)=\\{\\vec{0}\\}$\n",
    "* El sistema $[A:\\vec{b}]$ tiene solución única para todo $\\vec{b} \\in \\mathbb{R}^m$\n",
    "* $A$ es cuadrada con $n$ l-pivotes\n",
    "* $\\rho(A)=m$ y $\\nu(A)=0$\n",
    "* Las columnas de $A$ son una base de $\\mathbb{R}^m$ \n",
    "* $A$ es invertible\n",
    "* $A$ es equivalente a la identidad"
   ]
  },
  {
   "cell_type": "markdown",
   "metadata": {},
   "source": [
    "# Ejercicio:"
   ]
  },
  {
   "cell_type": "code",
   "execution_count": 25,
   "metadata": {},
   "outputs": [],
   "source": [
    "nombre='?'\n",
    "codigo=0"
   ]
  },
  {
   "attachments": {},
   "cell_type": "markdown",
   "metadata": {},
   "source": [
    "Para las siguientes transformaciones matriciales:\n",
    "\n",
    "(i) $T_{A1}(\\vec{x})=\\left[ \\matrix{1&2&3 \\\\ 4&8&6} \\right]\\left( \\matrix{x_0 \\\\ x_1 \\\\ x_2} \\right)$\n",
    "\n",
    "(ii) $T_{A2}(\\vec{x})=\\left[ \\matrix{1+a&2\\\\3&4\\\\5&6} \\right]\\left( \\matrix{x_0\\\\x_1} \\right)$\n",
    "\n",
    "(iii) $T_{A3}(\\vec{x})=\\left[ \\matrix{1+b&2&3\\\\4&5&6\\\\7&8&0} \\right]\\left( \\matrix{x_0\\\\x_1\\\\x_2} \\right)$\n",
    "\n",
    "Halle:\n",
    "1. el dominio y el codominio \n",
    "2. la forma escalón y los pivotes de la matriz respectiva\n",
    "3. la nulidad ($\\nu$) y el rango ($\\rho$)\n",
    "4. la descripción geométrica del núcleo y de la imagen\n",
    "5. una base del núcleo y una base de la imagen\n",
    "6. una gráfica de los vectores de la base del núcleo y otra gráfica de los vectores de la base de la imagen\n",
    "7. si es inyectiva o sobreyectiva o si es un isomorfismo\n",
    "\n",
    "# Solución (i)\n",
    "\n",
    "Como la matriz tiene tres columnas, el dominio es de $\\mathbb{R}^3$. \n",
    "\n",
    "El codominio es de $\\mathbb{R}^2$ ya que la matriz tiene dos renglones."
   ]
  },
  {
   "cell_type": "code",
   "execution_count": 26,
   "metadata": {},
   "outputs": [
    {
     "data": {
      "text/latex": [
       "$\\displaystyle \\left[\\begin{matrix}1 & 2 & 3\\\\4 & 8 & 6\\end{matrix}\\right]$"
      ],
      "text/plain": [
       "Matrix([\n",
       "[1, 2, 3],\n",
       "[4, 8, 6]])"
      ]
     },
     "execution_count": 26,
     "metadata": {},
     "output_type": "execute_result"
    }
   ],
   "source": [
    "import sympy as sp\n",
    "A1=sp.Matrix([[ 1,2,3 ],[ 4,8,6]])\n",
    "A1"
   ]
  },
  {
   "cell_type": "markdown",
   "metadata": {},
   "source": [
    "2. Encontramos la forma escalón "
   ]
  },
  {
   "cell_type": "code",
   "execution_count": 27,
   "metadata": {},
   "outputs": [
    {
     "data": {
      "text/latex": [
       "$\\displaystyle \\left[\\begin{matrix}1 & 2 & 3\\\\4 & 8 & 6\\end{matrix}\\right]$"
      ],
      "text/plain": [
       "Matrix([\n",
       "[1, 2, 3],\n",
       "[4, 8, 6]])"
      ]
     },
     "execution_count": 27,
     "metadata": {},
     "output_type": "execute_result"
    }
   ],
   "source": [
    "M=A1[:,:] # hace una copia de la matriz evitando que ambas variables apunten la misma matriz\n",
    "M"
   ]
  },
  {
   "cell_type": "code",
   "execution_count": 28,
   "metadata": {},
   "outputs": [
    {
     "data": {
      "text/latex": [
       "$\\displaystyle \\left[\\begin{matrix}1 & 2 & 3\\\\0 & 0 & -6\\end{matrix}\\right]$"
      ],
      "text/plain": [
       "Matrix([\n",
       "[1, 2,  3],\n",
       "[0, 0, -6]])"
      ]
     },
     "execution_count": 28,
     "metadata": {},
     "output_type": "execute_result"
    }
   ],
   "source": [
    "M[1,:] += -4*M[0,:]\n",
    "M"
   ]
  },
  {
   "cell_type": "code",
   "execution_count": 29,
   "metadata": {},
   "outputs": [],
   "source": [
    "matriz_escalon_1=M"
   ]
  },
  {
   "cell_type": "markdown",
   "metadata": {},
   "source": [
    "La anterior matriz en forma escalón tiene pivotes en las columnas 0 y 2.\n",
    "\n",
    "3. Como hay una columna sin pivote, $\\nu(T_{A1})=1$. Como hay dos pivotes, $\\rho(T_{A1})=2$.  "
   ]
  },
  {
   "cell_type": "code",
   "execution_count": 30,
   "metadata": {},
   "outputs": [],
   "source": [
    "nulidad_1=1"
   ]
  },
  {
   "cell_type": "code",
   "execution_count": 31,
   "metadata": {},
   "outputs": [],
   "source": [
    "rango_1=2"
   ]
  },
  {
   "cell_type": "markdown",
   "metadata": {},
   "source": [
    "4. Como  $\\nu(T_{A1})=1$, el núcleo es una recta en $\\mathbb{R}^3$ (el dominio) que pasa por el origen. Como $\\rho(T_{A1})=2$, la imagen es un plano en $\\mathbb{R}^2$ (el codominio), es decir es todo $\\mathbb{R}^2$.\n",
    "\n",
    "5. Para encontrar la base de la imagen es suficiente quitar las columnas sin pivote"
   ]
  },
  {
   "cell_type": "code",
   "execution_count": 32,
   "metadata": {},
   "outputs": [
    {
     "data": {
      "text/latex": [
       "$\\displaystyle \\left[\\begin{matrix}1 & 3\\\\4 & 6\\end{matrix}\\right]$"
      ],
      "text/plain": [
       "Matrix([\n",
       "[1, 3],\n",
       "[4, 6]])"
      ]
     },
     "execution_count": 32,
     "metadata": {},
     "output_type": "execute_result"
    }
   ],
   "source": [
    "base_imagen_1 = A1[:,0].row_join(A1[:,2])\n",
    "base_imagen_1"
   ]
  },
  {
   "cell_type": "markdown",
   "metadata": {},
   "source": [
    "La base del núcleo son las soluciones particulares básicas del sistema homogéneo $[A:\\vec{0}]$, para encontrarlas usamos la matriz escalón."
   ]
  },
  {
   "cell_type": "code",
   "execution_count": 33,
   "metadata": {},
   "outputs": [
    {
     "data": {
      "text/latex": [
       "$\\displaystyle \\left[\\begin{matrix}1 & 2 & 3\\\\0 & 0 & -6\\end{matrix}\\right]$"
      ],
      "text/plain": [
       "Matrix([\n",
       "[1, 2,  3],\n",
       "[0, 0, -6]])"
      ]
     },
     "execution_count": 33,
     "metadata": {},
     "output_type": "execute_result"
    }
   ],
   "source": [
    "matriz_escalon_1"
   ]
  },
  {
   "cell_type": "markdown",
   "metadata": {},
   "source": [
    "$x_0 + 2x_1 + 3x_2 =0$\n",
    "\n",
    "$-6x_2=0$\n",
    "\n",
    "Como $x_1$ es una variable libre, se les asigna un parámetro. \n",
    "\n",
    "$x_1=t_0$\n",
    "\n",
    "Ahora se despejan las variables delanteras y se define la solución general "
   ]
  },
  {
   "cell_type": "code",
   "execution_count": 34,
   "metadata": {},
   "outputs": [
    {
     "data": {
      "text/plain": [
       "(-2, 1, 0)"
      ]
     },
     "execution_count": 34,
     "metadata": {},
     "output_type": "execute_result"
    }
   ],
   "source": [
    "def solucion_general_1(t0):\n",
    "    # variables libres\n",
    "    x1=t0\n",
    "    \n",
    "    # variables delanteras\n",
    "    x2=0\n",
    "    x0=-3*x2-2*x1\n",
    "    \n",
    "    return (x0,x1,x2)\n",
    "    \n",
    "solucion_particular_basica_1_t0 = solucion_general_1(1)\n",
    "\n",
    "solucion_particular_basica_1_t0"
   ]
  },
  {
   "cell_type": "code",
   "execution_count": 35,
   "metadata": {},
   "outputs": [
    {
     "data": {
      "text/latex": [
       "$\\displaystyle \\left[\\begin{matrix}-2\\\\1\\\\0\\end{matrix}\\right]$"
      ],
      "text/plain": [
       "Matrix([\n",
       "[-2],\n",
       "[ 1],\n",
       "[ 0]])"
      ]
     },
     "execution_count": 35,
     "metadata": {},
     "output_type": "execute_result"
    }
   ],
   "source": [
    "base_nucleo_1 = sp.Matrix(solucion_particular_basica_1_t0)\n",
    "\n",
    "base_nucleo_1"
   ]
  },
  {
   "cell_type": "markdown",
   "metadata": {},
   "source": [
    "6. A continuación, se grafica el vector de la base del núcleo como una flecha "
   ]
  },
  {
   "cell_type": "code",
   "execution_count": 36,
   "metadata": {},
   "outputs": [
    {
     "data": {
      "image/png": "[encoded data removed]",
      "text/plain": [
       "<Figure size 432x288 with 1 Axes>"
      ]
     },
     "metadata": {
      "needs_background": "light"
     },
     "output_type": "display_data"
    }
   ],
   "source": [
    "ax=ejes3d(-2,2,0,4,0,4)\n",
    "flecha3d(ax,base_nucleo_1,nombres=r'$u$')\n",
    "plt.show()"
   ]
  },
  {
   "cell_type": "markdown",
   "metadata": {},
   "source": [
    "A continuación, se grafican los vectores de la base de la imagen con flechas "
   ]
  },
  {
   "cell_type": "code",
   "execution_count": 37,
   "metadata": {},
   "outputs": [
    {
     "data": {
      "image/png": "[encoded data removed]",
      "text/plain": [
       "<Figure size 432x288 with 1 Axes>"
      ]
     },
     "metadata": {
      "needs_background": "light"
     },
     "output_type": "display_data"
    }
   ],
   "source": [
    "ax=ejes(0,0,10,7)\n",
    "flecha2d(ax,base_imagen_1[:,0],nombre='$v$') \n",
    "flecha2d(ax,base_imagen_1[:,1],nombre='$u$') \n",
    "plt.show()"
   ]
  },
  {
   "cell_type": "markdown",
   "metadata": {},
   "source": [
    "7."
   ]
  },
  {
   "cell_type": "code",
   "execution_count": 38,
   "metadata": {},
   "outputs": [],
   "source": [
    "sobreyectiva_1='si'"
   ]
  },
  {
   "cell_type": "code",
   "execution_count": 39,
   "metadata": {},
   "outputs": [],
   "source": [
    "inyectiva_1='no'"
   ]
  },
  {
   "cell_type": "code",
   "execution_count": 40,
   "metadata": {},
   "outputs": [],
   "source": [
    "isomorfismo_1='no'"
   ]
  },
  {
   "cell_type": "markdown",
   "metadata": {},
   "source": [
    "# Solución ii"
   ]
  },
  {
   "cell_type": "code",
   "execution_count": 41,
   "metadata": {},
   "outputs": [
    {
     "data": {
      "text/latex": [
       "$\\displaystyle \\left[\\begin{matrix}\\end{matrix}\\right]$"
      ],
      "text/plain": [
       "Matrix(0, 0, [])"
      ]
     },
     "execution_count": 41,
     "metadata": {},
     "output_type": "execute_result"
    }
   ],
   "source": [
    "A2=sp.Matrix()\n",
    "A2"
   ]
  },
  {
   "cell_type": "code",
   "execution_count": 42,
   "metadata": {},
   "outputs": [
    {
     "ename": "SyntaxError",
     "evalue": "invalid syntax (<ipython-input-42-7a88959c4f0e>, line 1)",
     "output_type": "error",
     "traceback": [
      "\u001b[1;36m  File \u001b[1;32m\"<ipython-input-42-7a88959c4f0e>\"\u001b[1;36m, line \u001b[1;32m1\u001b[0m\n\u001b[1;33m    matriz_escalon_2=\u001b[0m\n\u001b[1;37m                     ^\u001b[0m\n\u001b[1;31mSyntaxError\u001b[0m\u001b[1;31m:\u001b[0m invalid syntax\n"
     ]
    }
   ],
   "source": [
    "matriz_escalon_2="
   ]
  },
  {
   "cell_type": "code",
   "execution_count": null,
   "metadata": {},
   "outputs": [],
   "source": [
    "nulidad_2="
   ]
  },
  {
   "cell_type": "code",
   "execution_count": null,
   "metadata": {},
   "outputs": [],
   "source": [
    "rango_2="
   ]
  },
  {
   "cell_type": "code",
   "execution_count": null,
   "metadata": {},
   "outputs": [],
   "source": [
    "base_imagen_2="
   ]
  },
  {
   "cell_type": "code",
   "execution_count": null,
   "metadata": {},
   "outputs": [],
   "source": [
    "base_nucleo_2="
   ]
  },
  {
   "cell_type": "code",
   "execution_count": null,
   "metadata": {},
   "outputs": [],
   "source": [
    "# Gráfica núcleo"
   ]
  },
  {
   "cell_type": "code",
   "execution_count": null,
   "metadata": {},
   "outputs": [],
   "source": [
    "# Gráfica imagen"
   ]
  },
  {
   "cell_type": "code",
   "execution_count": null,
   "metadata": {},
   "outputs": [],
   "source": [
    "sobreyectiva_2='?'"
   ]
  },
  {
   "cell_type": "code",
   "execution_count": null,
   "metadata": {},
   "outputs": [],
   "source": [
    "inyectiva_2='?'"
   ]
  },
  {
   "cell_type": "code",
   "execution_count": null,
   "metadata": {},
   "outputs": [],
   "source": [
    "sobreyectiva_2='?'"
   ]
  },
  {
   "cell_type": "markdown",
   "metadata": {},
   "source": [
    "# Solución iii"
   ]
  },
  {
   "cell_type": "code",
   "execution_count": null,
   "metadata": {},
   "outputs": [],
   "source": [
    "A3=sp.Matrix()\n",
    "A3"
   ]
  },
  {
   "cell_type": "code",
   "execution_count": null,
   "metadata": {},
   "outputs": [],
   "source": [
    "matriz_escalon_3="
   ]
  },
  {
   "cell_type": "code",
   "execution_count": null,
   "metadata": {},
   "outputs": [],
   "source": [
    "nulidad_3="
   ]
  },
  {
   "cell_type": "code",
   "execution_count": null,
   "metadata": {},
   "outputs": [],
   "source": [
    "rango_3="
   ]
  },
  {
   "cell_type": "code",
   "execution_count": null,
   "metadata": {},
   "outputs": [],
   "source": [
    "base_imagen_3="
   ]
  },
  {
   "cell_type": "code",
   "execution_count": null,
   "metadata": {},
   "outputs": [],
   "source": [
    "base_nucleo_3="
   ]
  },
  {
   "cell_type": "code",
   "execution_count": null,
   "metadata": {},
   "outputs": [],
   "source": [
    "# Gráfica núcleo"
   ]
  },
  {
   "cell_type": "code",
   "execution_count": null,
   "metadata": {},
   "outputs": [],
   "source": [
    "# Gráfica imagen"
   ]
  },
  {
   "cell_type": "code",
   "execution_count": null,
   "metadata": {},
   "outputs": [],
   "source": [
    "sobreyectiva_3='?'"
   ]
  },
  {
   "cell_type": "code",
   "execution_count": null,
   "metadata": {},
   "outputs": [],
   "source": [
    "inyectiva_3='?'"
   ]
  },
  {
   "cell_type": "code",
   "execution_count": null,
   "metadata": {},
   "outputs": [],
   "source": [
    "sobreyectiva_3='?'"
   ]
  }
 ],
 "metadata": {
  "kernelspec": {
   "display_name": "Python 3",
   "language": "python",
   "name": "python3"
  },
  "language_info": {
   "codemirror_mode": {
    "name": "ipython",
    "version": 3
   },
   "file_extension": ".py",
   "mimetype": "text/x-python",
   "name": "python",
   "nbconvert_exporter": "python",
   "pygments_lexer": "ipython3",
   "version": "3.7.4"
  }
 },
 "nbformat": 4,
 "nbformat_minor": 2
}
