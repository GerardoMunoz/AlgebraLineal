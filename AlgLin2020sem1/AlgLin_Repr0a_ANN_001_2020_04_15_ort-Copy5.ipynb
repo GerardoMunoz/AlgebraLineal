{
 "cells": [
  {
   "cell_type": "markdown",
   "metadata": {},
   "source": [
    "# Universidad Distrital F. J. C.\n",
    "## Facultad De Ingeniería\n",
    "### Algebra Lineal\n",
    "#### Gerardo Muñoz\n",
    "gmunoz@udistrital.edu.co"
   ]
  },
  {
   "cell_type": "code",
   "execution_count": 1,
   "metadata": {},
   "outputs": [],
   "source": [
    "nombre='escriba aquí su nombre entre comillas'"
   ]
  },
  {
   "cell_type": "code",
   "execution_count": 2,
   "metadata": {},
   "outputs": [],
   "source": [
    "codigo=20202020202    # Remplace con su código"
   ]
  },
  {
   "cell_type": "markdown",
   "metadata": {
    "colab_type": "text",
    "id": "chwbbVE-k8Wk"
   },
   "source": [
    "\n",
    "* La variable `a` será el **último** digito de su código.\n",
    "* La variable `b` será el **penúltimo** digito de su código."
   ]
  },
  {
   "cell_type": "markdown",
   "metadata": {
    "colab_type": "text",
    "id": "-p601r8IZAbd"
   },
   "source": [
    "# Redes Neuronales Artificiales\n",
    "\n",
    "Con el fin de introducir los temas del curso, en esta sección explicaremos el fundamento de una Red Neuronal Artificial (ANN).\n",
    "\n",
    "## Neurona Artificial Lineal\n"
   ]
  },
  {
   "cell_type": "code",
   "execution_count": 3,
   "metadata": {
    "colab": {
     "base_uri": "https://localhost:8080/",
     "height": 256
    },
    "colab_type": "code",
    "id": "00-cMGn1ZAbe",
    "jupyter": {
     "source_hidden": true
    },
    "outputId": "83fd4b52-e2a7-43c0-e180-b52e83a586fc"
   },
   "outputs": [
    {
     "data": {
      "image/png": "[encoded data removed]",
      "text/plain": [
       "<Figure size 432x288 with 1 Axes>"
      ]
     },
     "metadata": {
      "needs_background": "light"
     },
     "output_type": "display_data"
    }
   ],
   "source": [
    "# Ignorar este código\n",
    "# Este código se usa para imprimir una neurona de tres entradas\n",
    "import matplotlib.pyplot as plt#.plot\n",
    "fig,ax=plt.subplots()\n",
    "\n",
    "puntos=[[0,0,0,1],  # x1 x2 x3 x4\n",
    "        [1,2,3,2]]  # y1 y2 y3 y4\n",
    "ax.scatter(*puntos,s=100,color='k')\n",
    "\n",
    "lineas=[(0,1),(1,2),'k', #(x1,x4),(y1,y4),color\n",
    "        (0,1),(2,2),'k', #(x2,x4),(y2,y4),color\n",
    "        (0,1),(3,2),'k', #(x2,x4),(y3,y4),color\n",
    "       ]\n",
    "ax.plot(*lineas)\n",
    "\n",
    "ax.text(-0.05, 1.1, r'$x_3$',{'fontsize': 18})\n",
    "ax.text(-0.05, 2.1, r'$x_2$',{'fontsize': 18})\n",
    "ax.text(-0.05, 3.1, r'$x_1$',{'fontsize': 18})\n",
    "ax.text(0.5, 1.6, r'$w_3$',{'fontsize': 18})\n",
    "ax.text(0.5, 2.05, r'$w_2$',{'fontsize': 18})\n",
    "ax.text(0.5, 2.5, r'$w_1$',{'fontsize': 18})\n",
    "ax.text(1, 2.1, r'$y$',{'fontsize': 18})\n",
    "\n",
    "ax.axis('off')\n",
    "plt.show()"
   ]
  },
  {
   "cell_type": "markdown",
   "metadata": {
    "colab_type": "text",
    "id": "Xv4pC0zY6v9x"
   },
   "source": [
    "Donde $w_1 x_1 + w_2 x_2 + \\cdots + w_n x_n = y$ \n",
    "\n",
    "\n",
    "**Una neurona artificial** consiste en:\n",
    "* un conjunto de **entradas** \n",
    "$\\vec{x}=\\left(\\matrix{x_1 \\\\ x_2 \\\\ \\vdots \\\\ x_n}\\right)$ \n",
    "* un conjunto de **pesos** $\\vec{w}=\\left(\\matrix{w_1 \\\\ w_2 \\\\ \\vdots \\\\ w_n}\\right)$ \n",
    "* una **función** $f$,  para este curso será la función identidad. (Usualmente la función es no lineal, pero este no es el caso).\n",
    "\n",
    "En este caso la salida de la neurona artificial lineal está dada por la siguiente operación vectorial conocida como producto punto. \n",
    "\n",
    "\n",
    "$y=\\vec{w} \\cdot \\vec{x}$\n",
    "\n",
    "<!--Gráficamente se visualiza de la siguiente forma-->\n"
   ]
  },
  {
   "cell_type": "markdown",
   "metadata": {
    "colab_type": "text",
    "id": "8zEzoEhtkicV"
   },
   "source": [
    "#### Ejercicio #1\n",
    "De acuerdo con su código, calcule los vectores\n",
    "\n",
    "$\\vec{x}=\\left(\\matrix{a-3 \\\\ a+1 \\\\ a-1 }\\right)$, $\\vec{w}=\\left(\\matrix{b+2 \\\\ b-1 \\\\ b}\\right)$ \n",
    "\n",
    "y finalmente calcule manualmente el valor de $y=\\vec{w} \\cdot \\vec{x}$. \n",
    "\n"
   ]
  },
  {
   "cell_type": "code",
   "execution_count": 4,
   "metadata": {},
   "outputs": [],
   "source": [
    "# Respuesta #1\n",
    "#y =                    # Colocar un número "
   ]
  },
  {
   "cell_type": "markdown",
   "metadata": {
    "colab_type": "text",
    "id": "j_lwdgaRZAbj"
   },
   "source": [
    "#### Ejercicio #2\n",
    "\n",
    "Con el mismo valor de \n",
    "$\\vec{x}=\\left(\\matrix{a-3 \\\\ a+1 \\\\ a-1 }\\right)$,\n",
    "descubra, con ensayo y error, un vector  $\\vec{w}$, sin ceros, tal que $y=10$. \n",
    "\n"
   ]
  },
  {
   "cell_type": "code",
   "execution_count": 5,
   "metadata": {},
   "outputs": [],
   "source": [
    "# Respuesta #2\n",
    "#w=                   # Colocar una tupla"
   ]
  },
  {
   "cell_type": "markdown",
   "metadata": {
    "colab_type": "text",
    "id": "r0PbR8JbnabG"
   },
   "source": [
    "## Capa Lineal Densa\n",
    "\n",
    "Una **capa lineal densa** consiste en un conjunto de neuronas artificiales que sólo comparten el vector de entradas "
   ]
  },
  {
   "cell_type": "code",
   "execution_count": 6,
   "metadata": {
    "colab": {
     "base_uri": "https://localhost:8080/",
     "height": 256
    },
    "colab_type": "code",
    "id": "5mbwRVtdZAbl",
    "jupyter": {
     "source_hidden": true
    },
    "outputId": "6c610d58-297c-4dd4-f994-2b57e6af8882"
   },
   "outputs": [
    {
     "data": {
      "image/png": "[encoded data removed]",
      "text/plain": [
       "<Figure size 432x288 with 1 Axes>"
      ]
     },
     "metadata": {
      "needs_background": "light"
     },
     "output_type": "display_data"
    }
   ],
   "source": [
    "# Ignorar este código\n",
    "# Este código es para dibujar una capa de 3 entradas, 2 salidas. \n",
    "import matplotlib.pyplot as plt#.plot\n",
    "fig,ax=plt.subplots()\n",
    "lineas=[(0,1),(1,1.5),'k',\n",
    "        (0,1),(2,1.5),'k',\n",
    "        (0,1),(3,1.5),'k',\n",
    "        (0,1),(1,2.5),'k',\n",
    "        (0,1),(2,2.5),'k',\n",
    "        (0,1),(3,2.5),'k',\n",
    "       ]\n",
    "ax.plot(*lineas)\n",
    "puntos=[[0,0,0,1,1],\n",
    "        [1,2,3,1.5,2.5]]\n",
    "ax.scatter(*puntos,s=100,color='k')\n",
    "ax.text(-0.05, 1.1, r'$x_1$',{'fontsize': 18})\n",
    "ax.text(-0.05, 2.1, r'$x_2$',{'fontsize': 18})\n",
    "ax.text(-0.05, 3.1, r'$x_3$',{'fontsize': 18})\n",
    "ax.text(0.8, 2.1, r'$w_{21}$',{'fontsize': 18})\n",
    "ax.text(0.8, 2.5, r'$w_{22}$',{'fontsize': 18})\n",
    "ax.text(0.8, 2.7, r'$w_{23}$',{'fontsize': 18})\n",
    "ax.text(0.8, 1.3, r'$w_{11}$',{'fontsize': 18})\n",
    "ax.text(0.8, 1.6, r'$w_{12}$',{'fontsize': 18})\n",
    "ax.text(0.8, 1.8, r'$w_{13}$',{'fontsize': 18})\n",
    "ax.text(1, 1.6, r'$y_1$',{'fontsize': 18})\n",
    "ax.text(1, 2.6, r'$y_2$',{'fontsize': 18})\n",
    "ax.axis('off')\n",
    "plt.show()"
   ]
  },
  {
   "cell_type": "markdown",
   "metadata": {
    "colab_type": "text",
    "id": "lz5HHBx5ZwJT"
   },
   "source": [
    "En este caso las ecuaciones quedan \n",
    "\n",
    "$y_1 = w_{11} x_1 + w_{12} x_2 + \\cdots + w_{1n} x_n $\n",
    "\n",
    "$y_2 = w_{21} x_1 + w_{22} x_2 + \\cdots + w_{2n} x_n $  \n",
    "\n",
    "$\\vdots$\n",
    "\n",
    "$y_m = w_{m1} x_1 + w_{m2} x_2 + \\cdots + w_{mn} x_n $ \n"
   ]
  },
  {
   "cell_type": "markdown",
   "metadata": {
    "colab_type": "text",
    "id": "XdrPRkxVcN5r"
   },
   "source": [
    "#### Ejemplo \n",
    "Suponga que tiene una red neuronal de 3 entradas y 2 salidas con los siguientes pesos:\n",
    "\n",
    "$w_{11}=0.3, w_{12}=1, w_{13}=0, w_{21}=0.8, w_{22}=0.3, w_{23}=0.5$ \n",
    "\n",
    "Si el vector de entradas es $\\vec{x}=\\left(\\matrix{0.7, 0.3, 0.5}\\right)$ calcule el vector de salidas."
   ]
  },
  {
   "cell_type": "code",
   "execution_count": 7,
   "metadata": {
    "colab": {},
    "colab_type": "code",
    "id": "1WU0ALBbE42B"
   },
   "outputs": [
    {
     "data": {
      "text/plain": [
       "(0.51, 0.8999999999999999)"
      ]
     },
     "execution_count": 7,
     "metadata": {},
     "output_type": "execute_result"
    }
   ],
   "source": [
    "(x1, x2, x3) = (0.7, 0.3, 0.5)\n",
    "\n",
    "(w11, w12, w13) = (0.3, 1.0, 0.0)\n",
    "(w21, w22, w23) = (0.8, 0.3, 0.5)\n",
    "\n",
    "y1 = w11*x1 + w12*x2 + w13*x3\n",
    "y2 = w21*x1 + w22*x2 + w23*x3\n",
    "\n",
    "(y1, y2)"
   ]
  },
  {
   "cell_type": "markdown",
   "metadata": {},
   "source": [
    "#### Ejercicio #3\n",
    "Con el mismo valor de los pesos calcule, manualmente o con python, el vector de salidas\n",
    "sabiendo que el vector de entrada es\n",
    "$\\vec{x}=\\left(\\matrix{ \\frac{a}{10} \\\\ \\frac{b}{10} \\\\ \\frac{a+b}{20} }\\right)$. Recuerde que $a$ y $b$ dependen de su código."
   ]
  },
  {
   "cell_type": "code",
   "execution_count": 8,
   "metadata": {},
   "outputs": [],
   "source": [
    "# Respuesta #3\n",
    "#y=                    # Colocar una tupla"
   ]
  },
  {
   "cell_type": "markdown",
   "metadata": {},
   "source": [
    "#### Cálculo de la salida \n",
    "La  rutina `calcula_salida` calcula un vector de salida dado un vector de entrada y la rutina `calcula_salidas` calcula varios vectores de salida, uno por cada uno de los vectores de entrada que recibe.  "
   ]
  },
  {
   "cell_type": "code",
   "execution_count": 9,
   "metadata": {},
   "outputs": [
    {
     "data": {
      "text/plain": [
       "[0.51, 0.8999999999999999]"
      ]
     },
     "execution_count": 9,
     "metadata": {},
     "output_type": "execute_result"
    }
   ],
   "source": [
    "def calcula_salida(x,w):\n",
    "    \"\"\" Calcula el vector de salida de la neurona lineal. Lista de flotantes.\n",
    "    \n",
    "    Parameters\n",
    "    ----------\n",
    "    x : vector de entrada. Lista de flotantes.\n",
    "    w : pesos de la capa. Lista de listas de flotantes.\n",
    "    \"\"\"  \n",
    "    y=[]                          # inicializa el vector de salida vacío\n",
    "    for i in range(len(w)):       # para cada una de las salidas:\n",
    "        yi=0                        # inicializa la sumatoria en cero\n",
    "        for j in range(len(x)):     # para cada una de las entradas:\n",
    "            yi=yi+w[i][j]*x[j]        # y_i = ... + w_ij * x_j \n",
    "        y.append(yi)                # almacena cada salida en el vector de salida\n",
    "    return y                      # retorna el vector de salida\n",
    "\n",
    "# Se calcula la salida del ejemplo anterior usando la rutina\n",
    "x=[x1, x2, x3]\n",
    "w=[[w11, w12, w13], [w21, w22, w23]]\n",
    "calcula_salida(x,w)"
   ]
  },
  {
   "cell_type": "code",
   "execution_count": 10,
   "metadata": {},
   "outputs": [
    {
     "data": {
      "text/plain": [
       "[[0.51, 0.8999999999999999], [0.69, 0.8200000000000001]]"
      ]
     },
     "execution_count": 10,
     "metadata": {},
     "output_type": "execute_result"
    }
   ],
   "source": [
    "# De este código sólo hay que tener en cuenta el comentario bajo la definición.\n",
    "def calcula_salidas(xs,w):\n",
    "    \"\"\" Calcula varios vectores de salida de las neuronas lineales. Lista de listas de flotantes.\n",
    "    \n",
    "    Parameters\n",
    "    ----------\n",
    "    xs : lista de vectores de entrada. Lista de listas de flotantes.\n",
    "    w : pesos de la capa. Lista de listas de flotantes.\n",
    "    \"\"\"  \n",
    "    ys=[]\n",
    "    for x in xs:\n",
    "        y=calcula_salida(x,w)\n",
    "        ys.append(y)\n",
    "    return ys\n",
    "\n",
    "# Se calcula la salida de dos vectores usando la rutina\n",
    "xs=[[x1, x2, x3], [0.3, 0.6, 0.8]]\n",
    "y_calc=calcula_salidas(xs, w)\n",
    "y_calc"
   ]
  },
  {
   "cell_type": "markdown",
   "metadata": {},
   "source": [
    "Observe que como la entrada tenía dos vectores, la salida también tienen dos vectores. El primer vector de salida corresponde al primer vector de entrada.\n"
   ]
  },
  {
   "cell_type": "markdown",
   "metadata": {},
   "source": [
    "## Ejemplo de las sombra de un cubo\n",
    "Usaremos una capa lineal en donde: \n",
    "* El vector $\\vec{x}$ de entrada es de tamaño 3 y representa un punto en flotando sobre el piso. (por ejemplo una pluma)\n",
    "* El vector $\\vec{y}$ de salida es de tamaño 2 y representa la sombra del punto en el piso.\n",
    "\n",
    "Para entrenar la capa lineal se usará la sombra de los siguientes 8 puntos de un cubo:"
   ]
  },
  {
   "cell_type": "code",
   "execution_count": 11,
   "metadata": {},
   "outputs": [],
   "source": [
    "#       x1  x2    x3\n",
    "cubo=[[0.5, 0.5, 0.5],\n",
    "      [0.5, 0.5, 1.0],\n",
    "      [0.5, 1.0, 0.5],\n",
    "      [0.5, 1.0, 1.0],\n",
    "      [1.0, 0.5, 0.5],\n",
    "      [1.0, 0.5, 1.0],\n",
    "      [1.0, 1.0, 0.5],\n",
    "      [1.0, 1.0, 1.0]] "
   ]
  },
  {
   "cell_type": "markdown",
   "metadata": {},
   "source": [
    "Las coordenadas de la sombra son:"
   ]
  },
  {
   "cell_type": "code",
   "execution_count": 12,
   "metadata": {},
   "outputs": [],
   "source": [
    "#         y1       y2\n",
    "sombra=[[0.5263, 0.5263], #d=10\n",
    "        [0.5555, 0.5555],\n",
    "        [0.5263, 1.0526],\n",
    "        [0.5555, 1.1111],\n",
    "        [1.0526, 0.5263],\n",
    "        [1.1111, 0.5555],\n",
    "        [1.0526, 1.0526],\n",
    "        [1.1111, 1.1111]]"
   ]
  },
  {
   "cell_type": "markdown",
   "metadata": {},
   "source": [
    "La siguiente rutina permite dibujar la sombra. "
   ]
  },
  {
   "cell_type": "code",
   "execution_count": 13,
   "metadata": {},
   "outputs": [
    {
     "data": {
      "image/png": "[encoded data removed]",
      "text/plain": [
       "<Figure size 432x288 with 1 Axes>"
      ]
     },
     "metadata": {
      "needs_background": "light"
     },
     "output_type": "display_data"
    }
   ],
   "source": [
    "# De este código sólo hay que tener en cuenta el comentario bajo la definición.  \n",
    "import numpy as np\n",
    "def dibuja(sombra):\n",
    "    \"\"\"\n",
    "    Se define una rutina para dibujar los puntos de la sombra y los arcos\n",
    "    \n",
    "    Parameters\n",
    "    ----------\n",
    "    sombra : Lista de puntos de la sombra. Lista de listas de flotantes.\n",
    "    \"\"\"\n",
    "    p=np.array(sombra)\n",
    "    plt.scatter(*p.T,color='black')\n",
    "    p1=[sombra[0],sombra[2],\n",
    "        sombra[6],sombra[4],\n",
    "        sombra[0],sombra[1],\n",
    "        sombra[3],sombra[2],sombra[3],\n",
    "        sombra[7],sombra[6],sombra[7],\n",
    "        sombra[5],sombra[4],sombra[5],\n",
    "        sombra[1]]\n",
    "    p1=np.array(p1)\n",
    "    l1=p1.transpose()\n",
    "    plt.plot(*l1,color='black')\n",
    "    plt.axis([0, 1.2, 0, 1.2])\n",
    "    return plt.show()\n",
    "\n",
    "# Se dibuja la sombra\n",
    "dibuja(sombra)"
   ]
  },
  {
   "cell_type": "markdown",
   "metadata": {},
   "source": [
    "A continuación calculamos la salida de la capa lineal cuando entran los puntos del cubo. Y después se dibujan esos puntos calculados."
   ]
  },
  {
   "cell_type": "code",
   "execution_count": 14,
   "metadata": {},
   "outputs": [
    {
     "data": {
      "image/png": "[encoded data removed]",
      "text/plain": [
       "<Figure size 432x288 with 1 Axes>"
      ]
     },
     "metadata": {
      "needs_background": "light"
     },
     "output_type": "display_data"
    },
    {
     "data": {
      "text/plain": [
       "[[0.65, 0.8],\n",
       " [0.65, 1.05],\n",
       " [1.15, 0.95],\n",
       " [1.15, 1.2],\n",
       " [0.8, 1.2000000000000002],\n",
       " [0.8, 1.4500000000000002],\n",
       " [1.3, 1.35],\n",
       " [1.3, 1.6]]"
      ]
     },
     "execution_count": 14,
     "metadata": {},
     "output_type": "execute_result"
    }
   ],
   "source": [
    "y_calc=calcula_salidas(cubo,w)\n",
    "dibuja(y_calc)\n",
    "y_calc"
   ]
  },
  {
   "cell_type": "markdown",
   "metadata": {},
   "source": [
    "Es muy notoria la diferencia entre los puntos de la sombra y los puntos calculados con la capa lineal. Pero es necesario cuantificar esta diferencia.\n",
    "\n",
    "### Error cuadrático medio.\n",
    "\n",
    "Antes de modificar los pesos es necesario medir que tan alejada está la salida calculada $\\vec{y'}$ de la salida esperada $\\vec{y}$. Para esto usaremos el **error cuadrático medio** (MSE), el cual está dado por la siguiente fórmula:\n",
    "\n",
    "$\\text{MSE}(\\vec{y_j'},\\vec{y_J'})=\\frac{1}{n}\\sum_{i=1}^n(y'_i-y_i)^2$ \n",
    "\n",
    "El error cuadrático medio de $m$ parejas de vectores $(\\vec{y_j'},\\vec{y_j})$ es:\n",
    "\n",
    "$\\frac{1}{nm}\\sum_{i=1}^n\\sum_{i=1}^m(y'_{ij}-y_{ij})^2$\n"
   ]
  },
  {
   "cell_type": "code",
   "execution_count": 15,
   "metadata": {},
   "outputs": [
    {
     "name": "stdout",
     "output_type": "stream",
     "text": [
      "El error de la salida calculada es 0.18396797750000005\n"
     ]
    }
   ],
   "source": [
    "# De este código sólo hay que tener en cuenta el comentario bajo la definición.  \n",
    "\n",
    "def calcula_error(y_a,y_b):\n",
    "    \"\"\" \n",
    "    Calcula el error cuadrático medio\n",
    "    \n",
    "    Parameters\n",
    "    ----------\n",
    "    x : lista de vectores de entradas. Lista de listas de flotantes.\n",
    "    w : pesos de la red. Lista de lista de flotantes.\n",
    "    y : lista de vectores de salida. Lista de listas de flotantes.\n",
    "    \"\"\"  \n",
    "    error=0\n",
    "    m=len(y_a)\n",
    "    n=len(y_a[0])\n",
    "    for j in range(m):\n",
    "        yaj=y_a[j]\n",
    "        ybj=y_b[j]\n",
    "        for i in range(n):\n",
    "            error=error+(yaj[i]-ybj[i])**2\n",
    "    return error/(n*m)\n",
    "\n",
    "error=calcula_error(sombra,y_calc)\n",
    "print('El error de la salida calculada es',error)"
   ]
  },
  {
   "cell_type": "markdown",
   "metadata": {},
   "source": [
    "#### Ejercicio #4\n",
    "1. Encuentre mediante ensayo y error un valor de `w` (por ejemplo\n",
    "`w=[[0.6, 0.3, 0.5], [0.7, 0.5, 0.6]]`) pero que genere un error menor que `0.183`. \n",
    "\n",
    "2. Calcule el respectivo error.\n",
    "\n",
    "3. Genere la gráfica de los datos generados.\n"
   ]
  },
  {
   "cell_type": "code",
   "execution_count": 16,
   "metadata": {},
   "outputs": [],
   "source": [
    "# Respuesta #4.1\n",
    "#w="
   ]
  },
  {
   "cell_type": "code",
   "execution_count": 17,
   "metadata": {},
   "outputs": [],
   "source": [
    "# Respuesta #4.2\n",
    "#error="
   ]
  },
  {
   "cell_type": "code",
   "execution_count": 18,
   "metadata": {},
   "outputs": [],
   "source": [
    "# Respuesta #4.3\n"
   ]
  },
  {
   "cell_type": "markdown",
   "metadata": {},
   "source": [
    "### Retropropagación\n",
    "Recordemos que la derivada de una función permite determinar cómo aumenta la función en un determinado punto. Si seguimos paso a paso la dirección en que disminuye la función, podemos acercarnos a un mínimo local. \n",
    "\n",
    "Al derivar el error respecto al peso $w_{ij}$ se obtiene $-x_j(y'_i-y_i)$. De esta forma es posible calcular un nuevo peso que disminuye el error.\n",
    "\n",
    "$w'_{ij}=w_{ij}+\\eta x_j(y'_i-y_i)$\n",
    "\n",
    "Donde $\\eta$ determina el tamaño del paso que se da. \n",
    "\n",
    "Este algoritmo se llama de **retropropagación** porque se aplica a multiples capas empezando desde las capas de salida hacia las capas de entrada.\n"
   ]
  },
  {
   "cell_type": "code",
   "execution_count": 19,
   "metadata": {},
   "outputs": [
    {
     "data": {
      "text/plain": [
       "([[0.23814999999999997, 0.93815, -0.061850000000000016],\n",
       "  [0.66315, 0.16314999999999996, 0.36315]],\n",
       " 0.09655220625)"
      ]
     },
     "execution_count": 19,
     "metadata": {},
     "output_type": "execute_result"
    }
   ],
   "source": [
    "import copy\n",
    "def backprop_lin(x,w_ant,y_esp,y_calc,va=0.1):\n",
    "    \"\"\" Recalcula los pesos de la capa lineal \n",
    "    \n",
    "    Parameters\n",
    "    ----------\n",
    "    x : vector de entradas. Lista de flotantes.\n",
    "    w : pesos de la red. Lista de lista de flotantes.\n",
    "    ye : vector de salida esperado. Lista de flotantes.\n",
    "    yc : vector de salida calculado. Lista de flotantes.\n",
    "    va=0.1 : velocidad de aprendizaje. Flotante.\n",
    "    \"\"\"  \n",
    "    #yc=calcula_salida(x,w_ant)\n",
    "    w_sig=copy.deepcopy(w_ant) # copia los pesos \n",
    "    for i in range(len(w_sig)): # para cada una de las salidas\n",
    "        for j in range(len(w_sig[0])): # para cada una de las entradas\n",
    "            #print('w_sig,va,x,y_esp,y_calc',w_sig,va,x,y_esp,y_calc)\n",
    "            w_sig[i][j]=w_sig[i][j]+va*x[j]*(y_esp[i]-y_calc[i]) # se calcula el nuevo peso i,j\n",
    "    return w_sig # retorna los nuevos pesos\n",
    "\n",
    "x=cubo[0]\n",
    "ye=sombra[0]\n",
    "#calcula_error(y_calc,sombra)\n",
    "yc=calcula_salida(x,w)\n",
    "w_calc=backprop_lin(x,w,ye,yc,1)\n",
    "w_calc,calcula_error(calcula_salidas(cubo,w_calc),sombra)\n"
   ]
  },
  {
   "cell_type": "markdown",
   "metadata": {},
   "source": [
    "El **entrenamiento** consiste en aplicar el anterior algoritmo con todo el conjunto de datos. Si el error aún es muy grande entonces es necesario repetir este proceso. Las **épocas** es el número de veces que se repite todo el conjunto de datos."
   ]
  },
  {
   "cell_type": "code",
   "execution_count": 20,
   "metadata": {},
   "outputs": [
    {
     "name": "stdout",
     "output_type": "stream",
     "text": [
      "Epoca: 0 error: 0.18396797750000005\n"
     ]
    },
    {
     "data": {
      "image/png": "[encoded data removed]",
      "text/plain": [
       "<Figure size 432x288 with 1 Axes>"
      ]
     },
     "metadata": {
      "needs_background": "light"
     },
     "output_type": "display_data"
    },
    {
     "name": "stdout",
     "output_type": "stream",
     "text": [
      "Epoca: 1 error: 0.05981447393357957\n"
     ]
    },
    {
     "data": {
      "image/png": "[encoded data removed]",
      "text/plain": [
       "<Figure size 432x288 with 1 Axes>"
      ]
     },
     "metadata": {
      "needs_background": "light"
     },
     "output_type": "display_data"
    },
    {
     "name": "stdout",
     "output_type": "stream",
     "text": [
      "Epoca: 2 error: 0.036729941759601974\n"
     ]
    },
    {
     "data": {
      "image/png": "[encoded data removed]",
      "text/plain": [
       "<Figure size 432x288 with 1 Axes>"
      ]
     },
     "metadata": {
      "needs_background": "light"
     },
     "output_type": "display_data"
    },
    {
     "name": "stdout",
     "output_type": "stream",
     "text": [
      "Epoca: 3 error: 0.023166040585458306\n"
     ]
    },
    {
     "data": {
      "image/png": "[encoded data removed]",
      "text/plain": [
       "<Figure size 432x288 with 1 Axes>"
      ]
     },
     "metadata": {
      "needs_background": "light"
     },
     "output_type": "display_data"
    },
    {
     "name": "stdout",
     "output_type": "stream",
     "text": [
      "Epoca: 4 error: 0.01496580985480134\n"
     ]
    },
    {
     "data": {
      "image/png": "[encoded data removed]",
      "text/plain": [
       "<Figure size 432x288 with 1 Axes>"
      ]
     },
     "metadata": {
      "needs_background": "light"
     },
     "output_type": "display_data"
    },
    {
     "name": "stdout",
     "output_type": "stream",
     "text": [
      "Epoca: 5 error: 0.009895374334138491\n"
     ]
    },
    {
     "data": {
      "image/png": "[encoded data removed]",
      "text/plain": [
       "<Figure size 432x288 with 1 Axes>"
      ]
     },
     "metadata": {
      "needs_background": "light"
     },
     "output_type": "display_data"
    },
    {
     "name": "stdout",
     "output_type": "stream",
     "text": [
      "Epoca: 6 error: 0.006708407944255233\n"
     ]
    },
    {
     "data": {
      "image/png": "[encoded data removed]",
      "text/plain": [
       "<Figure size 432x288 with 1 Axes>"
      ]
     },
     "metadata": {
      "needs_background": "light"
     },
     "output_type": "display_data"
    },
    {
     "name": "stdout",
     "output_type": "stream",
     "text": [
      "Epoca: 7 error: 0.004683530842301001\n"
     ]
    },
    {
     "data": {
      "image/png": "[encoded data removed]",
      "text/plain": [
       "<Figure size 432x288 with 1 Axes>"
      ]
     },
     "metadata": {
      "needs_background": "light"
     },
     "output_type": "display_data"
    },
    {
     "name": "stdout",
     "output_type": "stream",
     "text": [
      "Epoca: 8 error: 0.003389193513614815\n"
     ]
    },
    {
     "data": {
      "image/png": "[encoded data removed]",
      "text/plain": [
       "<Figure size 432x288 with 1 Axes>"
      ]
     },
     "metadata": {
      "needs_background": "light"
     },
     "output_type": "display_data"
    },
    {
     "name": "stdout",
     "output_type": "stream",
     "text": [
      "Epoca: 9 error: 0.002560081952221325\n"
     ]
    },
    {
     "data": {
      "image/png": "[encoded data removed]",
      "text/plain": [
       "<Figure size 432x288 with 1 Axes>"
      ]
     },
     "metadata": {
      "needs_background": "light"
     },
     "output_type": "display_data"
    },
    {
     "name": "stdout",
     "output_type": "stream",
     "text": [
      "Epoca: 10 error: 0.002029630225071338\n"
     ]
    },
    {
     "data": {
      "image/png": "[encoded data removed]",
      "text/plain": [
       "<Figure size 432x288 with 1 Axes>"
      ]
     },
     "metadata": {
      "needs_background": "light"
     },
     "output_type": "display_data"
    },
    {
     "name": "stdout",
     "output_type": "stream",
     "text": [
      "Epoca: 11 error: 0.0016916958196807799\n"
     ]
    },
    {
     "data": {
      "image/png": "[encoded data removed]",
      "text/plain": [
       "<Figure size 432x288 with 1 Axes>"
      ]
     },
     "metadata": {
      "needs_background": "light"
     },
     "output_type": "display_data"
    },
    {
     "name": "stdout",
     "output_type": "stream",
     "text": [
      "Epoca: 12 error: 0.0014779760721268594\n"
     ]
    },
    {
     "data": {
      "image/png": "[encoded data removed]",
      "text/plain": [
       "<Figure size 432x288 with 1 Axes>"
      ]
     },
     "metadata": {
      "needs_background": "light"
     },
     "output_type": "display_data"
    },
    {
     "name": "stdout",
     "output_type": "stream",
     "text": [
      "Epoca: 13 error: 0.0013442683470611028\n"
     ]
    },
    {
     "data": {
      "image/png": "[encoded data removed]",
      "text/plain": [
       "<Figure size 432x288 with 1 Axes>"
      ]
     },
     "metadata": {
      "needs_background": "light"
     },
     "output_type": "display_data"
    },
    {
     "name": "stdout",
     "output_type": "stream",
     "text": [
      "Epoca: 14 error: 0.0012618951908165595\n"
     ]
    },
    {
     "data": {
      "image/png": "[encoded data removed]",
      "text/plain": [
       "<Figure size 432x288 with 1 Axes>"
      ]
     },
     "metadata": {
      "needs_background": "light"
     },
     "output_type": "display_data"
    },
    {
     "name": "stdout",
     "output_type": "stream",
     "text": [
      "w_final= [[1.0240308782941685, 0.004725081211734872, 0.09231752435671037], [-0.005527336521729209, 1.066381828601984, 0.06708008122708253]]\n"
     ]
    }
   ],
   "source": [
    "def entrenamiento(xs, w, y_esp, va=0.1, epocas=1, dibujar=True):\n",
    "    \"\"\" Entrena la capa\n",
    "    \n",
    "    Parameters\n",
    "    ----------\n",
    "    xs : lista de vectores de entradas. Lista de listas de flotantes.\n",
    "    w : pesos de la red. Lista de lista de flotantes.\n",
    "    ys : lista de vectores de salida esperados. Lista de listas de flotantes.\n",
    "    epocas : número de veces que repite el entrenamiento. Entero \n",
    "    \"\"\"  \n",
    "    w1=w#copy.deepcopy(w)\n",
    "    for k in range(epocas):\n",
    "        y_calc=calcula_salidas(cubo,w1)\n",
    "        print('Epoca:',k,'error:',calcula_error(y_calc,sombra))\n",
    "\n",
    "        if dibujar==True:\n",
    "            dibuja(y_calc)        \n",
    "        \n",
    "        for i in range(len(xs)):\n",
    "            x=xs[i]\n",
    "            ye=y_esp[i]\n",
    "            yc= calcula_salida(cubo[i],w1)\n",
    "            w1=backprop_lin(x,w1,ye,yc,va)\n",
    "    return w1\n",
    "    \n",
    "w=[[w11, w12, w13], [w21, w22, w23]]\n",
    "\n",
    "w_final=entrenamiento(cubo,w,sombra,0.5,15)\n",
    "\n",
    "print('w_final=',w_final)"
   ]
  },
  {
   "cell_type": "markdown",
   "metadata": {},
   "source": [
    "En este caso, luego de 15 épocas los datos calculados se parecen a las coordenadas de la sombra que se muestra a continuación. "
   ]
  },
  {
   "cell_type": "code",
   "execution_count": 21,
   "metadata": {},
   "outputs": [
    {
     "data": {
      "image/png": "[encoded data removed]",
      "text/plain": [
       "<Figure size 432x288 with 1 Axes>"
      ]
     },
     "metadata": {
      "needs_background": "light"
     },
     "output_type": "display_data"
    }
   ],
   "source": [
    "dibuja(sombra)"
   ]
  },
  {
   "cell_type": "markdown",
   "metadata": {},
   "source": [
    "#### Ejercicio #5\n",
    "Dibuje la sombra generada por los siguientes valores"
   ]
  },
  {
   "cell_type": "code",
   "execution_count": 22,
   "metadata": {},
   "outputs": [],
   "source": [
    "sombra2=[[0.8125, 0.8125], #d=1.3\n",
    "         [2.1666, 2.1666],\n",
    "         [0.8125, 1.6250],\n",
    "         [2.1666, 4.3330],\n",
    "         [1.6250, 0.8125],\n",
    "         [4.3333, 2.1666],\n",
    "         [1.6250, 1.6250],\n",
    "         [4.3333, 4.3333]]"
   ]
  },
  {
   "cell_type": "code",
   "execution_count": 23,
   "metadata": {},
   "outputs": [],
   "source": [
    "# Respuesta #5"
   ]
  },
  {
   "cell_type": "markdown",
   "metadata": {},
   "source": [
    "#### Ejercicio #6\n",
    "Utilice los anteriores valores de `sombra2` para entrenar nuevamente la red con la rutina `entrenamiento` "
   ]
  },
  {
   "cell_type": "code",
   "execution_count": 24,
   "metadata": {},
   "outputs": [],
   "source": [
    "# Respuesta #6"
   ]
  },
  {
   "cell_type": "markdown",
   "metadata": {},
   "source": [
    "#### Ejercicio #7\n",
    "Compare el error de la primera sombra con respecto a la segunda ¿Cuál es menor? ¿Por qué razón?"
   ]
  },
  {
   "cell_type": "code",
   "execution_count": 25,
   "metadata": {},
   "outputs": [],
   "source": [
    "# Respuesta #7\n",
    "comparacion_1=' ... porque ...'"
   ]
  },
  {
   "cell_type": "markdown",
   "metadata": {},
   "source": [
    "## Fórmula exacta de la sombra\n",
    "\n",
    "Utilizando la semejanza de los triángulos podemos obtener la fórmula de la sombra."
   ]
  },
  {
   "cell_type": "code",
   "execution_count": 26,
   "metadata": {
    "jupyter": {
     "source_hidden": true
    }
   },
   "outputs": [
    {
     "data": {
      "image/png": "[encoded data removed]",
      "text/plain": [
       "<Figure size 432x288 with 1 Axes>"
      ]
     },
     "metadata": {
      "needs_background": "light"
     },
     "output_type": "display_data"
    }
   ],
   "source": [
    "# Ignorar este código\n",
    "# Este código se usa para dibujar la equivalencia de tirángulos\n",
    "import matplotlib.pyplot as plt#.plot\n",
    "fig,ax=plt.subplots()\n",
    "\n",
    "puntos=[[0,1,2,0],  # x1 x2 x3 x4\n",
    "        [2,1,0,0]]  # y1 y2 y3 y4\n",
    "ax.scatter(*puntos,s=100,color='k')\n",
    "\n",
    "lineas=[(0,0),(0,2),'k', #(x1,x4),(y1,y4),color\n",
    "        (0,2),(0,0),'k', #(x2,x4),(y2,y4),color\n",
    "        (0,2),(2,0),'k', #(x2,x4),(y3,y4),color\n",
    "        (0,1),(1,1),'k', #(x2,x4),(y3,y4),color\n",
    "       ]\n",
    "ax.plot(*lineas)\n",
    "\n",
    "ax.text(0.1, 2, r'$(0,0,d)$ Fuente de luz',{'fontsize': 18})\n",
    "ax.text(1.1, 1, r'$(0,x_2,x_3)$ Objeto con $x_1=0$',{'fontsize': 18})\n",
    "ax.text(2.1, 0, r'$(0,y_2,0)$ Sombra',{'fontsize': 18})\n",
    "ax.text(0, 0.1, r'$(0,0,0)$ Origen',{'fontsize': 18})\n",
    "ax.text(1, -0.1, r'$y_2$',{'fontsize': 18})\n",
    "ax.text(-0.1, 1, r'$d$',{'fontsize': 18})\n",
    "ax.text(0.5, 1.1, r'$x_2$',{'fontsize': 18})\n",
    "ax.text(0.1, 0.5, r'$x_3$',{'fontsize': 18})\n",
    "\n",
    "ax.axis('off')\n",
    "plt.show()"
   ]
  },
  {
   "cell_type": "markdown",
   "metadata": {},
   "source": [
    "$\\frac{y_2}{d}=\\frac{x_2}{d-x_3} \\Rightarrow y_2= \\frac{x_2 d}{d-x_3}$\n",
    "\n",
    "De manera análoga se obtiene\n",
    "\n",
    "$\\frac{y_1}{d}=\\frac{x_1}{d-x_3} \\Rightarrow y_1= \\frac{x_1 d}{d-x_3}$\n"
   ]
  },
  {
   "cell_type": "markdown",
   "metadata": {},
   "source": [
    "#### Ejercicio #8\n",
    "\n",
    "Argumente el ejercicio #7 desde la perspectiva de la anterior fórmula."
   ]
  },
  {
   "cell_type": "code",
   "execution_count": 27,
   "metadata": {},
   "outputs": [],
   "source": [
    "# Respuesta #8\n",
    "comparacion_2=' ... porque ...'"
   ]
  },
  {
   "cell_type": "markdown",
   "metadata": {},
   "source": [
    "#### Ejercicio (opcional, no entregar)\n",
    "* Con alfileres o clips arme un cubo \n",
    "* Con una lampara proyecte una sombra y tómele una foto\n",
    "* Determine las coordenadas del cubo y de la sombra\n",
    "* Entrene con esos datos la red neuronal\n",
    "* Calcule el error \n",
    "* Repita el ejercicio varias veces a diferentes distancias de la lámpara y determine a que distancias se aproxima mejor\n"
   ]
  },
  {
   "cell_type": "code",
   "execution_count": null,
   "metadata": {},
   "outputs": [],
   "source": []
  },
  {
   "cell_type": "code",
   "execution_count": null,
   "metadata": {},
   "outputs": [],
   "source": []
  }
 ],
 "metadata": {
  "colab": {
   "collapsed_sections": [],
   "name": "AlgLin_Repr0_ANN_001_2020_04_15.ipynb",
   "provenance": []
  },
  "kernelspec": {
   "display_name": "Python 3",
   "language": "python",
   "name": "python3"
  },
  "language_info": {
   "codemirror_mode": {
    "name": "ipython",
    "version": 3
   },
   "file_extension": ".py",
   "mimetype": "text/x-python",
   "name": "python",
   "nbconvert_exporter": "python",
   "pygments_lexer": "ipython3",
   "version": "3.7.4"
  }
 },
 "nbformat": 4,
 "nbformat_minor": 4
}
