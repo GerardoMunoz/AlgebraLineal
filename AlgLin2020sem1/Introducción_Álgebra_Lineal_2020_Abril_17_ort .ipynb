{
 "cells": [
  {
   "cell_type": "markdown",
   "metadata": {},
   "source": [
    "# Universidad Distrital F. J. C.\n",
    "## Facultad De Ingeniería\n",
    "### Algebra Lineal\n",
    "#### Gerardo Muñoz\n",
    "gmunoz@udistrital.edu.co"
   ]
  },
  {
   "cell_type": "markdown",
   "metadata": {},
   "source": [
    "# Contenido\n",
    "* Introducción\n",
    "* Jupyter\n",
    "* Markdown\n",
    "* Latex\n",
    "* Python\n",
    "    * Calcular el promedio y la desviación estándar\n",
    "        * Enteros:  -2, -1, 0, 1, 2\n",
    "        * Flotantes: 1.0, 2.0, 0.0, -3.5, 4.65, 5.3e-6  \n",
    "        * Tuplas: (a, b, c, d)\n",
    "        * Listas: [a, b, c, d]\n",
    "        * for i in range(len(x))\n",
    "        * Librería matplotlib   "
   ]
  },
  {
   "cell_type": "markdown",
   "metadata": {},
   "source": [
    "# Introducción al curso de Álgebra Lineal\n",
    "\n",
    "Las matemáticas del colegio nos han permitido entender los números, realizar operaciones con los números e incluso resolver problemas con números. Pero es hora de pasar a otro nivel :)\n",
    "\n",
    "Los sistemas estudiados y diseñados en ingeniería procesan cada vez conjuntos de números de mayor tamaño y es necesario estructurar estos conjuntos de números para poder representar operaciones que procesen estos conjuntos de números. \n",
    "\n",
    "El álgebra lineal es uno de los modelos que permite solucionar el anterior problema con aplicaciones en la mayoría de los temas de ingeniería. Incluso es fundamental para comenzar el estudio de los sistemas no lineales.\n",
    "\n",
    "En particular, el *machine learning* (ML), es el área de la ingeniería que en la actualidad requiere procesar mayor cantidad de información y para esto el álgebra lineal ocupa un papel fundamental incluso para datos no numéricos como es el Procesamiento del Lenguaje Natural (NLP).\n",
    "\n",
    "Precisamente en este curso usaremos unas de las herramientas más utilizadas para el ML como son los cuadernos de Júpiter y el lenguaje de programación Python.\n",
    "\n",
    "La metodología del curso, mientras estemos a distancia, consiste en que luego de presentar el tema (ya sea online o con un video) hay que realizar algunos ejercicios durante la clase. La calificación del primer corte y del segundo corte corresponden al trabajo en clase o quices a través de videoconferencias o audioconferencias.  Por lo tanto, para este curso se requiere contar con un computador (no celular) y conexión a internet durante el horario de la clase.\n",
    "\n",
    "Los invito a conocer el aula virtual de la materia en UDIN llamada: **ÁLGEBRA LINEAL Gr005-1 y Gr005-7 (GERARDO ALCIDES MUÑOZ QUIÑONES)** donde se encuentra el programa y una pequeña tarea para el día de hoy. \n",
    "\n",
    "El libro texto de este curso es **Álgebra Lineal con Aplicaciones** de G. Nakos y D. Joyner."
   ]
  },
  {
   "cell_type": "markdown",
   "metadata": {},
   "source": [
    "# Jupyter\n",
    "\n",
    "Esta plataforma se llama un cuaderno de Jupyter, el cual tiene celdas de texto como esta y celdas de código. En la nube vamos a usar algunas de las siguientes plataformas:\n",
    "\n",
    "* kaggle.com\n",
    "* colab.research.google.com/notebooks/intro.ipynb\n",
    "* ritaportal.udistrital.edu.co\n",
    "\n",
    "La última es de la universidad. También es posible instalarlo en su computador cuando se instala Python. Sin embargo, no es necesario para este curso de Álgebra Lineal. \n",
    "\n",
    "Las celdas de texto usan el formato Markdown y aceptan ecuaciones de Latex \n",
    "\n",
    "# Markdown\n",
    "\n",
    "\n",
    "En Markdown se pueden colocar diferentes niveles de subtítulos como los siguientes:\n",
    "\n",
    "## Título 2\n",
    "###### Título 6\n",
    "\n",
    "También se puede usar letra *itálica* y se puede escribir _también así_. De manera análoga se define la letra **negrilla** __de dos formas__\n",
    "\n",
    "\n",
    "Se pueden colocar viñetas de diferentes niveles\n",
    "* Nivel 1 item a\n",
    "  * Nivel 2 item b \n",
    "  * Nivel 2 item c \n",
    "* Nivel 1 item d\n",
    "  * Nivel 2 item e \n",
    "    * Nivel 3 item f \n",
    "\n",
    "Al igual que  listas numeradas    \n",
    "1. Nivel 1 item a\n",
    "  1. Nivel 2 item b \n",
    "  1. Nivel 2 item c \n",
    "1. Nivel 1 item d\n",
    "  1. Nivel 2 item e \n",
    "    1. Nivel 3 item f \n",
    "\n",
    "\n",
    "También es posible colocar `código`, En particular vamos a ver el código que generó esta sección.\n",
    "\n",
    "```\n",
    "En Markdown se pueden colocar diferentes niveles de subtítulos como los siguientes:\n",
    "\n",
    "## Título 2\n",
    "###### Título 6\n",
    "\n",
    "También se puede usar letra *itálica* y se puede escribir _también así_. De manera análoga se define la letra **negrilla** __de dos formas__\n",
    "\n",
    "\n",
    "Se pueden colocar viñetas de diferentes niveles\n",
    "* Nivel 1 item a\n",
    "  * Nivel 2 item b \n",
    "  * Nivel 2 item c \n",
    "* Nivel 1 item d\n",
    "  * Nivel 2 item e \n",
    "    * Nivel 3 item f \n",
    "\n",
    "Al igual que listas numeradas    \n",
    "1. Nivel 1 item a\n",
    "  1. Nivel 2 item b \n",
    "  1. Nivel 2 item c \n",
    "1. Nivel 1 item d\n",
    "  1. Nivel 2 item e \n",
    "    1. Nivel 3 item f \n",
    "\n",
    "\n",
    "También es posible colocar `código`, En particular vamos a ver el código que generó esta sección.\n",
    "```\n",
    "\n",
    "# LaTex\n",
    "\n",
    "Vamos a usar latex para escribir vectores \n",
    "\n",
    "$ \\vec{x}=\\left( \\matrix{ x_1 \\\\ x_2 \\\\ \\vdots \\\\ x_n} \\right) $\n",
    "\n",
    "`$ \\vec{x}=\\left( \\matrix{ x_1 \\\\ x_2 \\\\ \\vdots \\\\ x_n} \\right) $`\n",
    "\n",
    "y matrices, como la siguiente matriz de $2 \\times 2$\n",
    "\n",
    "$A = \\left[ \\matrix{\\frac{1}{\\sqrt{1-\\frac{1}{e^x}}} & 11 \\\\ 13 &  3.141592653589793 } \\right]$\n",
    "\n",
    "`$A =\\left[ \\matrix{\\frac{1}{\\sqrt{1-\\frac{1}{e^x}}} & 11 \\\\ 13 &  3.141592653589793 } \\right]$`\n",
    "\n",
    "La siguiente presentación de la matriz no se pueden usar en artículos, pero en algunos casos puede ser usada para las tareas ya que permite escribir la matriz por columnas.\n",
    "\n",
    "$A=\\left[\\matrix{\n",
    "   \\matrix{\\frac{1}{\\sqrt{1-\\frac{1}{e^x}}} \\\\ 13}&\n",
    "   \\matrix{11 \\\\   3.141592653589793 }\n",
    "}\\right]$\n",
    "\n",
    "`$A=\\left[\\matrix{\n",
    "   \\matrix{\\frac{1}{\\sqrt{1-\\frac{1}{e^x}}} \\\\ 13}&\n",
    "   \\matrix{11 \\\\   3.141592653589793 }\n",
    "}\\right]$`\n",
    "\n",
    "# Python\n",
    "\n",
    "Python es un lenguaje de programación cuya sintaxis es muy sencilla. Para este curso no es prerrequisito saber Python, ya que a medida que se requiera algo se va presentando. A continuacón vamos a introducir algunos elementos de este lenguaje. \n",
    "\n",
    "# Datos numéricos que usaremos\n",
    "El conjunto de los números enteros $\\mathbb{Z}$, es modelado en python con el tipo de dato `int`. Estos son algunos ejemplos: `0`, `1`, `-2`.\n",
    "\n",
    "El conjunto de los números reales $\\mathbb{R}$, es modelado en python con el tipo de dato `float`. Estos son algunos ejemplos: `0.0`, `1.0`, `-2.0`, `3.14`, `0.05`, `3.08e-5`,`-5e4`, `6/2`."
   ]
  },
  {
   "cell_type": "code",
   "execution_count": 9,
   "metadata": {},
   "outputs": [
    {
     "data": {
      "text/plain": [
       "(0.0, 1.0, -2.0, 3.14, 0.05, 0.00308, -50000.0, 3.0)"
      ]
     },
     "execution_count": 9,
     "metadata": {},
     "output_type": "execute_result"
    }
   ],
   "source": [
    "(0.0, 1.0, -2.0, 3.14, 0.05, 3.08e-3,-5e4, 6/2)"
   ]
  },
  {
   "cell_type": "markdown",
   "metadata": {},
   "source": [
    "# Ejemplo de valor absoluto\n",
    "Aunque Python tiene definida esta función, se va a definir nuevamente como un ejemplo algo explícito\n",
    "\n",
    "$abs(a)=\\left\\{\\matrix{a & \\text{ si } a > 0 \\\\0 & \\text{ si } a = 0 \\\\ -a & \\text{ si } a < 0  }\\right.$"
   ]
  },
  {
   "cell_type": "code",
   "execution_count": 10,
   "metadata": {},
   "outputs": [],
   "source": [
    "def valor_absoluto(a):\n",
    "    if a>0:\n",
    "        return a\n",
    "    elif a == 0:\n",
    "        return 0\n",
    "    else:\n",
    "        return -a"
   ]
  },
  {
   "cell_type": "code",
   "execution_count": 11,
   "metadata": {},
   "outputs": [
    {
     "data": {
      "text/plain": [
       "5.3"
      ]
     },
     "execution_count": 11,
     "metadata": {},
     "output_type": "execute_result"
    }
   ],
   "source": [
    "valor_absoluto(5.3)"
   ]
  },
  {
   "cell_type": "code",
   "execution_count": 12,
   "metadata": {},
   "outputs": [
    {
     "data": {
      "text/plain": [
       "7"
      ]
     },
     "execution_count": 12,
     "metadata": {},
     "output_type": "execute_result"
    }
   ],
   "source": [
    "valor_absoluto(-7)"
   ]
  },
  {
   "cell_type": "code",
   "execution_count": 13,
   "metadata": {},
   "outputs": [
    {
     "data": {
      "text/plain": [
       "5.6e-08"
      ]
     },
     "execution_count": 13,
     "metadata": {},
     "output_type": "execute_result"
    }
   ],
   "source": [
    "valor_absoluto(-5.6e-8)"
   ]
  },
  {
   "cell_type": "markdown",
   "metadata": {},
   "source": [
    "# Tuplas y Listas\n"
   ]
  },
  {
   "cell_type": "code",
   "execution_count": 14,
   "metadata": {},
   "outputs": [
    {
     "data": {
      "text/plain": [
       "(11, 22, 35, 44)"
      ]
     },
     "execution_count": 14,
     "metadata": {},
     "output_type": "execute_result"
    }
   ],
   "source": [
    "v=(11, 22, 35, 44)\n",
    "v"
   ]
  },
  {
   "cell_type": "markdown",
   "metadata": {},
   "source": [
    "La anterior secuencia en Python se llama **Tupla**. De manera similar se puede definir una **Lista**."
   ]
  },
  {
   "cell_type": "code",
   "execution_count": 15,
   "metadata": {},
   "outputs": [
    {
     "data": {
      "text/plain": [
       "[11, 21, 35, 44]"
      ]
     },
     "execution_count": 15,
     "metadata": {},
     "output_type": "execute_result"
    }
   ],
   "source": [
    "u=[11, 21, 35, 44]\n",
    "u"
   ]
  },
  {
   "cell_type": "markdown",
   "metadata": {},
   "source": [
    "Una de las principales diferencias entre las tuplas y las listas es que la lista se puede modificar (es mutable) pero la tupla no (es inmutable), esto la hace un poco más eficiente."
   ]
  },
  {
   "cell_type": "code",
   "execution_count": 16,
   "metadata": {},
   "outputs": [
    {
     "data": {
      "text/plain": [
       "(11, 22, 35, 44)"
      ]
     },
     "execution_count": 16,
     "metadata": {},
     "output_type": "execute_result"
    }
   ],
   "source": [
    "v=(11, 22, 35, 44)\n",
    "v"
   ]
  },
  {
   "cell_type": "code",
   "execution_count": 17,
   "metadata": {},
   "outputs": [
    {
     "data": {
      "text/plain": [
       "35"
      ]
     },
     "execution_count": 17,
     "metadata": {},
     "output_type": "execute_result"
    }
   ],
   "source": [
    "v[2]"
   ]
  },
  {
   "cell_type": "code",
   "execution_count": 18,
   "metadata": {},
   "outputs": [],
   "source": [
    "# Al descomentar y ejecutar produce un error\n",
    "#v[2]=33\n",
    "#v"
   ]
  },
  {
   "cell_type": "code",
   "execution_count": 19,
   "metadata": {},
   "outputs": [
    {
     "data": {
      "text/plain": [
       "[11, 22, 35, 44]"
      ]
     },
     "execution_count": 19,
     "metadata": {},
     "output_type": "execute_result"
    }
   ],
   "source": [
    "u=[11, 22, 35, 44]\n",
    "u"
   ]
  },
  {
   "cell_type": "code",
   "execution_count": 20,
   "metadata": {},
   "outputs": [
    {
     "data": {
      "text/plain": [
       "35"
      ]
     },
     "execution_count": 20,
     "metadata": {},
     "output_type": "execute_result"
    }
   ],
   "source": [
    "u[2]"
   ]
  },
  {
   "cell_type": "code",
   "execution_count": 21,
   "metadata": {},
   "outputs": [
    {
     "data": {
      "text/plain": [
       "[11, 22, 33, 44]"
      ]
     },
     "execution_count": 21,
     "metadata": {},
     "output_type": "execute_result"
    }
   ],
   "source": [
    "u[2]=33\n",
    "u"
   ]
  },
  {
   "cell_type": "markdown",
   "metadata": {},
   "source": [
    "La función `len` permite conocer la cantidad de elementos de una tupla o una lista"
   ]
  },
  {
   "cell_type": "code",
   "execution_count": 22,
   "metadata": {},
   "outputs": [
    {
     "data": {
      "text/plain": [
       "7"
      ]
     },
     "execution_count": 22,
     "metadata": {},
     "output_type": "execute_result"
    }
   ],
   "source": [
    "len([2,6,2,7,2,9,2])"
   ]
  },
  {
   "cell_type": "code",
   "execution_count": 23,
   "metadata": {},
   "outputs": [
    {
     "data": {
      "text/plain": [
       "5"
      ]
     },
     "execution_count": 23,
     "metadata": {},
     "output_type": "execute_result"
    }
   ],
   "source": [
    "len((2,6,2,7,2))"
   ]
  },
  {
   "cell_type": "markdown",
   "metadata": {},
   "source": [
    "La función `range` permite generar un rango de números"
   ]
  },
  {
   "cell_type": "code",
   "execution_count": 24,
   "metadata": {},
   "outputs": [
    {
     "data": {
      "text/plain": [
       "[0, 1, 2]"
      ]
     },
     "execution_count": 24,
     "metadata": {},
     "output_type": "execute_result"
    }
   ],
   "source": [
    "list(range(3))"
   ]
  },
  {
   "cell_type": "code",
   "execution_count": 25,
   "metadata": {},
   "outputs": [
    {
     "data": {
      "text/plain": [
       "(0, 1, 2, 3, 4, 5, 6, 7, 8, 9)"
      ]
     },
     "execution_count": 25,
     "metadata": {},
     "output_type": "execute_result"
    }
   ],
   "source": [
    "tuple(range(10))"
   ]
  },
  {
   "cell_type": "markdown",
   "metadata": {},
   "source": [
    "# Ejemplo de promedio\n",
    "A continuación, haremos dos ejemplos para calcular el promedio \n",
    "\n",
    "$promedio(v)= \\frac{1}{n} \\sum_{i=1}^n v_i$\n",
    "\n",
    "donde $\\vec{v}=\\left(\\matrix{v_1\\\\v_2\\\\ \\vdots \\\\v_n}\\right)$"
   ]
  },
  {
   "cell_type": "code",
   "execution_count": 26,
   "metadata": {},
   "outputs": [],
   "source": [
    "def promedio_1(numeros):\n",
    "    acumulador = 0\n",
    "    for numero in numeros:\n",
    "        acumulador = acumulador + numero\n",
    "    return acumulador/len(numeros)"
   ]
  },
  {
   "cell_type": "code",
   "execution_count": 27,
   "metadata": {},
   "outputs": [
    {
     "data": {
      "text/plain": [
       "27.5"
      ]
     },
     "execution_count": 27,
     "metadata": {},
     "output_type": "execute_result"
    }
   ],
   "source": [
    "promedio_1(u)"
   ]
  },
  {
   "cell_type": "code",
   "execution_count": 28,
   "metadata": {},
   "outputs": [
    {
     "data": {
      "text/plain": [
       "28.0"
      ]
     },
     "execution_count": 28,
     "metadata": {},
     "output_type": "execute_result"
    }
   ],
   "source": [
    "promedio_1(v)"
   ]
  },
  {
   "cell_type": "code",
   "execution_count": 29,
   "metadata": {},
   "outputs": [],
   "source": [
    "def promedio_2(numeros):\n",
    "    acumulador = 0\n",
    "    for i in range(len(numeros)):\n",
    "        acumulador = acumulador + numeros[i]\n",
    "    return acumulador/len(numeros)"
   ]
  },
  {
   "cell_type": "code",
   "execution_count": 30,
   "metadata": {},
   "outputs": [
    {
     "data": {
      "text/plain": [
       "27.5"
      ]
     },
     "execution_count": 30,
     "metadata": {},
     "output_type": "execute_result"
    }
   ],
   "source": [
    "promedio_2(u)"
   ]
  },
  {
   "cell_type": "code",
   "execution_count": 31,
   "metadata": {},
   "outputs": [
    {
     "data": {
      "text/plain": [
       "28.0"
      ]
     },
     "execution_count": 31,
     "metadata": {},
     "output_type": "execute_result"
    }
   ],
   "source": [
    "promedio_2(v)"
   ]
  },
  {
   "cell_type": "markdown",
   "metadata": {},
   "source": [
    "# Librería Matplotlib\n",
    "Esta librería permite diferentes, tipos de gráficas\n",
    "\n"
   ]
  },
  {
   "cell_type": "code",
   "execution_count": 32,
   "metadata": {},
   "outputs": [
    {
     "data": {
      "image/png": "[encoded data removed]",
      "text/plain": [
       "<Figure size 432x288 with 1 Axes>"
      ]
     },
     "metadata": {
      "needs_background": "light"
     },
     "output_type": "display_data"
    }
   ],
   "source": [
    "import matplotlib.pyplot as plt#.plot\n",
    "fig,ax=plt.subplots()\n",
    "\n",
    "# Grafica puntos\n",
    "puntos=[[0,0,0,1],  # x1 x2 x3 x4\n",
    "        [1,2,3,2]]  # y1 y2 y3 y4\n",
    "ax.scatter(*puntos,s=100,color='black') # s es el tamaño de los puntos\n",
    "\n",
    "# Grafica líneas\n",
    "lineas=[(0,1),(1,2),'black', #(x1,x4),(y1,y4),color\n",
    "        (0,1),(2,2),'black', #(x2,x4),(y2,y4),color\n",
    "        (0,1),(3,2),'black', #(x2,x4),(y3,y4),color\n",
    "       ]\n",
    "ax.plot(*lineas)\n",
    "\n",
    "# Escribe texto y fórmulas en Latex\n",
    "ax.text(-0.05, 1.1, r'$a_1$',{'fontsize': 18})\n",
    "ax.text(-0.05, 2.1, r'$a_2$',{'fontsize': 18})\n",
    "ax.text(-0.05, 3.1, r'$a_3$',{'fontsize': 18})\n",
    "ax.text( 0.5 , 1.6, r'$w_1$',{'fontsize': 18})\n",
    "ax.text( 0.5 , 2.1, r'$w_2$',{'fontsize': 18})\n",
    "ax.text( 0.5 , 2.5, r'$w_3$',{'fontsize': 18})\n",
    "ax.text( 1   , 2.1, r'$b$'  ,{'fontsize': 18})\n",
    "\n",
    "ax.axis('off')\n",
    "plt.show()"
   ]
  },
  {
   "cell_type": "markdown",
   "metadata": {},
   "source": [
    "Hacer doble_click en el nombre para editar \n",
    "\n",
    "Nombre:________________________\n",
    "\n",
    "Código:________________________\n",
    "\n",
    "* La variable `a` será el **último** digito de su código menos 1.\n",
    "* La variable `b` será el **penúltimo** digito de su código más 1."
   ]
  },
  {
   "cell_type": "raw",
   "metadata": {},
   "source": []
  },
  {
   "cell_type": "markdown",
   "metadata": {},
   "source": [
    "# Ejercicio\n",
    "\n",
    "\n",
    "\n",
    "Dados los siguientes valores\n",
    "\n",
    "$\\vec{w}=\\left( \\matrix{10a-2 \\\\ 10a+b \\\\ 10a+2 \\\\ 10a-b \\\\ 10a+b-1 \\\\ 10a-b+1} \\right)$. Recuerde que $a$ y $b$ dependen de su código.\n",
    " \n",
    "1. Calcule su vector $\\vec{w}$.\n",
    "1. En una gráfica ubique $w_i$ vs $i$.\n",
    "1. Calcule el promedio de $\\vec{w}$ con una de las rutinas anteriores.\n",
    "2. Adicione a la gráfica una línea horizontal a la altura del promedio.\n",
    "2. Realice una rutina para calcular la varianza. $\\text{varianza}(\\vec{v})=\\frac{1}{n} \\sum_{i=1}^n(v_i-\\text{promedio}(v))^2$.\n",
    "3. Calcule la varianza de $\\vec{w}$.\n",
    "4. Adicione a la gráfica dos líneas horizontales, una a la altura del promedio más la varianza y otra a la altura del promedio menos la varianza.\n",
    "5. Interprete gráficamente que es el promedio y que es la varianza. \n",
    "\n",
    "Hay que responder en celdas de código, a continuación, se ilustra cómo se debe responder. No hay que cambiar los nombres de las variables `codigo, w, prom, varianza, var, i_p, i_v` ni de la rutina `varianza`, ya que estas se usarán para calificar."
   ]
  },
  {
   "cell_type": "code",
   "execution_count": 33,
   "metadata": {},
   "outputs": [],
   "source": [
    "codigo=20202020202 #escribir su código"
   ]
  },
  {
   "cell_type": "code",
   "execution_count": 34,
   "metadata": {},
   "outputs": [],
   "source": [
    "w=(4,2,3,2)        #escribir su vector w de la pregunta 1"
   ]
  },
  {
   "cell_type": "code",
   "execution_count": 35,
   "metadata": {},
   "outputs": [
    {
     "data": {
      "text/plain": [
       "<matplotlib.collections.PathCollection at 0x26a391f1e48>"
      ]
     },
     "execution_count": 35,
     "metadata": {},
     "output_type": "execute_result"
    },
    {
     "data": {
      "image/png": "[encoded data removed]",
      "text/plain": [
       "<Figure size 432x288 with 1 Axes>"
      ]
     },
     "metadata": {
      "needs_background": "light"
     },
     "output_type": "display_data"
    }
   ],
   "source": [
    "# Gráfica del punto 2\n",
    "\n",
    "import matplotlib.pyplot as plt\n",
    "fig,ax=plt.subplots()\n",
    "puntos=[[0,1,2,3], \n",
    "        [4,2,3,2]]  \n",
    "ax.scatter(*puntos,s=100,color='black') "
   ]
  },
  {
   "cell_type": "code",
   "execution_count": 36,
   "metadata": {},
   "outputs": [],
   "source": [
    "prom=3.14             # el resultado de la función promedio de la pregunta 3"
   ]
  },
  {
   "cell_type": "code",
   "execution_count": 37,
   "metadata": {},
   "outputs": [
    {
     "data": {
      "text/plain": [
       "[<matplotlib.lines.Line2D at 0x26a392a8788>]"
      ]
     },
     "execution_count": 37,
     "metadata": {},
     "output_type": "execute_result"
    },
    {
     "data": {
      "image/png": "[encoded data removed]",
      "text/plain": [
       "<Figure size 432x288 with 1 Axes>"
      ]
     },
     "metadata": {
      "needs_background": "light"
     },
     "output_type": "display_data"
    }
   ],
   "source": [
    "# Gráfica del punto 4\n",
    "\n",
    "import matplotlib.pyplot as plt\n",
    "fig,ax=plt.subplots()\n",
    "puntos=[[0,1,2,3], \n",
    "        [4,2,3,2]]  \n",
    "ax.scatter(*puntos,s=100,color='black') \n",
    "# Grafica líneas\n",
    "lineas=[(0,3),(3,3),'black', #(x1,x4),(y1,y4),color\n",
    "       ]\n",
    "ax.plot(*lineas)"
   ]
  },
  {
   "cell_type": "code",
   "execution_count": 38,
   "metadata": {},
   "outputs": [],
   "source": [
    "# Rutina del punto 5 \n",
    "\n",
    "def varianza(v): \n",
    "    #...\n",
    "    #...\n",
    "    return 1"
   ]
  },
  {
   "cell_type": "code",
   "execution_count": 39,
   "metadata": {},
   "outputs": [],
   "source": [
    "var=3.14             #  el resultado de la función varianza de la pregunta 6"
   ]
  },
  {
   "cell_type": "code",
   "execution_count": 40,
   "metadata": {},
   "outputs": [],
   "source": [
    "# Gráfica del punto 7"
   ]
  },
  {
   "cell_type": "code",
   "execution_count": 42,
   "metadata": {},
   "outputs": [],
   "source": [
    "# Respuesta del punto 8 \n",
    "\n",
    "i_p='''\n",
    "Para mí el promedio es ...\n",
    "'''\n",
    "\n",
    "i_c='''\n",
    "Para mí la varianza es ...\n",
    "'''"
   ]
  }
 ],
 "metadata": {
  "kernelspec": {
   "display_name": "Python 3",
   "language": "python",
   "name": "python3"
  },
  "language_info": {
   "codemirror_mode": {
    "name": "ipython",
    "version": 3
   },
   "file_extension": ".py",
   "mimetype": "text/x-python",
   "name": "python",
   "nbconvert_exporter": "python",
   "pygments_lexer": "ipython3",
   "version": "3.7.4"
  }
 },
 "nbformat": 4,
 "nbformat_minor": 2
}
