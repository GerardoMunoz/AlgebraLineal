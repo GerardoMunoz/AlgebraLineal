{
  "cells": [
    {
      "cell_type": "markdown",
      "metadata": {
        "id": "view-in-github",
        "colab_type": "text"
      },
      "source": [
        "<a href=\"https://colab.research.google.com/github/GerardoMunoz/AlgebraLineal/blob/master/clasificador_simple.ipynb\" target=\"_parent\"><img src=\"https://colab.research.google.com/assets/colab-badge.svg\" alt=\"Open In Colab\"/></a>"
      ]
    },
    {
      "cell_type": "code",
      "source": [
        "!git clone https://github.com/GerardoMunoz/clasificador_simple"
      ],
      "metadata": {
        "id": "WFzdSZbtd1dT",
        "outputId": "34969961-c87e-4f54-ec94-c93f7da5a2cb",
        "colab": {
          "base_uri": "https://localhost:8080/"
        }
      },
      "id": "WFzdSZbtd1dT",
      "execution_count": 1,
      "outputs": [
        {
          "output_type": "stream",
          "name": "stdout",
          "text": [
            "Cloning into 'clasificador_simple'...\n",
            "remote: Enumerating objects: 9, done.\u001b[K\n",
            "remote: Counting objects: 100% (9/9), done.\u001b[K\n",
            "remote: Compressing objects: 100% (7/7), done.\u001b[K\n",
            "remote: Total 9 (delta 1), reused 0 (delta 0), pack-reused 0\u001b[K\n",
            "Unpacking objects: 100% (9/9), done.\n"
          ]
        }
      ]
    },
    {
      "cell_type": "markdown",
      "id": "558d285e",
      "metadata": {
        "papermill": {
          "duration": 0.021853,
          "end_time": "2022-01-24T18:32:16.095688",
          "exception": false,
          "start_time": "2022-01-24T18:32:16.073835",
          "status": "completed"
        },
        "tags": [],
        "id": "558d285e"
      },
      "source": [
        "# Entrenamiento de la Red Neuronal Artificial (ANN) en Colab para identificar una sola etiqueta."
      ]
    },
    {
      "cell_type": "markdown",
      "source": [
        "Si se ejecuta desde Colab hay que Subir un archivo 'image__s.zip' con las imágenes a clasificar en sus respectivos directorios. En este ejemplo tiene tres directorios. \n",
        "```\n",
        "image__s\n",
        " - animal\n",
        " - flo__r\n",
        " - ot__r_\n",
        "```\n",
        "\n",
        "Sin embargo, sólo usaremos dos directorios.\n",
        "\n",
        "A continuación se listan los archivos en el directorio actual"
      ],
      "metadata": {
        "id": "yb0meJbZfPuV"
      },
      "id": "yb0meJbZfPuV"
    },
    {
      "cell_type": "code",
      "execution_count": 2,
      "id": "3aa19598",
      "metadata": {
        "execution": {
          "iopub.execute_input": "2022-01-24T18:32:16.150103Z",
          "iopub.status.busy": "2022-01-24T18:32:16.149272Z",
          "iopub.status.idle": "2022-01-24T18:32:16.868726Z",
          "shell.execute_reply": "2022-01-24T18:32:16.868068Z",
          "shell.execute_reply.started": "2022-01-24T18:31:20.439182Z"
        },
        "papermill": {
          "duration": 0.751446,
          "end_time": "2022-01-24T18:32:16.868886",
          "exception": false,
          "start_time": "2022-01-24T18:32:16.117440",
          "status": "completed"
        },
        "tags": [],
        "colab": {
          "base_uri": "https://localhost:8080/"
        },
        "id": "3aa19598",
        "outputId": "caa81102-f5df-428e-e050-a1138066ecc1"
      },
      "outputs": [
        {
          "output_type": "stream",
          "name": "stdout",
          "text": [
            "total 8\n",
            "drwxr-xr-x 3 root root 4096 Mar 21 12:34 clasificador_simple\n",
            "drwxr-xr-x 1 root root 4096 Mar  9 14:48 sample_data\n"
          ]
        }
      ],
      "source": [
        "!ls -l"
      ]
    },
    {
      "cell_type": "markdown",
      "source": [
        "Revise que el archivo 'image__s.zip' haya subido bien, ya que archivos muy extensos no suben bien. Por eso es importante, antes de comprimir las imágenes, bajarles la resolución, por ejemplo a 124x124.\n",
        "\n",
        "A continuación se descomprime el archivo de las imágenes. "
      ],
      "metadata": {
        "id": "OMq8c1Spfttt"
      },
      "id": "OMq8c1Spfttt"
    },
    {
      "cell_type": "code",
      "execution_count": 4,
      "id": "c0b399ec",
      "metadata": {
        "execution": {
          "iopub.execute_input": "2022-01-24T18:32:16.917594Z",
          "iopub.status.busy": "2022-01-24T18:32:16.916800Z",
          "iopub.status.idle": "2022-01-24T18:32:17.586285Z",
          "shell.execute_reply": "2022-01-24T18:32:17.586796Z",
          "shell.execute_reply.started": "2022-01-24T18:31:21.253068Z"
        },
        "papermill": {
          "duration": 0.696395,
          "end_time": "2022-01-24T18:32:17.586960",
          "exception": false,
          "start_time": "2022-01-24T18:32:16.890565",
          "status": "completed"
        },
        "tags": [],
        "id": "c0b399ec"
      },
      "outputs": [],
      "source": [
        "from zipfile import ZipFile\n",
        "\n",
        "with ZipFile('clasificador_simple/image__s.zip', 'r') as zipObj:\n",
        "   zipObj.extractall()"
      ]
    },
    {
      "cell_type": "code",
      "execution_count": 5,
      "id": "6f68e90d",
      "metadata": {
        "execution": {
          "iopub.execute_input": "2022-01-24T18:32:17.635060Z",
          "iopub.status.busy": "2022-01-24T18:32:17.634267Z",
          "iopub.status.idle": "2022-01-24T18:32:18.401051Z",
          "shell.execute_reply": "2022-01-24T18:32:18.400293Z",
          "shell.execute_reply.started": "2022-01-24T18:31:22.131070Z"
        },
        "papermill": {
          "duration": 0.792818,
          "end_time": "2022-01-24T18:32:18.401220",
          "exception": false,
          "start_time": "2022-01-24T18:32:17.608402",
          "status": "completed"
        },
        "tags": [],
        "colab": {
          "base_uri": "https://localhost:8080/"
        },
        "id": "6f68e90d",
        "outputId": "5199702e-6b19-4ed1-c2b7-fd41c61faf95"
      },
      "outputs": [
        {
          "output_type": "stream",
          "name": "stdout",
          "text": [
            "clasificador_simple  image__s  sample_data\n"
          ]
        }
      ],
      "source": [
        "!ls "
      ]
    },
    {
      "cell_type": "markdown",
      "source": [
        "Se supones que dentro del directorio image__s hay dos carpetas: animal y flo__r"
      ],
      "metadata": {
        "id": "65_3HMuTgJZm"
      },
      "id": "65_3HMuTgJZm"
    },
    {
      "cell_type": "code",
      "source": [
        "!ls image__s  "
      ],
      "metadata": {
        "id": "GrPc6FS4nvpZ"
      },
      "id": "GrPc6FS4nvpZ",
      "execution_count": null,
      "outputs": []
    },
    {
      "cell_type": "code",
      "execution_count": null,
      "id": "9ba4cc96",
      "metadata": {
        "execution": {
          "iopub.execute_input": "2022-01-24T18:32:31.184372Z",
          "iopub.status.busy": "2022-01-24T18:32:31.183650Z",
          "iopub.status.idle": "2022-01-24T18:32:41.711876Z",
          "shell.execute_reply": "2022-01-24T18:32:41.711323Z",
          "shell.execute_reply.started": "2022-01-24T18:31:31.654180Z"
        },
        "papermill": {
          "duration": 10.560298,
          "end_time": "2022-01-24T18:32:41.712004",
          "exception": false,
          "start_time": "2022-01-24T18:32:31.151706",
          "status": "completed"
        },
        "tags": [],
        "id": "9ba4cc96"
      },
      "outputs": [],
      "source": [
        "import numpy as np\n",
        "import tensorflow as tf\n",
        "import cv2\n",
        "import os"
      ]
    },
    {
      "cell_type": "markdown",
      "source": [
        "Se crea una lista con la ruta y el nombre de cada imagen"
      ],
      "metadata": {
        "id": "mLey_jXTgP-s"
      },
      "id": "mLey_jXTgP-s"
    },
    {
      "cell_type": "code",
      "execution_count": null,
      "id": "b83f24e0",
      "metadata": {
        "id": "b83f24e0"
      },
      "outputs": [],
      "source": [
        "etiqueta_a_clasificar = 'flo__r'\n",
        "\n",
        "tres_caract_tipos = ('.jpg','.png')\n",
        "etiquetas = ['ot__r_',etiqueta_a_clasificar]\n",
        "X_data = []\n",
        "Y_labels = []\n",
        "Y_Encoded = []\n",
        "\n",
        "camino = 'image__s/'\n",
        "#carpetas = os.listdir(camino)\n",
        "path = []\n",
        "for i,etiqueta in  enumerate(etiquetas):#carpetas:\n",
        "    for nombre_imagen in  os.listdir(camino + etiqueta):\n",
        "        if nombre_imagen[-4:] in tres_caract_tipos:\n",
        "            nombre_completo = camino + etiqueta + \"/\" + nombre_imagen\n",
        "            #path.append(nombre_completo)\n",
        "            #label = path[i].split(\"/\")[-2]\n",
        "            image = cv2.imread(nombre_completo)\n",
        "            image = cv2.cvtColor(image, cv2.COLOR_BGR2RGB)\n",
        "            image = cv2.resize(image, (124,124))\n",
        "            X_data.append(image)\n",
        "            Y_labels.append(etiqueta)\n",
        "            Y_Encoded.append(i)#[0]*i+[1]+[0]*(len(etiquetas)-i-1))"
      ]
    },
    {
      "cell_type": "code",
      "execution_count": null,
      "id": "01998295",
      "metadata": {
        "execution": {
          "iopub.execute_input": "2022-01-24T18:32:41.770364Z",
          "iopub.status.busy": "2022-01-24T18:32:41.769751Z",
          "iopub.status.idle": "2022-01-24T18:32:41.772908Z",
          "shell.execute_reply": "2022-01-24T18:32:41.773310Z",
          "shell.execute_reply.started": "2022-01-24T18:31:32.518870Z"
        },
        "papermill": {
          "duration": 0.034941,
          "end_time": "2022-01-24T18:32:41.773458",
          "exception": false,
          "start_time": "2022-01-24T18:32:41.738517",
          "status": "completed"
        },
        "tags": [],
        "id": "01998295"
      },
      "outputs": [],
      "source": [
        "type(path)"
      ]
    },
    {
      "cell_type": "code",
      "execution_count": null,
      "id": "15434ca4",
      "metadata": {
        "execution": {
          "iopub.execute_input": "2022-01-24T18:32:41.827465Z",
          "iopub.status.busy": "2022-01-24T18:32:41.826869Z",
          "iopub.status.idle": "2022-01-24T18:32:41.829481Z",
          "shell.execute_reply": "2022-01-24T18:32:41.829890Z",
          "shell.execute_reply.started": "2022-01-24T18:31:32.526728Z"
        },
        "papermill": {
          "duration": 0.032339,
          "end_time": "2022-01-24T18:32:41.830020",
          "exception": false,
          "start_time": "2022-01-24T18:32:41.797681",
          "status": "completed"
        },
        "tags": [],
        "id": "15434ca4"
      },
      "outputs": [],
      "source": [
        "len(path)"
      ]
    },
    {
      "cell_type": "code",
      "execution_count": null,
      "id": "2fdffad2",
      "metadata": {
        "execution": {
          "iopub.execute_input": "2022-01-24T18:32:41.884763Z",
          "iopub.status.busy": "2022-01-24T18:32:41.884091Z",
          "iopub.status.idle": "2022-01-24T18:32:41.886772Z",
          "shell.execute_reply": "2022-01-24T18:32:41.887174Z",
          "shell.execute_reply.started": "2022-01-24T18:31:32.536994Z"
        },
        "papermill": {
          "duration": 0.032767,
          "end_time": "2022-01-24T18:32:41.887305",
          "exception": false,
          "start_time": "2022-01-24T18:32:41.854538",
          "status": "completed"
        },
        "tags": [],
        "id": "2fdffad2"
      },
      "outputs": [],
      "source": [
        "#path[1]"
      ]
    },
    {
      "cell_type": "code",
      "execution_count": null,
      "id": "3d52007d",
      "metadata": {
        "execution": {
          "iopub.execute_input": "2022-01-24T18:32:41.943239Z",
          "iopub.status.busy": "2022-01-24T18:32:41.942641Z",
          "iopub.status.idle": "2022-01-24T18:32:41.945269Z",
          "shell.execute_reply": "2022-01-24T18:32:41.945710Z",
          "shell.execute_reply.started": "2022-01-24T18:31:32.548639Z"
        },
        "papermill": {
          "duration": 0.033297,
          "end_time": "2022-01-24T18:32:41.945854",
          "exception": false,
          "start_time": "2022-01-24T18:32:41.912557",
          "status": "completed"
        },
        "tags": [],
        "id": "3d52007d"
      },
      "outputs": [],
      "source": [
        "#path[1].split(\"/\")"
      ]
    },
    {
      "cell_type": "markdown",
      "source": [
        "Se leen las imágenes y sus etiquetas"
      ],
      "metadata": {
        "id": "vCZCnqQxgZAH"
      },
      "id": "vCZCnqQxgZAH"
    },
    {
      "cell_type": "code",
      "execution_count": null,
      "id": "2ed34a01",
      "metadata": {
        "execution": {
          "iopub.execute_input": "2022-01-24T18:32:42.005600Z",
          "iopub.status.busy": "2022-01-24T18:32:42.005002Z",
          "iopub.status.idle": "2022-01-24T18:33:44.095857Z",
          "shell.execute_reply": "2022-01-24T18:33:44.094939Z",
          "shell.execute_reply.started": "2022-01-24T18:31:32.558775Z"
        },
        "papermill": {
          "duration": 62.12436,
          "end_time": "2022-01-24T18:33:44.096011",
          "exception": false,
          "start_time": "2022-01-24T18:32:41.971651",
          "status": "completed"
        },
        "tags": [],
        "id": "2ed34a01"
      },
      "outputs": [],
      "source": [
        "# X_data = []\n",
        "# Y_labels = []\n",
        "\n",
        "# for i in range(0,len(path)):\n",
        "#     label = path[i].split(\"/\")[-2]\n",
        "#     if label not in y_data:\n",
        "#         continue #! otra opción es construir `path` sólo con los directorios de y_data\n",
        "#     else:\n",
        "#         image = cv2.imread(path[i])\n",
        "#         image = cv2.cvtColor(image, cv2.COLOR_BGR2RGB)\n",
        "#         image = cv2.resize(image, (124,124))\n",
        "#         X_data.append(image)\n",
        "#         Y_labels.append(label)"
      ]
    },
    {
      "cell_type": "code",
      "execution_count": null,
      "id": "ea2c55b6",
      "metadata": {
        "execution": {
          "iopub.execute_input": "2022-01-24T18:33:44.154030Z",
          "iopub.status.busy": "2022-01-24T18:33:44.152385Z",
          "iopub.status.idle": "2022-01-24T18:33:44.156218Z",
          "shell.execute_reply": "2022-01-24T18:33:44.155723Z",
          "shell.execute_reply.started": "2022-01-24T18:31:56.709776Z"
        },
        "papermill": {
          "duration": 0.034312,
          "end_time": "2022-01-24T18:33:44.156329",
          "exception": false,
          "start_time": "2022-01-24T18:33:44.122017",
          "status": "completed"
        },
        "tags": [],
        "id": "ea2c55b6"
      },
      "outputs": [],
      "source": [
        "Y_labels[0]"
      ]
    },
    {
      "cell_type": "code",
      "execution_count": null,
      "id": "18efc44f",
      "metadata": {
        "execution": {
          "iopub.execute_input": "2022-01-24T18:33:44.213904Z",
          "iopub.status.busy": "2022-01-24T18:33:44.212772Z",
          "iopub.status.idle": "2022-01-24T18:33:44.329575Z",
          "shell.execute_reply": "2022-01-24T18:33:44.329066Z",
          "shell.execute_reply.started": "2022-01-24T18:31:56.717159Z"
        },
        "papermill": {
          "duration": 0.147894,
          "end_time": "2022-01-24T18:33:44.329720",
          "exception": false,
          "start_time": "2022-01-24T18:33:44.181826",
          "status": "completed"
        },
        "tags": [],
        "id": "18efc44f"
      },
      "outputs": [],
      "source": [
        "x_array = np.array(X_data)\n",
        "y_array = np.array(Y_labels)\n",
        "y_Encoded = np.array(Y_Encoded)"
      ]
    },
    {
      "cell_type": "code",
      "execution_count": null,
      "id": "f5b507e0",
      "metadata": {
        "execution": {
          "iopub.execute_input": "2022-01-24T18:33:44.386679Z",
          "iopub.status.busy": "2022-01-24T18:33:44.386052Z",
          "iopub.status.idle": "2022-01-24T18:33:44.388744Z",
          "shell.execute_reply": "2022-01-24T18:33:44.389145Z",
          "shell.execute_reply.started": "2022-01-24T18:31:56.842535Z"
        },
        "papermill": {
          "duration": 0.033889,
          "end_time": "2022-01-24T18:33:44.389286",
          "exception": false,
          "start_time": "2022-01-24T18:33:44.355397",
          "status": "completed"
        },
        "tags": [],
        "id": "f5b507e0"
      },
      "outputs": [],
      "source": [
        "x_array.shape"
      ]
    },
    {
      "cell_type": "code",
      "execution_count": null,
      "id": "bbf590cd",
      "metadata": {
        "execution": {
          "iopub.execute_input": "2022-01-24T18:33:44.450283Z",
          "iopub.status.busy": "2022-01-24T18:33:44.449534Z",
          "iopub.status.idle": "2022-01-24T18:33:44.712863Z",
          "shell.execute_reply": "2022-01-24T18:33:44.713297Z",
          "shell.execute_reply.started": "2022-01-24T18:31:56.853186Z"
        },
        "papermill": {
          "duration": 0.298551,
          "end_time": "2022-01-24T18:33:44.713463",
          "exception": false,
          "start_time": "2022-01-24T18:33:44.414912",
          "status": "completed"
        },
        "tags": [],
        "id": "bbf590cd"
      },
      "outputs": [],
      "source": [
        "import matplotlib.pyplot as plt\n",
        "%matplotlib inline\n",
        "plt.imshow(x_array[0])"
      ]
    },
    {
      "cell_type": "code",
      "execution_count": null,
      "id": "74fcb49a",
      "metadata": {
        "execution": {
          "iopub.execute_input": "2022-01-24T18:33:44.777743Z",
          "iopub.status.busy": "2022-01-24T18:33:44.776357Z",
          "iopub.status.idle": "2022-01-24T18:33:44.779982Z",
          "shell.execute_reply": "2022-01-24T18:33:44.779532Z",
          "shell.execute_reply.started": "2022-01-24T18:31:57.088193Z"
        },
        "papermill": {
          "duration": 0.037658,
          "end_time": "2022-01-24T18:33:44.780093",
          "exception": false,
          "start_time": "2022-01-24T18:33:44.742435",
          "status": "completed"
        },
        "tags": [],
        "id": "74fcb49a"
      },
      "outputs": [],
      "source": [
        "y_array.shape"
      ]
    },
    {
      "cell_type": "markdown",
      "source": [
        "Asigna un número a cada etiqueta"
      ],
      "metadata": {
        "id": "u3P7_g6mhWQ1"
      },
      "id": "u3P7_g6mhWQ1"
    },
    {
      "cell_type": "code",
      "execution_count": null,
      "id": "5954b1a2",
      "metadata": {
        "execution": {
          "iopub.execute_input": "2022-01-24T18:33:44.842906Z",
          "iopub.status.busy": "2022-01-24T18:33:44.842282Z",
          "iopub.status.idle": "2022-01-24T18:33:45.392394Z",
          "shell.execute_reply": "2022-01-24T18:33:45.392934Z",
          "shell.execute_reply.started": "2022-01-24T18:31:57.096265Z"
        },
        "papermill": {
          "duration": 0.584289,
          "end_time": "2022-01-24T18:33:45.393092",
          "exception": false,
          "start_time": "2022-01-24T18:33:44.808803",
          "status": "completed"
        },
        "tags": [],
        "id": "5954b1a2"
      },
      "outputs": [],
      "source": [
        "# from sklearn.preprocessing import LabelEncoder\n",
        "# LE = LabelEncoder()\n",
        "# LE.fit(y_data)\n",
        "# Y_Encoded = LE.transform(y_array)"
      ]
    },
    {
      "cell_type": "code",
      "execution_count": null,
      "id": "4dc2b2ad",
      "metadata": {
        "execution": {
          "iopub.execute_input": "2022-01-24T18:33:45.460295Z",
          "iopub.status.busy": "2022-01-24T18:33:45.457719Z",
          "iopub.status.idle": "2022-01-24T18:33:45.462810Z",
          "shell.execute_reply": "2022-01-24T18:33:45.463227Z",
          "shell.execute_reply.started": "2022-01-24T18:31:57.106805Z"
        },
        "papermill": {
          "duration": 0.039106,
          "end_time": "2022-01-24T18:33:45.463360",
          "exception": false,
          "start_time": "2022-01-24T18:33:45.424254",
          "status": "completed"
        },
        "tags": [],
        "id": "4dc2b2ad"
      },
      "outputs": [],
      "source": [
        "y_array"
      ]
    },
    {
      "cell_type": "code",
      "execution_count": null,
      "id": "d9d8ffdd",
      "metadata": {
        "execution": {
          "iopub.execute_input": "2022-01-24T18:33:45.535309Z",
          "iopub.status.busy": "2022-01-24T18:33:45.533892Z",
          "iopub.status.idle": "2022-01-24T18:33:45.538005Z",
          "shell.execute_reply": "2022-01-24T18:33:45.537506Z",
          "shell.execute_reply.started": "2022-01-24T18:31:57.115884Z"
        },
        "papermill": {
          "duration": 0.04449,
          "end_time": "2022-01-24T18:33:45.538125",
          "exception": false,
          "start_time": "2022-01-24T18:33:45.493635",
          "status": "completed"
        },
        "tags": [],
        "id": "d9d8ffdd"
      },
      "outputs": [],
      "source": [
        "y_Encoded \n",
        "# 0: ot__r_\n",
        "# 1: etiqueta_a_clasificar"
      ]
    },
    {
      "cell_type": "code",
      "execution_count": null,
      "id": "73892f3b",
      "metadata": {
        "execution": {
          "iopub.execute_input": "2022-01-24T18:33:45.613328Z",
          "iopub.status.busy": "2022-01-24T18:33:45.611971Z",
          "iopub.status.idle": "2022-01-24T18:33:45.616006Z",
          "shell.execute_reply": "2022-01-24T18:33:45.615473Z",
          "shell.execute_reply.started": "2022-01-24T18:31:57.123850Z"
        },
        "papermill": {
          "duration": 0.043646,
          "end_time": "2022-01-24T18:33:45.616121",
          "exception": false,
          "start_time": "2022-01-24T18:33:45.572475",
          "status": "completed"
        },
        "tags": [],
        "id": "73892f3b"
      },
      "outputs": [],
      "source": [
        "y_Encoded.shape"
      ]
    },
    {
      "cell_type": "markdown",
      "source": [
        "Se separa el 20% de las imágenes para realizar pruebas después de entrenar"
      ],
      "metadata": {
        "id": "AW5Kiw0xhcCY"
      },
      "id": "AW5Kiw0xhcCY"
    },
    {
      "cell_type": "code",
      "execution_count": null,
      "id": "40fb0011",
      "metadata": {
        "execution": {
          "iopub.execute_input": "2022-01-24T18:33:45.686445Z",
          "iopub.status.busy": "2022-01-24T18:33:45.685742Z",
          "iopub.status.idle": "2022-01-24T18:33:45.842113Z",
          "shell.execute_reply": "2022-01-24T18:33:45.842599Z",
          "shell.execute_reply.started": "2022-01-24T18:31:57.132494Z"
        },
        "papermill": {
          "duration": 0.193925,
          "end_time": "2022-01-24T18:33:45.842888",
          "exception": false,
          "start_time": "2022-01-24T18:33:45.648963",
          "status": "completed"
        },
        "tags": [],
        "id": "40fb0011"
      },
      "outputs": [],
      "source": [
        "from sklearn.model_selection import train_test_split\n",
        "x_train, x_test, y_train, y_test = train_test_split(x_array, y_Encoded, test_size = 0.2, random_state = 42)\n",
        "x_train.shape, x_test.shape, y_train.shape, y_test.shape "
      ]
    },
    {
      "cell_type": "code",
      "execution_count": null,
      "id": "21d82fb6",
      "metadata": {
        "execution": {
          "iopub.execute_input": "2022-01-24T18:33:45.976253Z",
          "iopub.status.busy": "2022-01-24T18:33:45.974117Z",
          "iopub.status.idle": "2022-01-24T18:33:46.577877Z",
          "shell.execute_reply": "2022-01-24T18:33:46.578389Z",
          "shell.execute_reply.started": "2022-01-24T18:31:57.251142Z"
        },
        "papermill": {
          "duration": 0.677787,
          "end_time": "2022-01-24T18:33:46.578555",
          "exception": false,
          "start_time": "2022-01-24T18:33:45.900768",
          "status": "completed"
        },
        "tags": [],
        "id": "21d82fb6"
      },
      "outputs": [],
      "source": [
        "np.min(x_train),  np.max(x_train)"
      ]
    },
    {
      "cell_type": "code",
      "execution_count": null,
      "id": "f79a6c36",
      "metadata": {
        "execution": {
          "iopub.execute_input": "2022-01-24T18:33:46.644556Z",
          "iopub.status.busy": "2022-01-24T18:33:46.643579Z",
          "iopub.status.idle": "2022-01-24T18:33:47.540566Z",
          "shell.execute_reply": "2022-01-24T18:33:47.540057Z"
        },
        "papermill": {
          "duration": 0.931761,
          "end_time": "2022-01-24T18:33:47.540709",
          "exception": false,
          "start_time": "2022-01-24T18:33:46.608948",
          "status": "completed"
        },
        "tags": [],
        "id": "f79a6c36"
      },
      "outputs": [],
      "source": [
        "x_train_norm = x_train/255. \n",
        "x_test_norm = x_test/255."
      ]
    },
    {
      "cell_type": "code",
      "execution_count": null,
      "id": "3b18228c",
      "metadata": {
        "execution": {
          "iopub.execute_input": "2022-01-24T18:33:47.607604Z",
          "iopub.status.busy": "2022-01-24T18:33:47.606683Z",
          "iopub.status.idle": "2022-01-24T18:33:47.999550Z",
          "shell.execute_reply": "2022-01-24T18:33:47.999967Z"
        },
        "papermill": {
          "duration": 0.428917,
          "end_time": "2022-01-24T18:33:48.000110",
          "exception": false,
          "start_time": "2022-01-24T18:33:47.571193",
          "status": "completed"
        },
        "tags": [],
        "id": "3b18228c"
      },
      "outputs": [],
      "source": [
        "np.min(x_train_norm),  np.max(x_train_norm)"
      ]
    },
    {
      "cell_type": "markdown",
      "source": [
        "Se define el modelo de la red neuronal. En este caso es suficiente con un modelo sencillo, de una sola capa, ya que las imágenes a clasificar son fácilmente diferenciables."
      ],
      "metadata": {
        "id": "9gc4pw63hlQP"
      },
      "id": "9gc4pw63hlQP"
    },
    {
      "cell_type": "code",
      "execution_count": null,
      "id": "bc22741d",
      "metadata": {
        "execution": {
          "iopub.execute_input": "2022-01-24T18:33:48.070736Z",
          "iopub.status.busy": "2022-01-24T18:33:48.070012Z",
          "iopub.status.idle": "2022-01-24T18:33:51.330557Z",
          "shell.execute_reply": "2022-01-24T18:33:51.329823Z"
        },
        "papermill": {
          "duration": 3.299231,
          "end_time": "2022-01-24T18:33:51.330689",
          "exception": false,
          "start_time": "2022-01-24T18:33:48.031458",
          "status": "completed"
        },
        "tags": [],
        "id": "bc22741d"
      },
      "outputs": [],
      "source": [
        "model=tf.keras.Sequential()\n",
        "model.add(tf.keras.layers.Flatten()) #Convierte los datos de 2D a 1D \n",
        "model.add(tf.keras.layers.Dense(1, activation='sigmoid'))"
      ]
    },
    {
      "cell_type": "code",
      "execution_count": null,
      "id": "ae60a069",
      "metadata": {
        "execution": {
          "iopub.execute_input": "2022-01-24T18:33:51.405301Z",
          "iopub.status.busy": "2022-01-24T18:33:51.404707Z",
          "iopub.status.idle": "2022-01-24T18:33:51.413992Z",
          "shell.execute_reply": "2022-01-24T18:33:51.413391Z"
        },
        "papermill": {
          "duration": 0.051602,
          "end_time": "2022-01-24T18:33:51.414125",
          "exception": false,
          "start_time": "2022-01-24T18:33:51.362523",
          "status": "completed"
        },
        "tags": [],
        "id": "ae60a069"
      },
      "outputs": [],
      "source": [
        "model.compile(optimizer='adam', \n",
        "              loss='binary_crossentropy', metrics=['accuracy'])"
      ]
    },
    {
      "cell_type": "code",
      "execution_count": null,
      "id": "ca34cc2d",
      "metadata": {
        "execution": {
          "iopub.execute_input": "2022-01-24T18:33:51.482605Z",
          "iopub.status.busy": "2022-01-24T18:33:51.481786Z",
          "iopub.status.idle": "2022-01-24T18:35:16.725468Z",
          "shell.execute_reply": "2022-01-24T18:35:16.725925Z"
        },
        "papermill": {
          "duration": 85.280138,
          "end_time": "2022-01-24T18:35:16.726084",
          "exception": false,
          "start_time": "2022-01-24T18:33:51.445946",
          "status": "completed"
        },
        "tags": [],
        "id": "ca34cc2d"
      },
      "outputs": [],
      "source": [
        "model.fit(x_train_norm,y_train,          \n",
        "          validation_data=(x_test_norm,y_test),\n",
        "          epochs=4,\n",
        "          batch_size=32)"
      ]
    },
    {
      "cell_type": "markdown",
      "source": [
        "En este caso se obtuvo una exactitud de validación (val_accuracy) superior al 0.8. Es decir que se clasificó bien más del 80% de las imágenes."
      ],
      "metadata": {
        "id": "Wq5GshDMjKXK"
      },
      "id": "Wq5GshDMjKXK"
    },
    {
      "cell_type": "code",
      "execution_count": null,
      "metadata": {
        "id": "NPVZOLf1jMr9"
      },
      "outputs": [],
      "source": [
        "model.summary()"
      ],
      "id": "NPVZOLf1jMr9"
    },
    {
      "cell_type": "code",
      "execution_count": null,
      "id": "52c5af3f",
      "metadata": {
        "execution": {
          "iopub.execute_input": "2022-01-24T18:35:17.149644Z",
          "iopub.status.busy": "2022-01-24T18:35:17.148949Z",
          "iopub.status.idle": "2022-01-24T18:35:18.643126Z",
          "shell.execute_reply": "2022-01-24T18:35:18.642492Z"
        },
        "papermill": {
          "duration": 1.709224,
          "end_time": "2022-01-24T18:35:18.643259",
          "exception": false,
          "start_time": "2022-01-24T18:35:16.934035",
          "status": "completed"
        },
        "tags": [],
        "id": "52c5af3f"
      },
      "outputs": [],
      "source": [
        "x=x_test[0,...]\n",
        "imgplot = plt.imshow(x)\n",
        "x = np.expand_dims(x, axis=0)\n",
        "preds = model.predict(x)\n",
        "preds[0,0]\n",
        "# 0: ot__r_\n",
        "# 1: etiqueta_a_clasificar"
      ]
    },
    {
      "cell_type": "markdown",
      "source": [
        "Finalmente se almacenan en un archivo con extensión `.h5`, el cual contiene el modelo entrenado de la Red Neuronal. Esto con el fin de poderlo descargar y clasificar imágenes."
      ],
      "metadata": {
        "id": "iEYOFZ7lkIG6"
      },
      "id": "iEYOFZ7lkIG6"
    },
    {
      "cell_type": "code",
      "execution_count": null,
      "id": "35e01af2",
      "metadata": {
        "papermill": {
          "duration": 0.208524,
          "end_time": "2022-01-24T18:35:19.060176",
          "exception": false,
          "start_time": "2022-01-24T18:35:18.851652",
          "status": "completed"
        },
        "tags": [],
        "id": "35e01af2"
      },
      "outputs": [],
      "source": [
        "model_name = 'clasifica_una_etiqueta.h5'\n",
        "model.save(model_name, save_format='h5')"
      ]
    },
    {
      "cell_type": "markdown",
      "source": [
        "# Leer el modelo entrenado en una  RPI\n",
        "\n",
        "A continuación, se muestra cómo se puede utilizar el modelo almacenado para clasificar imágenes."
      ],
      "metadata": {
        "id": "uKP3KV1xOC-j"
      },
      "id": "uKP3KV1xOC-j"
    },
    {
      "cell_type": "code",
      "source": [
        "loaded_model = tf.keras.models.load_model(model_name)\n",
        "\n",
        "image = cv2.imread('image__s/flo__r/0001.png') # Si sale error, cambie el nombre por una imagen que sí exista\n",
        "image = cv2.cvtColor(image, cv2.COLOR_BGR2RGB)\n",
        "image = cv2.resize(image, (124,124))\n",
        "imgplot = plt.imshow(image)\n",
        "x = np.expand_dims(image, axis=0)\n",
        "preds = loaded_model.predict(x)\n",
        "preds[0,0]\n",
        "# 0: ot__r_\n",
        "# 1: etiqueta_a_clasificar"
      ],
      "metadata": {
        "id": "GNtufKwBOgnN"
      },
      "id": "GNtufKwBOgnN",
      "execution_count": null,
      "outputs": []
    },
    {
      "cell_type": "code",
      "source": [
        "image = cv2.imread('image__s/ot__r_/0126.png') # Si sale error, cambie el nombre por una imagen que sí exista\n",
        "image = cv2.cvtColor(image, cv2.COLOR_BGR2RGB)\n",
        "image = cv2.resize(image, (124,124))\n",
        "imgplot = plt.imshow(image)\n",
        "x = np.expand_dims(image, axis=0)\n",
        "preds = loaded_model.predict(x)\n",
        "preds[0,0]\n",
        "# 0: ot__r_\n",
        "# 1: etiqueta_a_clasificar"
      ],
      "metadata": {
        "id": "NKW_Se7N_8FN"
      },
      "id": "NKW_Se7N_8FN",
      "execution_count": null,
      "outputs": []
    }
  ],
  "metadata": {
    "kernelspec": {
      "display_name": "Python 3",
      "language": "python",
      "name": "python3"
    },
    "language_info": {
      "codemirror_mode": {
        "name": "ipython",
        "version": 3
      },
      "file_extension": ".py",
      "mimetype": "text/x-python",
      "name": "python",
      "nbconvert_exporter": "python",
      "pygments_lexer": "ipython3",
      "version": "3.9.5"
    },
    "papermill": {
      "default_parameters": {},
      "duration": 194.52973,
      "end_time": "2022-01-24T18:35:22.101903",
      "environment_variables": {},
      "exception": null,
      "input_path": "__notebook__.ipynb",
      "output_path": "__notebook__.ipynb",
      "parameters": {},
      "start_time": "2022-01-24T18:32:07.572173",
      "version": "2.3.3"
    },
    "colab": {
      "name": "clasificador_simple.ipynb",
      "provenance": [],
      "include_colab_link": true
    }
  },
  "nbformat": 4,
  "nbformat_minor": 5
}