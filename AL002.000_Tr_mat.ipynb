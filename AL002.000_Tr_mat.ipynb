{
 "cells": [
  {
   "cell_type": "code",
   "execution_count": 1,
   "metadata": {
    "collapsed": false
   },
   "outputs": [],
   "source": [
    "from sympy import * # Librería para operaciones simbólicas\n",
    "from ubogsla18p import * # Librería personal"
   ]
  },
  {
   "cell_type": "code",
   "execution_count": 2,
   "metadata": {
    "collapsed": false
   },
   "outputs": [
    {
     "data": {
      "text/latex": [
       "$b=$$\\left[\\begin{matrix}b_{0}\\\\b_{1}\\\\b_{2}\\end{matrix}\\right]$"
      ],
      "text/plain": [
       "<IPython.core.display.Latex object>"
      ]
     },
     "execution_count": 2,
     "metadata": {},
     "output_type": "execute_result"
    }
   ],
   "source": [
    "b=Matrix(symbols('b0:3'))\n",
    "imprimir('b=',b)"
   ]
  },
  {
   "cell_type": "code",
   "execution_count": 3,
   "metadata": {
    "collapsed": false,
    "scrolled": true
   },
   "outputs": [
    {
     "data": {
      "text/latex": [
       "$A=$$\\left[\\begin{matrix}a_{00} & a_{01} & a_{02}\\\\a_{10} & a_{11} & a_{12}\\\\a_{20} & a_{21} & a_{22}\\\\a_{30} & a_{31} & a_{32}\\end{matrix}\\right]$"
      ],
      "text/plain": [
       "<IPython.core.display.Latex object>"
      ]
     },
     "execution_count": 3,
     "metadata": {},
     "output_type": "execute_result"
    }
   ],
   "source": [
    "# asignando matrices de variables\n",
    "A=Matrix(symbols('a:4:3')).reshape(4,3)\n",
    "imprimir('A=',A)"
   ]
  },
  {
   "cell_type": "markdown",
   "metadata": {},
   "source": [
    "# Transformaciones\n",
    "\n",
    "Una __transformación__ (__función__) $T$ de un conjunto $A$ en un conjunto $B$, representada por $T:A \\rightarrow B$ asocia cada elemento $a$ de $A$ en un elemento $b$ único de $B$ llamado __imagen__ de $a$ bajo $T$.\n",
    "* $A$ se llama el dominio de $T$.\n",
    "* $B$ se llama el codominio de $T$.\n",
    "* La __imagen__ de $T$ es el conjunto de todas las imágenes de los elementos de $A$, $Im(T)=\\{T(a) \\mid a \\in A\\}$.\n"
   ]
  },
  {
   "cell_type": "markdown",
   "metadata": {},
   "source": [
    "# Transformación matricial\n",
    "[Nakos, Sec 5.1]\n",
    "\n",
    "Una transformación $T:\\mathbb{R}^n \\rightarrow \\mathbb{R}^m$ dada por \n",
    "$$T(\\vec{x})=A\\vec{x}$$\n",
    "donde $A$ es una matriz de tamaño $m \\times n$ y $x \\in  \\mathbb{R}^n$, se conoce como una __transformación matricial__. $T$ aveces la denoto $T_A$ o $A$ aveces la denoto $A_T$."
   ]
  },
  {
   "cell_type": "code",
   "execution_count": 4,
   "metadata": {
    "collapsed": false
   },
   "outputs": [
    {
     "data": {
      "text/latex": [
       "$T($$\\left[\\begin{matrix}b_{0}\\\\b_{1}\\\\b_{2}\\end{matrix}\\right]$$)=$$\\left[\\begin{matrix}a_{00} b_{0} + a_{01} b_{1} + a_{02} b_{2}\\\\a_{10} b_{0} + a_{11} b_{1} + a_{12} b_{2}\\\\a_{20} b_{0} + a_{21} b_{1} + a_{22} b_{2}\\\\a_{30} b_{0} + a_{31} b_{1} + a_{32} b_{2}\\end{matrix}\\right]$"
      ],
      "text/plain": [
       "<IPython.core.display.Latex object>"
      ]
     },
     "execution_count": 4,
     "metadata": {},
     "output_type": "execute_result"
    }
   ],
   "source": [
    "def T(x):\n",
    "    return A*x\n",
    "\n",
    "imprimir('T(',b,')=',T(b))"
   ]
  },
  {
   "cell_type": "code",
   "execution_count": 5,
   "metadata": {
    "collapsed": false
   },
   "outputs": [
    {
     "data": {
      "text/latex": [
       "$T($$\\left[\\begin{matrix}1\\\\2\\\\3\\end{matrix}\\right]$$)=$$\\left[\\begin{matrix}a_{00} + 2 a_{01} + 3 a_{02}\\\\a_{10} + 2 a_{11} + 3 a_{12}\\\\a_{20} + 2 a_{21} + 3 a_{22}\\\\a_{30} + 2 a_{31} + 3 a_{32}\\end{matrix}\\right]$"
      ],
      "text/plain": [
       "<IPython.core.display.Latex object>"
      ]
     },
     "execution_count": 5,
     "metadata": {},
     "output_type": "execute_result"
    }
   ],
   "source": [
    "c=Matrix([1, 2, 3])\n",
    "imprimir('T(',c,')=',T(c))"
   ]
  },
  {
   "cell_type": "markdown",
   "metadata": {},
   "source": [
    "Con las columnas de la identidad $I_3=\\begin{bmatrix}1&0&0\\\\0&1&0\\\\0&0&1\\end{bmatrix}$ se pueden recuperar las columnas de $A$. "
   ]
  },
  {
   "cell_type": "code",
   "execution_count": 6,
   "metadata": {
    "collapsed": false
   },
   "outputs": [
    {
     "data": {
      "text/latex": [
       "$I_3=$$\\left[\\begin{matrix}1 & 0 & 0\\\\0 & 1 & 0\\\\0 & 0 & 1\\end{matrix}\\right]$"
      ],
      "text/plain": [
       "<IPython.core.display.Latex object>"
      ]
     },
     "execution_count": 6,
     "metadata": {},
     "output_type": "execute_result"
    }
   ],
   "source": [
    "imprimir('I_3=',eye(3))"
   ]
  },
  {
   "cell_type": "code",
   "execution_count": 7,
   "metadata": {
    "collapsed": false
   },
   "outputs": [
    {
     "data": {
      "text/latex": [
       "$T($$\\left[\\begin{matrix}1\\\\0\\\\0\\end{matrix}\\right]$$)=$$\\left[\\begin{matrix}a_{00}\\\\a_{10}\\\\a_{20}\\\\a_{30}\\end{matrix}\\right]$"
      ],
      "text/plain": [
       "<IPython.core.display.Latex object>"
      ]
     },
     "execution_count": 7,
     "metadata": {},
     "output_type": "execute_result"
    }
   ],
   "source": [
    "c0=eye(3).col(0)\n",
    "imprimir('T(',c0,')=',T(c0))"
   ]
  },
  {
   "cell_type": "code",
   "execution_count": 8,
   "metadata": {
    "collapsed": false
   },
   "outputs": [
    {
     "data": {
      "text/latex": [
       "$T($$\\left[\\begin{matrix}0\\\\1\\\\0\\end{matrix}\\right]$$)=$$\\left[\\begin{matrix}a_{01}\\\\a_{11}\\\\a_{21}\\\\a_{31}\\end{matrix}\\right]$"
      ],
      "text/plain": [
       "<IPython.core.display.Latex object>"
      ]
     },
     "execution_count": 8,
     "metadata": {},
     "output_type": "execute_result"
    }
   ],
   "source": [
    "c1=eye(3).col(1)\n",
    "imprimir('T(',c1,')=',T(c1))"
   ]
  },
  {
   "cell_type": "code",
   "execution_count": 9,
   "metadata": {
    "collapsed": false
   },
   "outputs": [
    {
     "data": {
      "text/latex": [
       "$T($$\\left[\\begin{matrix}0\\\\0\\\\1\\end{matrix}\\right]$$)=$$\\left[\\begin{matrix}a_{02}\\\\a_{12}\\\\a_{22}\\\\a_{32}\\end{matrix}\\right]$"
      ],
      "text/plain": [
       "<IPython.core.display.Latex object>"
      ]
     },
     "execution_count": 9,
     "metadata": {},
     "output_type": "execute_result"
    }
   ],
   "source": [
    "c2=eye(3).col(2)\n",
    "imprimir('T(',c2,')=',T(c2))"
   ]
  },
  {
   "cell_type": "markdown",
   "metadata": {},
   "source": [
    "## Imagen de una matriz bajo transformaciones matriciales\n",
    "\n",
    "Dada la transformación matricial $T_A:\\mathbb{R}^n \\rightarrow \\mathbb{R}^m$ podemos definir la trantransformación $T_A^*$ de tal forma  que la imagen de una matriz $B=\\begin{bmatrix} v_0 & v_1 & \\cdots & v_{k-1} \\end{bmatrix}$ bajo la transformación matricial $T^*_A$ es \n",
    "\\begin{align}\n",
    "T_A^*(B)&=\\begin{bmatrix} T_A(v_0) & T_A(v_1) & \\cdots & T_A(v_{k-1})\\end{bmatrix}\\\\\n",
    "&=\\begin{bmatrix} Av_0 & Av_1 & \\cdots & Av_{k-1}\\end{bmatrix}\\\\\n",
    "&=AB\n",
    "\\end{align}\n",
    "\n",
    "### Teoremas\n",
    "* Si $T_A$ es una transformación matricial entonces $$A=T_A^*(I)$$ \n",
    "\n",
    "$$A=\\begin{bmatrix} \n",
    "T_A\\left(\\begin{bmatrix} 1 \\\\ 0 \\\\ \\vdots \\\\ 0 \\end{bmatrix}\\right) & \n",
    "T_A\\left(\\begin{bmatrix} 0 \\\\ 1 \\\\ \\vdots \\\\ 0 \\end{bmatrix}\\right) & \n",
    "\\cdots &\n",
    "T_A\\left(\\begin{bmatrix} 0 \\\\ 0 \\\\ \\vdots \\\\ 1 \\end{bmatrix}\\right) \n",
    "\\end{bmatrix}$$\n",
    "\n",
    "\n",
    "* Sea una transformación $T:\\mathbb{R}^n \\rightarrow \\mathbb{R}^m$.\n",
    "  * $T$ es una transformación matricial _sii_  $T^*(I) x= T(x)$ para todo $x \\in \\mathbb{R}^n$\n",
    "\n",
    "\n",
    "Ejercicio:\n",
    "* Encontrar la imagen la matriz $B=\\begin{bmatrix} 0 & 0 & 0.5 & 1 & 1 & 0 \\\\ 0 & 1 & 1.5  & 1 & 0 & 0  \\end{bmatrix}$ bajo la transformación matricial $T_A\\left(\\begin{bmatrix} x \\\\ y  \\end{bmatrix}\\right)=\\begin{bmatrix} y/2 \\\\ 2x  \\end{bmatrix}$. \n",
    "\n",
    "Respuesta:"
   ]
  },
  {
   "cell_type": "code",
   "execution_count": 36,
   "metadata": {
    "collapsed": false
   },
   "outputs": [
    {
     "data": {
      "text/latex": [
       "$T^*($$\\left[\\begin{matrix}0 & 0 & 0.5 & 1 & 1 & 0\\\\0 & 1 & 1.5 & 1 & 0 & 0\\end{matrix}\\right]$$)=$$\\left[\\begin{matrix}0 & \\frac{1}{2} & 0.75 & \\frac{1}{2} & 0 & 0\\\\0 & 0 & 1.0 & 2 & 2 & 0\\end{matrix}\\right]$"
      ],
      "text/plain": [
       "<IPython.core.display.Latex object>"
      ]
     },
     "execution_count": 36,
     "metadata": {},
     "output_type": "execute_result"
    }
   ],
   "source": [
    "A=Matrix([[0, 0, 0.5,1,1,0],[0, 1,1.5,1,0,0]])\n",
    "\n",
    "def T1(v):\n",
    "    return Matrix([v[1]/2,2*v[0]])\n",
    "\n",
    "imprimir('T^*(',A,')=',fun_cols_mat(T1,A))"
   ]
  },
  {
   "cell_type": "markdown",
   "metadata": {},
   "source": [
    "* Encontrar la matriz $A$ de la transformación $T_A\\left(\\begin{bmatrix} x \\\\ y  \\end{bmatrix}\\right)=\\begin{bmatrix} y/2 \\\\ 2x  \\end{bmatrix}$\n",
    "\n",
    "Respuesta:"
   ]
  },
  {
   "cell_type": "code",
   "execution_count": 37,
   "metadata": {
    "collapsed": false
   },
   "outputs": [
    {
     "data": {
      "text/latex": [
       "$T^*($$\\left[\\begin{matrix}1 & 0\\\\0 & 1\\end{matrix}\\right]$$)=$$\\left[\\begin{matrix}0 & \\frac{1}{2}\\\\2 & 0\\end{matrix}\\right]$"
      ],
      "text/plain": [
       "<IPython.core.display.Latex object>"
      ]
     },
     "execution_count": 37,
     "metadata": {},
     "output_type": "execute_result"
    }
   ],
   "source": [
    "I2=eye(2)\n",
    "imprimir('T^*(',I2,')=',fun_cols_mat(T1,I2))"
   ]
  },
  {
   "cell_type": "markdown",
   "metadata": {},
   "source": [
    "Ejercicos:\n",
    "* Para las siguientes transformaciones encuentre la matriz $A_T$, si $T$ es una transformación matricial, de lo contrario demuestre que no es una transformación matricial.\n",
    "  * $T\\left(\\begin{bmatrix}x_1\\\\x_2\\end{bmatrix}\\right)=3\\begin{bmatrix}x_1\\\\x_2\\end{bmatrix}$\n",
    "  \n",
    "  * $T\\left(\\begin{bmatrix}x_1\\\\x_2\\end{bmatrix}\\right)=\\begin{bmatrix}x_1\\\\0\\end{bmatrix}$\n",
    "  * $T\\left(\\begin{bmatrix}x_1\\\\x_2\\end{bmatrix}\\right)=\\begin{bmatrix}x_1\\\\5\\end{bmatrix}$\n",
    "  * $T\\left(\\begin{bmatrix}x_1\\\\x_2\\end{bmatrix}\\right)=\\begin{bmatrix}x_1\\\\5x_2\\end{bmatrix}$\n",
    "  * $T\\left(\\begin{bmatrix}x_1\\\\x_2\\end{bmatrix}\\right)=\\begin{bmatrix}x_1\\\\5+x_2\\end{bmatrix}$\n",
    "\n",
    "Respuesta del último ejercicio"
   ]
  },
  {
   "cell_type": "code",
   "execution_count": 39,
   "metadata": {
    "collapsed": false
   },
   "outputs": [
    {
     "data": {
      "text/latex": [
       "$T^*($$\\left[\\begin{matrix}1 & 0\\\\0 & 1\\end{matrix}\\right]$$)=$$\\left[\\begin{matrix}1 & 0\\\\5 & 6\\end{matrix}\\right]$"
      ],
      "text/plain": [
       "<IPython.core.display.Latex object>"
      ]
     },
     "execution_count": 39,
     "metadata": {},
     "output_type": "execute_result"
    }
   ],
   "source": [
    "def T2(v):\n",
    "    return Matrix([v[0],5+v[1]])\n",
    "\n",
    "A=fun_cols_mat(T2,eye(2))\n",
    "imprimir('T^*(',eye(2),')=',A)"
   ]
  },
  {
   "cell_type": "code",
   "execution_count": 44,
   "metadata": {
    "collapsed": false
   },
   "outputs": [
    {
     "data": {
      "text/latex": [
       "$\\left[\\begin{matrix}1 & 0\\\\5 & 6\\end{matrix}\\right]$$\\left[\\begin{matrix}x_{0}\\\\x_{1}\\end{matrix}\\right]$$=$$\\left[\\begin{matrix}x_{0}\\\\5 x_{0} + 6 x_{1}\\end{matrix}\\right]$"
      ],
      "text/plain": [
       "<IPython.core.display.Latex object>"
      ]
     },
     "execution_count": 44,
     "metadata": {},
     "output_type": "execute_result"
    }
   ],
   "source": [
    "x=Matrix(symbols('x0:2'))\n",
    "imprimir(A,x,'=',A*x)"
   ]
  },
  {
   "cell_type": "markdown",
   "metadata": {},
   "source": [
    "Entonces $T\\left(\\begin{bmatrix}x_1\\\\x_2\\end{bmatrix}\\right)=\\begin{bmatrix}x_1\\\\5+x_2\\end{bmatrix}$ no es una transformación matricial"
   ]
  },
  {
   "cell_type": "markdown",
   "metadata": {},
   "source": [
    "## Algunas transformaciones de $\\mathbb{R}^2$ en $\\mathbb{R}^2$"
   ]
  },
  {
   "cell_type": "code",
   "execution_count": 12,
   "metadata": {
    "collapsed": false
   },
   "outputs": [
    {
     "data": {
      "text/latex": [
       "$v=$$\\left[\\begin{matrix}x\\\\y\\end{matrix}\\right]$"
      ],
      "text/plain": [
       "<IPython.core.display.Latex object>"
      ]
     },
     "execution_count": 12,
     "metadata": {},
     "output_type": "execute_result"
    }
   ],
   "source": [
    "v=Matrix(symbols('x y'))\n",
    "imprimir('v=',v)"
   ]
  },
  {
   "cell_type": "code",
   "execution_count": 13,
   "metadata": {
    "collapsed": false,
    "scrolled": true
   },
   "outputs": [
    {
     "data": {
      "text/latex": [
       "$B=$$\\left[\\begin{matrix}0 & 0 & 0.5 & 1 & 1 & 0\\\\0 & 1 & 1.5 & 1 & 0 & 0\\end{matrix}\\right]$"
      ],
      "text/plain": [
       "<IPython.core.display.Latex object>"
      ]
     },
     "execution_count": 13,
     "metadata": {},
     "output_type": "execute_result"
    }
   ],
   "source": [
    "B=mat('0 0;0 1;0.5 1.5;1 1;1 0;0 0').T\n",
    "imprimir('B=',B)"
   ]
  },
  {
   "cell_type": "code",
   "execution_count": 14,
   "metadata": {
    "collapsed": false
   },
   "outputs": [
    {
     "data": {
      "text/plain": [
       "<matplotlib.figure.Figure at 0x93a6170>"
      ]
     },
     "metadata": {},
     "output_type": "display_data"
    },
    {
     "data": {
      "image/png": "[encoded data removed]",
      "text/plain": [
       "<matplotlib.figure.Figure at 0x4567370>"
      ]
     },
     "metadata": {},
     "output_type": "display_data"
    }
   ],
   "source": [
    "plot_mat(B,0,0,2,2)"
   ]
  },
  {
   "cell_type": "markdown",
   "metadata": {},
   "source": [
    "### Escalonar ejes"
   ]
  },
  {
   "cell_type": "code",
   "execution_count": 15,
   "metadata": {
    "collapsed": false
   },
   "outputs": [
    {
     "data": {
      "text/latex": [
       "$\\left[\\begin{matrix}2 & 0\\\\0 & 1\\end{matrix}\\right]$$\\left[\\begin{matrix}x\\\\y\\end{matrix}\\right]$$=$$\\left[\\begin{matrix}2 x\\\\y\\end{matrix}\\right]$"
      ],
      "text/plain": [
       "<IPython.core.display.Latex object>"
      ]
     },
     "execution_count": 15,
     "metadata": {},
     "output_type": "execute_result"
    }
   ],
   "source": [
    "A1=mat(\"2 0;0 1\")\n",
    "B1=A1*B\n",
    "imprimir(A1,v,'=',A1*v)"
   ]
  },
  {
   "cell_type": "code",
   "execution_count": 16,
   "metadata": {
    "collapsed": false
   },
   "outputs": [
    {
     "data": {
      "text/plain": [
       "<matplotlib.figure.Figure at 0x937fa50>"
      ]
     },
     "metadata": {},
     "output_type": "display_data"
    },
    {
     "data": {
      "image/png": "[encoded data removed]",
      "text/plain": [
       "<matplotlib.figure.Figure at 0xa66e6f0>"
      ]
     },
     "metadata": {},
     "output_type": "display_data"
    }
   ],
   "source": [
    "plot_mat2(B,B1,-0.1,-0.1,2.1,3.1)"
   ]
  },
  {
   "cell_type": "code",
   "execution_count": 17,
   "metadata": {
    "collapsed": false
   },
   "outputs": [
    {
     "data": {
      "text/latex": [
       "$\\left[\\begin{matrix}1 & 0\\\\0 & 2\\end{matrix}\\right]$$\\left[\\begin{matrix}x\\\\y\\end{matrix}\\right]$$=$$\\left[\\begin{matrix}x\\\\2 y\\end{matrix}\\right]$"
      ],
      "text/plain": [
       "<IPython.core.display.Latex object>"
      ]
     },
     "execution_count": 17,
     "metadata": {},
     "output_type": "execute_result"
    }
   ],
   "source": [
    "A2=mat(\"1 0;0 2\")\n",
    "B2=A2*B\n",
    "imprimir(A2,v,'=',A2*v)"
   ]
  },
  {
   "cell_type": "code",
   "execution_count": 18,
   "metadata": {
    "collapsed": false
   },
   "outputs": [
    {
     "data": {
      "text/plain": [
       "<matplotlib.figure.Figure at 0xa6658b0>"
      ]
     },
     "metadata": {},
     "output_type": "display_data"
    },
    {
     "data": {
      "image/png": "[encoded data removed]",
      "text/plain": [
       "<matplotlib.figure.Figure at 0xa61dad0>"
      ]
     },
     "metadata": {},
     "output_type": "display_data"
    }
   ],
   "source": [
    "plot_mat2(B,B2,-0.1,-0.1,2.1,3.1)"
   ]
  },
  {
   "cell_type": "markdown",
   "metadata": {},
   "source": [
    "### Intercambiar ejes"
   ]
  },
  {
   "cell_type": "code",
   "execution_count": 19,
   "metadata": {
    "collapsed": false
   },
   "outputs": [
    {
     "data": {
      "text/latex": [
       "$\\left[\\begin{matrix}0 & 1\\\\1 & 0\\end{matrix}\\right]$$\\left[\\begin{matrix}x\\\\y\\end{matrix}\\right]$$=$$\\left[\\begin{matrix}y\\\\x\\end{matrix}\\right]$"
      ],
      "text/plain": [
       "<IPython.core.display.Latex object>"
      ]
     },
     "execution_count": 19,
     "metadata": {},
     "output_type": "execute_result"
    }
   ],
   "source": [
    "A3=mat(\"0 1;1 0\")\n",
    "B3=A3*B\n",
    "imprimir(A3,v,'=',A3*v)"
   ]
  },
  {
   "cell_type": "code",
   "execution_count": 20,
   "metadata": {
    "collapsed": false
   },
   "outputs": [
    {
     "data": {
      "text/plain": [
       "<matplotlib.figure.Figure at 0xa5f2ab0>"
      ]
     },
     "metadata": {},
     "output_type": "display_data"
    },
    {
     "data": {
      "image/png": "[encoded data removed]",
      "text/plain": [
       "<matplotlib.figure.Figure at 0xa725370>"
      ]
     },
     "metadata": {},
     "output_type": "display_data"
    }
   ],
   "source": [
    "plot_mat2(B,B3,-0.1,-0.1,2.1,3.1)"
   ]
  },
  {
   "cell_type": "markdown",
   "metadata": {},
   "source": [
    "### Deslizar figuras"
   ]
  },
  {
   "cell_type": "code",
   "execution_count": 21,
   "metadata": {
    "collapsed": false
   },
   "outputs": [
    {
     "data": {
      "text/latex": [
       "$\\left[\\begin{matrix}1 & 0.5\\\\0 & 1\\end{matrix}\\right]$$\\left[\\begin{matrix}x\\\\y\\end{matrix}\\right]$$=$$\\left[\\begin{matrix}x + 0.5 y\\\\y\\end{matrix}\\right]$"
      ],
      "text/plain": [
       "<IPython.core.display.Latex object>"
      ]
     },
     "execution_count": 21,
     "metadata": {},
     "output_type": "execute_result"
    }
   ],
   "source": [
    "A4=mat(\"1 0.5;0 1\")\n",
    "B4=A4*B\n",
    "imprimir(A4,v,'=',A4*v)"
   ]
  },
  {
   "cell_type": "code",
   "execution_count": 22,
   "metadata": {
    "collapsed": false
   },
   "outputs": [
    {
     "data": {
      "text/plain": [
       "<matplotlib.figure.Figure at 0xa82cd70>"
      ]
     },
     "metadata": {},
     "output_type": "display_data"
    },
    {
     "data": {
      "image/png": "[encoded data removed]",
      "text/plain": [
       "<matplotlib.figure.Figure at 0xa859330>"
      ]
     },
     "metadata": {},
     "output_type": "display_data"
    }
   ],
   "source": [
    "plot_mat2(B,B4,-0.1,-0.1,2.1,3.1)"
   ]
  },
  {
   "cell_type": "markdown",
   "metadata": {
    "collapsed": true
   },
   "source": [
    "### Rotar figuras"
   ]
  },
  {
   "cell_type": "code",
   "execution_count": 23,
   "metadata": {
    "collapsed": false
   },
   "outputs": [
    {
     "data": {
      "text/latex": [
       "$\\left[\\begin{matrix}\\frac{\\sqrt{2}}{2} & - \\frac{\\sqrt{2}}{2}\\\\\\frac{\\sqrt{2}}{2} & \\frac{\\sqrt{2}}{2}\\end{matrix}\\right]$$\\left[\\begin{matrix}x\\\\y\\end{matrix}\\right]$$=$$\\left[\\begin{matrix}\\frac{\\sqrt{2} x}{2} - \\frac{\\sqrt{2} y}{2}\\\\\\frac{\\sqrt{2} x}{2} + \\frac{\\sqrt{2} y}{2}\\end{matrix}\\right]$"
      ],
      "text/plain": [
       "<IPython.core.display.Latex object>"
      ]
     },
     "execution_count": 23,
     "metadata": {},
     "output_type": "execute_result"
    }
   ],
   "source": [
    "alpha=pi/4\n",
    "A5=Matrix([[cos(alpha) , -sin(alpha)],[sin(alpha), cos(alpha)]])\n",
    "B5=A5*B\n",
    "imprimir(A5,v,'=',A5*v)"
   ]
  },
  {
   "cell_type": "code",
   "execution_count": 24,
   "metadata": {
    "collapsed": false
   },
   "outputs": [
    {
     "data": {
      "text/plain": [
       "<matplotlib.figure.Figure at 0xa602470>"
      ]
     },
     "metadata": {},
     "output_type": "display_data"
    },
    {
     "data": {
      "image/png": "[encoded data removed]",
      "text/plain": [
       "<matplotlib.figure.Figure at 0xa8fc050>"
      ]
     },
     "metadata": {},
     "output_type": "display_data"
    }
   ],
   "source": [
    "plot_mat2(B,B5,-1.0,-1.5,1.0,1.5)"
   ]
  },
  {
   "cell_type": "markdown",
   "metadata": {
    "collapsed": true
   },
   "source": [
    "### Proyectar sobre ejes"
   ]
  },
  {
   "cell_type": "code",
   "execution_count": 25,
   "metadata": {
    "collapsed": false
   },
   "outputs": [
    {
     "data": {
      "text/latex": [
       "$\\left[\\begin{matrix}1 & 0\\\\0 & 0\\end{matrix}\\right]$$\\left[\\begin{matrix}x\\\\y\\end{matrix}\\right]$$=$$\\left[\\begin{matrix}x\\\\0\\end{matrix}\\right]$"
      ],
      "text/plain": [
       "<IPython.core.display.Latex object>"
      ]
     },
     "execution_count": 25,
     "metadata": {},
     "output_type": "execute_result"
    }
   ],
   "source": [
    "A6=mat(\"1 0;0 0\")\n",
    "B6=A6*B\n",
    "imprimir(A6,v,'=',A6*v)"
   ]
  },
  {
   "cell_type": "code",
   "execution_count": 26,
   "metadata": {
    "collapsed": false,
    "scrolled": true
   },
   "outputs": [
    {
     "data": {
      "text/plain": [
       "<matplotlib.figure.Figure at 0xa602570>"
      ]
     },
     "metadata": {},
     "output_type": "display_data"
    },
    {
     "data": {
      "image/png": "[encoded data removed]",
      "text/plain": [
       "<matplotlib.figure.Figure at 0xa9845f0>"
      ]
     },
     "metadata": {},
     "output_type": "display_data"
    }
   ],
   "source": [
    "plot_mat2(B,B6,-0.1,-0.1,2.1,3.1)"
   ]
  },
  {
   "cell_type": "code",
   "execution_count": 27,
   "metadata": {
    "collapsed": false
   },
   "outputs": [
    {
     "data": {
      "text/latex": [
       "$\\left[\\begin{matrix}0 & 0\\\\0 & 1\\end{matrix}\\right]$$\\left[\\begin{matrix}x\\\\y\\end{matrix}\\right]$$=$$\\left[\\begin{matrix}0\\\\y\\end{matrix}\\right]$"
      ],
      "text/plain": [
       "<IPython.core.display.Latex object>"
      ]
     },
     "execution_count": 27,
     "metadata": {},
     "output_type": "execute_result"
    }
   ],
   "source": [
    "A7=mat(\"0 0;0 1\")\n",
    "B7=A7*B\n",
    "imprimir(A7,v,'=',A7*v)"
   ]
  },
  {
   "cell_type": "code",
   "execution_count": 28,
   "metadata": {
    "collapsed": false,
    "scrolled": true
   },
   "outputs": [
    {
     "data": {
      "text/plain": [
       "<matplotlib.figure.Figure at 0xaa591d0>"
      ]
     },
     "metadata": {},
     "output_type": "display_data"
    },
    {
     "data": {
      "image/png": "[encoded data removed]",
      "text/plain": [
       "<matplotlib.figure.Figure at 0xaa7dbf0>"
      ]
     },
     "metadata": {},
     "output_type": "display_data"
    }
   ],
   "source": [
    "plot_mat2(B,B7,-0.1,-0.1,2.1,3.1)"
   ]
  },
  {
   "cell_type": "markdown",
   "metadata": {
    "collapsed": true
   },
   "source": [
    "## Transformación de $\\mathbb{R}^2$ en $\\mathbb{R}^3$"
   ]
  },
  {
   "cell_type": "code",
   "execution_count": 29,
   "metadata": {
    "collapsed": false
   },
   "outputs": [
    {
     "data": {
      "text/latex": [
       "$\\left[\\begin{matrix}1 & 0\\\\1 & 0\\\\0 & 1\\end{matrix}\\right]$$\\left[\\begin{matrix}x\\\\y\\end{matrix}\\right]$$=$$\\left[\\begin{matrix}x\\\\x\\\\y\\end{matrix}\\right]$$, \\ \\ \\ \\ \\ $$\\left[\\begin{matrix}1 & 0\\\\1 & 0\\\\0 & 1\\end{matrix}\\right]$$\\left[\\begin{matrix}0 & 0 & 0.5 & 1 & 1 & 0\\\\0 & 1 & 1.5 & 1 & 0 & 0\\end{matrix}\\right]$$=$$\\left[\\begin{matrix}0 & 0 & 0.5 & 1 & 1 & 0\\\\0 & 0 & 0.5 & 1 & 1 & 0\\\\0 & 1 & 1.5 & 1 & 0 & 0\\end{matrix}\\right]$"
      ],
      "text/plain": [
       "<IPython.core.display.Latex object>"
      ]
     },
     "execution_count": 29,
     "metadata": {},
     "output_type": "execute_result"
    }
   ],
   "source": [
    "A8=mat(\"1 0;1 0;0 1\")\n",
    "B8=A8*B\n",
    "imprimir(A8,v,'=',A8*v,', \\ \\ \\ \\ \\ ',A8,B,'=',A8*B)"
   ]
  },
  {
   "cell_type": "code",
   "execution_count": 30,
   "metadata": {
    "collapsed": false
   },
   "outputs": [
    {
     "data": {
      "image/png": "[encoded data removed]",
      "text/plain": [
       "<matplotlib.figure.Figure at 0xa9addb0>"
      ]
     },
     "metadata": {},
     "output_type": "display_data"
    }
   ],
   "source": [
    "#%matplotlib\n",
    "import matplotlib.pyplot as plt\n",
    "from mpl_toolkits.mplot3d import axes3d\n",
    "\n",
    "fig=plt.figure()\n",
    "ax=fig.gca(projection='3d')\n",
    "ax.plot(B8.T.col(0),B8.T.col(1),B8.T.col(2))\n",
    "plt.show()"
   ]
  }
 ],
 "metadata": {
  "kernelspec": {
   "display_name": "Python 3",
   "language": "python",
   "name": "python3"
  },
  "language_info": {
   "codemirror_mode": {
    "name": "ipython",
    "version": 3
   },
   "file_extension": ".py",
   "mimetype": "text/x-python",
   "name": "python",
   "nbconvert_exporter": "python",
   "pygments_lexer": "ipython3",
   "version": "3.6.0"
  }
 },
 "nbformat": 4,
 "nbformat_minor": 2
}
