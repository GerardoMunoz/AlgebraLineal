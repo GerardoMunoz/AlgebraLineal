{
  "nbformat": 4,
  "nbformat_minor": 0,
  "metadata": {
    "kernelspec": {
      "display_name": "Python 3",
      "language": "python",
      "name": "python3"
    },
    "language_info": {
      "codemirror_mode": {
        "name": "ipython",
        "version": 3
      },
      "file_extension": ".py",
      "mimetype": "text/x-python",
      "name": "python",
      "nbconvert_exporter": "python",
      "pygments_lexer": "ipython3",
      "version": "3.7.4"
    },
    "colab": {
      "name": "Quiz6(4).ipynb",
      "provenance": [],
      "collapsed_sections": []
    }
  },
  "cells": [
    {
      "cell_type": "markdown",
      "metadata": {
        "id": "UxFPWGtc4TyW",
        "colab_type": "text"
      },
      "source": [
        "# Instrucciones para el Quiz 6\n",
        "\n",
        "Estimado estudiante, reciba un cordial saludo.\n",
        "\n",
        "Esta plataforma se conoce como un **cuaderno (_notebook_) de Jupyter**. La versión de Google se llamama **Colaboratory** o **Colab**. Actualmente este tipo de cuadernos son utilizados para los desarrollos en _machine learning_.\n",
        "\n",
        "Estos cuadernos estan dividicos en **celdas**, cada celda puede ser de texto (en formato **markdown** y **latex**) o de código (en lenguaje **Python**)\n",
        "\n",
        "Cuando usted inicia sesión con una cuenta de gmail (como la de la universidad) tiene acceso a estos cuadernos, los cuales se guardan en la carpeta Colab Notebooks de su cuenta de Google Drive.\n",
        "\n",
        "El quiz 6 consiste en:\n",
        "* Copiar este cuaderno en su cuenta de google drive (lo cual se hace iniciando sesión y en el menú seleccionar: Archivo->Guardar una copia en Drive)\n",
        "* Editar este cuaderno con los datos solicitados\n",
        "* Cada dos horas sacar una copia y __compartir el enlace__ con el profesor al enlace habilitado en el aula virtual (si tiene algún problema puede escribirme al correo: gmunoz@udistrital.edu.co ). \n",
        "  * Si termina antes de las primeras dos horas, sólo es necesario compartir el enlace final.\n",
        "  * Pácticamente no hay límite de tiempo (realmente no puede pasar del lunes a las 11:59 pm), siempre y cuando envíe un enlace cada dos horas.\n",
        "  * Si debe interrupir por alguna otra materia (y por lo tanto no puede enviar el enlace cada dos horas), entonces en la siguiete copia que enlace, indica la hora en que pudo retomar.  \n",
        "  * Sugiero comenzar con los puntos del 6 al 10 y cuando tenga práctica hacer los puntos del 1 al 5.\n",
        "  * No ovide colocar su nombre, código y grupo (Gr1 8am, Gr7 10am).\n",
        "  * La nota sólo depende del enlace final, los otros enlaces son para conocer un poco sobre el avance individual. No hay que tomar fotos ni pantallazos. \n",
        "  * Despues de filalizar el quiz y si quierer conocer un poco más sobre python lo invito a iniciar sesión en kaggle.com y comenzar con los cursos de Python.\n",
        "\n",
        "# Datos solicitados\n",
        "Sabiendo que **$a$ es el último dígito** de su código y que **$b$ es el penúltimo dígito** de su código, debe editar este cuaderno cambiando las siguietes matrices:\n",
        "\n",
        "* $  B_1=\\left[\\matrix{a&b+2 \\\\ a+1&b \\\\ a+2&b+5} \\right]$\n",
        "\n",
        "* $\\vec{w}=\\left(\\matrix{2a+b+2 \\\\ 2a+b+2 \\\\ 2a+b+9} \\right)$\n",
        "\n",
        "* $  A_6=\\left[\\matrix{\n",
        "a&0&0&4&5 \\\\ \n",
        "0&a&0&2&3 \\\\\n",
        "0&0&b&6&1 \\\\ \n",
        "0&0&0&a+1&0 \\\\ \n",
        "0&0&0&0&b-1 \\\\ } \\right]$ \n",
        "\n",
        "Si su $A_6$ no es diagonalizable no hay que encontrar ni $B_6$ ni $D_6$.\n",
        "\n",
        "\n",
        "\n",
        "\n",
        "\n"
      ]
    },
    {
      "cell_type": "markdown",
      "metadata": {
        "id": "DDouIEvjy5PC",
        "colab_type": "text"
      },
      "source": [
        "# Ejercicios de coordenadas y cambios de bases\n",
        "\n",
        "\n",
        "\n",
        "Sea la matriz $  B_1=\\left[\\matrix{1&0 \\\\ 2&2 \\\\ 0&1} \\right]$, cuyas columnas son base del subespacio $S=co(B1)$.\n",
        "\n",
        "1. Usando Gram-Schmidt en la base $B_1$ encuentre la base ortogonal $B_2$.\n",
        "\n",
        "2. Normalizando la base $B_2$ encuentre la base ortonormal $B_3$.\n",
        "\n",
        "3. Encuentre la matriz $A_3$ para pasar de la base $B_1$  a la base $B_3$.\n",
        "\n",
        "4. Encuentre la matriz $A_4$ para pasar de la base $B_3$ a la base $B_1$.\n",
        "\n",
        "5. Encuentre las coordenadas de \n",
        "\n",
        "$\\vec{w}=\\left(\\matrix{3 \\\\ 4 \\\\ -1} \\right)$\n",
        "\n",
        "en las bases:\n",
        "\n",
        "  a. $B_1$\n",
        "\n",
        "  b. $B_2$\n",
        "\n",
        "  c. $B_3$\n",
        "\n",
        "  d. $B_4$\n",
        "\n"
      ]
    },
    {
      "cell_type": "markdown",
      "metadata": {
        "id": "KXYm80TXK5B7",
        "colab_type": "text"
      },
      "source": [
        "# Solución de los ejercicios de coordenadas y cambios de bases:\n",
        "Si $B_1=[\\matrix{ v_1 & v_2 }]$ entonces: \n",
        "* $\\vec{v}_1=\\left(\\matrix{1 \\\\ 2 \\\\ 0} \\right)$\n",
        "* $\\vec{v}_2=\\left(\\matrix{0 \\\\ 2 \\\\ 1} \\right)$\n",
        "\n",
        "1. Usando el algoritmo de Gram-Schmidt obtenemos\n",
        "\n",
        "* $\\vec{u}_1=\\vec{v}_1=\\left(\\matrix{1 \\\\ 2 \\\\ 0} \\right)$\n",
        "\n",
        "* $\\vec{u}_2=\\vec{v}_2-\\frac{\\vec{v}_2 \\cdot \\vec{u}_1}{\\vec{u}_1 \\cdot \\vec{u}_1}=\\left(\\matrix{0 \\\\ 2 \\\\ 1} \\right)-\\frac{\\left(\\matrix{0 \\\\ 2 \\\\ 1} \\right) \\cdot \\left(\\matrix{1 \\\\ 2 \\\\ 0} \\right)}{\\left(\\matrix{1 \\\\ 2 \\\\ 0} \\right) \\cdot \\left(\\matrix{1 \\\\ 2 \\\\ 0} \\right)}\\left(\\matrix{1 \\\\ 2 \\\\ 0} \\right)=\\left(\\matrix{0 \\\\ 2 \\\\ 1} \\right)-\\frac{4}{5}\\left(\\matrix{1 \\\\ 2 \\\\ 0} \\right)=\\left(\\matrix{-\\frac{4}{5} \\\\ \\frac{2}{5} \\\\ 1} \\right)$\n",
        "\n",
        "$B_2=[\\matrix{ u_1 & u_2 }]=\\left[\\matrix{ \\matrix{1 \\\\ 2 \\\\ 0} & \\matrix{-\\frac{4}{5} \\\\ \\frac{2}{5} \\\\ 1} }\\right]$\n",
        "\n",
        "\n"
      ]
    },
    {
      "cell_type": "markdown",
      "metadata": {
        "id": "YorlJaXkUG2d",
        "colab_type": "text"
      },
      "source": [
        "2. Nomalizando cada vector obtenemios:\n",
        "* $\\hat{u}_1=\\frac{1}{|\\vec{u}_1|}\\vec{u}_1=\\frac{1}{\\sqrt{5}}\\left(\\matrix{1 \\\\ 2 \\\\ 0} \\right)=\\left(\\matrix{\\frac{1}{\\sqrt{5}} \\\\ \\frac{2}{\\sqrt{5}} \\\\ 0} \\right)$\n",
        "* $\\hat{u}_2=\\frac{1}{|\\vec{u}_2|}\\vec{u}_2=\\frac{\\sqrt{5}}{3}\\left(\\matrix{-\\frac{4}{5} \\\\ \\frac{2}{5} \\\\ 1} \\right)=\\left(\\matrix{\\frac{-4\\sqrt{5}}{15} \\\\ \\frac{2\\sqrt{5}}{15} \\\\ \\frac{\\sqrt{5}}{3}} \\right)$\n",
        "\n",
        "$B3=\\left[\\matrix{\n",
        "  \\matrix{\\frac{1}{\\sqrt{5}} \\\\ \\frac{2}{\\sqrt{5}} \\\\ 0} \n",
        "  &\n",
        "  \\matrix{\\frac{-4\\sqrt{5}}{15} \\\\ \\frac{2\\sqrt{5}}{15} \\\\ \\frac{\\sqrt{5}}{3}} \n",
        "}\\right]$\n",
        "\n",
        "\n",
        "\n",
        "\n"
      ]
    },
    {
      "cell_type": "markdown",
      "metadata": {
        "id": "s77YIoU_YHyj",
        "colab_type": "text"
      },
      "source": [
        "3. Para encontrar la matriz $A_3$ que pasa de la base $B_1=[\\matrix{ \\vec{v}_1 & \\vec{v}_2 }]$ a la base $B_3=[\\matrix{ \\hat{u}_1 & \\hat{u}_2 }]$ usamos la fórmula\n",
        "\n",
        "$A_3=\\left[\\matrix{ [\\vec{v}_1]_{B3} & [\\vec{v}_2]_{B3}}\\right]$. \n",
        "\n",
        "Las columnas de $A_3$ son las coordenadas de los vectores $\\vec{v}_1$ y $\\vec{v}_2$ en la base $B_3$. Para hallar estas coordenadas aprovechamos el hecho que $B_3$ es una base ortonormal.\n",
        "\n",
        "$[\\vec{v}_1]_{B3}=\\left(\\matrix{c_1 \\\\ c_2 }\\right)$ \n",
        "$=\\left(\\matrix{\\vec{v}_1 \\cdot \\hat{u}_1 \\\\ \\vec{v}_1 \\cdot \\hat{u}_2 }\\right) $ \n",
        "$=\\left(\\matrix{\\left(\\matrix{1 \\\\ 2 \\\\ 0} \\right) \n",
        "\\cdot \\left(\\matrix{\\frac{1}{\\sqrt{5}} \\\\ \\frac{2}{\\sqrt{5}} \\\\ 0} \\right)\n",
        "\\\\ \\left(\\matrix{1 \\\\ 2 \\\\ 0} \\right) \n",
        "\\cdot \\left(\\matrix{\\frac{-4\\sqrt{5}}{15}  \n",
        "\\\\ \\frac{2\\sqrt{5}}{15} \\\\ \\frac{\\sqrt{5}}{3}} \\right)}\\right)$ \n",
        "$=\\left(\\matrix{\\sqrt{5} \\\\ 0}\\right)$\n",
        "\n",
        "$[\\vec{v}_2]_{B3}=\\left(\\matrix{d_1 \\\\ d_2 }\\right)$ \n",
        "$=\\left(\\matrix{\\vec{v}_2 \\cdot \\hat{u}_1 \\\\ \\vec{v}_2 \\cdot \\hat{u}_2 }\\right) $ \n",
        "$=\\left(\\matrix{\\left(\\matrix{0 \\\\ 2 \\\\ 1} \\right) \n",
        "\\cdot \\left(\\matrix{\\frac{1}{\\sqrt{5}} \\\\ \\frac{2}{\\sqrt{5}} \\\\ 0} \\right)\n",
        "\\\\ \\left(\\matrix{0 \\\\ 2 \\\\ 1} \\right) \n",
        "\\cdot \\left(\\matrix{\\frac{-4\\sqrt{5}}{15}  \n",
        "\\\\ \\frac{2\\sqrt{5}}{15} \\\\ \\frac{\\sqrt{5}}{3}} \\right)}\\right)$ \n",
        "$=\\left(\\matrix{\\frac{4}{\\sqrt{5}} \\\\ \\frac{3}{\\sqrt{5}}}\\right)$\n",
        "\n",
        "Por lo tanto:\n",
        "\n",
        "$A_3=\\left[\\matrix{\\matrix{\\sqrt{5} \\\\ 0} & \\matrix{\\frac{4}{\\sqrt{5}} \\\\ \\frac{3}{\\sqrt{5}}}}\\right]$"
      ]
    },
    {
      "cell_type": "markdown",
      "metadata": {
        "id": "4yFWpBFwnGT1",
        "colab_type": "text"
      },
      "source": [
        "4. Para pasar de la base $B_3$ a la base $B_1$ es la inversa de $A_3$\n",
        "\n",
        "$A_4=A_3^{-1}=\\frac{1}{3}\\left[\\matrix{\\matrix{ \\frac{3}{\\sqrt{5}} \\\\ 0} & \\matrix{-\\frac{4}{\\sqrt{5}} \\\\ \\sqrt{5} }}\\right]$"
      ]
    },
    {
      "cell_type": "markdown",
      "metadata": {
        "id": "64Yd6NicoNtC",
        "colab_type": "text"
      },
      "source": [
        "# Verificación\n"
      ]
    },
    {
      "cell_type": "markdown",
      "metadata": {
        "id": "ucin6Znc3bXS",
        "colab_type": "text"
      },
      "source": [
        "Primeo se definen las librerías a usar"
      ]
    },
    {
      "cell_type": "code",
      "metadata": {
        "id": "D7kQaEYSWFHc",
        "colab_type": "code",
        "colab": {}
      },
      "source": [
        "import numpy as np # Librería de python para arreglos y matrices\n",
        "import math # Librería para usar raiz cuadrada (sqrt)"
      ],
      "execution_count": 0,
      "outputs": []
    },
    {
      "cell_type": "markdown",
      "metadata": {
        "id": "UWS_uO2U3_lg",
        "colab_type": "text"
      },
      "source": [
        "`np.array( v )` permite definir vectores o matrices"
      ]
    },
    {
      "cell_type": "code",
      "metadata": {
        "id": "SfiDWER033fy",
        "colab_type": "code",
        "outputId": "762db73f-f466-4061-f2fa-c30559adbc2b",
        "colab": {
          "base_uri": "https://localhost:8080/",
          "height": 34
        }
      },
      "source": [
        "u2=np.array([-4*math.sqrt(5)/15,2*math.sqrt(5)/15,math.sqrt(5)/3])\n",
        "u2"
      ],
      "execution_count": 0,
      "outputs": [
        {
          "output_type": "execute_result",
          "data": {
            "text/plain": [
              "array([-0.59628479,  0.2981424 ,  0.74535599])"
            ]
          },
          "metadata": {
            "tags": []
          },
          "execution_count": 3
        }
      ]
    },
    {
      "cell_type": "markdown",
      "metadata": {
        "id": "9vSG6nV33ez4",
        "colab_type": "text"
      },
      "source": [
        "Para realizar el producto punto se usa `np.dot`."
      ]
    },
    {
      "cell_type": "code",
      "metadata": {
        "id": "3nTvlUZC35YB",
        "colab_type": "code",
        "outputId": "4685b230-d803-4cac-8d99-df1a568e6d8a",
        "colab": {
          "base_uri": "https://localhost:8080/",
          "height": 34
        }
      },
      "source": [
        "np.dot(u2,u2)"
      ],
      "execution_count": 0,
      "outputs": [
        {
          "output_type": "execute_result",
          "data": {
            "text/plain": [
              "1.0"
            ]
          },
          "metadata": {
            "tags": []
          },
          "execution_count": 4
        }
      ]
    },
    {
      "cell_type": "markdown",
      "metadata": {
        "id": "fWsKPNrz4tZA",
        "colab_type": "text"
      },
      "source": [
        "Lo anterior muestra que el vector $u_2$ es un vector unitario, como se esperaba.\n",
        "\n",
        "A continuación se definen las matrices $B_3$ y $A_3$."
      ]
    },
    {
      "cell_type": "code",
      "metadata": {
        "id": "PSJEIv2uiKpR",
        "colab_type": "code",
        "outputId": "4ea0b8bd-6f53-4169-b971-82adfb388e3d",
        "colab": {
          "base_uri": "https://localhost:8080/",
          "height": 68
        }
      },
      "source": [
        "B3=np.array([[1/math.sqrt(5),-4*math.sqrt(5)/15],[2/math.sqrt(5),2*math.sqrt(5)/15],[0,math.sqrt(5)/3]])\n",
        "B3"
      ],
      "execution_count": 0,
      "outputs": [
        {
          "output_type": "execute_result",
          "data": {
            "text/plain": [
              "array([[ 0.4472136 , -0.59628479],\n",
              "       [ 0.89442719,  0.2981424 ],\n",
              "       [ 0.        ,  0.74535599]])"
            ]
          },
          "metadata": {
            "tags": []
          },
          "execution_count": 5
        }
      ]
    },
    {
      "cell_type": "code",
      "metadata": {
        "id": "kOEFJFn5hvcB",
        "colab_type": "code",
        "outputId": "a1a22054-0bbd-4b2e-f7bc-e3b06769be30",
        "colab": {
          "base_uri": "https://localhost:8080/",
          "height": 51
        }
      },
      "source": [
        "A3=np.array([[math.sqrt(5),4/math.sqrt(5)],[0,3/math.sqrt(5)]])\n",
        "A3"
      ],
      "execution_count": 0,
      "outputs": [
        {
          "output_type": "execute_result",
          "data": {
            "text/plain": [
              "array([[2.23606798, 1.78885438],\n",
              "       [0.        , 1.34164079]])"
            ]
          },
          "metadata": {
            "tags": []
          },
          "execution_count": 6
        }
      ]
    },
    {
      "cell_type": "markdown",
      "metadata": {
        "id": "HFnilTFfjqBF",
        "colab_type": "text"
      },
      "source": [
        "Recordemos que \n",
        "```\n",
        "         $R^3$\n",
        "         /\\\n",
        "  $B_1$ /  \\$B_3$\n",
        "       /    \\\n",
        "  $R^2$ ----- $R^2$\n",
        "        $A3$\n",
        "``` \n",
        "(el signo $ hace referencia a texto con formato latex)\n",
        "\n",
        "\n",
        "Ahora se va a probar que $B_1 = B_3 A_3$. Para la multiplicación de las matrices `B3 y `A_3` se utiliza `np.dot(B3,A3)`\n"
      ]
    },
    {
      "cell_type": "code",
      "metadata": {
        "id": "gw4bHAytiIzJ",
        "colab_type": "code",
        "outputId": "89b8dfe1-807d-46b0-d35a-654a7888a2ac",
        "colab": {
          "base_uri": "https://localhost:8080/",
          "height": 68
        }
      },
      "source": [
        "np.dot(B3,A3)"
      ],
      "execution_count": 0,
      "outputs": [
        {
          "output_type": "execute_result",
          "data": {
            "text/plain": [
              "array([[ 1.00000000e+00, -1.07940985e-16],\n",
              "       [ 2.00000000e+00,  2.00000000e+00],\n",
              "       [ 0.00000000e+00,  1.00000000e+00]])"
            ]
          },
          "metadata": {
            "tags": []
          },
          "execution_count": 7
        }
      ]
    },
    {
      "cell_type": "markdown",
      "metadata": {
        "id": "YAPmw6c-7UWk",
        "colab_type": "text"
      },
      "source": [
        "Observe que los cálculos numéricos dan una diferencia muy pequeña. Recuerde que en Python `-1.07e-16` equivale a $-1.07(10^{-16})=-0.000000000000000107$  "
      ]
    },
    {
      "cell_type": "markdown",
      "metadata": {
        "id": "WCk4OXSkyttE",
        "colab_type": "text"
      },
      "source": [
        "\n",
        "  \n",
        "# Ejercicios de vectores y valores propios\n",
        "\n",
        "6. Sea la matriz $  A_6=\\left[\\matrix{\n",
        "5&0&0&4&5 \\\\ \n",
        "0&5&0&2&3 \\\\\n",
        "0&0&5&6&1 \\\\ \n",
        "0&0&0&4&0 \\\\ \n",
        "0&0&0&0&4 \\\\ } \\right]$. Encuentre sus valores propios  y para cada uno encuentre:\n",
        "\n",
        "7. Las multiplicidades algebraicas (M.A.)\n",
        "\n",
        "8. Las multiplicidades geométricas (M.G.)\n",
        "\n",
        "9. Bases del espacio característico (vectores propios) \n",
        "\n",
        "10. Si es posible encontrar una base de $\\mathbb{R}^5$ de vectores propios de $A_6$ entonces escribir la matriz $B_6$ que diagonaliza y la matriz diagonalizada $D_6$, tal que $A_6=B_6 D_6 B_6^{-1}$\n",
        "\n",
        "# Solución de los ejercicios de vectores y valores propios:\n",
        "\n",
        "6. y 7.  Recordemos que los valores propios son las raíces del polinomio característico dado por $det(A_6 - \\lambda I)=0$. y los exponentes son las M.A.\n",
        "\n",
        "En este caso, como la matriz característica $A_6 - \\lambda I$ es un a matriz triangular entonces su determinante es la multiplicación de la diagonal. \n",
        "\n",
        "$  \\left|\\matrix{\n",
        "5-\\lambda&0&0&4&5 \\\\ \n",
        "0&5-\\lambda&0&2&3 \\\\\n",
        "0&0&5-\\lambda&6&1 \\\\ \n",
        "0&0&0&4-\\lambda&0 \\\\ \n",
        "0&0&0&0&4-\\lambda \\\\ } \\right|=(5-\\lambda)^3(4-\\lambda)^2=0$\n",
        "\n",
        "$\\lambda_1=5$ con M.A. 3\n",
        "\n",
        "$\\lambda_2=4$ con M.A. 2\n",
        "\n",
        "9.\n",
        "\n",
        "Ahora para cada valor propio hay que hallar su espacio característico, que es el espacio nulo de la matriz característica. Es decir, la solución del sistema homogéneo $[A_6 - \\lambda_i I:0]$. \n",
        "\n",
        "Para $\\lambda_1=5$\n",
        "\n",
        "$\\left[\\matrix{\n",
        "0&0&0&4&5&:&0 \\\\ \n",
        "0&0&0&2&3&:&0 \\\\\n",
        "0&0&0&6&1&:&0 \\\\ \n",
        "0&0&0&-1&0&:&0 \\\\ \n",
        "0&0&0&0&-1&:&0 \\\\ } \\right]$\n",
        "\n",
        "Después de intercambiar algunos renglones se obtiene:\n",
        "\n",
        "$\\left[\\matrix{\n",
        "0&0&0&-1&0&:&0 \\\\ \n",
        "0&0&0&0&-1&:&0 \\\\ \n",
        "0&0&0&4&5&:&0 \\\\ \n",
        "0&0&0&2&3&:&0 \\\\\n",
        "0&0&0&6&1&:&0 \\\\ \n",
        "} \\right]$\n",
        "\n",
        "Luego de multiplicar un par de renglones por -1 queda:\n",
        "\n",
        "$\\left[\\matrix{\n",
        "0&0&0&1&0&:&0 \\\\ \n",
        "0&0&0&0&1&:&0 \\\\ \n",
        "0&0&0&4&5&:&0 \\\\ \n",
        "0&0&0&2&3&:&0 \\\\\n",
        "0&0&0&6&1&:&0 \\\\ \n",
        "} \\right]$\n",
        "\n",
        "Eliminando, finalmente queda la forma escalón:\n",
        "\n",
        "$\\left[\\matrix{\n",
        "0&0&0&1&0&:&0 \\\\ \n",
        "0&0&0&0&1&:&0 \\\\ \n",
        "0&0&0&0&0&:&0 \\\\ \n",
        "0&0&0&0&0&:&0 \\\\ \n",
        "0&0&0&0&0&:&0 \\\\ \n",
        "} \\right]$\n",
        "\n",
        "Las primeras tres variables son libres y por lo tanto se le asignan parámetros\n",
        "\n",
        "$x_1=t_1$\n",
        "\n",
        "$x_2=t_2$\n",
        "\n",
        "$x_3=t_3$\n",
        "\n",
        "Las otras dos variables como son delanteras de pueden despejar de las dos primeras ecuaciones.\n",
        "\n",
        "$x_4=0$\n",
        "\n",
        "$x_5=0$\n",
        "\n",
        "De esta forma escribimos la solución general\n",
        "\n",
        "$\\left(\\matrix{x_1 \\\\ x_2 \\\\ x_3 \\\\ x_4 \\\\ x_5 \\\\ } \\right)=t_1\\left(\\matrix{1 \\\\ 0 \\\\ 0 \\\\ 0 \\\\ 0 \\\\ } \\right)+t_2\\left(\\matrix{0 \\\\ 1 \\\\ 0 \\\\ 0 \\\\ 0 \\\\ } \\right)+t_3\\left(\\matrix{0 \\\\ 0 \\\\ 1 \\\\ 0 \\\\ 0 \\\\ } \\right)$\n",
        "\n",
        "Por lo tanto, la base del primer espacio característico es\n",
        "\n",
        "\n",
        "$\\left\\{\\left(\\matrix{1 \\\\ 0 \\\\ 0 \\\\ 0 \\\\ 0 \\\\ } \\right),\\left(\\matrix{0 \\\\ 1 \\\\ 0 \\\\ 0 \\\\ 0 \\\\ } \\right),\\left(\\matrix{0 \\\\ 0 \\\\ 1 \\\\ 0 \\\\ 0 \\\\ } \\right) \\right\\}$\n",
        "\n",
        "\n",
        "Para $\\lambda_2=4$\n",
        "\n",
        "$\\left[\\matrix{\n",
        "01&0&0&4&5&:&0 \\\\ \n",
        "0&1&0&2&3&:&0 \\\\\n",
        "0&0&1&6&1&:&0 \\\\ \n",
        "0&0&0&0&0&:&0 \\\\ \n",
        "0&0&0&0&0&:&0 \\\\ } \\right]$\n",
        "\n",
        "\n",
        "Las últimas dos variables son libres y por lo tanto se le asignan parámetros\n",
        "\n",
        "$x_4=t_1$\n",
        "\n",
        "$x_5=t_2$\n",
        "\n",
        "\n",
        "Las otras tres variables como son delanteras de pueden despejar de las tres primeras ecuaciones.\n",
        "\n",
        "$x_1=-4t_1-5t_2$\n",
        "\n",
        "$x_2=-2t_1-3t_2$\n",
        "\n",
        "$x_3=-6t_1-1t_2$\n",
        "\n",
        "De esta forma escribimos la solución general\n",
        "\n",
        "$\\left(\\matrix{x_1 \\\\ x_2 \\\\ x_3 \\\\ x_4 \\\\ x_5 \\\\ } \\right)=t_1\\left(\\matrix{-4 \\\\ -2 \\\\ -6 \\\\ 1 \\\\ 0 \\\\ } \\right)+t_2\\left(\\matrix{-5 \\\\ -3 \\\\ -1 \\\\ 0 \\\\ 1 \\\\ } \\right) $\n",
        "\n",
        "Por lo tanto, la base del segundo espacio característico es\n",
        "\n",
        "$\\left\\{\\left(\\matrix{-4 \\\\ -2 \\\\ -6 \\\\ 1 \\\\ 0 \\\\ } \\right),\\left(\\matrix{-5 \\\\ -3 \\\\ -1 \\\\ 0 \\\\ 1 \\\\ } \\right) \\right\\} $\n",
        "\n",
        "8. La M.G. corresponde con el número elementos de las bases de los espacios característicos. \n",
        "\n",
        "Para el primer $\\lambda$ la M.G es 3 los que implica que el primer espacio característico es un espacio de 3D en $\\mathbb{R}^5$.\n",
        "\n",
        "Para el segundo $\\lambda$ la M.G es 2 los que implica que el segundo espacio característico es un plano en $\\mathbb{R}^5$.\n",
        "\n",
        "10. Como cada M.A es igual a su respectiva M.G entonces la matriz $A_6$ si es diagonalizable. La base de vectores propios que diagonaliza la matriz es:\n",
        "\n",
        "$B_6=\\left[\\matrix{1&0&0&-4&-5 \\\\0&1&0& -2&-3 \\\\ 0&0&1&-6&-1 \\\\ 0&0&0&1&0 \\\\ 0&0&0&0&1 \\\\ } \\right]$\n",
        "\n",
        "y la matriz diagonalizada es:\n",
        "\n",
        "$D_6=\\left[\\matrix{ 5&0&0&0&0 \\\\ 0&5&0&0&0 \\\\ 0&0&5&0&0 \\\\ 0&0&0&4&0 \\\\ 0&0&0&0&4 \\\\ } \\right]$\n"
      ]
    },
    {
      "cell_type": "markdown",
      "metadata": {
        "id": "RspTa4efzwnh",
        "colab_type": "text"
      },
      "source": [
        "# Verificación usando python\n",
        "\n",
        "A continuación se definen en Python las matrices $B_6$ y  $D_6$\n"
      ]
    },
    {
      "cell_type": "code",
      "metadata": {
        "id": "2aNe-4l1yttI",
        "colab_type": "code",
        "outputId": "9cfc2a21-e99a-414f-c2c5-9bfc359a44e8",
        "colab": {
          "base_uri": "https://localhost:8080/",
          "height": 102
        }
      },
      "source": [
        "import numpy as np # Librería de python para arreglos y matrices\n",
        "B=np.array([[1,0,0,-4,-5],[0,1,0,-2,-3],[0,0,1,-6,-1],[0,0,0,1,0],[0,0,0,0,1]])\n",
        "B"
      ],
      "execution_count": 0,
      "outputs": [
        {
          "output_type": "execute_result",
          "data": {
            "text/plain": [
              "array([[ 1,  0,  0, -4, -5],\n",
              "       [ 0,  1,  0, -2, -3],\n",
              "       [ 0,  0,  1, -6, -1],\n",
              "       [ 0,  0,  0,  1,  0],\n",
              "       [ 0,  0,  0,  0,  1]])"
            ]
          },
          "metadata": {
            "tags": []
          },
          "execution_count": 8
        }
      ]
    },
    {
      "cell_type": "code",
      "metadata": {
        "id": "EFRaycUZzJCG",
        "colab_type": "code",
        "outputId": "2ad8feb0-3da3-454a-d9fc-ebdf07376df3",
        "colab": {
          "base_uri": "https://localhost:8080/",
          "height": 102
        }
      },
      "source": [
        "D=np.array([[5,0,0,0,0],[0,5,0,0,0],[0,0,5,0,0],[0,0,0,4,0],[0,0,0,0,4]])\n",
        "D"
      ],
      "execution_count": 0,
      "outputs": [
        {
          "output_type": "execute_result",
          "data": {
            "text/plain": [
              "array([[5, 0, 0, 0, 0],\n",
              "       [0, 5, 0, 0, 0],\n",
              "       [0, 0, 5, 0, 0],\n",
              "       [0, 0, 0, 4, 0],\n",
              "       [0, 0, 0, 0, 4]])"
            ]
          },
          "metadata": {
            "tags": []
          },
          "execution_count": 9
        }
      ]
    },
    {
      "cell_type": "markdown",
      "metadata": {
        "id": "i-TWYy1Z03T1",
        "colab_type": "text"
      },
      "source": [
        "El siguiete paso es comprobar que $A_6=B_6 D_6 B_6^{-1}$\n",
        "\n",
        "La librería `numpy` (o su alias `np`) permite realizar las siguietes instrucciones:\n",
        "* Para la multiplicación de las matrices `B` y `D` se utiliza `np.dot(B,D)`.\n",
        "* Para invertir la matriz `B` se utiliza `np.linalg.inv(B)`\n",
        "\n",
        "A continuación se imprime el resultado de la operación $(B_6 D_6) B_6^{-1}$"
      ]
    },
    {
      "cell_type": "code",
      "metadata": {
        "id": "YP_WByrfyttO",
        "colab_type": "code",
        "outputId": "23e91f3b-428f-4107-d0f4-f2f7e4fe36f2",
        "colab": {
          "base_uri": "https://localhost:8080/",
          "height": 102
        }
      },
      "source": [
        "\n",
        "np.dot(np.dot(B,D),np.linalg.inv(B))\n"
      ],
      "execution_count": 0,
      "outputs": [
        {
          "output_type": "execute_result",
          "data": {
            "text/plain": [
              "array([[5., 0., 0., 4., 5.],\n",
              "       [0., 5., 0., 2., 3.],\n",
              "       [0., 0., 5., 6., 1.],\n",
              "       [0., 0., 0., 4., 0.],\n",
              "       [0., 0., 0., 0., 4.]])"
            ]
          },
          "metadata": {
            "tags": []
          },
          "execution_count": 10
        }
      ]
    },
    {
      "cell_type": "markdown",
      "metadata": {
        "id": "_QpKuHg_2exY",
        "colab_type": "text"
      },
      "source": [
        "Finalmente, podemos comprobar que el resultado corresponde a la matriz $A_6$"
      ]
    }
  ]
}