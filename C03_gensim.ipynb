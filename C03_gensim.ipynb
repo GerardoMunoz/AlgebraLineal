{
  "nbformat": 4,
  "nbformat_minor": 0,
  "metadata": {
    "colab": {
      "name": "C03_gensim.ipynb",
      "provenance": [],
      "collapsed_sections": [],
      "include_colab_link": true
    },
    "kernelspec": {
      "name": "python3",
      "display_name": "Python 3"
    }
  },
  "cells": [
    {
      "cell_type": "markdown",
      "metadata": {
        "id": "view-in-github",
        "colab_type": "text"
      },
      "source": [
        "<a href=\"https://colab.research.google.com/github/GerardoMunoz/AlgebraLineal/blob/master/C03_gensim.ipynb\" target=\"_parent\"><img src=\"https://colab.research.google.com/assets/colab-badge.svg\" alt=\"Open In Colab\"/></a>"
      ]
    },
    {
      "cell_type": "code",
      "metadata": {
        "id": "Qz4j18Oo9AXE"
      },
      "source": [
        "import gensim.downloader"
      ],
      "execution_count": null,
      "outputs": []
    },
    {
      "cell_type": "code",
      "metadata": {
        "id": "Pf7GH9-3-bv7",
        "colab": {
          "base_uri": "https://localhost:8080/",
          "height": 71
        },
        "outputId": "becd5c56-4005-4d9b-eb50-1e03c231740d"
      },
      "source": [
        "G_WG_50=gensim.downloader.load(\"glove-wiki-gigaword-50\")"
      ],
      "execution_count": null,
      "outputs": [
        {
          "output_type": "stream",
          "text": [
            "/usr/local/lib/python3.6/dist-packages/smart_open/smart_open_lib.py:252: UserWarning: This function is deprecated, use smart_open.open instead. See the migration notes for details: https://github.com/RaRe-Technologies/smart_open/blob/master/README.rst#migrating-to-the-new-open-function\n",
            "  'See the migration notes for details: %s' % _MIGRATION_NOTES_URL\n"
          ],
          "name": "stderr"
        }
      ]
    },
    {
      "cell_type": "code",
      "metadata": {
        "id": "dBRaiILPEfqt",
        "colab": {
          "base_uri": "https://localhost:8080/",
          "height": 170
        },
        "outputId": "07585a31-4a18-4c86-ea99-e1c5fead2f42"
      },
      "source": [
        "algebra=G_WG_50.get_vector('king')\n",
        "algebra"
      ],
      "execution_count": null,
      "outputs": [
        {
          "output_type": "execute_result",
          "data": {
            "text/plain": [
              "array([ 0.50451 ,  0.68607 , -0.59517 , -0.022801,  0.60046 , -0.13498 ,\n",
              "       -0.08813 ,  0.47377 , -0.61798 , -0.31012 , -0.076666,  1.493   ,\n",
              "       -0.034189, -0.98173 ,  0.68229 ,  0.81722 , -0.51874 , -0.31503 ,\n",
              "       -0.55809 ,  0.66421 ,  0.1961  , -0.13495 , -0.11476 , -0.30344 ,\n",
              "        0.41177 , -2.223   , -1.0756  , -1.0783  , -0.34354 ,  0.33505 ,\n",
              "        1.9927  , -0.04234 , -0.64319 ,  0.71125 ,  0.49159 ,  0.16754 ,\n",
              "        0.34344 , -0.25663 , -0.8523  ,  0.1661  ,  0.40102 ,  1.1685  ,\n",
              "       -1.0137  , -0.21585 , -0.15155 ,  0.78321 , -0.91241 , -1.6106  ,\n",
              "       -0.64426 , -0.51042 ], dtype=float32)"
            ]
          },
          "metadata": {
            "tags": []
          },
          "execution_count": 17
        }
      ]
    },
    {
      "cell_type": "code",
      "metadata": {
        "id": "yUm1zjTxEseU",
        "colab": {
          "base_uri": "https://localhost:8080/",
          "height": 867
        },
        "outputId": "8a844656-1170-4103-d961-a518944acaa4"
      },
      "source": [
        "algebra=algebra.reshape((50,1))\n",
        "algebra"
      ],
      "execution_count": null,
      "outputs": [
        {
          "output_type": "execute_result",
          "data": {
            "text/plain": [
              "array([[ 0.50451 ],\n",
              "       [ 0.68607 ],\n",
              "       [-0.59517 ],\n",
              "       [-0.022801],\n",
              "       [ 0.60046 ],\n",
              "       [-0.13498 ],\n",
              "       [-0.08813 ],\n",
              "       [ 0.47377 ],\n",
              "       [-0.61798 ],\n",
              "       [-0.31012 ],\n",
              "       [-0.076666],\n",
              "       [ 1.493   ],\n",
              "       [-0.034189],\n",
              "       [-0.98173 ],\n",
              "       [ 0.68229 ],\n",
              "       [ 0.81722 ],\n",
              "       [-0.51874 ],\n",
              "       [-0.31503 ],\n",
              "       [-0.55809 ],\n",
              "       [ 0.66421 ],\n",
              "       [ 0.1961  ],\n",
              "       [-0.13495 ],\n",
              "       [-0.11476 ],\n",
              "       [-0.30344 ],\n",
              "       [ 0.41177 ],\n",
              "       [-2.223   ],\n",
              "       [-1.0756  ],\n",
              "       [-1.0783  ],\n",
              "       [-0.34354 ],\n",
              "       [ 0.33505 ],\n",
              "       [ 1.9927  ],\n",
              "       [-0.04234 ],\n",
              "       [-0.64319 ],\n",
              "       [ 0.71125 ],\n",
              "       [ 0.49159 ],\n",
              "       [ 0.16754 ],\n",
              "       [ 0.34344 ],\n",
              "       [-0.25663 ],\n",
              "       [-0.8523  ],\n",
              "       [ 0.1661  ],\n",
              "       [ 0.40102 ],\n",
              "       [ 1.1685  ],\n",
              "       [-1.0137  ],\n",
              "       [-0.21585 ],\n",
              "       [-0.15155 ],\n",
              "       [ 0.78321 ],\n",
              "       [-0.91241 ],\n",
              "       [-1.6106  ],\n",
              "       [-0.64426 ],\n",
              "       [-0.51042 ]], dtype=float32)"
            ]
          },
          "metadata": {
            "tags": []
          },
          "execution_count": 18
        }
      ]
    },
    {
      "cell_type": "code",
      "metadata": {
        "id": "JwnU01Jx--to",
        "colab": {
          "base_uri": "https://localhost:8080/",
          "height": 88
        },
        "outputId": "8a145e55-27ec-42b5-e909-c294a94bcb4a"
      },
      "source": [
        "G_WG_50.most_similar(positive=['king','woman',], negative=['man'])[0]\n"
      ],
      "execution_count": null,
      "outputs": [
        {
          "output_type": "stream",
          "text": [
            "/usr/local/lib/python3.6/dist-packages/gensim/matutils.py:737: FutureWarning: Conversion of the second argument of issubdtype from `int` to `np.signedinteger` is deprecated. In future, it will be treated as `np.int64 == np.dtype(int).type`.\n",
            "  if np.issubdtype(vec.dtype, np.int):\n"
          ],
          "name": "stderr"
        },
        {
          "output_type": "execute_result",
          "data": {
            "text/plain": [
              "('queen', 0.8523603677749634)"
            ]
          },
          "metadata": {
            "tags": []
          },
          "execution_count": 28
        }
      ]
    },
    {
      "cell_type": "code",
      "metadata": {
        "id": "_YU63UMKKErF",
        "colab": {
          "base_uri": "https://localhost:8080/",
          "height": 88
        },
        "outputId": "48a1e39d-66b4-4eb8-87ea-7941f265ced5"
      },
      "source": [
        "G_WG_50.most_similar(positive=['paris','japan',], negative=['france'])[0]\n"
      ],
      "execution_count": null,
      "outputs": [
        {
          "output_type": "stream",
          "text": [
            "/usr/local/lib/python3.6/dist-packages/gensim/matutils.py:737: FutureWarning: Conversion of the second argument of issubdtype from `int` to `np.signedinteger` is deprecated. In future, it will be treated as `np.int64 == np.dtype(int).type`.\n",
            "  if np.issubdtype(vec.dtype, np.int):\n"
          ],
          "name": "stderr"
        },
        {
          "output_type": "execute_result",
          "data": {
            "text/plain": [
              "('tokyo', 0.9234451651573181)"
            ]
          },
          "metadata": {
            "tags": []
          },
          "execution_count": 35
        }
      ]
    }
  ]
}