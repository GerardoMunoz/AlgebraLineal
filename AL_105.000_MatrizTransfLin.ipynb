{
 "cells": [
  {
   "cell_type": "code",
   "execution_count": 1,
   "metadata": {},
   "outputs": [],
   "source": [
    "from sympy import *\n",
    "from ubogsla18p import *"
   ]
  },
  {
   "cell_type": "markdown",
   "metadata": {},
   "source": [
    "# Ejercicio 1\n",
    "Demuestre que $T \\left( \\begin{bmatrix} x \\\\ y \\\\ z \\end{bmatrix} \\right) = \\begin{bmatrix} 3x - z \\\\ y  \\end{bmatrix} $ es una transformación lineal y encuentre la respectiva matriz.\n",
    "\n",
    "## Recorderis \n",
    "$T:\\mathbb{R}^n \\rightarrow \\mathbb{R}^m$ es una transformación lineal _sii_ para todo $v \\in \\mathbb{R}^n$ se cumple que $T(v)=Av$. Donde $A$ es la matriz de $m \\times n$  dada por \n",
    " $$A=T^*(I)= \\begin{bmatrix}\n",
    "  T \\left( \\begin{bmatrix} 1 \\\\ 0 \\\\ \\vdots \\\\ 0 \\end{bmatrix} \\right) & \n",
    "  T \\left( \\begin{bmatrix} 0 \\\\ 1 \\\\ \\vdots \\\\ 0 \\end{bmatrix} \\right) &\n",
    "  \\cdots &\n",
    "  T \\left( \\begin{bmatrix} 0 \\\\ 0 \\\\ \\vdots \\\\ 1 \\end{bmatrix} \\right) \n",
    " \\end{bmatrix} $$ \n",
    "\n",
    "## Solución\n",
    "Primero encontraremos la matriz $A=T^*(I)$ y luego comprobaremos que $A\\begin{bmatrix} x \\\\ y \\\\ z \\end{bmatrix}=T \\left( \\begin{bmatrix} x \\\\ y \\\\ z \\end{bmatrix} \\right) = \\begin{bmatrix} 3x - z \\\\ y  \\end{bmatrix} $\n",
    "\n",
    "\\begin{align}\n",
    "A &=T^*\\left(\\begin{bmatrix} 1 & 0 & 0 \\\\ 0 & 1 & 0 \\\\ 0 & 0 & 1 \\end{bmatrix}\\right)\\\\\n",
    "  &=\\begin{bmatrix}\n",
    "  T \\left( \\begin{bmatrix} 1 \\\\ 0 \\\\ 0 \\end{bmatrix} \\right) & \n",
    "  T \\left( \\begin{bmatrix} 0 \\\\ 1 \\\\ 0 \\end{bmatrix} \\right) &\n",
    "  T \\left( \\begin{bmatrix} 0 \\\\ 0 \\\\ 1 \\end{bmatrix} \\right) \n",
    " \\end{bmatrix}\\\\\n",
    " &=\\begin{bmatrix}\n",
    " 3 & 0 & -1 \\\\ \n",
    " 0 & 1 &  0\n",
    " \\end{bmatrix}\n",
    "\\end{align}\n",
    "\n",
    "Ahora probamos que $A\\begin{bmatrix} x \\\\ y \\\\ z \\end{bmatrix}=T \\left( \\begin{bmatrix} x \\\\ y \\\\ z \\end{bmatrix} \\right) = \\begin{bmatrix} 3x - z \\\\ y  \\end{bmatrix} $\n",
    "\n",
    "$A\\begin{bmatrix} x \\\\ y \\\\ z \\end{bmatrix}=\\begin{bmatrix}\n",
    " 3 & 0 & -1 \\\\ \n",
    " 0 & 1 &  0\n",
    " \\end{bmatrix}\n",
    "\\begin{bmatrix} x \\\\ y \\\\ z \\end{bmatrix}\n",
    "=\\begin{bmatrix} 3x - z \\\\ y  \\end{bmatrix} $\n",
    "\n",
    "Lo cual prueba que $T$ si es lineal.\n",
    "\n",
    "\n"
   ]
  },
  {
   "cell_type": "markdown",
   "metadata": {},
   "source": [
    "# Ejercicio 2\n",
    "Demuestre que $T:P_1 \\rightarrow P_3$ dada por \n",
    "$$T(a_0 + a_1 x )= 3a_0 + (2a_0 + a_1)x + (a_0 + 2a_1)x^2 + 3a_1x^3 $$\n",
    "es una transformación lineal y encuentre la matriz usando las respectivas bases estándar.\n",
    "\n",
    "## Recorderis 1\n",
    "$B=\\begin{bmatrix} v_0 & v_1 & \\cdots & v_{n-1} \\end{bmatrix}$ es una base del espacio vectorial $V$ de dimensión $n$ _sii_ la transformación asociada \n",
    "$S_B:\\mathbb{R}^n \\rightarrow V$ dada por \n",
    "$$S_B\\left( \\begin{bmatrix} a_0 \\\\ a_1 \\\\ \\vdots \\\\ a_{(n-1)} \\end{bmatrix} \\right)=a_0 v_0 +a_1 v_1 + \\cdots +a_{(n-1)} v_{(n-1)} $$\n",
    "es un isomorfismo.\n",
    "\n",
    "## Recorderis 2\n",
    "La base estándar de $P_1$ es $E_{P1}=[1,x]$ y su isomorfismo es \n",
    "$$S_{P1}\\left( \\begin{bmatrix} a_0 \\\\ a_1  \\end{bmatrix} \\right)=a_0(1) + a_1(x) $$\n",
    "\n",
    "La base estándar de $P_3$ es $E_{P3}=[1,x,x^2,x^3]$ y su isomorfismo es \n",
    "$$S_{P3}\\left( \\begin{bmatrix} a_0 \\\\ a_1 \\\\ a_2 \\\\ a_3  \\end{bmatrix} \\right)=a_0(1) + a_1(x) +a_2(x^2) + a_3(x^3) $$\n",
    "\n",
    "## Recorderis 3\n",
    "Sean $V$ y $W$ espacios vectoriales, sean $n$ y $m$ sus respectivas dimensiones, sean $B_V$ y $B_W$ bases de cada espacio y sean $S_V:\\mathbb{R}^n \\rightarrow V$ y $S_W:\\mathbb{R}^m \\rightarrow W$ sus respectivos isomorfismos."
   ]
  },
  {
   "cell_type": "code",
   "execution_count": 2,
   "metadata": {},
   "outputs": [
    {
     "data": {
      "image/svg+xml": [
       "<svg height=\"300\" width=\"300\"><circle cx=\"100\" cy=\"100\" r=\"5\"/><text x=\"100\" y=\"120\">V</text><circle cx=\"200\" cy=\"100\" r=\"5\"/><text x=\"200\" y=\"120\">W</text><circle cx=\"100\" cy=\"200\" r=\"5\"/><text x=\"100\" y=\"220\">R^n</text><circle cx=\"200\" cy=\"200\" r=\"5\"/><text x=\"200\" y=\"220\">R^m</text><polyline points=\"100,100 190.0,100.0 183.7,93.7 183.7,106.3 190.0,100.0\" stroke=\"black\" stroke-width=\"3\"/> <text x=\"150.0\" y=\"120.0\">T</text><polyline points=\"100,200 100.0,110.00000000000001 93.7,116.3 106.3,116.3 100.0,110.00000000000001\" stroke=\"black\" stroke-width=\"3\"/> <text x=\"100.0\" y=\"170.0\">S_V</text><polyline points=\"200,200 200.0,110.00000000000001 193.70000000000002,116.3 206.3,116.3 200.0,110.00000000000001\" stroke=\"black\" stroke-width=\"3\"/> <text x=\"200.0\" y=\"170.0\">S_W</text></svg>"
      ],
      "text/plain": [
       "<IPython.core.display.SVG object>"
      ]
     },
     "execution_count": 2,
     "metadata": {},
     "output_type": "execute_result"
    }
   ],
   "source": [
    "grafo({\"V\":(1,1,\"V\"),\"W\":(2,1,\"W\"),\"V1\":(1,2,\"R^n\"),\"W1\":(2,2,\"R^m\")},[(\"T\",\"V\",\"W\"),(\"S_V\",\"V1\",\"V\"),(\"S_W\",\"W1\",\"W\")]\n",
    "     )"
   ]
  },
  {
   "cell_type": "markdown",
   "metadata": {},
   "source": [
    "$T:V \\rightarrow W$ es una transformación lineal _sii_ para todo $v \\in V$ se cumple que $S_W^{-1} \\circ T \\circ S_V(v)=Av$. Donde $A$ es la matriz de $m \\times n$  dada por \n",
    " $$A=S_W^{*-1} \\circ T^* \\circ S_V^*(I)$$"
   ]
  },
  {
   "cell_type": "code",
   "execution_count": 3,
   "metadata": {},
   "outputs": [
    {
     "data": {
      "image/svg+xml": [
       "<svg height=\"300\" width=\"300\"><circle cx=\"100\" cy=\"100\" r=\"5\"/><text x=\"100\" y=\"120\">V</text><circle cx=\"200\" cy=\"100\" r=\"5\"/><text x=\"200\" y=\"120\">W</text><circle cx=\"100\" cy=\"200\" r=\"5\"/><text x=\"100\" y=\"220\">R^n</text><circle cx=\"200\" cy=\"200\" r=\"5\"/><text x=\"200\" y=\"220\">R^m</text><polyline points=\"100,100 190.0,100.0 183.7,93.7 183.7,106.3 190.0,100.0\" stroke=\"black\" stroke-width=\"3\"/> <text x=\"150.0\" y=\"120.0\">T</text><polyline points=\"100,200 100.0,110.00000000000001 93.7,116.3 106.3,116.3 100.0,110.00000000000001\" stroke=\"black\" stroke-width=\"3\"/> <text x=\"100.0\" y=\"170.0\">S_V</text><polyline points=\"200,200 200.0,110.00000000000001 193.70000000000002,116.3 206.3,116.3 200.0,110.00000000000001\" stroke=\"black\" stroke-width=\"3\"/> <text x=\"200.0\" y=\"170.0\">S_W</text><polyline points=\"100,200 190.0,200.0 183.7,193.70000000000002 183.7,206.3 190.0,200.0\" stroke=\"black\" stroke-width=\"3\"/> <text x=\"150.0\" y=\"220.0\">T_A</text><text x=\"150.0\" y=\"150.0\">=</text></svg>"
      ],
      "text/plain": [
       "<IPython.core.display.SVG object>"
      ]
     },
     "execution_count": 3,
     "metadata": {},
     "output_type": "execute_result"
    }
   ],
   "source": [
    "grafo({\"V\":(1,1,\"V\"),\"W\":(2,1,\"W\"),\"V1\":(1,2,\"R^n\"),\"W1\":(2,2,\"R^m\")},[(\"T\",\"V\",\"W\"),(\"S_V\",\"V1\",\"V\"),(\"S_W\",\"W1\",\"W\"),(\"T_A\",\"V1\",\"W1\")]\n",
    "     ,[(1.5,1.5,\"=\")])"
   ]
  },
  {
   "cell_type": "markdown",
   "metadata": {},
   "source": [
    "## Solución\n",
    "Recordemos que \n",
    "$$T(a_0 + a_1 x )= 3a_0 + (2a_0 + a_1)x + (a_0 + 2a_1)x^2 + 3a_1x^3 $$\n",
    "\n",
    "Primero encontraremos la matriz $A=S_{P3}^{*-1} \\circ T^* \\circ S_{P1}^*(I)$ y luego comprobaremos que $A\\begin{bmatrix} a_0 \\\\ a_1  \\end{bmatrix}=S_{P3}^{-1} \\circ T \\circ S_{P1} \\left( \\begin{bmatrix} a_0 \\\\ a_1  \\end{bmatrix} \\right)  $"
   ]
  },
  {
   "cell_type": "code",
   "execution_count": 4,
   "metadata": {},
   "outputs": [
    {
     "data": {
      "image/svg+xml": [
       "<svg height=\"300\" width=\"300\"><circle cx=\"100\" cy=\"100\" r=\"5\"/><text x=\"100\" y=\"120\">P_1</text><circle cx=\"200\" cy=\"100\" r=\"5\"/><text x=\"200\" y=\"120\">P_3</text><circle cx=\"100\" cy=\"200\" r=\"5\"/><text x=\"100\" y=\"220\">R^2</text><circle cx=\"200\" cy=\"200\" r=\"5\"/><text x=\"200\" y=\"220\">R^4</text><polyline points=\"100,100 190.0,100.0 183.7,93.7 183.7,106.3 190.0,100.0\" stroke=\"black\" stroke-width=\"3\"/> <text x=\"150.0\" y=\"120.0\">T</text><polyline points=\"100,200 100.0,110.00000000000001 93.7,116.3 106.3,116.3 100.0,110.00000000000001\" stroke=\"black\" stroke-width=\"3\"/> <text x=\"100.0\" y=\"170.0\">S_P1</text><polyline points=\"200,200 200.0,110.00000000000001 193.70000000000002,116.3 206.3,116.3 200.0,110.00000000000001\" stroke=\"black\" stroke-width=\"3\"/> <text x=\"200.0\" y=\"170.0\">S_P3</text><polyline points=\"100,200 190.0,200.0 183.7,193.70000000000002 183.7,206.3 190.0,200.0\" stroke=\"black\" stroke-width=\"3\"/> <text x=\"150.0\" y=\"220.0\">T_A</text><text x=\"150.0\" y=\"150.0\">=</text></svg>"
      ],
      "text/plain": [
       "<IPython.core.display.SVG object>"
      ]
     },
     "execution_count": 4,
     "metadata": {},
     "output_type": "execute_result"
    }
   ],
   "source": [
    "grafo({\"V\":(1,1,\"P_1\"),\"W\":(2,1,\"P_3\"),\"V1\":(1,2,\"R^2\"),\"W1\":(2,2,\"R^4\")},\n",
    "      [(\"T\",\"V\",\"W\"),(\"S_P1\",\"V1\",\"V\"),(\"S_P3\",\"W1\",\"W\"),(\"T_A\",\"V1\",\"W1\")]\n",
    "     ,[(1.5,1.5,\"=\")])"
   ]
  },
  {
   "cell_type": "markdown",
   "metadata": {},
   "source": [
    "\\begin{align}\n",
    "A &=S_{P3}^{*-1} \\circ T^* \\circ S_{P1}^* \\left(\\begin{bmatrix} 1 & 0 \\\\ 0 & 1 \\end{bmatrix}\\right)\\\\\n",
    "  &=S_{P3}^{*-1} \\circ T^*\\left(\\begin{bmatrix}\n",
    "  S_{P1} \\left( \\begin{bmatrix} 1 \\\\ 0  \\end{bmatrix} \\right) & \n",
    "  S_{P1} \\left( \\begin{bmatrix} 0 \\\\ 1 \\end{bmatrix} \\right)  \n",
    " \\end{bmatrix}\\right)\\\\\n",
    "  &=S_{P3}^{*-1} \\circ T^*\\left([\n",
    "   1 + 0x,  \n",
    "   0 + 1x   \n",
    " ]\\right)\\\\\n",
    "  &=S_{P3}^{*-1}\\left([\n",
    "   T(1 + 0x),  \n",
    "   T(0 + 1x)   \n",
    " ]\\right)\\\\\n",
    "  &=S_{P3}^{*-1}\\left([\n",
    "   3 + 2x + 1x^2 + 0x^3,  \n",
    "   0 + 1x + 2x^2 + 3x^3   \n",
    " ]\\right)\\\\\n",
    "  &=[\n",
    "   S_{P3}^{-1}(3 + 2x + 1x^2 + 0x^3),  \n",
    "   S_{P3}^{-1}(0 + 1x + 2x^2 + 3x^3)   \n",
    " ]\\\\\n",
    " &=\\begin{bmatrix}\n",
    " 3 & 0 \\\\ \n",
    " 2 & 1 \\\\ \n",
    " 1 & 2 \\\\\n",
    " 0 & 3 \n",
    " \\end{bmatrix}\n",
    "\\end{align}\n",
    "\n",
    "Ahora probamos que $A\\begin{bmatrix} a_0 \\\\ a_1  \\end{bmatrix}=S_{P3}^{-1} \\circ T \\circ S_{P1} \\left( \\begin{bmatrix} a_0 \\\\ a_1  \\end{bmatrix} \\right)$\n",
    "\n",
    "\\begin{align}\n",
    "A\\begin{bmatrix} a_0 \\\\ a_1 \\end{bmatrix}\n",
    " &\\stackrel{?}{?}S_{P3}^{-1} \\circ T \\circ S_{P1} \\left(\\begin{bmatrix} a_0 \\\\ a_1 \\end{bmatrix}\\right)\\\\\n",
    "\\begin{bmatrix}\n",
    " 3 & 0 \\\\ \n",
    " 2 & 1 \\\\ \n",
    " 1 & 2 \\\\\n",
    " 0 & 3 \n",
    " \\end{bmatrix} \\begin{bmatrix} a_0 \\\\ a_1 \\end{bmatrix} \n",
    "  &=S_{P3}^{-1} \\circ T\\left(\n",
    "   a_0 + a_1 x\n",
    " \\right)\\\\\n",
    "\\begin{bmatrix}\n",
    " 3a_0 \\\\ \n",
    " 2a_0 + a_1 \\\\ \n",
    " 1a_0 + 2a_1 \\\\\n",
    "        3a_1 \n",
    " \\end{bmatrix}  &=S_{P3}^{-1}\\left(\n",
    "   3a_0 + (2a_0 + a_1)x + (a_0 + 2a_1)x^2 + 3a_1x^3\\right)\\\\\n",
    "\\end{align}\n",
    "\n",
    "Lo cual prueba que $T$ es una transformación lineal."
   ]
  },
  {
   "cell_type": "markdown",
   "metadata": {},
   "source": [
    "# Ejercicio 3\n",
    "Para la transformación de ejercicio 2 encuentre una base para el núcleo, una base para la imagen, la nulidad, el rango y diga si es inyectiva, sobreyectiva o es un isomorfismo.\n",
    "\n",
    "## Recorderis \n",
    "Usando la notación del Ejercicio 2.\n",
    "\n",
    "* $B_N$ es base del núcleo de $A$ _sii_ $S_V^*(B_N)$ es base del núcleo de $V$ \n",
    "* $B_I$ es base de la imagen de $A$ _sii_ $S_W^*(B_I)$ es base de la imagen de $W$ \n",
    "\n",
    "## Solución\n",
    "Primero encontraremos el núcleo de $A$ es la solución del sistema homogéneo [A:0] \n",
    "\n",
    "$\\begin{bmatrix}\n",
    " 3 & 0 & : & 0\\\\ \n",
    " 2 & 1 & : & 0\\\\ \n",
    " 1 & 2 & : & 0\\\\\n",
    " 0 & 3 & : & 0\n",
    " \\end{bmatrix} \\sim\n",
    "\\begin{bmatrix}\n",
    " 3 & 0 & : & 0\\\\ \n",
    " 0 & 1 & : & 0\\\\ \n",
    " 0 & 2 & : & 0\\\\\n",
    " 0 & 3 & : & 0\n",
    " \\end{bmatrix} \\sim\n",
    "\\begin{bmatrix}\n",
    " 3 & 0 & : & 0\\\\ \n",
    " 0 & 1 & : & 0\\\\ \n",
    " 0 & 0 & : & 0\\\\\n",
    " 0 & 0 & : & 0\n",
    " \\end{bmatrix} $\n",
    "\n",
    "Cómo el sistema de ecuaciones no tiene variables libres entonces la solución del sistema homogeneo es el vector cero y su base es el conjunto vació. Por lo tanto, la base del núcleo de $A$ es el conjunto vació. Lo cual implica que la base del núcleo de $T$ es también el conjunto vacío.\n",
    "\n",
    "Como cada columna de $A$ tiene un l-pivote entonces la base de la imagen de $A$ es \n",
    "$$\\left\\{\n",
    "\\begin{bmatrix}\n",
    " 3 \\\\ \n",
    " 2 \\\\ \n",
    " 1 \\\\\n",
    " 0 \n",
    " \\end{bmatrix},\n",
    "\\begin{bmatrix}\n",
    " 0\\\\ \n",
    " 1\\\\ \n",
    " 2\\\\\n",
    " 3\n",
    " \\end{bmatrix} \n",
    " \\right\\}$$\n",
    " \n",
    "Por lo tanto la base de la imagen de $T$ es  \n",
    "\n",
    "$$\\left\\{S_V\\left(\n",
    "\\begin{bmatrix}\n",
    " 3 \\\\ \n",
    " 2 \\\\ \n",
    " 1 \\\\\n",
    " 0 \n",
    " \\end{bmatrix}\\right),\n",
    "S_V\\left(\\begin{bmatrix}\n",
    " 0\\\\ \n",
    " 1\\\\ \n",
    " 2\\\\\n",
    " 3\n",
    " \\end{bmatrix} \n",
    " \\right) \\right\\}=\n",
    " \\{3+2x+x^2,x+x^2+3x^3\\}\n",
    " $$\n",
    " \n",
    "\n",
    "\n",
    "\n"
   ]
  },
  {
   "cell_type": "markdown",
   "metadata": {},
   "source": [
    "# Ejercicio 4\n",
    "Para la  transformación $T:P_1 \\rightarrow P_1$ dada por $T(a_0 + a_1x)=(a_0+2a1)+(2a_0+a_1)x$ encuentre una base para $P_1$ donde la matriz de la transformación sea diagonal.\n",
    "\n",
    "## Recorderis\n",
    "Usando la notación del Ejercicio 2\n",
    "\n",
    "$B$ es una base de $\\mathbb{R}^n$ _sii_ $S_V^*(B)$ es una base de $V$ "
   ]
  }
 ],
 "metadata": {
  "kernelspec": {
   "display_name": "Python 3",
   "language": "python",
   "name": "python3"
  },
  "language_info": {
   "codemirror_mode": {
    "name": "ipython",
    "version": 3
   },
   "file_extension": ".py",
   "mimetype": "text/x-python",
   "name": "python",
   "nbconvert_exporter": "python",
   "pygments_lexer": "ipython3",
   "version": "3.6.4"
  }
 },
 "nbformat": 4,
 "nbformat_minor": 2
}
