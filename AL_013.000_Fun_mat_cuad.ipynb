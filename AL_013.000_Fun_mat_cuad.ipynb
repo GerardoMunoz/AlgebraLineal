{
 "cells": [
  {
   "cell_type": "markdown",
   "metadata": {},
   "source": [
    "# Funciones en matrices cuadradas\n",
    "\n",
    "Si $A$ es un a matriz cuadrada de orden $n$ entonces\n",
    "$$A^n=AA \\cdots A$$\n",
    "Dado un polinomio $p(\\lambda)$ podemos calcular el polinomio $p(A)$.\n",
    "\n",
    "## Usando la forma canónica de Jordan\n",
    "\n",
    "Si $A$ es una matriz diagonal de bloques \n",
    "$$A=\\begin{bmatrix}A_0 & 0 \\\\ 0 & A_1 \\end{bmatrix}$$\n",
    "entonces \n",
    "$$A^k=\\begin{bmatrix}A_0^k & 0 \\\\ 0 & A_1^k \\end{bmatrix}$$\n",
    "Además, si $p(x)$ es un polinomio entonces  \n",
    "$$p(A)=\\begin{bmatrix}p(A_0) & 0 \\\\ 0 & p(A_1) \\end{bmatrix}$$\n",
    "\n",
    "Toda matriz cuadrada $A$ tiene una forma canónica de Jordan $J$, la cual es diagonal de bloques. Además, podemos encontrar una matriz $B$ tal que $A=BJB^{-1}$. Por lo tanto\n",
    "$$A^k=(BJB^{-1})(BJB^{-1}) \\cdots (BJB^{-1}) = BJ^kB^{-1}$$\n",
    "y por lo tanto\n",
    "$$p(A)= Bp(J)B^{-1}$$\n",
    "\n",
    "\n",
    "\n",
    "## Teorema\n",
    "Sean una matriz $A$ de orden $n$ con polinomio característico\n",
    "$$\\Delta(\\lambda)=\\prod_{i=1}^m (\\lambda-\\lambda_i)^{n_i}$$ Además, sea $f:\\mathbb{R} \\rightarrow \\mathbb{R}$ una función derivable $N$ veces, donde $N$ es el mayor de los $n_i$. \n",
    "\n",
    "Se define \n",
    "$$h(\\lambda)= \\beta_0 + \\beta_1\\lambda +  \\cdots + \\beta_{n-1}\\lambda^{n-1}$$ \n",
    "Donde los $\\beta_j$ (con $j\\in \\{0, \\cdots , n-1\\}$) se determinan  \n",
    "resolviendo el sistema de ecuaciones dado por\n",
    "$$f^{(l)}(\\lambda_i) \\ \\ \\ \\text{ con } l\\in \\{0, \\cdots , n_{i-1}\\}, i\\in \\{1, \\cdots , m\\}$$"
   ]
  },
  {
   "cell_type": "markdown",
   "metadata": {},
   "source": [
    "## Series de potencia\n",
    "\n",
    "Si una función se puede expandir en series de potencia \n",
    "$$f(\\lambda)=\\sum_{i=0}^\\infty \\beta_i \\lambda^i$$\n",
    "para ciertos valores. Entonces, para esos valores, podemos calcular la función sobre la matriz.\n",
    "$$f(A)=\\sum_{i=0}^\\infty \\beta_i A^i$$\n",
    "\n",
    "## Teorema de Cayley- Hamilton.\n",
    "\n",
    "Si $p(\\lambda)=det(\\lambda I - A)$ entonces $p(A)=\\mathbb{0}$\n",
    "\n"
   ]
  }
 ],
 "metadata": {
  "kernelspec": {
   "display_name": "Python 3",
   "language": "python",
   "name": "python3"
  },
  "language_info": {
   "codemirror_mode": {
    "name": "ipython",
    "version": 3
   },
   "file_extension": ".py",
   "mimetype": "text/x-python",
   "name": "python",
   "nbconvert_exporter": "python",
   "pygments_lexer": "ipython3",
   "version": "3.6.0"
  }
 },
 "nbformat": 4,
 "nbformat_minor": 2
}
