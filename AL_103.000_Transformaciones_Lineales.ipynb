{
 "cells": [
  {
   "cell_type": "code",
   "execution_count": 1,
   "metadata": {
    "collapsed": false
   },
   "outputs": [],
   "source": [
    "from ubog_al18p import *\n",
    "from sympy import * \n",
    "from sympy import init_printing # mejora la presentacion\n",
    "init_printing()\n",
    "x=symbols('x')"
   ]
  },
  {
   "cell_type": "markdown",
   "metadata": {},
   "source": [
    "# Transformaciones Lineales"
   ]
  },
  {
   "cell_type": "markdown",
   "metadata": {
    "collapsed": true
   },
   "source": [
    "Una transformación lineal $T:V \\rightarrow W$ es una función que va de un espacio vectorial $V$\n",
    "en un espacio vectorial $W$ que cumple dos propiedades:\n",
    "*  (AT) si $v_1, v_2 \\in V$ entonces $T(v_1+v_2)=T(v_1)+T(v_2)$\n",
    "*  (MT) si $v_1 \\in V$ y $k\\in R$ entonces $T(kv_1)=kT(v_1)$"
   ]
  },
  {
   "cell_type": "code",
   "execution_count": 2,
   "metadata": {
    "collapsed": false
   },
   "outputs": [
    {
     "data": {
      "image/svg+xml": [
       "<svg height=\"200\" width=\"300\"><circle cx=\"100\" cy=\"100\" r=\"5\"/><text x=\"100\" y=\"120\">V</text><circle cx=\"200\" cy=\"100\" r=\"5\"/><text x=\"200\" y=\"120\">W</text><polyline points=\"100,100 190.0,100.0 183.7,93.7 183.7,106.3 190.0,100.0\" stroke=\"black\" stroke-width=\"3\"/> <text x=\"150.0\" y=\"120.0\">T</text></svg>"
      ],
      "text/plain": [
       "<IPython.core.display.SVG object>"
      ]
     },
     "execution_count": 2,
     "metadata": {},
     "output_type": "execute_result"
    }
   ],
   "source": [
    "\n",
    "grafo({\"V\":(1,1,\"V\"),\"W\":(2,1,\"W\")},[(\"T\",\"V\",\"W\")])"
   ]
  },
  {
   "cell_type": "markdown",
   "metadata": {},
   "source": [
    "## Ejemplo 1"
   ]
  },
  {
   "cell_type": "markdown",
   "metadata": {},
   "source": [
    "Muestre que la siguiente transformación es lineal."
   ]
  },
  {
   "cell_type": "markdown",
   "metadata": {},
   "source": [
    "$T:R^4 \\rightarrow P_3\\text{, donde }T\\left(\\begin{bmatrix} a\\\\ b \\\\c \\\\d \\end{bmatrix}\\right)= a+bx+cx^2+dx^3$"
   ]
  },
  {
   "cell_type": "markdown",
   "metadata": {},
   "source": [
    "Solución:\n",
    "\n",
    "Para mostrar que T es lineal hay que probar que cumple (A1) y (M1).\n",
    "\n",
    "Primero definimos la transformación"
   ]
  },
  {
   "cell_type": "code",
   "execution_count": 3,
   "metadata": {
    "collapsed": false
   },
   "outputs": [],
   "source": [
    "def T(v):\n",
    "    return v[0]+v[1]*x+v[2]*x**2+v[3]*x**3    # Transformacion"
   ]
  },
  {
   "cell_type": "markdown",
   "metadata": {},
   "source": [
    "Antes de iniciar la demostración ilustraremos la transformación, para esto \n",
    "se define un vector del dominio de $T$."
   ]
  },
  {
   "cell_type": "code",
   "execution_count": 4,
   "metadata": {
    "collapsed": false
   },
   "outputs": [
    {
     "data": {
      "image/png": "[encoded data removed]",
      "text/latex": [
       "$$\\left[\\begin{matrix}1\\\\3\\\\6\\\\10\\end{matrix}\\right]$$"
      ],
      "text/plain": [
       "⎡1 ⎤\n",
       "⎢  ⎥\n",
       "⎢3 ⎥\n",
       "⎢  ⎥\n",
       "⎢6 ⎥\n",
       "⎢  ⎥\n",
       "⎣10⎦"
      ]
     },
     "execution_count": 4,
     "metadata": {},
     "output_type": "execute_result"
    }
   ],
   "source": [
    "v=Matrix([1,3,6,10])  # un elemento del dominio de T\n",
    "v"
   ]
  },
  {
   "cell_type": "markdown",
   "metadata": {},
   "source": [
    "Ahora se transforma con $T$."
   ]
  },
  {
   "cell_type": "code",
   "execution_count": 5,
   "metadata": {
    "collapsed": false
   },
   "outputs": [
    {
     "data": {
      "image/png": "[encoded data removed]",
      "text/latex": [
       "$$10 x^{3} + 6 x^{2} + 3 x + 1$$"
      ],
      "text/plain": [
       "    3      2          \n",
       "10⋅x  + 6⋅x  + 3⋅x + 1"
      ]
     },
     "execution_count": 5,
     "metadata": {},
     "output_type": "execute_result"
    }
   ],
   "source": [
    "T(v)"
   ]
  },
  {
   "cell_type": "markdown",
   "metadata": {
    "collapsed": true
   },
   "source": [
    "Para probar (AT) primero se definen dos vectores genéricos."
   ]
  },
  {
   "cell_type": "code",
   "execution_count": 6,
   "metadata": {
    "collapsed": false
   },
   "outputs": [
    {
     "data": {
      "image/png": "[encoded data removed]",
      "text/latex": [
       "$$\\left[\\begin{matrix}a_{1}\\\\b_{1}\\\\c_{1}\\\\d_{1}\\end{matrix}\\right]$$"
      ],
      "text/plain": [
       "⎡a₁⎤\n",
       "⎢  ⎥\n",
       "⎢b₁⎥\n",
       "⎢  ⎥\n",
       "⎢c₁⎥\n",
       "⎢  ⎥\n",
       "⎣d₁⎦"
      ]
     },
     "execution_count": 6,
     "metadata": {},
     "output_type": "execute_result"
    }
   ],
   "source": [
    "v1=Matrix(symbols('a:d1'))\n",
    "v1"
   ]
  },
  {
   "cell_type": "code",
   "execution_count": 7,
   "metadata": {
    "collapsed": false
   },
   "outputs": [
    {
     "data": {
      "image/png": "[encoded data removed]",
      "text/latex": [
       "$$\\left[\\begin{matrix}a_{2}\\\\b_{2}\\\\c_{2}\\\\d_{2}\\end{matrix}\\right]$$"
      ],
      "text/plain": [
       "⎡a₂⎤\n",
       "⎢  ⎥\n",
       "⎢b₂⎥\n",
       "⎢  ⎥\n",
       "⎢c₂⎥\n",
       "⎢  ⎥\n",
       "⎣d₂⎦"
      ]
     },
     "execution_count": 7,
     "metadata": {},
     "output_type": "execute_result"
    }
   ],
   "source": [
    "v2=Matrix(symbols('a:d2'))\n",
    "v2"
   ]
  },
  {
   "cell_type": "code",
   "execution_count": 8,
   "metadata": {
    "collapsed": false
   },
   "outputs": [
    {
     "data": {
      "image/png": "[encoded data removed]",
      "text/latex": [
       "$$a_{1} + a_{2} + x^{3} \\left(d_{1} + d_{2}\\right) + x^{2} \\left(c_{1} + c_{2}\\right) + x \\left(b_{1} + b_{2}\\right)$$"
      ],
      "text/plain": [
       "           3              2                        \n",
       "a₁ + a₂ + x ⋅(d₁ + d₂) + x ⋅(c₁ + c₂) + x⋅(b₁ + b₂)"
      ]
     },
     "execution_count": 8,
     "metadata": {},
     "output_type": "execute_result"
    }
   ],
   "source": [
    "p1=T(v1+v2)\n",
    "p1"
   ]
  },
  {
   "cell_type": "code",
   "execution_count": 9,
   "metadata": {
    "collapsed": false
   },
   "outputs": [
    {
     "data": {
      "image/png": "[encoded data removed]",
      "text/latex": [
       "$$a_{1} + a_{2} + b_{1} x + b_{2} x + c_{1} x^{2} + c_{2} x^{2} + d_{1} x^{3} + d_{2} x^{3}$$"
      ],
      "text/plain": [
       "                            2       2       3       3\n",
       "a₁ + a₂ + b₁⋅x + b₂⋅x + c₁⋅x  + c₂⋅x  + d₁⋅x  + d₂⋅x "
      ]
     },
     "execution_count": 9,
     "metadata": {},
     "output_type": "execute_result"
    }
   ],
   "source": [
    "p2=T(v1)+T(v2)\n",
    "p2"
   ]
  },
  {
   "cell_type": "code",
   "execution_count": 10,
   "metadata": {
    "collapsed": false
   },
   "outputs": [
    {
     "data": {
      "image/png": "[encoded data removed]",
      "text/latex": [
       "$$0$$"
      ],
      "text/plain": [
       "0"
      ]
     },
     "execution_count": 10,
     "metadata": {},
     "output_type": "execute_result"
    }
   ],
   "source": [
    "simplify(p1-p2)"
   ]
  },
  {
   "cell_type": "markdown",
   "metadata": {},
   "source": [
    "Cómo la resta da cero entoces los polinomios son iguales y cumple (AT)"
   ]
  },
  {
   "cell_type": "markdown",
   "metadata": {
    "collapsed": true
   },
   "source": [
    "Ahora se mostrará que cumple (MT)"
   ]
  },
  {
   "cell_type": "code",
   "execution_count": 11,
   "metadata": {
    "collapsed": false
   },
   "outputs": [
    {
     "data": {
      "image/png": "[encoded data removed]",
      "text/latex": [
       "$$a_{1} k + b_{1} k x + c_{1} k x^{2} + d_{1} k x^{3}$$"
      ],
      "text/plain": [
       "                      2         3\n",
       "a₁⋅k + b₁⋅k⋅x + c₁⋅k⋅x  + d₁⋅k⋅x "
      ]
     },
     "execution_count": 11,
     "metadata": {},
     "output_type": "execute_result"
    }
   ],
   "source": [
    "k=symbols('k')\n",
    "p1=T(k*v1)\n",
    "p1"
   ]
  },
  {
   "cell_type": "code",
   "execution_count": 12,
   "metadata": {
    "collapsed": false
   },
   "outputs": [
    {
     "data": {
      "image/png": "[encoded data removed]",
      "text/latex": [
       "$$k \\left(a_{1} + b_{1} x + c_{1} x^{2} + d_{1} x^{3}\\right)$$"
      ],
      "text/plain": [
       "  ⎛                2       3⎞\n",
       "k⋅⎝a₁ + b₁⋅x + c₁⋅x  + d₁⋅x ⎠"
      ]
     },
     "execution_count": 12,
     "metadata": {},
     "output_type": "execute_result"
    }
   ],
   "source": [
    "p2=k*T(v1)\n",
    "p2"
   ]
  },
  {
   "cell_type": "code",
   "execution_count": 13,
   "metadata": {
    "collapsed": false
   },
   "outputs": [
    {
     "data": {
      "image/png": "[encoded data removed]",
      "text/latex": [
       "$$0$$"
      ],
      "text/plain": [
       "0"
      ]
     },
     "execution_count": 13,
     "metadata": {},
     "output_type": "execute_result"
    }
   ],
   "source": [
    "simplify(p1-p2)"
   ]
  },
  {
   "cell_type": "markdown",
   "metadata": {
    "collapsed": true
   },
   "source": [
    "Esto prueba que cumple (MT)"
   ]
  },
  {
   "cell_type": "markdown",
   "metadata": {},
   "source": [
    "## Ejemplo 2"
   ]
  },
  {
   "cell_type": "markdown",
   "metadata": {
    "collapsed": true
   },
   "source": [
    "Muestre que la siguiente transformación es lineal."
   ]
  },
  {
   "cell_type": "markdown",
   "metadata": {},
   "source": [
    "$T:R^4 \\rightarrow M_{2 \\times 2}\\text{, donde }T\\left(\\begin{bmatrix} a\\\\ b \\\\c \\\\d \\end{bmatrix}\\right)= \\begin{bmatrix} a & b \\\\c & d \\end{bmatrix}$"
   ]
  },
  {
   "cell_type": "markdown",
   "metadata": {},
   "source": [
    "Solución:\n",
    "\n",
    "Para mostrar que T es lineal hay que probar que cumple (A1) y (M1).\n",
    "\n",
    "Primero definimos la transformación"
   ]
  },
  {
   "cell_type": "code",
   "execution_count": 14,
   "metadata": {
    "collapsed": true
   },
   "outputs": [],
   "source": [
    "def T(v):\n",
    "    return Matrix([[v[0],v[1]],[v[2],v[3]]])    # Transformacion"
   ]
  },
  {
   "cell_type": "markdown",
   "metadata": {},
   "source": [
    "Antes de iniciar la demostración ilustraremos la transformación, para esto \n",
    "se define un vector del dominio de $T$."
   ]
  },
  {
   "cell_type": "code",
   "execution_count": 15,
   "metadata": {
    "collapsed": false
   },
   "outputs": [
    {
     "data": {
      "image/png": "[encoded data removed]",
      "text/latex": [
       "$$\\left[\\begin{matrix}1\\\\3\\\\6\\\\10\\end{matrix}\\right]$$"
      ],
      "text/plain": [
       "⎡1 ⎤\n",
       "⎢  ⎥\n",
       "⎢3 ⎥\n",
       "⎢  ⎥\n",
       "⎢6 ⎥\n",
       "⎢  ⎥\n",
       "⎣10⎦"
      ]
     },
     "execution_count": 15,
     "metadata": {},
     "output_type": "execute_result"
    }
   ],
   "source": [
    "v=Matrix([1,3,6,10])  # un elemento del dominio de T\n",
    "v"
   ]
  },
  {
   "cell_type": "code",
   "execution_count": 16,
   "metadata": {
    "collapsed": false
   },
   "outputs": [
    {
     "data": {
      "image/png": "[encoded data removed]",
      "text/latex": [
       "$$\\left[\\begin{matrix}1 & 3\\\\6 & 10\\end{matrix}\\right]$$"
      ],
      "text/plain": [
       "⎡1  3 ⎤\n",
       "⎢     ⎥\n",
       "⎣6  10⎦"
      ]
     },
     "execution_count": 16,
     "metadata": {},
     "output_type": "execute_result"
    }
   ],
   "source": [
    "T(v)"
   ]
  },
  {
   "cell_type": "markdown",
   "metadata": {
    "collapsed": true
   },
   "source": [
    "Para probar (AT) primero se definen dos vectores genéricos."
   ]
  },
  {
   "cell_type": "code",
   "execution_count": 17,
   "metadata": {
    "collapsed": false
   },
   "outputs": [
    {
     "data": {
      "image/png": "[encoded data removed]",
      "text/latex": [
       "$$\\left[\\begin{matrix}a_{1}\\\\b_{1}\\\\c_{1}\\\\d_{1}\\end{matrix}\\right]$$"
      ],
      "text/plain": [
       "⎡a₁⎤\n",
       "⎢  ⎥\n",
       "⎢b₁⎥\n",
       "⎢  ⎥\n",
       "⎢c₁⎥\n",
       "⎢  ⎥\n",
       "⎣d₁⎦"
      ]
     },
     "execution_count": 17,
     "metadata": {},
     "output_type": "execute_result"
    }
   ],
   "source": [
    "v1=Matrix(symbols('a:d1'))\n",
    "v1"
   ]
  },
  {
   "cell_type": "code",
   "execution_count": 18,
   "metadata": {
    "collapsed": false
   },
   "outputs": [
    {
     "data": {
      "image/png": "[encoded data removed]",
      "text/latex": [
       "$$\\left[\\begin{matrix}a_{2}\\\\b_{2}\\\\c_{2}\\\\d_{2}\\end{matrix}\\right]$$"
      ],
      "text/plain": [
       "⎡a₂⎤\n",
       "⎢  ⎥\n",
       "⎢b₂⎥\n",
       "⎢  ⎥\n",
       "⎢c₂⎥\n",
       "⎢  ⎥\n",
       "⎣d₂⎦"
      ]
     },
     "execution_count": 18,
     "metadata": {},
     "output_type": "execute_result"
    }
   ],
   "source": [
    "v2=Matrix(symbols('a:d2'))\n",
    "v2"
   ]
  },
  {
   "cell_type": "code",
   "execution_count": 19,
   "metadata": {
    "collapsed": false
   },
   "outputs": [
    {
     "data": {
      "image/png": "[encoded data removed]",
      "text/latex": [
       "$$\\left[\\begin{matrix}a_{1} + a_{2} & b_{1} + b_{2}\\\\c_{1} + c_{2} & d_{1} + d_{2}\\end{matrix}\\right]$$"
      ],
      "text/plain": [
       "⎡a₁ + a₂  b₁ + b₂⎤\n",
       "⎢                ⎥\n",
       "⎣c₁ + c₂  d₁ + d₂⎦"
      ]
     },
     "execution_count": 19,
     "metadata": {},
     "output_type": "execute_result"
    }
   ],
   "source": [
    "A1=T(v1+v2)\n",
    "A1"
   ]
  },
  {
   "cell_type": "code",
   "execution_count": 20,
   "metadata": {
    "collapsed": false
   },
   "outputs": [
    {
     "data": {
      "image/png": "[encoded data removed]",
      "text/latex": [
       "$$\\left[\\begin{matrix}a_{1} + a_{2} & b_{1} + b_{2}\\\\c_{1} + c_{2} & d_{1} + d_{2}\\end{matrix}\\right]$$"
      ],
      "text/plain": [
       "⎡a₁ + a₂  b₁ + b₂⎤\n",
       "⎢                ⎥\n",
       "⎣c₁ + c₂  d₁ + d₂⎦"
      ]
     },
     "execution_count": 20,
     "metadata": {},
     "output_type": "execute_result"
    }
   ],
   "source": [
    "A2=T(v1)+T(v2)\n",
    "A2"
   ]
  },
  {
   "cell_type": "code",
   "execution_count": 21,
   "metadata": {
    "collapsed": false
   },
   "outputs": [
    {
     "data": {
      "image/png": "[encoded data removed]",
      "text/latex": [
       "$$\\left[\\begin{matrix}0 & 0\\\\0 & 0\\end{matrix}\\right]$$"
      ],
      "text/plain": [
       "⎡0  0⎤\n",
       "⎢    ⎥\n",
       "⎣0  0⎦"
      ]
     },
     "execution_count": 21,
     "metadata": {},
     "output_type": "execute_result"
    }
   ],
   "source": [
    "simplify(A1-A2)"
   ]
  },
  {
   "cell_type": "markdown",
   "metadata": {},
   "source": [
    "Cómo la resta da cero entoces las matrices son iguales y cumple (AT)"
   ]
  },
  {
   "cell_type": "markdown",
   "metadata": {
    "collapsed": true
   },
   "source": [
    "Ahora se mostrará que cumple (MT)"
   ]
  },
  {
   "cell_type": "code",
   "execution_count": 22,
   "metadata": {
    "collapsed": false
   },
   "outputs": [
    {
     "data": {
      "image/png": "[encoded data removed]",
      "text/latex": [
       "$$\\left[\\begin{matrix}a_{1} k & b_{1} k\\\\c_{1} k & d_{1} k\\end{matrix}\\right]$$"
      ],
      "text/plain": [
       "⎡a₁⋅k  b₁⋅k⎤\n",
       "⎢          ⎥\n",
       "⎣c₁⋅k  d₁⋅k⎦"
      ]
     },
     "execution_count": 22,
     "metadata": {},
     "output_type": "execute_result"
    }
   ],
   "source": [
    "k=symbols('k')\n",
    "A1=T(k*v1)\n",
    "A1"
   ]
  },
  {
   "cell_type": "code",
   "execution_count": 23,
   "metadata": {
    "collapsed": false
   },
   "outputs": [
    {
     "data": {
      "image/png": "[encoded data removed]",
      "text/latex": [
       "$$\\left[\\begin{matrix}a_{1} k & b_{1} k\\\\c_{1} k & d_{1} k\\end{matrix}\\right]$$"
      ],
      "text/plain": [
       "⎡a₁⋅k  b₁⋅k⎤\n",
       "⎢          ⎥\n",
       "⎣c₁⋅k  d₁⋅k⎦"
      ]
     },
     "execution_count": 23,
     "metadata": {},
     "output_type": "execute_result"
    }
   ],
   "source": [
    "A2=k*T(v1)\n",
    "A2"
   ]
  },
  {
   "cell_type": "code",
   "execution_count": 24,
   "metadata": {
    "collapsed": false
   },
   "outputs": [
    {
     "data": {
      "image/png": "[encoded data removed]",
      "text/latex": [
       "$$\\left[\\begin{matrix}0 & 0\\\\0 & 0\\end{matrix}\\right]$$"
      ],
      "text/plain": [
       "⎡0  0⎤\n",
       "⎢    ⎥\n",
       "⎣0  0⎦"
      ]
     },
     "execution_count": 24,
     "metadata": {},
     "output_type": "execute_result"
    }
   ],
   "source": [
    "simplify(A1-A2)"
   ]
  },
  {
   "cell_type": "markdown",
   "metadata": {
    "collapsed": true
   },
   "source": [
    "Esto prueba que cumple (MT)"
   ]
  },
  {
   "cell_type": "markdown",
   "metadata": {},
   "source": [
    "## Ejemplo 3"
   ]
  },
  {
   "cell_type": "markdown",
   "metadata": {},
   "source": [
    "Toda transformación matricial es una transformación lineal.\n",
    "\n",
    "Demostración:\n",
    "\n",
    "Si $A \\in M_{m \\times n}$ entonces $T_A:R^n \\rightarrow R^m$ donde $T_A(v)=Av$.\n",
    "\n",
    "Sean $v_1, v_2 \\in R^n$  y $k \\in R$. (AT) y (MT) se cumplen porque:\n",
    "\n",
    "* (AT) $T_A(v_1 + v_2)=A(v_1 + v_2)=Av_1 + Av_2=T_A(v_1)+T_A(v_2)$\n",
    "* (MT) $T_A(kv_1)=A(kv_1)=kAv_1=kT_A(v_1)$"
   ]
  },
  {
   "cell_type": "markdown",
   "metadata": {},
   "source": [
    "## Ejemplo 4"
   ]
  },
  {
   "cell_type": "markdown",
   "metadata": {},
   "source": [
    "Toda transformación lineal $T:R^n \\rightarrow R^m$  es una transformación matricial.\n",
    "\n",
    "Demostración:\n",
    "\n",
    "Sea $\\begin{bmatrix}a_0\\\\a_1\\\\\\vdots\\\\a_{n-1}\\end{bmatrix}\\in V$.\n",
    "\n",
    "\\begin{align}\n",
    "&T\\left(\\begin{bmatrix}a_0\\\\a_1\\\\\\vdots\\\\a_{n-1}\\end{bmatrix}\\right)\n",
    "=T\\left(\\begin{bmatrix}\n",
    "1 & 0 & \\cdots & 0 \\\\\n",
    "0 & 1 & \\cdots & 0 \\\\\n",
    "\\vdots & \\vdots & \\ddots & \\vdots \\\\\n",
    "0 & 0 & \\cdots & 1 \\\\\n",
    "\\end{bmatrix}\n",
    "\\begin{bmatrix}a_0\\\\a_1\\\\\\vdots\\\\a_{n-1}\\end{bmatrix}\\right)\\\\\n",
    "&=T\\left(\n",
    "a_0\\begin{bmatrix}1\\\\0\\\\\\vdots\\\\0\\end{bmatrix}+\n",
    "a_1\\begin{bmatrix}0\\\\1\\\\\\vdots\\\\0\\end{bmatrix}+\n",
    "\\cdots +\n",
    "a_{n-1}\\begin{bmatrix}0\\\\0\\\\\\vdots\\\\1\\end{bmatrix}\n",
    "\\right)\\\\\n",
    "&=a_0T\\left(\n",
    "\\begin{bmatrix}1\\\\0\\\\\\vdots\\\\0\\end{bmatrix}\\right)+\n",
    "a_1T\\left(\\begin{bmatrix}0\\\\1\\\\\\vdots\\\\0\\end{bmatrix}\\right)+\n",
    "\\cdots +\n",
    "a_{n-1}T\\left(\\begin{bmatrix}0\\\\0\\\\\\vdots\\\\1\\end{bmatrix}\n",
    "\\right)\\\\\n",
    "&=\\begin{bmatrix}T\\left(\n",
    "\\begin{bmatrix}1\\\\0\\\\\\vdots\\\\0\\end{bmatrix}\\right)&\n",
    "T\\left(\\begin{bmatrix}0\\\\1\\\\\\vdots\\\\0\\end{bmatrix}\\right)&\n",
    "\\cdots &\n",
    "T\\left(\\begin{bmatrix}0\\\\0\\\\\\vdots\\\\1\\end{bmatrix}\n",
    "\\right)\\end{bmatrix}\n",
    "\\begin{bmatrix}a_0\\\\a_1\\\\\\vdots\\\\a_{n-1}\\end{bmatrix}\n",
    "\\end{align}\n",
    "\n",
    "Cada columna de la matriz corresponde a la transformnacion de la respectiva columna de la matriz identidad\n",
    "\n"
   ]
  },
  {
   "cell_type": "markdown",
   "metadata": {},
   "source": [
    "## Ejemplo 5"
   ]
  },
  {
   "cell_type": "markdown",
   "metadata": {},
   "source": [
    "Muestre que la siguente transformación no es lineal.\n",
    "\n",
    "$T:R^2 \\rightarrow R^2$, dada por $T\\left(\\begin{bmatrix}a\\\\b\\end{bmatrix}\\right) = \\begin{bmatrix}a+1\\\\b\\end{bmatrix}$\n",
    "\n",
    "Solución:\n",
    "Para mostrar que no es lineas es suficiente con dar un ejemplo que incumple (A1) o (M1)."
   ]
  },
  {
   "cell_type": "code",
   "execution_count": 25,
   "metadata": {
    "collapsed": true
   },
   "outputs": [],
   "source": [
    "def T(v):\n",
    "    return Matrix([v[0]+1,v[1]])    # Transformacion"
   ]
  },
  {
   "cell_type": "code",
   "execution_count": 26,
   "metadata": {
    "collapsed": true
   },
   "outputs": [],
   "source": [
    "k=0"
   ]
  },
  {
   "cell_type": "code",
   "execution_count": 27,
   "metadata": {
    "collapsed": false
   },
   "outputs": [
    {
     "data": {
      "image/png": "[encoded data removed]",
      "text/latex": [
       "$$\\left[\\begin{matrix}0\\\\0\\end{matrix}\\right]$$"
      ],
      "text/plain": [
       "⎡0⎤\n",
       "⎢ ⎥\n",
       "⎣0⎦"
      ]
     },
     "execution_count": 27,
     "metadata": {},
     "output_type": "execute_result"
    }
   ],
   "source": [
    "v1=Matrix([0,0])\n",
    "v1"
   ]
  },
  {
   "cell_type": "code",
   "execution_count": 28,
   "metadata": {
    "collapsed": false
   },
   "outputs": [
    {
     "data": {
      "image/png": "[encoded data removed]",
      "text/latex": [
       "$$\\left[\\begin{matrix}1\\\\0\\end{matrix}\\right]$$"
      ],
      "text/plain": [
       "⎡1⎤\n",
       "⎢ ⎥\n",
       "⎣0⎦"
      ]
     },
     "execution_count": 28,
     "metadata": {},
     "output_type": "execute_result"
    }
   ],
   "source": [
    "T(k*v)"
   ]
  },
  {
   "cell_type": "code",
   "execution_count": 29,
   "metadata": {
    "collapsed": false
   },
   "outputs": [
    {
     "data": {
      "image/png": "[encoded data removed]",
      "text/latex": [
       "$$\\left[\\begin{matrix}0\\\\0\\end{matrix}\\right]$$"
      ],
      "text/plain": [
       "⎡0⎤\n",
       "⎢ ⎥\n",
       "⎣0⎦"
      ]
     },
     "execution_count": 29,
     "metadata": {},
     "output_type": "execute_result"
    }
   ],
   "source": [
    "k*T(v)"
   ]
  },
  {
   "cell_type": "markdown",
   "metadata": {},
   "source": [
    "Como $T(kv) \\neq kT(v)$ entonces incumple (M1) y $T$ no es lineal."
   ]
  },
  {
   "cell_type": "markdown",
   "metadata": {
    "collapsed": true
   },
   "source": [
    "# Composición de transformaciones\n",
    "## Definición\n",
    "Sean $T_A:U \\rightarrow V$ y $T_B:V \\rightarrow W$ transformaciones, la composición de $T_A$ y $T_B$ es la transformación $T_B \\circ T_A: U \\rightarrow W $ definida por\n",
    "$$ (T_B \\circ T_A)(u)=T_B(T_A(u))$$\n",
    "para todo $u \\in U$"
   ]
  },
  {
   "cell_type": "markdown",
   "metadata": {
    "collapsed": true
   },
   "source": [
    "## Teorema: \n",
    "La composición de transformaciones lineales es una transformación lineal.\n"
   ]
  },
  {
   "cell_type": "code",
   "execution_count": 30,
   "metadata": {
    "collapsed": false
   },
   "outputs": [
    {
     "data": {
      "image/svg+xml": [
       "<svg height=\"300\" width=\"300\"><circle cx=\"100\" cy=\"100\" r=\"5\"/><text x=\"100\" y=\"120\">U</text><circle cx=\"200\" cy=\"100\" r=\"5\"/><text x=\"200\" y=\"120\">V</text><circle cx=\"200\" cy=\"200\" r=\"5\"/><text x=\"200\" y=\"220\">W</text><polyline points=\"100,100 190.0,100.0 183.7,93.7 183.7,106.3 190.0,100.0\" stroke=\"black\" stroke-width=\"3\"/> <text x=\"150.0\" y=\"120.0\">T_A</text><polyline points=\"200,100 200.0,190.0 206.3,183.7 193.70000000000002,183.7 200.0,190.0\" stroke=\"black\" stroke-width=\"3\"/> <text x=\"200.0\" y=\"170.0\">T_B</text><polyline points=\"100,100 190.0,190.0 190.0,177.4 177.4,190.0 190.0,190.0\" stroke=\"black\" stroke-width=\"3\"/> <text x=\"150.0\" y=\"170.0\"/><text x=\"170.0\" y=\"150.0\">=</text></svg>"
      ],
      "text/plain": [
       "<IPython.core.display.SVG object>"
      ]
     },
     "execution_count": 30,
     "metadata": {},
     "output_type": "execute_result"
    }
   ],
   "source": [
    "grafo({\"U\":(1,1,\"U\"),\"V\":(2,1,\"V\"),\"W\":(2,2,\"W\")},[(\"T_A\",\"U\",\"V\"),(\"T_B\",\"V\",\"W\"),(\"\",\"U\",\"W\")],[(1.7,1.5,\"=\")])"
   ]
  },
  {
   "cell_type": "markdown",
   "metadata": {
    "collapsed": true
   },
   "source": [
    "El símbolo \"=\" significa que da igual cualquiera de los dos caminos de $U$ a $W$."
   ]
  },
  {
   "cell_type": "code",
   "execution_count": null,
   "metadata": {
    "collapsed": true
   },
   "outputs": [],
   "source": []
  },
  {
   "cell_type": "code",
   "execution_count": null,
   "metadata": {
    "collapsed": true
   },
   "outputs": [],
   "source": []
  },
  {
   "cell_type": "markdown",
   "metadata": {
    "collapsed": true
   },
   "source": []
  }
 ],
 "metadata": {
  "kernelspec": {
   "display_name": "Python 3",
   "language": "python",
   "name": "python3"
  },
  "language_info": {
   "codemirror_mode": {
    "name": "ipython",
    "version": 3
   },
   "file_extension": ".py",
   "mimetype": "text/x-python",
   "name": "python",
   "nbconvert_exporter": "python",
   "pygments_lexer": "ipython3",
   "version": "3.6.0"
  }
 },
 "nbformat": 4,
 "nbformat_minor": 2
}
