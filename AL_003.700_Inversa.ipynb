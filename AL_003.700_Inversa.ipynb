{
 "cells": [
  {
   "cell_type": "markdown",
   "metadata": {},
   "source": [
    "# Matriz Inversa\n",
    "\n",
    "\n",
    "Para que el sistema de ecuaciones $$Ax=b$$ tenga <u>solución única</u> para cualquier valor de $b \\in \\mathbb{R}^m$:\n",
    "* $A$ debe ser una matriz cuadrada de orden $n$ con $n$ posiciones de pivotes, ya que debe tener:\n",
    "    * una posición de pivote en cada renglón (para que el sistema sea consistente para todos los valores de $b$), \n",
    "    * una posición de pivote en cada columna (para que la respuesta sea única),\n",
    "* $A$ debe ser equivalente a la matriz identidad de orden $n$, ya que es la única matriz cuadrada de orden $n$ con $n$ pivotes en forma escalón reducida.\n",
    "$$A \\sim I_n$$\n",
    "* Es posible pasar de $A$ a la identidad $I_n$ por medio de operaciones elementales, o lo que es lo mismo, multiplicar la matriz $A$ por matrices elementales para que de la matriz identidad.\n",
    "$$ E_k \\cdots E_1 E_0 A = I $$\n",
    "* Existe una __matriz inversa__ de $A$ \n",
    "$$A^{-1} = E_k \\cdots E_1 E_0$$\n",
    "que cumple \n",
    "$$A^{-1} A = I \\ \\ \\ \\text{ y }\\ \\ \\ A A^{-1} = I $$\n",
    "se dice que $A$ es una matriz __invertible__.\n",
    "* $A$ se puede escribir como el producto de matrices elementales ya que la inversa de cada matriz elemental es también una matriz elemental.\n",
    "$$ A = E_0^{-1} E_1^{-1} \\cdots E_k^{-1} $$\n",
    "\n",
    "El procedimiento para obtener la matriz inversa consiste en escribir las dos matrices $[A:I]$ y realizar las operaciones elementales a ambas matrices hasta que la matriz $A$ se transforme en la identidad y por lo tanto la identidad se transforma en $A^{-1}$.\n",
    "$$[A:I] \\sim [I:A^{-1}]$$\n",
    "\n",
    "\n",
    "Al multiplicar $A^{-1}$ a ambos lados del sistema $Ax=b$ se pueden despejar las incógnitas.\n",
    "$$x=A^{-1}b$$\n",
    "\n",
    "# Inversa de una matriz de $2 \\times 2$\n",
    "\n",
    "\\begin{align*}\n",
    "&\\begin{bmatrix}a&b&:&1&0\\\\c&d&:&0&1\\end{bmatrix}\\\\\n",
    "{r_1-\\frac{c}{a}r_0\\rightarrow r_1}\n",
    "&\\begin{bmatrix}a&b&:&1&0&\\\\0&d-\\frac{c}{a}b&:&-\\frac{c}{a}&1\\end{bmatrix}\\\\\n",
    "{\\frac{a}{ea-db}r_1\\rightarrow r_1}\n",
    "&\\begin{bmatrix}a&b&:&1&0&\\\\0&1&:&-\\frac{c}{ea-db}&\\frac{a}{ea-db}\\end{bmatrix}\\\\\n",
    "{r_0-br_1\\rightarrow r_0}\n",
    "&\\begin{bmatrix}a&0&:&\\frac{ea}{ea-db}&\\frac{-ab}{ea-db}\\\\0&1&:&\\frac{-c}{ea-db}&\\frac{a}{ea-db}\\end{bmatrix}\\\\\n",
    "{\\frac{1}{a}r_0\\rightarrow r_0}\n",
    "&\\begin{bmatrix}1&0&:&\\frac{d}{ea-db}&\\frac{-b}{ea-db}\\\\0&1&:&\\frac{-c}{ea-db}&\\frac{a}{ea-db}\\end{bmatrix}\\\\\n",
    "\\end{align*}\n",
    "\n",
    "Por lo tanto, la inversa de $A=\\begin{bmatrix}a & b\\\\c & d\\end{bmatrix}$ es $A^{-1}=\\frac{1}{ea-db}\\begin{bmatrix}{d}&{-b}\\\\ {-c}&{a}\\end{bmatrix}$.\n",
    "\n"
   ]
  },
  {
   "cell_type": "markdown",
   "metadata": {},
   "source": [
    "## Propiedades:\n",
    "Si $A$ y $B$ tienen inversa y $c$ es un escalar distinto de cero entonces las siguientes construcciones son invertibles y cada una cumple la correspondiente igualdad.\n",
    "\n",
    "* La inversa es única: si $AC=I=CA$  entonces $C=A^{-1}$ \n",
    "* La inversa del producto: $(AB)^{-1}=B^{-1}A^{-1}$\n",
    "* La inversa de la inversa: $(A^{-1})^{-1}=A$\n",
    "* Escalar sale invertido: $(cA)^{-1}=\\frac{1}{c}(A)^{-1}$\n",
    "* Inversa conmuta con transpuesta: $A^T$ es invertible y $(A^T)^{-1}=(A^{-1})^T$\n",
    "\n",
    "Se recomienda estudiar la sección 3.2 del libro de Nakos\n"
   ]
  },
  {
   "cell_type": "markdown",
   "metadata": {},
   "source": [
    "## Potencias\n",
    "Para una matriz invertible $A$ se definen las potencias: \n",
    "*  $A^0=I$,\n",
    "*  $A^n=AA \\ldots A$, $n$ veces \n",
    "*  $A^{-n}=A^{-1}A^{-1} \\ldots A^{-1}$, $n$ veces \n",
    "\n",
    "para $n \\in \\{1,2,3,\\ldots\\}$,\n",
    "\n",
    "\n",
    "### Teorema:\n",
    "Asumiendo que $A$ es invertible, que $c$ es un escalar distinto se cero y que $r,s \\in \\mathbb{Z}$, se tiene que $A^r$ es invertible, que las siguientes construcciones también lo son y se cumplen las siguientes igualdades.\n",
    "* Suma de Exponentes: $A^r A^s=A^{r+s}$\n",
    "* Producto de exponentes: $((A)^{r})^s=A^{rs}$\n",
    "* El escalar sale con exponente: $(cA)^{r}=c^{r}(A)^{r}$\n",
    "* Inversa, exponente conmutan: $(A^r)^{-1}=(A^{-1})^r=A^{-r}$\n"
   ]
  }
 ],
 "metadata": {
  "kernelspec": {
   "display_name": "Python 3",
   "language": "python",
   "name": "python3"
  },
  "language_info": {
   "codemirror_mode": {
    "name": "ipython",
    "version": 3
   },
   "file_extension": ".py",
   "mimetype": "text/x-python",
   "name": "python",
   "nbconvert_exporter": "python",
   "pygments_lexer": "ipython3",
   "version": "3.6.0"
  }
 },
 "nbformat": 4,
 "nbformat_minor": 2
}
